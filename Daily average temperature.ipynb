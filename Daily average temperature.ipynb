{
 "cells": [
  {
   "cell_type": "markdown",
   "metadata": {},
   "source": [
    "# Calculation of the daily average temperature"
   ]
  },
  {
   "cell_type": "markdown",
   "metadata": {},
   "source": [
    "## Problem description"
   ]
  },
  {
   "cell_type": "markdown",
   "metadata": {},
   "source": [
    "We have an excel file with climate measurements, which are taken at (about) 5-minutes intervales. They include two columns: air temperature and relative humidity, along with a timestamp. The data spans for more than one month in total.\n",
    "\n",
    "We would like to use python and pandas to calculate the average temperature for each day, and write it out to a csv file. It should have two columns: Date and Temperature"
   ]
  },
  {
   "cell_type": "markdown",
   "metadata": {},
   "source": [
    "## Read and check data"
   ]
  },
  {
   "cell_type": "code",
   "execution_count": 1,
   "metadata": {},
   "outputs": [],
   "source": [
    "import numpy as np\n",
    "import pandas as pd"
   ]
  },
  {
   "cell_type": "code",
   "execution_count": 2,
   "metadata": {},
   "outputs": [],
   "source": [
    "df_climate = pd.read_excel( 'data/climate.xlsx', sheet_name='greenhouse' )"
   ]
  },
  {
   "cell_type": "code",
   "execution_count": 3,
   "metadata": {
    "scrolled": true
   },
   "outputs": [
    {
     "data": {
      "text/html": [
       "<div>\n",
       "<style scoped>\n",
       "    .dataframe tbody tr th:only-of-type {\n",
       "        vertical-align: middle;\n",
       "    }\n",
       "\n",
       "    .dataframe tbody tr th {\n",
       "        vertical-align: top;\n",
       "    }\n",
       "\n",
       "    .dataframe thead th {\n",
       "        text-align: right;\n",
       "    }\n",
       "</style>\n",
       "<table border=\"1\" class=\"dataframe\">\n",
       "  <thead>\n",
       "    <tr style=\"text-align: right;\">\n",
       "      <th></th>\n",
       "      <th>Num.</th>\n",
       "      <th>Date and Time</th>\n",
       "      <th>Temp. (°C)</th>\n",
       "      <th>Rel. Humidity (%)</th>\n",
       "    </tr>\n",
       "  </thead>\n",
       "  <tbody>\n",
       "    <tr>\n",
       "      <th>0</th>\n",
       "      <td>4321</td>\n",
       "      <td>2018-04-18 00:00:21</td>\n",
       "      <td>18.53</td>\n",
       "      <td>52.37</td>\n",
       "    </tr>\n",
       "    <tr>\n",
       "      <th>1</th>\n",
       "      <td>4322</td>\n",
       "      <td>2018-04-18 00:05:19</td>\n",
       "      <td>18.49</td>\n",
       "      <td>52.44</td>\n",
       "    </tr>\n",
       "    <tr>\n",
       "      <th>2</th>\n",
       "      <td>4323</td>\n",
       "      <td>2018-04-18 00:10:19</td>\n",
       "      <td>17.97</td>\n",
       "      <td>55.13</td>\n",
       "    </tr>\n",
       "    <tr>\n",
       "      <th>3</th>\n",
       "      <td>4324</td>\n",
       "      <td>2018-04-18 00:15:19</td>\n",
       "      <td>17.58</td>\n",
       "      <td>56.38</td>\n",
       "    </tr>\n",
       "    <tr>\n",
       "      <th>4</th>\n",
       "      <td>4325</td>\n",
       "      <td>2018-04-18 00:20:18</td>\n",
       "      <td>17.48</td>\n",
       "      <td>53.81</td>\n",
       "    </tr>\n",
       "  </tbody>\n",
       "</table>\n",
       "</div>"
      ],
      "text/plain": [
       "   Num.       Date and Time  Temp. (°C)  Rel. Humidity (%)\n",
       "0  4321 2018-04-18 00:00:21       18.53              52.37\n",
       "1  4322 2018-04-18 00:05:19       18.49              52.44\n",
       "2  4323 2018-04-18 00:10:19       17.97              55.13\n",
       "3  4324 2018-04-18 00:15:19       17.58              56.38\n",
       "4  4325 2018-04-18 00:20:18       17.48              53.81"
      ]
     },
     "execution_count": 3,
     "metadata": {},
     "output_type": "execute_result"
    }
   ],
   "source": [
    "df_climate.head()"
   ]
  },
  {
   "cell_type": "code",
   "execution_count": 4,
   "metadata": {},
   "outputs": [
    {
     "data": {
      "text/html": [
       "<div>\n",
       "<style scoped>\n",
       "    .dataframe tbody tr th:only-of-type {\n",
       "        vertical-align: middle;\n",
       "    }\n",
       "\n",
       "    .dataframe tbody tr th {\n",
       "        vertical-align: top;\n",
       "    }\n",
       "\n",
       "    .dataframe thead th {\n",
       "        text-align: right;\n",
       "    }\n",
       "</style>\n",
       "<table border=\"1\" class=\"dataframe\">\n",
       "  <thead>\n",
       "    <tr style=\"text-align: right;\">\n",
       "      <th></th>\n",
       "      <th>Num.</th>\n",
       "      <th>Date and Time</th>\n",
       "      <th>Temp. (°C)</th>\n",
       "      <th>Rel. Humidity (%)</th>\n",
       "    </tr>\n",
       "  </thead>\n",
       "  <tbody>\n",
       "    <tr>\n",
       "      <th>10164</th>\n",
       "      <td>14684</td>\n",
       "      <td>2018-05-23 23:35:32</td>\n",
       "      <td>19.27</td>\n",
       "      <td>54.42</td>\n",
       "    </tr>\n",
       "    <tr>\n",
       "      <th>10165</th>\n",
       "      <td>14685</td>\n",
       "      <td>2018-05-23 23:40:30</td>\n",
       "      <td>19.24</td>\n",
       "      <td>54.79</td>\n",
       "    </tr>\n",
       "    <tr>\n",
       "      <th>10166</th>\n",
       "      <td>14686</td>\n",
       "      <td>2018-05-23 23:45:27</td>\n",
       "      <td>19.22</td>\n",
       "      <td>55.16</td>\n",
       "    </tr>\n",
       "    <tr>\n",
       "      <th>10167</th>\n",
       "      <td>14687</td>\n",
       "      <td>2018-05-23 23:50:25</td>\n",
       "      <td>19.19</td>\n",
       "      <td>55.52</td>\n",
       "    </tr>\n",
       "    <tr>\n",
       "      <th>10168</th>\n",
       "      <td>14688</td>\n",
       "      <td>2018-05-23 23:55:22</td>\n",
       "      <td>19.19</td>\n",
       "      <td>55.52</td>\n",
       "    </tr>\n",
       "  </tbody>\n",
       "</table>\n",
       "</div>"
      ],
      "text/plain": [
       "        Num.       Date and Time  Temp. (°C)  Rel. Humidity (%)\n",
       "10164  14684 2018-05-23 23:35:32       19.27              54.42\n",
       "10165  14685 2018-05-23 23:40:30       19.24              54.79\n",
       "10166  14686 2018-05-23 23:45:27       19.22              55.16\n",
       "10167  14687 2018-05-23 23:50:25       19.19              55.52\n",
       "10168  14688 2018-05-23 23:55:22       19.19              55.52"
      ]
     },
     "execution_count": 4,
     "metadata": {},
     "output_type": "execute_result"
    }
   ],
   "source": [
    "df_climate.tail()"
   ]
  },
  {
   "cell_type": "markdown",
   "metadata": {},
   "source": [
    "### Define a time index"
   ]
  },
  {
   "cell_type": "code",
   "execution_count": 5,
   "metadata": {},
   "outputs": [],
   "source": [
    "df_climate.index = pd.DatetimeIndex( df_climate[ 'Date and Time' ] )"
   ]
  },
  {
   "cell_type": "code",
   "execution_count": 6,
   "metadata": {},
   "outputs": [
    {
     "data": {
      "text/html": [
       "<div>\n",
       "<style scoped>\n",
       "    .dataframe tbody tr th:only-of-type {\n",
       "        vertical-align: middle;\n",
       "    }\n",
       "\n",
       "    .dataframe tbody tr th {\n",
       "        vertical-align: top;\n",
       "    }\n",
       "\n",
       "    .dataframe thead th {\n",
       "        text-align: right;\n",
       "    }\n",
       "</style>\n",
       "<table border=\"1\" class=\"dataframe\">\n",
       "  <thead>\n",
       "    <tr style=\"text-align: right;\">\n",
       "      <th></th>\n",
       "      <th>Num.</th>\n",
       "      <th>Date and Time</th>\n",
       "      <th>Temp. (°C)</th>\n",
       "      <th>Rel. Humidity (%)</th>\n",
       "    </tr>\n",
       "    <tr>\n",
       "      <th>Date and Time</th>\n",
       "      <th></th>\n",
       "      <th></th>\n",
       "      <th></th>\n",
       "      <th></th>\n",
       "    </tr>\n",
       "  </thead>\n",
       "  <tbody>\n",
       "    <tr>\n",
       "      <th>2018-04-18 00:00:21</th>\n",
       "      <td>4321</td>\n",
       "      <td>2018-04-18 00:00:21</td>\n",
       "      <td>18.53</td>\n",
       "      <td>52.37</td>\n",
       "    </tr>\n",
       "    <tr>\n",
       "      <th>2018-04-18 00:05:19</th>\n",
       "      <td>4322</td>\n",
       "      <td>2018-04-18 00:05:19</td>\n",
       "      <td>18.49</td>\n",
       "      <td>52.44</td>\n",
       "    </tr>\n",
       "    <tr>\n",
       "      <th>2018-04-18 00:10:19</th>\n",
       "      <td>4323</td>\n",
       "      <td>2018-04-18 00:10:19</td>\n",
       "      <td>17.97</td>\n",
       "      <td>55.13</td>\n",
       "    </tr>\n",
       "    <tr>\n",
       "      <th>2018-04-18 00:15:19</th>\n",
       "      <td>4324</td>\n",
       "      <td>2018-04-18 00:15:19</td>\n",
       "      <td>17.58</td>\n",
       "      <td>56.38</td>\n",
       "    </tr>\n",
       "    <tr>\n",
       "      <th>2018-04-18 00:20:18</th>\n",
       "      <td>4325</td>\n",
       "      <td>2018-04-18 00:20:18</td>\n",
       "      <td>17.48</td>\n",
       "      <td>53.81</td>\n",
       "    </tr>\n",
       "  </tbody>\n",
       "</table>\n",
       "</div>"
      ],
      "text/plain": [
       "                     Num.       Date and Time  Temp. (°C)  Rel. Humidity (%)\n",
       "Date and Time                                                               \n",
       "2018-04-18 00:00:21  4321 2018-04-18 00:00:21       18.53              52.37\n",
       "2018-04-18 00:05:19  4322 2018-04-18 00:05:19       18.49              52.44\n",
       "2018-04-18 00:10:19  4323 2018-04-18 00:10:19       17.97              55.13\n",
       "2018-04-18 00:15:19  4324 2018-04-18 00:15:19       17.58              56.38\n",
       "2018-04-18 00:20:18  4325 2018-04-18 00:20:18       17.48              53.81"
      ]
     },
     "execution_count": 6,
     "metadata": {},
     "output_type": "execute_result"
    }
   ],
   "source": [
    "df_climate.head()"
   ]
  },
  {
   "cell_type": "markdown",
   "metadata": {},
   "source": [
    "## Method 1"
   ]
  },
  {
   "cell_type": "markdown",
   "metadata": {},
   "source": [
    "### Know how many days are there in the data, iterate that many times, and select a ___start___ and ___end___ points with a 1 day time span between. Each loop iteration, calculate the mean and append it to an empty list.\n",
    "\n",
    "### \"n times look for records after a starting point and before an ending point, get those rows and calculate the average\""
   ]
  },
  {
   "cell_type": "markdown",
   "metadata": {},
   "source": [
    "How many days are in the data?"
   ]
  },
  {
   "cell_type": "markdown",
   "metadata": {},
   "source": [
    "We get that information from the index:"
   ]
  },
  {
   "cell_type": "code",
   "execution_count": 7,
   "metadata": {},
   "outputs": [
    {
     "data": {
      "text/plain": [
       "array([datetime.date(2018, 4, 18), datetime.date(2018, 4, 18),\n",
       "       datetime.date(2018, 4, 18), ..., datetime.date(2018, 5, 23),\n",
       "       datetime.date(2018, 5, 23), datetime.date(2018, 5, 23)],\n",
       "      dtype=object)"
      ]
     },
     "execution_count": 7,
     "metadata": {},
     "output_type": "execute_result"
    }
   ],
   "source": [
    "df_climate.index.date"
   ]
  },
  {
   "cell_type": "code",
   "execution_count": 8,
   "metadata": {},
   "outputs": [
    {
     "data": {
      "text/plain": [
       "(10169,)"
      ]
     },
     "execution_count": 8,
     "metadata": {},
     "output_type": "execute_result"
    }
   ],
   "source": [
    "df_climate.index.date.shape"
   ]
  },
  {
   "cell_type": "markdown",
   "metadata": {},
   "source": [
    "10169 is the total number of lines, but there are many lines, many rows with the same day (at different hourtimes). Therefore we need only the dates that are ___not repeated___."
   ]
  },
  {
   "cell_type": "markdown",
   "metadata": {},
   "source": [
    "For not-repeated-elements, we can use `np.unique`. It returns a list (actually a numpy array, if you want it 'more correctly') with only the elements that are not repeated:"
   ]
  },
  {
   "cell_type": "code",
   "execution_count": 9,
   "metadata": {},
   "outputs": [
    {
     "data": {
      "text/plain": [
       "array([1, 2, 3, 4])"
      ]
     },
     "execution_count": 9,
     "metadata": {},
     "output_type": "execute_result"
    }
   ],
   "source": [
    "some_list = [ 1, 2, 3, 3, 3, 4 ]\n",
    "np.unique( some_list )"
   ]
  },
  {
   "cell_type": "markdown",
   "metadata": {},
   "source": [
    "For the case of the dates, we have 36 different days, a little more than one month:"
   ]
  },
  {
   "cell_type": "code",
   "execution_count": 10,
   "metadata": {},
   "outputs": [],
   "source": [
    "unique_dates = np.unique( df_climate.index.date )"
   ]
  },
  {
   "cell_type": "code",
   "execution_count": 11,
   "metadata": {},
   "outputs": [
    {
     "name": "stdout",
     "output_type": "stream",
     "text": [
      "(36,)\n"
     ]
    }
   ],
   "source": [
    "print( unique_dates.shape )"
   ]
  },
  {
   "cell_type": "markdown",
   "metadata": {},
   "source": [
    "Now, we want to define a point to start iterating. That very start will be the midnight of the first day in the list. We get then the first point in the index with `min()` and we set the hourtime to 00:00:00"
   ]
  },
  {
   "cell_type": "code",
   "execution_count": 12,
   "metadata": {},
   "outputs": [
    {
     "name": "stdout",
     "output_type": "stream",
     "text": [
      "2018-04-18 00:00:21\n",
      "2018-04-18 00:00:00\n"
     ]
    }
   ],
   "source": [
    "first_start = df_climate.index.min()\n",
    "print( first_start )\n",
    "\n",
    "first_start = first_start.replace(hour=0, minute=0, second=0)\n",
    "print( first_start )"
   ]
  },
  {
   "cell_type": "markdown",
   "metadata": {},
   "source": [
    "Now we create a loop, iterate over ranges of 1 day length, select that part of the original data frame, calculate the mean and append it to an empty list:"
   ]
  },
  {
   "cell_type": "code",
   "execution_count": 13,
   "metadata": {},
   "outputs": [],
   "source": [
    "end = first_start # Trick to get started in the beginning, in the first loop\n",
    "\n",
    "partial_results = []\n",
    "\n",
    "how_many_days = unique_dates.shape[0] # It is the first position of a tuple\n",
    "\n",
    "for i in range( how_many_days ): \n",
    "\n",
    "    start = end\n",
    "    end = start + pd.Timedelta( '1D' )\n",
    "\n",
    "    condition_start = df_climate.index > start\n",
    "    condition_end = df_climate.index < end\n",
    "\n",
    "    partial_results.append( df_climate[ condition_start & condition_end ]['Temp. (°C)'].mean() )"
   ]
  },
  {
   "cell_type": "code",
   "execution_count": 14,
   "metadata": {},
   "outputs": [],
   "source": [
    "# print( partial_results ) # Activate to see the contents of the list, 36 values"
   ]
  },
  {
   "cell_type": "markdown",
   "metadata": {},
   "source": [
    "Or we make it with a new pandas data frame instead of an empty list, using this form:"
   ]
  },
  {
   "cell_type": "code",
   "execution_count": 15,
   "metadata": {},
   "outputs": [
    {
     "data": {
      "text/html": [
       "<div>\n",
       "<style scoped>\n",
       "    .dataframe tbody tr th:only-of-type {\n",
       "        vertical-align: middle;\n",
       "    }\n",
       "\n",
       "    .dataframe tbody tr th {\n",
       "        vertical-align: top;\n",
       "    }\n",
       "\n",
       "    .dataframe thead th {\n",
       "        text-align: right;\n",
       "    }\n",
       "</style>\n",
       "<table border=\"1\" class=\"dataframe\">\n",
       "  <thead>\n",
       "    <tr style=\"text-align: right;\">\n",
       "      <th></th>\n",
       "      <th>Timestamp</th>\n",
       "      <th>Temperature</th>\n",
       "    </tr>\n",
       "  </thead>\n",
       "  <tbody>\n",
       "    <tr>\n",
       "      <th>0</th>\n",
       "      <td>2018-05-23</td>\n",
       "      <td>35</td>\n",
       "    </tr>\n",
       "  </tbody>\n",
       "</table>\n",
       "</div>"
      ],
      "text/plain": [
       "    Timestamp  Temperature\n",
       "0  2018-05-23           35"
      ]
     },
     "execution_count": 15,
     "metadata": {},
     "output_type": "execute_result"
    }
   ],
   "source": [
    "pd.DataFrame( data=[ [start.date(), 35] ], columns=['Timestamp','Temperature'] )"
   ]
  },
  {
   "cell_type": "markdown",
   "metadata": {},
   "source": [
    "We will create a number of rows and then add them to an empty data frame. They need to have the same columns, and we will use this form:\n",
    "\n",
    "`df = pd.concat( [ df, new_row ] )`\n",
    "\n",
    "That reads \"the data frame is what it was before, plus a new row concatenated at the end\""
   ]
  },
  {
   "cell_type": "code",
   "execution_count": 16,
   "metadata": {},
   "outputs": [],
   "source": [
    "end = first_start # Trick to get started in the beginning, in the first loop\n",
    "\n",
    "df_daily_avg = pd.DataFrame( columns=['Timestamp','Temperature'] )\n",
    "\n",
    "how_many_days = unique_dates.shape[0] # It is the first position of a tuple\n",
    "\n",
    "for i in range( how_many_days ): \n",
    "\n",
    "    start = end\n",
    "    end = start + pd.Timedelta( '1D' )\n",
    "\n",
    "    condition_start = df_climate.index >= start\n",
    "    condition_end = df_climate.index < end\n",
    "    \n",
    "    current_average = df_climate[ condition_start & condition_end ]['Temp. (°C)'].mean()\n",
    "    new_row = pd.DataFrame( data=[ [start.date(), current_average] ], columns=['Timestamp','Temperature'] )\n",
    "\n",
    "    df_daily_avg = pd.concat( [ df_daily_avg, new_row ] ) # Add the new row to the data frame, at the end"
   ]
  },
  {
   "cell_type": "code",
   "execution_count": 17,
   "metadata": {},
   "outputs": [
    {
     "data": {
      "text/html": [
       "<div>\n",
       "<style scoped>\n",
       "    .dataframe tbody tr th:only-of-type {\n",
       "        vertical-align: middle;\n",
       "    }\n",
       "\n",
       "    .dataframe tbody tr th {\n",
       "        vertical-align: top;\n",
       "    }\n",
       "\n",
       "    .dataframe thead th {\n",
       "        text-align: right;\n",
       "    }\n",
       "</style>\n",
       "<table border=\"1\" class=\"dataframe\">\n",
       "  <thead>\n",
       "    <tr style=\"text-align: right;\">\n",
       "      <th></th>\n",
       "      <th>Timestamp</th>\n",
       "      <th>Temperature</th>\n",
       "    </tr>\n",
       "  </thead>\n",
       "  <tbody>\n",
       "    <tr>\n",
       "      <th>0</th>\n",
       "      <td>2018-04-18</td>\n",
       "      <td>21.353715</td>\n",
       "    </tr>\n",
       "    <tr>\n",
       "      <th>0</th>\n",
       "      <td>2018-04-19</td>\n",
       "      <td>21.316585</td>\n",
       "    </tr>\n",
       "    <tr>\n",
       "      <th>0</th>\n",
       "      <td>2018-04-20</td>\n",
       "      <td>22.221908</td>\n",
       "    </tr>\n",
       "    <tr>\n",
       "      <th>0</th>\n",
       "      <td>2018-04-21</td>\n",
       "      <td>19.976771</td>\n",
       "    </tr>\n",
       "    <tr>\n",
       "      <th>0</th>\n",
       "      <td>2018-04-22</td>\n",
       "      <td>20.016563</td>\n",
       "    </tr>\n",
       "  </tbody>\n",
       "</table>\n",
       "</div>"
      ],
      "text/plain": [
       "    Timestamp  Temperature\n",
       "0  2018-04-18    21.353715\n",
       "0  2018-04-19    21.316585\n",
       "0  2018-04-20    22.221908\n",
       "0  2018-04-21    19.976771\n",
       "0  2018-04-22    20.016563"
      ]
     },
     "execution_count": 17,
     "metadata": {},
     "output_type": "execute_result"
    }
   ],
   "source": [
    "df_daily_avg.head()"
   ]
  },
  {
   "cell_type": "markdown",
   "metadata": {},
   "source": [
    "Write to a csv file:"
   ]
  },
  {
   "cell_type": "code",
   "execution_count": 18,
   "metadata": {},
   "outputs": [],
   "source": [
    "df_daily_avg.to_csv( 'daily_avg_temp_1.csv' )"
   ]
  },
  {
   "cell_type": "markdown",
   "metadata": {},
   "source": [
    "## Method 2"
   ]
  },
  {
   "cell_type": "markdown",
   "metadata": {},
   "source": [
    "### Make a list of the dates themselves, and make the for loop iterate over them: \"For each date, take the part of the table that has that date and calculate the average\"."
   ]
  },
  {
   "cell_type": "markdown",
   "metadata": {},
   "source": [
    "First we can test with an empty list, like before:"
   ]
  },
  {
   "cell_type": "code",
   "execution_count": 19,
   "metadata": {},
   "outputs": [],
   "source": [
    "all_dates = np.unique( df_climate.index.date )\n",
    "\n",
    "partial_results = []\n",
    "\n",
    "for current_date in all_dates:\n",
    "    \n",
    "    condition = df_climate.index.date == current_date\n",
    "\n",
    "    partial_results.append( df_climate[ condition ]['Temp. (°C)'].mean() )"
   ]
  },
  {
   "cell_type": "code",
   "execution_count": 20,
   "metadata": {},
   "outputs": [],
   "source": [
    "# print( partial_results ) # Activate to see the contents of the list, 36 values"
   ]
  },
  {
   "cell_type": "code",
   "execution_count": 21,
   "metadata": {},
   "outputs": [],
   "source": [
    "all_dates = np.unique( df_climate.index.date )\n",
    "\n",
    "df_daily_avg = pd.DataFrame( columns=['Timestamp','Temperature'] )\n",
    "\n",
    "for current_date in all_dates:\n",
    "    \n",
    "    condition = df_climate.index.date == current_date\n",
    "    \n",
    "    current_average =  df_climate[ condition ]['Temp. (°C)'].mean()\n",
    "    new_row = pd.DataFrame( data=[ [current_date, current_average] ], columns=['Timestamp','Temperature'] )\n",
    "    \n",
    "    df_daily_avg = pd.concat( [ df_daily_avg, new_row ] ) # Add the new row to the data frame, at the end"
   ]
  },
  {
   "cell_type": "code",
   "execution_count": 22,
   "metadata": {},
   "outputs": [
    {
     "data": {
      "text/html": [
       "<div>\n",
       "<style scoped>\n",
       "    .dataframe tbody tr th:only-of-type {\n",
       "        vertical-align: middle;\n",
       "    }\n",
       "\n",
       "    .dataframe tbody tr th {\n",
       "        vertical-align: top;\n",
       "    }\n",
       "\n",
       "    .dataframe thead th {\n",
       "        text-align: right;\n",
       "    }\n",
       "</style>\n",
       "<table border=\"1\" class=\"dataframe\">\n",
       "  <thead>\n",
       "    <tr style=\"text-align: right;\">\n",
       "      <th></th>\n",
       "      <th>Timestamp</th>\n",
       "      <th>Temperature</th>\n",
       "    </tr>\n",
       "  </thead>\n",
       "  <tbody>\n",
       "    <tr>\n",
       "      <th>0</th>\n",
       "      <td>2018-04-18</td>\n",
       "      <td>21.353715</td>\n",
       "    </tr>\n",
       "    <tr>\n",
       "      <th>0</th>\n",
       "      <td>2018-04-19</td>\n",
       "      <td>21.316585</td>\n",
       "    </tr>\n",
       "    <tr>\n",
       "      <th>0</th>\n",
       "      <td>2018-04-20</td>\n",
       "      <td>22.221908</td>\n",
       "    </tr>\n",
       "    <tr>\n",
       "      <th>0</th>\n",
       "      <td>2018-04-21</td>\n",
       "      <td>19.976771</td>\n",
       "    </tr>\n",
       "    <tr>\n",
       "      <th>0</th>\n",
       "      <td>2018-04-22</td>\n",
       "      <td>20.016563</td>\n",
       "    </tr>\n",
       "  </tbody>\n",
       "</table>\n",
       "</div>"
      ],
      "text/plain": [
       "    Timestamp  Temperature\n",
       "0  2018-04-18    21.353715\n",
       "0  2018-04-19    21.316585\n",
       "0  2018-04-20    22.221908\n",
       "0  2018-04-21    19.976771\n",
       "0  2018-04-22    20.016563"
      ]
     },
     "execution_count": 22,
     "metadata": {},
     "output_type": "execute_result"
    }
   ],
   "source": [
    "df_daily_avg.head()"
   ]
  },
  {
   "cell_type": "markdown",
   "metadata": {},
   "source": [
    "Write to a csv file:"
   ]
  },
  {
   "cell_type": "code",
   "execution_count": 23,
   "metadata": {},
   "outputs": [],
   "source": [
    "df_daily_avg.to_csv( 'daily_avg_temp_2.csv' )"
   ]
  },
  {
   "cell_type": "markdown",
   "metadata": {},
   "source": [
    "## Method 3"
   ]
  },
  {
   "cell_type": "markdown",
   "metadata": {},
   "source": [
    "### Resample the dataframe, downsampling it to one-day periods. Use the ___mean()___ as aggregation function for the resampling."
   ]
  },
  {
   "cell_type": "code",
   "execution_count": 24,
   "metadata": {},
   "outputs": [
    {
     "data": {
      "text/html": [
       "<div>\n",
       "<style scoped>\n",
       "    .dataframe tbody tr th:only-of-type {\n",
       "        vertical-align: middle;\n",
       "    }\n",
       "\n",
       "    .dataframe tbody tr th {\n",
       "        vertical-align: top;\n",
       "    }\n",
       "\n",
       "    .dataframe thead th {\n",
       "        text-align: right;\n",
       "    }\n",
       "</style>\n",
       "<table border=\"1\" class=\"dataframe\">\n",
       "  <thead>\n",
       "    <tr style=\"text-align: right;\">\n",
       "      <th></th>\n",
       "      <th>Num.</th>\n",
       "      <th>Date and Time</th>\n",
       "      <th>Temp. (°C)</th>\n",
       "      <th>Rel. Humidity (%)</th>\n",
       "    </tr>\n",
       "    <tr>\n",
       "      <th>Date and Time</th>\n",
       "      <th></th>\n",
       "      <th></th>\n",
       "      <th></th>\n",
       "      <th></th>\n",
       "    </tr>\n",
       "  </thead>\n",
       "  <tbody>\n",
       "    <tr>\n",
       "      <th>2018-04-18 00:00:21</th>\n",
       "      <td>4321</td>\n",
       "      <td>2018-04-18 00:00:21</td>\n",
       "      <td>18.53</td>\n",
       "      <td>52.37</td>\n",
       "    </tr>\n",
       "    <tr>\n",
       "      <th>2018-04-18 00:05:19</th>\n",
       "      <td>4322</td>\n",
       "      <td>2018-04-18 00:05:19</td>\n",
       "      <td>18.49</td>\n",
       "      <td>52.44</td>\n",
       "    </tr>\n",
       "    <tr>\n",
       "      <th>2018-04-18 00:10:19</th>\n",
       "      <td>4323</td>\n",
       "      <td>2018-04-18 00:10:19</td>\n",
       "      <td>17.97</td>\n",
       "      <td>55.13</td>\n",
       "    </tr>\n",
       "    <tr>\n",
       "      <th>2018-04-18 00:15:19</th>\n",
       "      <td>4324</td>\n",
       "      <td>2018-04-18 00:15:19</td>\n",
       "      <td>17.58</td>\n",
       "      <td>56.38</td>\n",
       "    </tr>\n",
       "    <tr>\n",
       "      <th>2018-04-18 00:20:18</th>\n",
       "      <td>4325</td>\n",
       "      <td>2018-04-18 00:20:18</td>\n",
       "      <td>17.48</td>\n",
       "      <td>53.81</td>\n",
       "    </tr>\n",
       "  </tbody>\n",
       "</table>\n",
       "</div>"
      ],
      "text/plain": [
       "                     Num.       Date and Time  Temp. (°C)  Rel. Humidity (%)\n",
       "Date and Time                                                               \n",
       "2018-04-18 00:00:21  4321 2018-04-18 00:00:21       18.53              52.37\n",
       "2018-04-18 00:05:19  4322 2018-04-18 00:05:19       18.49              52.44\n",
       "2018-04-18 00:10:19  4323 2018-04-18 00:10:19       17.97              55.13\n",
       "2018-04-18 00:15:19  4324 2018-04-18 00:15:19       17.58              56.38\n",
       "2018-04-18 00:20:18  4325 2018-04-18 00:20:18       17.48              53.81"
      ]
     },
     "execution_count": 24,
     "metadata": {},
     "output_type": "execute_result"
    }
   ],
   "source": [
    "df_climate.head()"
   ]
  },
  {
   "cell_type": "markdown",
   "metadata": {},
   "source": [
    "Notice that we use double brackets to select the columns (one in this case), to get a pandas `dataframe`. \n",
    "\n",
    "Otherwise we would get a `series` (which is also ok, but...)"
   ]
  },
  {
   "cell_type": "code",
   "execution_count": 25,
   "metadata": {},
   "outputs": [],
   "source": [
    "df_daily_avg = df_climate.resample( '1d' )[['Temp. (°C)']].mean()"
   ]
  },
  {
   "cell_type": "code",
   "execution_count": 26,
   "metadata": {},
   "outputs": [
    {
     "data": {
      "text/html": [
       "<div>\n",
       "<style scoped>\n",
       "    .dataframe tbody tr th:only-of-type {\n",
       "        vertical-align: middle;\n",
       "    }\n",
       "\n",
       "    .dataframe tbody tr th {\n",
       "        vertical-align: top;\n",
       "    }\n",
       "\n",
       "    .dataframe thead th {\n",
       "        text-align: right;\n",
       "    }\n",
       "</style>\n",
       "<table border=\"1\" class=\"dataframe\">\n",
       "  <thead>\n",
       "    <tr style=\"text-align: right;\">\n",
       "      <th></th>\n",
       "      <th>Temp. (°C)</th>\n",
       "    </tr>\n",
       "    <tr>\n",
       "      <th>Date and Time</th>\n",
       "      <th></th>\n",
       "    </tr>\n",
       "  </thead>\n",
       "  <tbody>\n",
       "    <tr>\n",
       "      <th>2018-04-18</th>\n",
       "      <td>21.353715</td>\n",
       "    </tr>\n",
       "    <tr>\n",
       "      <th>2018-04-19</th>\n",
       "      <td>21.316585</td>\n",
       "    </tr>\n",
       "    <tr>\n",
       "      <th>2018-04-20</th>\n",
       "      <td>22.221908</td>\n",
       "    </tr>\n",
       "    <tr>\n",
       "      <th>2018-04-21</th>\n",
       "      <td>19.976771</td>\n",
       "    </tr>\n",
       "    <tr>\n",
       "      <th>2018-04-22</th>\n",
       "      <td>20.016562</td>\n",
       "    </tr>\n",
       "  </tbody>\n",
       "</table>\n",
       "</div>"
      ],
      "text/plain": [
       "               Temp. (°C)\n",
       "Date and Time            \n",
       "2018-04-18      21.353715\n",
       "2018-04-19      21.316585\n",
       "2018-04-20      22.221908\n",
       "2018-04-21      19.976771\n",
       "2018-04-22      20.016562"
      ]
     },
     "execution_count": 26,
     "metadata": {},
     "output_type": "execute_result"
    }
   ],
   "source": [
    "df_daily_avg.head()"
   ]
  },
  {
   "cell_type": "markdown",
   "metadata": {},
   "source": [
    "Write to a csv file:"
   ]
  },
  {
   "cell_type": "code",
   "execution_count": 27,
   "metadata": {},
   "outputs": [],
   "source": [
    "df_daily_avg.to_csv( 'daily_avg_temp_3.csv' )"
   ]
  },
  {
   "cell_type": "markdown",
   "metadata": {},
   "source": [
    "---"
   ]
  }
 ],
 "metadata": {
  "kernelspec": {
   "display_name": "Python 3",
   "language": "python",
   "name": "python3"
  },
  "language_info": {
   "codemirror_mode": {
    "name": "ipython",
    "version": 3
   },
   "file_extension": ".py",
   "mimetype": "text/x-python",
   "name": "python",
   "nbconvert_exporter": "python",
   "pygments_lexer": "ipython3",
   "version": "3.5.3"
  }
 },
 "nbformat": 4,
 "nbformat_minor": 2
}
