{
 "cells": [
  {
   "cell_type": "markdown",
   "metadata": {
    "slideshow": {
     "slide_type": "slide"
    }
   },
   "source": [
    "# Introduction to python"
   ]
  },
  {
   "cell_type": "markdown",
   "metadata": {
    "slideshow": {
     "slide_type": "subslide"
    }
   },
   "source": [
    "## Session 1"
   ]
  },
  {
   "cell_type": "markdown",
   "metadata": {
    "slideshow": {
     "slide_type": "slide"
    }
   },
   "source": [
    "## Contents"
   ]
  },
  {
   "cell_type": "markdown",
   "metadata": {
    "slideshow": {
     "slide_type": "fragment"
    }
   },
   "source": [
    "### 1. Hello, World! - Interactive vs. Script modes. _Print_ function. "
   ]
  },
  {
   "cell_type": "markdown",
   "metadata": {
    "slideshow": {
     "slide_type": "fragment"
    }
   },
   "source": [
    "### 2. Lists. - Variables. Lists. Iteration over lists, list comprehension."
   ]
  },
  {
   "cell_type": "markdown",
   "metadata": {
    "slideshow": {
     "slide_type": "fragment"
    }
   },
   "source": [
    "### 3. Control flow. - _If_ and _for_ statements. Indentation blocks."
   ]
  },
  {
   "cell_type": "markdown",
   "metadata": {
    "slideshow": {
     "slide_type": "fragment"
    }
   },
   "source": [
    "### 4. Exercises."
   ]
  },
  {
   "cell_type": "markdown",
   "metadata": {
    "slideshow": {
     "slide_type": "slide"
    }
   },
   "source": [
    "## 1. Hello world!"
   ]
  },
  {
   "cell_type": "markdown",
   "metadata": {
    "slideshow": {
     "slide_type": "subslide"
    }
   },
   "source": [
    "### 1.1 Interactive mode "
   ]
  },
  {
   "cell_type": "markdown",
   "metadata": {
    "slideshow": {
     "slide_type": "fragment"
    }
   },
   "source": [
    "When in interactive mode, the commands are interpreted and executed immediately, one after the other. For this, we need an interpreter. Python has it's own interpreter. Other are the IPython console and the jupyter notebooks."
   ]
  },
  {
   "cell_type": "markdown",
   "metadata": {
    "slideshow": {
     "slide_type": "subslide"
    }
   },
   "source": [
    "In the IPython console:"
   ]
  },
  {
   "cell_type": "markdown",
   "metadata": {
    "slideshow": {
     "slide_type": "fragment"
    }
   },
   "source": [
    "<img src='../../misc/img/helloworld.png' width='700'>"
   ]
  },
  {
   "cell_type": "markdown",
   "metadata": {
    "slideshow": {
     "slide_type": "subslide"
    }
   },
   "source": [
    "In a jupyter cell:"
   ]
  },
  {
   "cell_type": "code",
   "execution_count": 1,
   "metadata": {
    "slideshow": {
     "slide_type": "fragment"
    }
   },
   "outputs": [
    {
     "name": "stdout",
     "output_type": "stream",
     "text": [
      "Hello, World!\n"
     ]
    }
   ],
   "source": [
    "print( \"Hello, World!\" )"
   ]
  },
  {
   "cell_type": "markdown",
   "metadata": {
    "slideshow": {
     "slide_type": "subslide"
    }
   },
   "source": [
    "From the anaconda navigator, we can launch jupyter and the IPython console:"
   ]
  },
  {
   "cell_type": "markdown",
   "metadata": {
    "slideshow": {
     "slide_type": "fragment"
    }
   },
   "source": [
    "![title](img/anaconda_navigator.png)"
   ]
  },
  {
   "cell_type": "markdown",
   "metadata": {
    "slideshow": {
     "slide_type": "subslide"
    }
   },
   "source": [
    "To finish an interactive session, use the ___exit()___ command in python, the exit _word_ in IPython and the button _quit_ in a jupyter notebook."
   ]
  },
  {
   "cell_type": "markdown",
   "metadata": {
    "slideshow": {
     "slide_type": "subslide"
    }
   },
   "source": [
    "#### The _print()_ function - Excercises"
   ]
  },
  {
   "cell_type": "markdown",
   "metadata": {
    "slideshow": {
     "slide_type": "fragment"
    }
   },
   "source": [
    "→ Launch the IPython console and test variations of the ___print()___ function. \n",
    "\n",
    "Some ideas are:\n",
    "* Print the result of a calculation\n",
    "* Print the result of a calculation together with a piece of text (\"The result is 9.2\")\n",
    "* Print out several lines using a single call to ___print()___\n",
    "* Use several calls to ___print()___ to write in the same line, one after the other\n",
    "* Print out a line of 50 asterisks  (\"*******...\")"
   ]
  },
  {
   "cell_type": "markdown",
   "metadata": {
    "slideshow": {
     "slide_type": "subslide"
    }
   },
   "source": [
    "### 1.2 Script mode"
   ]
  },
  {
   "cell_type": "markdown",
   "metadata": {
    "slideshow": {
     "slide_type": "fragment"
    }
   },
   "source": [
    "A program can be saved as script with the _.py_ extension, and later on loaded and executed using python. This allows for programs to be run several times, and also to create libraries with pieces of code that can be reused from another python program."
   ]
  },
  {
   "cell_type": "markdown",
   "metadata": {
    "slideshow": {
     "slide_type": "subslide"
    }
   },
   "source": [
    "The \"Hello, World!\" program in script mode implies that we write the command in a text file (using any text editor) and save it with _.py_ extension:"
   ]
  },
  {
   "cell_type": "markdown",
   "metadata": {
    "slideshow": {
     "slide_type": "fragment"
    }
   },
   "source": [
    "<img src='../../misc/img/helloworld.py.png' width='700'>"
   ]
  },
  {
   "cell_type": "markdown",
   "metadata": {
    "slideshow": {
     "slide_type": "subslide"
    }
   },
   "source": [
    "From the console, we need to move to the directory where the script was saved and run it using python:"
   ]
  },
  {
   "cell_type": "markdown",
   "metadata": {
    "slideshow": {
     "slide_type": "fragment"
    }
   },
   "source": [
    "<img src='../../misc/img/helloworld_run.png' width='700'>"
   ]
  },
  {
   "cell_type": "markdown",
   "metadata": {
    "slideshow": {
     "slide_type": "subslide"
    }
   },
   "source": [
    "Notes:\n",
    "* The python interpreter ___must___ be in the PATH variable to be accessible. This is not always the case, because not all installers change the PATH variable. It can be done manually, but the exact procedure depends on the operative system.\n",
    "* Another option is to call the script from an interactive interpreter, using the ___run___ command."
   ]
  },
  {
   "cell_type": "markdown",
   "metadata": {
    "slideshow": {
     "slide_type": "fragment"
    }
   },
   "source": [
    "<img src='../../misc/img/run_script_with_run.png' width='500'>"
   ]
  },
  {
   "cell_type": "markdown",
   "metadata": {
    "slideshow": {
     "slide_type": "subslide"
    }
   },
   "source": [
    "Notice that in both modes (interactive and script), the program starts with the first line and goes one after the other in a single direction. \n",
    "\n",
    "After the last line is run, the program ends"
   ]
  },
  {
   "cell_type": "code",
   "execution_count": 2,
   "metadata": {
    "slideshow": {
     "slide_type": "fragment"
    }
   },
   "outputs": [
    {
     "name": "stdout",
     "output_type": "stream",
     "text": [
      "Hey there!!\n",
      "9\n",
      "4.5\n"
     ]
    }
   ],
   "source": [
    "print( 'Hey there!!' )\n",
    "print( 6+3 ) \n",
    "print( (6+3)/2 )"
   ]
  },
  {
   "cell_type": "markdown",
   "metadata": {
    "slideshow": {
     "slide_type": "subslide"
    }
   },
   "source": [
    "The shown \"linear\" flow of execution contrasts with other programs, like graphic interfaces, where the code is constantly in execution, and waits for a user input to react. In these cases, the software also waits for a user input to end the program. This kind of user interfaces can also be made using python, although that will not be covered in this course."
   ]
  },
  {
   "cell_type": "markdown",
   "metadata": {
    "slideshow": {
     "slide_type": "slide"
    }
   },
   "source": [
    "## 2. Lists"
   ]
  },
  {
   "cell_type": "markdown",
   "metadata": {
    "slideshow": {
     "slide_type": "subslide"
    }
   },
   "source": [
    "### 2.1 Variables"
   ]
  },
  {
   "cell_type": "markdown",
   "metadata": {
    "slideshow": {
     "slide_type": "subslide"
    }
   },
   "source": [
    "Variables can be defined on the run, they don't need to be declared previously (as in other programming languages)."
   ]
  },
  {
   "cell_type": "code",
   "execution_count": 3,
   "metadata": {
    "slideshow": {
     "slide_type": "fragment"
    }
   },
   "outputs": [
    {
     "name": "stdout",
     "output_type": "stream",
     "text": [
      "3\n",
      "4\n",
      "8\n",
      "foobar\n"
     ]
    }
   ],
   "source": [
    "a = 3\n",
    "print( a )\n",
    "print( a+1 )\n",
    "b = 5\n",
    "print( a+b )\n",
    "c = 'foo' + 'bar'\n",
    "print( c )"
   ]
  },
  {
   "cell_type": "markdown",
   "metadata": {
    "slideshow": {
     "slide_type": "subslide"
    }
   },
   "source": [
    "Even though the variables are not declared explicitly, they still have a type:"
   ]
  },
  {
   "cell_type": "code",
   "execution_count": 4,
   "metadata": {
    "slideshow": {
     "slide_type": "fragment"
    }
   },
   "outputs": [
    {
     "name": "stdout",
     "output_type": "stream",
     "text": [
      "<class 'int'>\n",
      "<class 'int'>\n",
      "<class 'str'>\n"
     ]
    },
    {
     "ename": "TypeError",
     "evalue": "unsupported operand type(s) for +: 'int' and 'str'",
     "output_type": "error",
     "traceback": [
      "\u001b[0;31m---------------------------------------------------------------------------\u001b[0m",
      "\u001b[0;31mTypeError\u001b[0m                                 Traceback (most recent call last)",
      "\u001b[0;32m<ipython-input-4-62fb31cedf3c>\u001b[0m in \u001b[0;36m<module>\u001b[0;34m()\u001b[0m\n\u001b[1;32m      3\u001b[0m \u001b[0mprint\u001b[0m\u001b[0;34m(\u001b[0m \u001b[0mtype\u001b[0m\u001b[0;34m(\u001b[0m \u001b[0mc\u001b[0m \u001b[0;34m)\u001b[0m \u001b[0;34m)\u001b[0m\u001b[0;34m\u001b[0m\u001b[0m\n\u001b[1;32m      4\u001b[0m \u001b[0;34m\u001b[0m\u001b[0m\n\u001b[0;32m----> 5\u001b[0;31m \u001b[0mprint\u001b[0m\u001b[0;34m(\u001b[0m \u001b[0ma\u001b[0m\u001b[0;34m+\u001b[0m\u001b[0mc\u001b[0m \u001b[0;34m)\u001b[0m\u001b[0;34m\u001b[0m\u001b[0m\n\u001b[0m",
      "\u001b[0;31mTypeError\u001b[0m: unsupported operand type(s) for +: 'int' and 'str'"
     ]
    }
   ],
   "source": [
    "print( type( a ) )\n",
    "print( type( b ) )\n",
    "print( type( c ) )\n",
    "\n",
    "print( a+c )"
   ]
  },
  {
   "cell_type": "markdown",
   "metadata": {
    "slideshow": {
     "slide_type": "subslide"
    }
   },
   "source": [
    "We can check the type of variables with the function ___type()___ or with logical comparisons:"
   ]
  },
  {
   "cell_type": "code",
   "execution_count": 5,
   "metadata": {
    "slideshow": {
     "slide_type": "fragment"
    }
   },
   "outputs": [
    {
     "name": "stdout",
     "output_type": "stream",
     "text": [
      "True\n",
      "True\n",
      "False\n"
     ]
    }
   ],
   "source": [
    "print( type( a ) == int )\n",
    "print( type( b ) == int )\n",
    "print( type( c ) == int )"
   ]
  },
  {
   "cell_type": "markdown",
   "metadata": {
    "slideshow": {
     "slide_type": "subslide"
    }
   },
   "source": [
    "### 2.2 Lists"
   ]
  },
  {
   "cell_type": "markdown",
   "metadata": {
    "slideshow": {
     "slide_type": "fragment"
    }
   },
   "source": [
    "Lists are a type of variable, similar to _arrays_ and _vectors_ in other programming languages.\n",
    "\n",
    "In Python, they deserve particular attention. They are widely used due to their flexibility and a number of functions and routines that encourage their usage. They can make programs very efficient and provide neat solutions to otherwise complex problems."
   ]
  },
  {
   "cell_type": "markdown",
   "metadata": {
    "slideshow": {
     "slide_type": "subslide"
    }
   },
   "source": [
    "Lists are created either by using square brackets:"
   ]
  },
  {
   "cell_type": "code",
   "execution_count": 6,
   "metadata": {
    "slideshow": {
     "slide_type": "fragment"
    }
   },
   "outputs": [
    {
     "name": "stdout",
     "output_type": "stream",
     "text": [
      "[1, 2, 3, 4] <class 'list'>\n"
     ]
    }
   ],
   "source": [
    "ll1 = [ 1, 2, 3, 4 ]\n",
    "print( ll1, type(ll1) )"
   ]
  },
  {
   "cell_type": "markdown",
   "metadata": {
    "slideshow": {
     "slide_type": "fragment"
    }
   },
   "source": [
    "Or by using the function _list_:"
   ]
  },
  {
   "cell_type": "code",
   "execution_count": 7,
   "metadata": {
    "slideshow": {
     "slide_type": "fragment"
    }
   },
   "outputs": [
    {
     "name": "stdout",
     "output_type": "stream",
     "text": [
      "[1, 2, 3, 4] <class 'list'>\n"
     ]
    }
   ],
   "source": [
    "ll2 = list( [ 1, 2, 3, 4 ] )\n",
    "print( ll2, type(ll2) )"
   ]
  },
  {
   "cell_type": "code",
   "execution_count": 8,
   "metadata": {
    "slideshow": {
     "slide_type": "fragment"
    }
   },
   "outputs": [
    {
     "name": "stdout",
     "output_type": "stream",
     "text": [
      "[1, 2, 3, 4] <class 'list'>\n"
     ]
    }
   ],
   "source": [
    "ll3 = list( ( 1, 2, 3, 4 ) )\n",
    "print( ll3, type(ll3) )"
   ]
  },
  {
   "cell_type": "markdown",
   "metadata": {
    "slideshow": {
     "slide_type": "subslide"
    }
   },
   "source": [
    "In all three cases, the result is the same "
   ]
  },
  {
   "cell_type": "code",
   "execution_count": 9,
   "metadata": {
    "slideshow": {
     "slide_type": "fragment"
    }
   },
   "outputs": [
    {
     "name": "stdout",
     "output_type": "stream",
     "text": [
      "True\n"
     ]
    }
   ],
   "source": [
    "print( ll1 == ll2 == ll3 )"
   ]
  },
  {
   "cell_type": "markdown",
   "metadata": {
    "slideshow": {
     "slide_type": "fragment"
    }
   },
   "source": [
    "(don't bother with the parenthesis in ll3 for now... If you _do_ want to bother, they define a _generator_, look it up!)"
   ]
  },
  {
   "cell_type": "markdown",
   "metadata": {
    "slideshow": {
     "slide_type": "subslide"
    }
   },
   "source": [
    "Lists can contain variables, not only explicit values:"
   ]
  },
  {
   "cell_type": "code",
   "execution_count": 10,
   "metadata": {
    "slideshow": {
     "slide_type": "fragment"
    }
   },
   "outputs": [
    {
     "name": "stdout",
     "output_type": "stream",
     "text": [
      "[3, 5, 'foobar', [1, 2, 3]]\n"
     ]
    }
   ],
   "source": [
    "ll = [ a, b, c, [ 1,2,3 ] ]\n",
    "\n",
    "print( ll )"
   ]
  },
  {
   "cell_type": "markdown",
   "metadata": {
    "slideshow": {
     "slide_type": "fragment"
    }
   },
   "source": [
    "Notice that the type of the variables in a list doesn't need to be the same!!"
   ]
  },
  {
   "cell_type": "markdown",
   "metadata": {
    "slideshow": {
     "slide_type": "subslide"
    }
   },
   "source": [
    "We access particular elements in a list by _indexing_ using square brackets:"
   ]
  },
  {
   "cell_type": "code",
   "execution_count": 11,
   "metadata": {
    "slideshow": {
     "slide_type": "fragment"
    }
   },
   "outputs": [
    {
     "name": "stdout",
     "output_type": "stream",
     "text": [
      "[3, 5, 'foobar', [1, 2, 3]]\n"
     ]
    }
   ],
   "source": [
    "print( ll )"
   ]
  },
  {
   "cell_type": "code",
   "execution_count": 12,
   "metadata": {
    "slideshow": {
     "slide_type": "fragment"
    }
   },
   "outputs": [
    {
     "name": "stdout",
     "output_type": "stream",
     "text": [
      "5\n"
     ]
    }
   ],
   "source": [
    "print( ll[1] )"
   ]
  },
  {
   "cell_type": "markdown",
   "metadata": {
    "slideshow": {
     "slide_type": "fragment"
    }
   },
   "source": [
    "Notice that python uses 0-indexing in lists!"
   ]
  },
  {
   "cell_type": "markdown",
   "metadata": {
    "slideshow": {
     "slide_type": "subslide"
    }
   },
   "source": [
    "To index a range inside a list, we use a semicolon:"
   ]
  },
  {
   "cell_type": "code",
   "execution_count": 13,
   "metadata": {
    "slideshow": {
     "slide_type": "fragment"
    }
   },
   "outputs": [
    {
     "name": "stdout",
     "output_type": "stream",
     "text": [
      "[3, 5, 'foobar', [1, 2, 3]]\n"
     ]
    }
   ],
   "source": [
    "print( ll )"
   ]
  },
  {
   "cell_type": "code",
   "execution_count": 14,
   "metadata": {
    "slideshow": {
     "slide_type": "fragment"
    }
   },
   "outputs": [
    {
     "name": "stdout",
     "output_type": "stream",
     "text": [
      "[5, 'foobar']\n"
     ]
    }
   ],
   "source": [
    "print( ll[1:3] )"
   ]
  },
  {
   "cell_type": "code",
   "execution_count": 15,
   "metadata": {
    "slideshow": {
     "slide_type": "fragment"
    }
   },
   "outputs": [
    {
     "name": "stdout",
     "output_type": "stream",
     "text": [
      "[3]\n"
     ]
    }
   ],
   "source": [
    "print( ll[:1] )"
   ]
  },
  {
   "cell_type": "markdown",
   "metadata": {
    "slideshow": {
     "slide_type": "fragment"
    }
   },
   "source": [
    "Notice that the last element (here the '1') is _not_ included in the returned range!"
   ]
  },
  {
   "cell_type": "markdown",
   "metadata": {
    "slideshow": {
     "slide_type": "subslide"
    }
   },
   "source": [
    "We can add elements to a list, either at the beginning, at the end, or at some point in between.\n",
    "\n",
    "Please look how to do it!"
   ]
  },
  {
   "cell_type": "markdown",
   "metadata": {
    "slideshow": {
     "slide_type": "subslide"
    }
   },
   "source": [
    "#### '+' operator"
   ]
  },
  {
   "cell_type": "markdown",
   "metadata": {
    "slideshow": {
     "slide_type": "subslide"
    }
   },
   "source": [
    "We can concatenate lists using the ___'+'___ operator. It returns a list made with the operators:"
   ]
  },
  {
   "cell_type": "code",
   "execution_count": 16,
   "metadata": {
    "slideshow": {
     "slide_type": "fragment"
    }
   },
   "outputs": [
    {
     "name": "stdout",
     "output_type": "stream",
     "text": [
      "[3, 5, 'foobar', [1, 2, 3]]\n"
     ]
    }
   ],
   "source": [
    "print( ll )"
   ]
  },
  {
   "cell_type": "code",
   "execution_count": 17,
   "metadata": {
    "scrolled": true,
    "slideshow": {
     "slide_type": "fragment"
    }
   },
   "outputs": [
    {
     "name": "stdout",
     "output_type": "stream",
     "text": [
      "[3, '000', 5, 'foobar', [1, 2, 3]]\n"
     ]
    }
   ],
   "source": [
    "print( ll[:1] + [ '000' ] + ll[1:] )"
   ]
  },
  {
   "cell_type": "code",
   "execution_count": 18,
   "metadata": {
    "slideshow": {
     "slide_type": "fragment"
    }
   },
   "outputs": [
    {
     "name": "stdout",
     "output_type": "stream",
     "text": [
      "['000', 3, 5, 'foobar', [1, 2, 3], 'xxx', 'yyy']\n"
     ]
    }
   ],
   "source": [
    "print( [ '000' ] + ll + [ 'xxx', 'yyy' ] )"
   ]
  },
  {
   "cell_type": "code",
   "execution_count": 19,
   "metadata": {
    "slideshow": {
     "slide_type": "fragment"
    }
   },
   "outputs": [
    {
     "name": "stdout",
     "output_type": "stream",
     "text": [
      "[3, 5, 'foobar', [1, 2, 3]]\n"
     ]
    }
   ],
   "source": [
    "print( ll )"
   ]
  },
  {
   "cell_type": "markdown",
   "metadata": {
    "slideshow": {
     "slide_type": "subslide"
    }
   },
   "source": [
    "Two things to notice:\n",
    "* The elements to concatenate ___must___ be all lists, therefore the square brackets\n",
    "* The original list is ___not___ modified with the results, for that, we need to assign the result to the list again:"
   ]
  },
  {
   "cell_type": "code",
   "execution_count": 20,
   "metadata": {
    "slideshow": {
     "slide_type": "fragment"
    }
   },
   "outputs": [
    {
     "name": "stdout",
     "output_type": "stream",
     "text": [
      "[3, 5, 'foobar', [1, 2, 3]]\n",
      "['000', 3, 5, 'foobar', [1, 2, 3]]\n",
      "['000', '000', 3, 5, 'foobar', [1, 2, 3], 'xxx', 'yyy']\n"
     ]
    }
   ],
   "source": [
    "print( ll )\n",
    "ll = [ '000' ] + ll\n",
    "print( ll )\n",
    "ll = [ '000' ] + ll + [ 'xxx', 'yyy' ]\n",
    "print( ll )"
   ]
  },
  {
   "cell_type": "markdown",
   "metadata": {
    "slideshow": {
     "slide_type": "subslide"
    }
   },
   "source": [
    "We can also use the *methods* of the *class* *list*, which we can access with a point '.' :"
   ]
  },
  {
   "cell_type": "code",
   "execution_count": 21,
   "metadata": {
    "slideshow": {
     "slide_type": "fragment"
    }
   },
   "outputs": [
    {
     "name": "stdout",
     "output_type": "stream",
     "text": [
      "['000', '000', 3, 5, 'foobar', [1, 2, 3], 'xxx', 'yyy']\n"
     ]
    }
   ],
   "source": [
    "print( ll )"
   ]
  },
  {
   "cell_type": "code",
   "execution_count": 22,
   "metadata": {
    "slideshow": {
     "slide_type": "fragment"
    }
   },
   "outputs": [
    {
     "name": "stdout",
     "output_type": "stream",
     "text": [
      "['000', '000', 3, 5, 'foobar', [1, 2, 3], 'xxx', 'yyy', 'xxx']\n"
     ]
    }
   ],
   "source": [
    "ll.append( 'xxx' )\n",
    "print( ll )"
   ]
  },
  {
   "cell_type": "markdown",
   "metadata": {
    "slideshow": {
     "slide_type": "subslide"
    }
   },
   "source": [
    "Ohter useful methods are *insert*, *pop*, *remove*. In many consoles you can type a '.' and hit <TAB> to get a list of available methods."
   ]
  },
  {
   "cell_type": "code",
   "execution_count": 23,
   "metadata": {
    "slideshow": {
     "slide_type": "fragment"
    }
   },
   "outputs": [
    {
     "ename": "SyntaxError",
     "evalue": "invalid syntax (<ipython-input-23-829273d1667e>, line 1)",
     "output_type": "error",
     "traceback": [
      "\u001b[0;36m  File \u001b[0;32m\"<ipython-input-23-829273d1667e>\"\u001b[0;36m, line \u001b[0;32m1\u001b[0m\n\u001b[0;31m    ll.\u001b[0m\n\u001b[0m       ^\u001b[0m\n\u001b[0;31mSyntaxError\u001b[0m\u001b[0;31m:\u001b[0m invalid syntax\n"
     ]
    }
   ],
   "source": [
    "ll."
   ]
  },
  {
   "cell_type": "markdown",
   "metadata": {
    "slideshow": {
     "slide_type": "fragment"
    }
   },
   "source": [
    "In most interactive consoles, you can look the documentation of objects using a question mark '?' :"
   ]
  },
  {
   "cell_type": "code",
   "execution_count": 24,
   "metadata": {
    "slideshow": {
     "slide_type": "fragment"
    }
   },
   "outputs": [],
   "source": [
    "ll.append?"
   ]
  },
  {
   "cell_type": "markdown",
   "metadata": {
    "slideshow": {
     "slide_type": "subslide"
    }
   },
   "source": [
    "#### Lists - Excercises"
   ]
  },
  {
   "cell_type": "markdown",
   "metadata": {
    "slideshow": {
     "slide_type": "fragment"
    }
   },
   "source": [
    "→ Launch the IPython console and test some operations over lists. \n",
    "\n",
    "Some ideas are:\n",
    "* Make a list of lists, and print particular elements\n",
    "* Make a list of lists, and print particular elements of the inner lists\n",
    "* Make a list of operations over numbers and variables\n",
    "* Create a list and check if a value is in it (use the ___in___ command)\n",
    "* Test the ___len()___, ___sorted()___, and ___set()___ functions on a list\n",
    "* Test the ___reversed()___ function (wrap it in ___list()___)"
   ]
  },
  {
   "cell_type": "markdown",
   "metadata": {
    "slideshow": {
     "slide_type": "slide"
    }
   },
   "source": [
    "## 3. Control flow"
   ]
  },
  {
   "cell_type": "markdown",
   "metadata": {
    "slideshow": {
     "slide_type": "subslide"
    }
   },
   "source": [
    "We will see only the ___if___ conditional and the ___for___ loop statements, because they are the most widely used.\n",
    "\n",
    "Both can be used to control the flow of the program execution in different lines, or inside lists. \n",
    "\n",
    "We will cover both uses for both statements."
   ]
  },
  {
   "cell_type": "markdown",
   "metadata": {
    "slideshow": {
     "slide_type": "subslide"
    }
   },
   "source": [
    "### 3.1 _if_ statements"
   ]
  },
  {
   "cell_type": "markdown",
   "metadata": {
    "slideshow": {
     "slide_type": "subslide"
    }
   },
   "source": [
    "3.1.1 First case: Change the program execution line according to a logical condition."
   ]
  },
  {
   "cell_type": "code",
   "execution_count": 25,
   "metadata": {
    "slideshow": {
     "slide_type": "fragment"
    }
   },
   "outputs": [
    {
     "name": "stdout",
     "output_type": "stream",
     "text": [
      "a is less than 5!\n"
     ]
    }
   ],
   "source": [
    "a = 3\n",
    "if a<5:\n",
    "    print( 'a is less than 5!' )\n",
    "else:\n",
    "    print( 'a is not less than 5!' )"
   ]
  },
  {
   "cell_type": "markdown",
   "metadata": {
    "slideshow": {
     "slide_type": "subslide"
    }
   },
   "source": [
    "Notice:\n",
    "* The indentation blocks!!! → Very... VERY important, since python defines the execution blocks by having always the same indentation. Other programs use for example curly brackets ({}) or keywords (END) to demarcate the blocks. Python uses the indentation, which is both a common source of errors (because we used 3 spaces instead of 4 in some line) and a source of beauty (because it forces us to write very ordered, good looking code)\n",
    "* The ___else___ statement and the corresponding indentated block\n",
    "* The colon ___':'___ before an execution block"
   ]
  },
  {
   "cell_type": "markdown",
   "metadata": {
    "slideshow": {
     "slide_type": "subslide"
    }
   },
   "source": [
    "It is possible to define more than two possible ways to execute the program by using _elif_:"
   ]
  },
  {
   "cell_type": "code",
   "execution_count": 1,
   "metadata": {
    "ExecuteTime": {
     "end_time": "2019-08-27T16:28:38.143846Z",
     "start_time": "2019-08-27T16:28:38.139434Z"
    },
    "slideshow": {
     "slide_type": "fragment"
    }
   },
   "outputs": [
    {
     "name": "stdout",
     "output_type": "stream",
     "text": [
      "a is exactly 5!\n",
      "****\n",
      "yes\n"
     ]
    }
   ],
   "source": [
    "a = 5\n",
    "b = 2\n",
    "\n",
    "if a<5:\n",
    "    print( 'a is less than 5!' )\n",
    "elif a==5:\n",
    "    print( 'a is exactly 5!' )\n",
    "    print( '****' )\n",
    "    if b<3:\n",
    "        print( 'yes' )\n",
    "else:\n",
    "    print( 'a is more than 5!' )"
   ]
  },
  {
   "cell_type": "markdown",
   "metadata": {
    "slideshow": {
     "slide_type": "subslide"
    }
   },
   "source": [
    "The ___if___ block will be executed if the the first condition is true. \n",
    "\n",
    "Each (there can be more than one) ___elif___ block will be executed if corresponding condition is true.\n",
    "\n",
    "The (only) ___else___ block will be executed only of all other conditions were not met."
   ]
  },
  {
   "cell_type": "markdown",
   "metadata": {
    "slideshow": {
     "slide_type": "subslide"
    }
   },
   "source": [
    "Lastly, it is possible to ask for complex conditions using the logical operators ___and___, ___or___ and ___not__:"
   ]
  },
  {
   "cell_type": "code",
   "execution_count": 27,
   "metadata": {
    "slideshow": {
     "slide_type": "fragment"
    }
   },
   "outputs": [
    {
     "name": "stdout",
     "output_type": "stream",
     "text": [
      "***\n"
     ]
    }
   ],
   "source": [
    "cost = 5.2\n",
    "place = 'Berlin'\n",
    "day = 'Sunday'\n",
    "\n",
    "if cost>0 and place=='Berlin' and not (day=='Saturday' or day=='Sunday'):\n",
    "    print( 'We are in ', place, ' on a nice ', day )\n",
    "else:\n",
    "    print( '***' )"
   ]
  },
  {
   "cell_type": "markdown",
   "metadata": {
    "slideshow": {
     "slide_type": "subslide"
    }
   },
   "source": [
    "A last example, using the ___in___ operator and lists (as well as ___index___)...\n",
    "\n",
    "(information taken from https://strawberryplants.org/strawberry-varieties/)"
   ]
  },
  {
   "cell_type": "markdown",
   "metadata": {
    "slideshow": {
     "slide_type": "fragment"
    }
   },
   "source": [
    "The following are four strawberry (_Fragaria x ananassa_) varieties:"
   ]
  },
  {
   "cell_type": "code",
   "execution_count": 28,
   "metadata": {
    "slideshow": {
     "slide_type": "fragment"
    }
   },
   "outputs": [],
   "source": [
    "varieties = [ 'Valley Sunset', 'Kent', 'Benicia', 'Mojave' ]"
   ]
  },
  {
   "cell_type": "markdown",
   "metadata": {
    "slideshow": {
     "slide_type": "fragment"
    }
   },
   "source": [
    "and the corresponding cultivation (production) season:"
   ]
  },
  {
   "cell_type": "code",
   "execution_count": 29,
   "metadata": {
    "slideshow": {
     "slide_type": "fragment"
    }
   },
   "outputs": [],
   "source": [
    "seasons = [ 'Very Late Season', 'Midseason', 'Short-day June-bearing', 'Short-day June-bearing' ]"
   ]
  },
  {
   "cell_type": "code",
   "execution_count": 30,
   "metadata": {
    "slideshow": {
     "slide_type": "subslide"
    }
   },
   "outputs": [
    {
     "name": "stdout",
     "output_type": "stream",
     "text": [
      "['Valley Sunset', 'Kent', 'Benicia', 'Mojave']\n",
      "['Very Late Season', 'Midseason', 'Short-day June-bearing', 'Short-day June-bearing']\n"
     ]
    }
   ],
   "source": [
    "print( varieties )\n",
    "print( seasons )"
   ]
  },
  {
   "cell_type": "code",
   "execution_count": 31,
   "metadata": {
    "slideshow": {
     "slide_type": "fragment"
    }
   },
   "outputs": [
    {
     "name": "stdout",
     "output_type": "stream",
     "text": [
      "1\n",
      "\n",
      "\n",
      "Kent  is a  Midseason  variety\n"
     ]
    }
   ],
   "source": [
    "season_to_search = 'Midseason'\n",
    "\n",
    "if season_to_search in seasons:\n",
    "    ii = seasons.index( 'Midseason' )\n",
    "    print( ii )\n",
    "    print( '\\n' ) # print empty line\n",
    "    print( varieties[ii],' is a ', season_to_search, ' variety' )"
   ]
  },
  {
   "cell_type": "markdown",
   "metadata": {
    "slideshow": {
     "slide_type": "subslide"
    }
   },
   "source": [
    "That is a very simple way of indexing lists, we will learn about more sophisticated strategies in later sessions. \n",
    "\n",
    "However, the use of conditionals and the overall logic remains the same."
   ]
  },
  {
   "cell_type": "markdown",
   "metadata": {
    "slideshow": {
     "slide_type": "subslide"
    }
   },
   "source": [
    "3.1.2 Second case: Building lists according to a logical condition."
   ]
  },
  {
   "cell_type": "markdown",
   "metadata": {
    "slideshow": {
     "slide_type": "fragment"
    }
   },
   "source": [
    "→ Building lists on logical conditions is better understood in loops, see below in the ___for___ section (just before the exercises, section 3.2.2)."
   ]
  },
  {
   "cell_type": "markdown",
   "metadata": {
    "slideshow": {
     "slide_type": "subslide"
    }
   },
   "source": [
    "### 3.2 _for_ loops"
   ]
  },
  {
   "cell_type": "markdown",
   "metadata": {
    "slideshow": {
     "slide_type": "subslide"
    }
   },
   "source": [
    "3.2.1 First case: Change the program execution line according to a logical condition."
   ]
  },
  {
   "cell_type": "markdown",
   "metadata": {
    "slideshow": {
     "slide_type": "subslide"
    }
   },
   "source": [
    "___for___ loops repeat the indented block according to the logical condition. \n",
    "\n",
    "The following code: repeats the call to ___print()___ 4 times:"
   ]
  },
  {
   "cell_type": "code",
   "execution_count": 32,
   "metadata": {
    "slideshow": {
     "slide_type": "fragment"
    }
   },
   "outputs": [
    {
     "name": "stdout",
     "output_type": "stream",
     "text": [
      "*\n",
      "x\n",
      "\n",
      "\n",
      "*\n",
      "x\n",
      "\n",
      "\n",
      "*\n",
      "x\n",
      "\n",
      "\n",
      "*\n",
      "x\n",
      "\n",
      "\n"
     ]
    }
   ],
   "source": [
    "for i in range(4):\n",
    "    print( '*' )\n",
    "    print( 'x' )\n",
    "    print( '\\n' )"
   ]
  },
  {
   "cell_type": "markdown",
   "metadata": {
    "slideshow": {
     "slide_type": "subslide"
    }
   },
   "source": [
    "But the call doesn't need to be _exactly_ the same:"
   ]
  },
  {
   "cell_type": "code",
   "execution_count": 33,
   "metadata": {
    "slideshow": {
     "slide_type": "fragment"
    }
   },
   "outputs": [
    {
     "name": "stdout",
     "output_type": "stream",
     "text": [
      "0 *\n",
      "1 *\n",
      "2 *\n",
      "3 *\n"
     ]
    }
   ],
   "source": [
    "for i in range(4):\n",
    "    print( i, '*' )"
   ]
  },
  {
   "cell_type": "markdown",
   "metadata": {
    "slideshow": {
     "slide_type": "subslide"
    }
   },
   "source": [
    "The ___range()___ function allows us to generate a list of integer numbers over which we can iterate with ___for___.\n",
    "\n",
    "It takes a start, end and step parameters. Some examples on its usage:"
   ]
  },
  {
   "cell_type": "code",
   "execution_count": 34,
   "metadata": {
    "slideshow": {
     "slide_type": "fragment"
    }
   },
   "outputs": [
    {
     "name": "stdout",
     "output_type": "stream",
     "text": [
      "1\n",
      "3\n",
      "5\n",
      "7\n",
      "9\n"
     ]
    }
   ],
   "source": [
    "for i in range( 1, 10, 2 ):\n",
    "    print( i )"
   ]
  },
  {
   "cell_type": "code",
   "execution_count": 35,
   "metadata": {
    "slideshow": {
     "slide_type": "subslide"
    }
   },
   "outputs": [
    {
     "name": "stdout",
     "output_type": "stream",
     "text": [
      "0\n",
      "2\n",
      "4\n",
      "6\n",
      "8\n"
     ]
    }
   ],
   "source": [
    "for i in range( 0, 10, 2 ):\n",
    "    print( i )"
   ]
  },
  {
   "cell_type": "code",
   "execution_count": 36,
   "metadata": {
    "slideshow": {
     "slide_type": "subslide"
    }
   },
   "outputs": [
    {
     "name": "stdout",
     "output_type": "stream",
     "text": [
      "10\n",
      "8\n",
      "6\n",
      "4\n",
      "2\n"
     ]
    }
   ],
   "source": [
    "for i in range( 10, 0, -2 ):\n",
    "    print( i )"
   ]
  },
  {
   "cell_type": "code",
   "execution_count": 37,
   "metadata": {
    "slideshow": {
     "slide_type": "subslide"
    }
   },
   "outputs": [
    {
     "ename": "TypeError",
     "evalue": "'float' object cannot be interpreted as an integer",
     "output_type": "error",
     "traceback": [
      "\u001b[0;31m---------------------------------------------------------------------------\u001b[0m",
      "\u001b[0;31mTypeError\u001b[0m                                 Traceback (most recent call last)",
      "\u001b[0;32m<ipython-input-37-5385282337a3>\u001b[0m in \u001b[0;36m<module>\u001b[0;34m()\u001b[0m\n\u001b[0;32m----> 1\u001b[0;31m \u001b[0;32mfor\u001b[0m \u001b[0mi\u001b[0m \u001b[0;32min\u001b[0m \u001b[0mrange\u001b[0m\u001b[0;34m(\u001b[0m \u001b[0;36m10\u001b[0m\u001b[0;34m,\u001b[0m \u001b[0;36m0\u001b[0m\u001b[0;34m,\u001b[0m \u001b[0;34m-\u001b[0m\u001b[0;36m2.5\u001b[0m \u001b[0;34m)\u001b[0m\u001b[0;34m:\u001b[0m\u001b[0;34m\u001b[0m\u001b[0m\n\u001b[0m\u001b[1;32m      2\u001b[0m     \u001b[0mprint\u001b[0m\u001b[0;34m(\u001b[0m \u001b[0mi\u001b[0m \u001b[0;34m)\u001b[0m\u001b[0;34m\u001b[0m\u001b[0m\n",
      "\u001b[0;31mTypeError\u001b[0m: 'float' object cannot be interpreted as an integer"
     ]
    }
   ],
   "source": [
    "for i in range( 10, 0, -2.5 ):\n",
    "    print( i )"
   ]
  },
  {
   "cell_type": "code",
   "execution_count": 38,
   "metadata": {
    "slideshow": {
     "slide_type": "fragment"
    }
   },
   "outputs": [],
   "source": [
    "range?"
   ]
  },
  {
   "cell_type": "markdown",
   "metadata": {
    "slideshow": {
     "slide_type": "subslide"
    }
   },
   "source": [
    "Another very useful way to use the ___for___ loops is to iterate _over a list_, which is to say: for each element present in the list, do what the indentated block says:"
   ]
  },
  {
   "cell_type": "code",
   "execution_count": 39,
   "metadata": {
    "slideshow": {
     "slide_type": "fragment"
    }
   },
   "outputs": [
    {
     "name": "stdout",
     "output_type": "stream",
     "text": [
      "['Valley Sunset', 'Kent', 'Benicia', 'Mojave']\n"
     ]
    }
   ],
   "source": [
    "print( varieties )"
   ]
  },
  {
   "cell_type": "code",
   "execution_count": 40,
   "metadata": {
    "slideshow": {
     "slide_type": "fragment"
    }
   },
   "outputs": [
    {
     "name": "stdout",
     "output_type": "stream",
     "text": [
      "* Valley Sunset *\n",
      "* Kent *\n",
      "* Benicia *\n",
      "* Mojave *\n"
     ]
    }
   ],
   "source": [
    "for v in varieties:\n",
    "    print( '*', v, '*' )"
   ]
  },
  {
   "cell_type": "markdown",
   "metadata": {
    "slideshow": {
     "slide_type": "subslide"
    }
   },
   "source": [
    "If we need the position of each variety (index), we can use ___enumerate()___:"
   ]
  },
  {
   "cell_type": "code",
   "execution_count": 41,
   "metadata": {
    "slideshow": {
     "slide_type": "fragment"
    }
   },
   "outputs": [
    {
     "name": "stdout",
     "output_type": "stream",
     "text": [
      "* 0 :  Valley Sunset \t\t\t- Very Late Season\n",
      "* 1 :  Kent \t\t\t- Midseason\n",
      "* 2 :  Benicia \t\t\t- Short-day June-bearing\n",
      "* 3 :  Mojave \t\t\t- Short-day June-bearing\n"
     ]
    }
   ],
   "source": [
    "for i, v in enumerate(varieties):\n",
    "    print( '*', i, ': ', v, '\\t\\t\\t-', seasons[i] )"
   ]
  },
  {
   "cell_type": "markdown",
   "metadata": {
    "slideshow": {
     "slide_type": "subslide"
    }
   },
   "source": [
    "If we need to nest loops, we need to take care of the indentation: The inner loop needs a second level of indentation."
   ]
  },
  {
   "cell_type": "code",
   "execution_count": 42,
   "metadata": {
    "slideshow": {
     "slide_type": "fragment"
    }
   },
   "outputs": [
    {
     "name": "stdout",
     "output_type": "stream",
     "text": [
      "i= 2 \t j= 10\n",
      "i= 2 \t j= 9\n",
      "i= 2 \t j= 8\n",
      "i= 2 \t j= 7\n",
      "_______________\n",
      "i= 3 \t j= 10\n",
      "i= 3 \t j= 9\n",
      "i= 3 \t j= 8\n",
      "i= 3 \t j= 7\n",
      "_______________\n",
      "i= 4 \t j= 10\n",
      "i= 4 \t j= 9\n",
      "i= 4 \t j= 8\n",
      "i= 4 \t j= 7\n",
      "_______________\n",
      "-end-\n"
     ]
    }
   ],
   "source": [
    "for i in range( 2, 5 ):\n",
    "    for j in range( 10, 6, -1 ):\n",
    "        print( 'i=', i, '\\t j=', j )\n",
    "    print( '_'*15 )\n",
    "print( '-end-' )"
   ]
  },
  {
   "cell_type": "markdown",
   "metadata": {
    "slideshow": {
     "slide_type": "subslide"
    }
   },
   "source": [
    "3.2.2 Second case: Building lists using ___if___ and ___for___."
   ]
  },
  {
   "cell_type": "markdown",
   "metadata": {
    "slideshow": {
     "slide_type": "fragment"
    }
   },
   "source": [
    "We use this technique, called _list comprehension_ to create a list starting from another, existing one. \n",
    "\n",
    "Two applications are: \n",
    "* to apply a function to each element in a list\n",
    "* to select a subset of a previous list according with a logical condition    "
   ]
  },
  {
   "cell_type": "markdown",
   "metadata": {
    "slideshow": {
     "slide_type": "subslide"
    }
   },
   "source": [
    "Apply a function to each element in an existing list..."
   ]
  },
  {
   "cell_type": "markdown",
   "metadata": {
    "slideshow": {
     "slide_type": "subslide"
    }
   },
   "source": [
    "Given a list of strings, change the case of each element:"
   ]
  },
  {
   "cell_type": "code",
   "execution_count": 43,
   "metadata": {
    "slideshow": {
     "slide_type": "fragment"
    }
   },
   "outputs": [
    {
     "name": "stdout",
     "output_type": "stream",
     "text": [
      "chris CHRIS Chris\n",
      "jean JEAN Jean\n",
      "kai KAI Kai\n"
     ]
    }
   ],
   "source": [
    "names1 = [ 'chris', 'jean', 'kai' ]\n",
    "\n",
    "names2 = [ item.upper() for item in names1 ]\n",
    "\n",
    "names3 = [ item.title() for item in names1 ]\n",
    "\n",
    "for i in range(3):\n",
    "    print( names1[i], names2[i], names3[i] )"
   ]
  },
  {
   "cell_type": "markdown",
   "metadata": {
    "slideshow": {
     "slide_type": "subslide"
    }
   },
   "source": [
    "Another example: round a list of numbers"
   ]
  },
  {
   "cell_type": "code",
   "execution_count": 44,
   "metadata": {
    "slideshow": {
     "slide_type": "fragment"
    }
   },
   "outputs": [
    {
     "name": "stdout",
     "output_type": "stream",
     "text": [
      "[1.66666, 3.2, 5.89, -1.11, 100000.1]\n",
      "[1.67, 3.2, 5.89, -1.11, 100000.1]\n",
      "\n",
      "\n",
      "1.66666  →  1.67\n",
      "3.2  →  3.2\n",
      "5.89  →  5.89\n",
      "-1.11  →  -1.11\n",
      "100000.1  →  100000.1\n"
     ]
    }
   ],
   "source": [
    "numbers1 = [ 1.66666, 3.2, 5.89, -1.11, 100000.1 ]\n",
    "\n",
    "numbers2 = [ round(item,2) for item in numbers1 ]\n",
    "\n",
    "print( numbers1 )\n",
    "print( numbers2 )\n",
    "print( '\\n' )\n",
    "\n",
    "for i in range( len( numbers1 ) ): # using len() we can add or remove items without bothering about changing the loop\n",
    "    print( numbers1[i], ' → ', numbers2[i] )\n"
   ]
  },
  {
   "cell_type": "markdown",
   "metadata": {
    "slideshow": {
     "slide_type": "subslide"
    }
   },
   "source": [
    "The second application is to select certain elements according to a condition. "
   ]
  },
  {
   "cell_type": "markdown",
   "metadata": {
    "slideshow": {
     "slide_type": "subslide"
    }
   },
   "source": [
    "In the last numeric example, we can select only the positive numbers (and still round) with:"
   ]
  },
  {
   "cell_type": "code",
   "execution_count": 45,
   "metadata": {
    "scrolled": true,
    "slideshow": {
     "slide_type": "fragment"
    }
   },
   "outputs": [
    {
     "name": "stdout",
     "output_type": "stream",
     "text": [
      "1.67\n",
      "3.2\n",
      "5.89\n",
      "100000.1\n"
     ]
    }
   ],
   "source": [
    "numbers1 = [ 1.66666, 3.2, 5.89, -1.11, 100000.1 ]\n",
    "\n",
    "numbers2 = [ round(item,2) for item in numbers1 if item>0 ]\n",
    "\n",
    "for i in range( len( numbers2 ) ): # using len() we can add or remove items without bothering about changing the loop\n",
    "    print( numbers2[i] )"
   ]
  },
  {
   "cell_type": "markdown",
   "metadata": {
    "slideshow": {
     "slide_type": "subslide"
    }
   },
   "source": [
    "Or we can select numbers in a range:"
   ]
  },
  {
   "cell_type": "code",
   "execution_count": 46,
   "metadata": {
    "slideshow": {
     "slide_type": "fragment"
    }
   },
   "outputs": [
    {
     "name": "stdout",
     "output_type": "stream",
     "text": [
      "2\n",
      "3\n",
      "6\n"
     ]
    }
   ],
   "source": [
    "numbers1 = [ 1.66666, 3.2, 5.89, -1.11, 100000.1 ]\n",
    "\n",
    "numbers2 = [ round(item) for item in numbers1 if ( item>0 and item<1000) ]\n",
    "\n",
    "for i in range( len( numbers2 ) ): # using len() we can add or remove items without bothering about changing the loop\n",
    "    print( numbers2[i] )"
   ]
  },
  {
   "cell_type": "markdown",
   "metadata": {
    "slideshow": {
     "slide_type": "slide"
    }
   },
   "source": [
    "## 4. Exercises"
   ]
  },
  {
   "cell_type": "markdown",
   "metadata": {
    "slideshow": {
     "slide_type": "subslide"
    }
   },
   "source": [
    "### 4.1"
   ]
  },
  {
   "cell_type": "markdown",
   "metadata": {
    "slideshow": {
     "slide_type": "subslide"
    }
   },
   "source": [
    "Consider the last example in section 3.2.2, where numbers are rounded and selected in the range [0:1000], solved with the following code:\n",
    "\n",
    "    numbers1 = [ 1.66666, 3.2, 5.89, -1.11, 100000.1 ]\n",
    "\n",
    "    numbers2 = [ round(item) for item in numbers1 if ( item>0 and item<1000) ]\n",
    "\n",
    "Rewrite the shown code to use a standard ___for___ loop and ___if___ condition to print the same output ( 2, 3, 6 )."
   ]
  },
  {
   "cell_type": "markdown",
   "metadata": {
    "slideshow": {
     "slide_type": "subslide"
    }
   },
   "source": [
    "Modify to use ___append()___ to create a list called __numbers3__, which should contain the resulting numbers: \n",
    "\n",
    "    numbers3 ←→ [ 2, 3, 6 ]\n",
    "\n",
    "Tip: Start with an empty list before the loop:\n",
    "\n",
    "    numbers3 = []\n",
    "    for ..."
   ]
  },
  {
   "cell_type": "markdown",
   "metadata": {
    "slideshow": {
     "slide_type": "subslide"
    }
   },
   "source": [
    "### 4.2"
   ]
  },
  {
   "cell_type": "markdown",
   "metadata": {
    "slideshow": {
     "slide_type": "fragment"
    }
   },
   "source": [
    "Let's suppose that we want to take soil samples and check their pH and N-content. Let's say we have 5 sampling points: 'east', 'west', 'north', 'south' and 'central'. In each point, we have 2 sampling depths: '10cm' and '30cm'. Lastly, we do it three times, monthly from April to June.\n",
    "\n",
    "Create a list for each factor in this hypothetical problem. Use nested ___for___ loops to print all the combinations of measurements that will be needed, in a table similar fashion to that shown before."
   ]
  },
  {
   "cell_type": "markdown",
   "metadata": {
    "slideshow": {
     "slide_type": "fragment"
    }
   },
   "source": [
    "Modify the previous piece of code to print a __(!)__ mark after each measurement in the central sampling point."
   ]
  },
  {
   "cell_type": "markdown",
   "metadata": {
    "slideshow": {
     "slide_type": "fragment"
    }
   },
   "source": [
    "Print th __(!)__ mark only after each measurement in the central sampling point that is to be taken at 30cm."
   ]
  },
  {
   "cell_type": "markdown",
   "metadata": {
    "slideshow": {
     "slide_type": "subslide"
    }
   },
   "source": [
    "# <center>*</center>"
   ]
  }
 ],
 "metadata": {
  "celltoolbar": "Slideshow",
  "kernelspec": {
   "display_name": "Python 3",
   "language": "python",
   "name": "python3"
  },
  "language_info": {
   "codemirror_mode": {
    "name": "ipython",
    "version": 3
   },
   "file_extension": ".py",
   "mimetype": "text/x-python",
   "name": "python",
   "nbconvert_exporter": "python",
   "pygments_lexer": "ipython3",
   "version": "3.8.3"
  },
  "toc": {
   "base_numbering": 1,
   "nav_menu": {},
   "number_sections": false,
   "sideBar": true,
   "skip_h1_title": true,
   "title_cell": "Table of Contents",
   "title_sidebar": "Contents",
   "toc_cell": false,
   "toc_position": {},
   "toc_section_display": true,
   "toc_window_display": true
  },
  "varInspector": {
   "cols": {
    "lenName": 16,
    "lenType": 16,
    "lenVar": 40
   },
   "kernels_config": {
    "python": {
     "delete_cmd_postfix": "",
     "delete_cmd_prefix": "del ",
     "library": "var_list.py",
     "varRefreshCmd": "print(var_dic_list())"
    },
    "r": {
     "delete_cmd_postfix": ") ",
     "delete_cmd_prefix": "rm(",
     "library": "var_list.r",
     "varRefreshCmd": "cat(var_dic_list()) "
    }
   },
   "types_to_exclude": [
    "module",
    "function",
    "builtin_function_or_method",
    "instance",
    "_Feature"
   ],
   "window_display": false
  }
 },
 "nbformat": 4,
 "nbformat_minor": 2
}
