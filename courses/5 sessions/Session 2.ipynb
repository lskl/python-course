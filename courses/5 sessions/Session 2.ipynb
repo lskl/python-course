{
 "cells": [
  {
   "cell_type": "markdown",
   "metadata": {
    "slideshow": {
     "slide_type": "slide"
    }
   },
   "source": [
    "# Introduction to python"
   ]
  },
  {
   "cell_type": "markdown",
   "metadata": {
    "slideshow": {
     "slide_type": "subslide"
    }
   },
   "source": [
    "## Session 2"
   ]
  },
  {
   "cell_type": "markdown",
   "metadata": {
    "slideshow": {
     "slide_type": "slide"
    }
   },
   "source": [
    "## Contents"
   ]
  },
  {
   "cell_type": "markdown",
   "metadata": {
    "slideshow": {
     "slide_type": "fragment"
    }
   },
   "source": [
    "### 1. Python scripts. - Run from an interactive session. Run using python directly. _PATH_."
   ]
  },
  {
   "cell_type": "markdown",
   "metadata": {
    "slideshow": {
     "slide_type": "fragment"
    }
   },
   "source": [
    "### 2. Functions. Syntax, indentation. Parameters. Return values. - Project: Plant height growth."
   ]
  },
  {
   "cell_type": "markdown",
   "metadata": {
    "slideshow": {
     "slide_type": "fragment"
    }
   },
   "source": [
    "### 3. Libraries. _import_ statement. Custom functions."
   ]
  },
  {
   "cell_type": "markdown",
   "metadata": {
    "slideshow": {
     "slide_type": "fragment"
    }
   },
   "source": [
    "### 4. Exercises."
   ]
  },
  {
   "cell_type": "markdown",
   "metadata": {
    "slideshow": {
     "slide_type": "slide"
    }
   },
   "source": [
    "## 1. Python scripts"
   ]
  },
  {
   "cell_type": "markdown",
   "metadata": {
    "slideshow": {
     "slide_type": "fragment"
    }
   },
   "source": [
    "The following examples work with simple commands (like calls to ___print()___) to illustrate how to run whole-file programs written in python, instead of single-lines in interactive consoles."
   ]
  },
  {
   "cell_type": "markdown",
   "metadata": {
    "slideshow": {
     "slide_type": "fragment"
    }
   },
   "source": [
    "The main caveat is to get the proper configuration of the program file's location, where it was saved."
   ]
  },
  {
   "cell_type": "markdown",
   "metadata": {
    "slideshow": {
     "slide_type": "subslide"
    }
   },
   "source": [
    "### 1.1 Run a python script from an interactive session"
   ]
  },
  {
   "cell_type": "markdown",
   "metadata": {
    "slideshow": {
     "slide_type": "fragment"
    }
   },
   "source": [
    "To generate a python program in form of a script, we open a text editor, write the commands, each in a single line, and save the file (in raw-text format) with the extension ___.py___"
   ]
  },
  {
   "cell_type": "markdown",
   "metadata": {
    "slideshow": {
     "slide_type": "subslide"
    }
   },
   "source": [
    "<img src='../../misc/img/helloworld.py.png' width='700'>"
   ]
  },
  {
   "cell_type": "markdown",
   "metadata": {
    "slideshow": {
     "slide_type": "subslide"
    }
   },
   "source": [
    "To execute that script we must know where the file is located, the ___path___ to where it was stored."
   ]
  },
  {
   "cell_type": "markdown",
   "metadata": {
    "slideshow": {
     "slide_type": "fragment"
    }
   },
   "source": [
    "If it is in the same directory where the current interactive session is, we can directly run it with:"
   ]
  },
  {
   "cell_type": "code",
   "execution_count": 1,
   "metadata": {
    "slideshow": {
     "slide_type": "fragment"
    }
   },
   "outputs": [
    {
     "name": "stdout",
     "output_type": "stream",
     "text": [
      "Hello, World!\n"
     ]
    }
   ],
   "source": [
    "run 'helloworld.py' "
   ]
  },
  {
   "cell_type": "markdown",
   "metadata": {
    "slideshow": {
     "slide_type": "subslide"
    }
   },
   "source": [
    "If the script is not stored in the same directory, we can do two things:\n",
    "* call it from another directory\n",
    "* move to the directory where it is"
   ]
  },
  {
   "cell_type": "markdown",
   "metadata": {
    "slideshow": {
     "slide_type": "fragment"
    }
   },
   "source": [
    "First, it can be helpful to know where we are now.\n",
    "\n",
    "For that, we use the ___pwd___ (print working directory) command:"
   ]
  },
  {
   "cell_type": "code",
   "execution_count": 2,
   "metadata": {
    "slideshow": {
     "slide_type": "fragment"
    }
   },
   "outputs": [
    {
     "data": {
      "text/plain": [
       "'/home/luis/luis/uni/courses/python-course/courses/5 sessions'"
      ]
     },
     "execution_count": 2,
     "metadata": {},
     "output_type": "execute_result"
    }
   ],
   "source": [
    "pwd"
   ]
  },
  {
   "cell_type": "markdown",
   "metadata": {
    "slideshow": {
     "slide_type": "subslide"
    }
   },
   "source": [
    "To see the files in the current directory, we can use the ___ls___ (list files) command:"
   ]
  },
  {
   "cell_type": "code",
   "execution_count": 3,
   "metadata": {
    "slideshow": {
     "slide_type": "fragment"
    }
   },
   "outputs": [
    {
     "name": "stdout",
     "output_type": "stream",
     "text": [
      " graph1.pdf      'Session 0.ipynb'  'Session 3.ipynb'   \u001b[0m\u001b[01;34msubdir\u001b[0m/\r\n",
      " helloworld.py   'Session 1.ipynb'  'Session 4.ipynb'   temp-rh.eps\r\n",
      " plantheight.py  'Session 2.ipynb'  'Session 5.ipynb'   \u001b[01;35mtemp-rh.svg\u001b[0m\r\n"
     ]
    }
   ],
   "source": [
    "ls"
   ]
  },
  {
   "cell_type": "markdown",
   "metadata": {
    "slideshow": {
     "slide_type": "fragment"
    }
   },
   "source": [
    "To change directory inside the interactive console, we use the following commands:\n",
    "* cd directory_name\n",
    "* cd .."
   ]
  },
  {
   "cell_type": "markdown",
   "metadata": {
    "slideshow": {
     "slide_type": "subslide"
    }
   },
   "source": [
    "For example, we can run another script in a subdirectory:"
   ]
  },
  {
   "cell_type": "code",
   "execution_count": 4,
   "metadata": {
    "slideshow": {
     "slide_type": "fragment"
    }
   },
   "outputs": [
    {
     "name": "stdout",
     "output_type": "stream",
     "text": [
      "--------------------------------------------------\n",
      "second script\n",
      "--------------------------------------------------\n"
     ]
    }
   ],
   "source": [
    "run subdir/script2.py"
   ]
  },
  {
   "cell_type": "markdown",
   "metadata": {
    "slideshow": {
     "slide_type": "fragment"
    }
   },
   "source": [
    "Or we could move to that subdirectory and run it from there:"
   ]
  },
  {
   "cell_type": "code",
   "execution_count": 5,
   "metadata": {
    "slideshow": {
     "slide_type": "fragment"
    }
   },
   "outputs": [
    {
     "name": "stdout",
     "output_type": "stream",
     "text": [
      "/home/luis/luis/uni/courses/python-course/courses/5 sessions/subdir\n"
     ]
    }
   ],
   "source": [
    "cd subdir/"
   ]
  },
  {
   "cell_type": "code",
   "execution_count": 6,
   "metadata": {
    "slideshow": {
     "slide_type": "fragment"
    }
   },
   "outputs": [
    {
     "name": "stdout",
     "output_type": "stream",
     "text": [
      "--------------------------------------------------\n",
      "second script\n",
      "--------------------------------------------------\n"
     ]
    }
   ],
   "source": [
    "run script2"
   ]
  },
  {
   "cell_type": "code",
   "execution_count": 7,
   "metadata": {
    "slideshow": {
     "slide_type": "fragment"
    }
   },
   "outputs": [
    {
     "name": "stdout",
     "output_type": "stream",
     "text": [
      "/home/luis/luis/uni/courses/python-course/courses/5 sessions\n"
     ]
    }
   ],
   "source": [
    "cd .."
   ]
  },
  {
   "cell_type": "markdown",
   "metadata": {
    "slideshow": {
     "slide_type": "subslide"
    }
   },
   "source": [
    "Sumarising: We can run a script from the interactive console. For that, we use ___run___.\n",
    "    \n",
    "Other useful commands are ___pwd___, ___cd___ and ___ls___."
   ]
  },
  {
   "cell_type": "markdown",
   "metadata": {
    "slideshow": {
     "slide_type": "fragment"
    }
   },
   "source": [
    "<img src='../../misc/img/run_script_with_run.png' width='400'>"
   ]
  },
  {
   "cell_type": "markdown",
   "metadata": {
    "slideshow": {
     "slide_type": "subslide"
    }
   },
   "source": [
    "### 1.2 Run a python script from the command line terminal"
   ]
  },
  {
   "cell_type": "markdown",
   "metadata": {
    "slideshow": {
     "slide_type": "subslide"
    }
   },
   "source": [
    "To run a script without launching an interactive session, we need to call the ___python___ command directly."
   ]
  },
  {
   "cell_type": "markdown",
   "metadata": {
    "slideshow": {
     "slide_type": "fragment"
    }
   },
   "source": [
    "This can be useful to automate tasks. As an example, we could run a script everytime that the computer starts."
   ]
  },
  {
   "cell_type": "markdown",
   "metadata": {
    "slideshow": {
     "slide_type": "subslide"
    }
   },
   "source": [
    "#### The _PATH_ variable"
   ]
  },
  {
   "cell_type": "markdown",
   "metadata": {
    "slideshow": {
     "slide_type": "fragment"
    }
   },
   "source": [
    "In order to call the python program, its location must be in the list of directories known to the operative system.\n",
    "\n",
    "This list of directories is stored in the ___path___ variable.\n",
    "\n",
    "We can check if it is by simply running a terminal console and typing ___python___ without any more arguments. This should bring us to a prompt where we can test commands. To exit, type ___exit()___. "
   ]
  },
  {
   "cell_type": "markdown",
   "metadata": {
    "slideshow": {
     "slide_type": "subslide"
    }
   },
   "source": [
    "If it does not work, we might need to add python's location to the path.\n",
    "\n",
    "To do so,  we need to know where it is located. This will depend on the installation method and the operative system that each computer has."
   ]
  },
  {
   "cell_type": "markdown",
   "metadata": {
    "slideshow": {
     "slide_type": "fragment"
    }
   },
   "source": [
    "If you are working with anaconda on windows, python should be located at\n",
    "\n",
    "`C:\\Users\\[yourname]\\Anaconda`"
   ]
  },
  {
   "cell_type": "markdown",
   "metadata": {
    "slideshow": {
     "slide_type": "fragment"
    }
   },
   "source": [
    "<img src='../../misc/img/python_location.png' width='400'>"
   ]
  },
  {
   "cell_type": "markdown",
   "metadata": {
    "slideshow": {
     "slide_type": "subslide"
    }
   },
   "source": [
    "#### Setting the _PATH_ variable"
   ]
  },
  {
   "cell_type": "markdown",
   "metadata": {
    "slideshow": {
     "slide_type": "fragment"
    }
   },
   "source": [
    "If python's location wasn't included in the PATH variable, we can add it from the console.\n",
    "\n",
    "Again, this changes with the operative system in each computer."
   ]
  },
  {
   "cell_type": "markdown",
   "metadata": {
    "slideshow": {
     "slide_type": "subslide"
    }
   },
   "source": [
    "In windows, we use the following command:"
   ]
  },
  {
   "cell_type": "markdown",
   "metadata": {
    "slideshow": {
     "slide_type": "fragment"
    }
   },
   "source": [
    "set PATH=\\%PATH\\%;C:\\\\Users\\\\\\[yourname\\]\\\\Anaconda"
   ]
  },
  {
   "cell_type": "markdown",
   "metadata": {
    "slideshow": {
     "slide_type": "subslide"
    }
   },
   "source": [
    "<img src='../../misc/img/change_path_win.png' width='900'>"
   ]
  },
  {
   "cell_type": "markdown",
   "metadata": {
    "slideshow": {
     "slide_type": "subslide"
    }
   },
   "source": [
    "In unix-based systems (linux, osx), the procedure is similar, while slightly different:"
   ]
  },
  {
   "cell_type": "markdown",
   "metadata": {
    "slideshow": {
     "slide_type": "fragment"
    }
   },
   "source": [
    "PATH=\"$PATH:/home/luis/new_directory\""
   ]
  },
  {
   "cell_type": "markdown",
   "metadata": {
    "slideshow": {
     "slide_type": "subslide"
    }
   },
   "source": [
    "Notes:\n",
    "* This section is intended to show the main lines how running scripts can be done. For the rest of the present course, we will only use the interactive console.\n",
    "* The shown methods to change the ___PATH___ variable do not change it permanently. They need to be done every time a console is started."
   ]
  },
  {
   "cell_type": "markdown",
   "metadata": {
    "slideshow": {
     "slide_type": "slide"
    }
   },
   "source": [
    "## 2. Functions"
   ]
  },
  {
   "cell_type": "markdown",
   "metadata": {
    "slideshow": {
     "slide_type": "subslide"
    }
   },
   "source": [
    "Functions are useful because they allow us to address a single task, solve it, and apply the solution several times afterwards.\n",
    "\n",
    "In other words, using functions we can reuse parts of code, without having to program them again.\n",
    "\n"
   ]
  },
  {
   "cell_type": "markdown",
   "metadata": {
    "slideshow": {
     "slide_type": "subslide"
    }
   },
   "source": [
    "### Functions: Toy example"
   ]
  },
  {
   "cell_type": "markdown",
   "metadata": {
    "slideshow": {
     "slide_type": "fragment"
    }
   },
   "source": [
    "As an example to illustrate the use of functions in python, consider a case where we need to detect if a number is bigger than zero. If it is bigger than zero, we should make a calculation using a second number. If it is lower than zero we just take the calculation"
   ]
  },
  {
   "cell_type": "markdown",
   "metadata": {
    "slideshow": {
     "slide_type": "fragment"
    }
   },
   "source": [
    "* First number: $a_1$\n",
    "* Second number: $a_2$\n",
    "* Calculation: \n",
    "    * $a_2 \\times 3 + 1$ if $a_1 > 0$\n",
    "    * $0$ if $a_1 \\leq 0$"
   ]
  },
  {
   "cell_type": "markdown",
   "metadata": {
    "slideshow": {
     "slide_type": "subslide"
    }
   },
   "source": [
    "We can execute this calculation with the following piece of code:"
   ]
  },
  {
   "cell_type": "code",
   "execution_count": 1,
   "metadata": {
    "ExecuteTime": {
     "end_time": "2020-10-22T12:18:51.911034Z",
     "start_time": "2020-10-22T12:18:51.905554Z"
    },
    "slideshow": {
     "slide_type": "fragment"
    }
   },
   "outputs": [
    {
     "name": "stdout",
     "output_type": "stream",
     "text": [
      "0\n"
     ]
    }
   ],
   "source": [
    "a1 = -3\n",
    "a2 = 2\n",
    "\n",
    "if a1>0:\n",
    "    result = a2 * 3 + 1\n",
    "else:\n",
    "    result = 0\n",
    "    \n",
    "print( result )"
   ]
  },
  {
   "cell_type": "markdown",
   "metadata": {
    "slideshow": {
     "slide_type": "subslide"
    }
   },
   "source": [
    "We can also wrap that piece of code in a ___function___.\n",
    "\n",
    "There are two reasons to do so:\n",
    "* To make the code more readable\n",
    "* To reuse that piece of code"
   ]
  },
  {
   "cell_type": "markdown",
   "metadata": {
    "slideshow": {
     "slide_type": "subslide"
    }
   },
   "source": [
    "To define a function we use the keyword ___def___ and write the code in an indentated block:"
   ]
  },
  {
   "cell_type": "code",
   "execution_count": 2,
   "metadata": {
    "ExecuteTime": {
     "end_time": "2020-10-22T12:20:07.598861Z",
     "start_time": "2020-10-22T12:20:07.595867Z"
    },
    "slideshow": {
     "slide_type": "fragment"
    }
   },
   "outputs": [],
   "source": [
    "def calculation( a1, a2 ):\n",
    "    \n",
    "    if a1>0:\n",
    "        result = a2 * 3 + 1\n",
    "    else:\n",
    "        result = 0\n",
    "        \n",
    "    return result"
   ]
  },
  {
   "cell_type": "markdown",
   "metadata": {
    "slideshow": {
     "slide_type": "subslide"
    }
   },
   "source": [
    "Notes:\n",
    "* The use of the keyword ___def___, followed by the functions custom name.\n",
    "* The use of parenthesis to list the ___parameters___ that the function will expect to do its job. Not all functions need parameters, they are optional. Additionally, there are ways to define optional parameters, which use a default value.\n",
    "* The code in the function ends with the first-level indentated block.\n",
    "* The ___return___ statement allows to bring one (or more) values back to the code that called the function. It is not mandatory to return a value."
   ]
  },
  {
   "cell_type": "markdown",
   "metadata": {
    "slideshow": {
     "slide_type": "subslide"
    }
   },
   "source": [
    "The function can then be used like follows:"
   ]
  },
  {
   "cell_type": "code",
   "execution_count": 4,
   "metadata": {
    "ExecuteTime": {
     "end_time": "2020-10-22T12:20:36.958421Z",
     "start_time": "2020-10-22T12:20:36.953414Z"
    },
    "slideshow": {
     "slide_type": "fragment"
    }
   },
   "outputs": [
    {
     "name": "stdout",
     "output_type": "stream",
     "text": [
      "19\n"
     ]
    }
   ],
   "source": [
    "print( calculation( 1, 6 ) )"
   ]
  },
  {
   "cell_type": "code",
   "execution_count": 6,
   "metadata": {
    "ExecuteTime": {
     "end_time": "2020-10-22T12:21:03.622816Z",
     "start_time": "2020-10-22T12:21:03.616878Z"
    },
    "slideshow": {
     "slide_type": "fragment"
    }
   },
   "outputs": [
    {
     "name": "stdout",
     "output_type": "stream",
     "text": [
      "-2\n"
     ]
    }
   ],
   "source": [
    "a=1\n",
    "b=3\n",
    "print( calculation( a, -1 ) ) "
   ]
  },
  {
   "cell_type": "code",
   "execution_count": 10,
   "metadata": {
    "ExecuteTime": {
     "end_time": "2020-10-22T12:22:00.516814Z",
     "start_time": "2020-10-22T12:22:00.511143Z"
    },
    "slideshow": {
     "slide_type": "fragment"
    }
   },
   "outputs": [
    {
     "name": "stdout",
     "output_type": "stream",
     "text": [
      "7 9\n"
     ]
    }
   ],
   "source": [
    "c = calculation( 21, 2 )\n",
    "print( c, c+2 )"
   ]
  },
  {
   "cell_type": "markdown",
   "metadata": {
    "slideshow": {
     "slide_type": "subslide"
    }
   },
   "source": [
    "### Another toy example"
   ]
  },
  {
   "cell_type": "markdown",
   "metadata": {
    "slideshow": {
     "slide_type": "subslide"
    }
   },
   "source": [
    "A simple function that does not need arguments and does not return a value can be used to print a constant header."
   ]
  },
  {
   "cell_type": "code",
   "execution_count": 11,
   "metadata": {
    "ExecuteTime": {
     "end_time": "2020-10-22T12:22:12.127138Z",
     "start_time": "2020-10-22T12:22:12.120161Z"
    },
    "slideshow": {
     "slide_type": "fragment"
    }
   },
   "outputs": [],
   "source": [
    "def header():\n",
    "    print( '*'*20 )\n",
    "    print( '-'*20 )\n",
    "    print( ' TITLE OF SECTION ' )\n",
    "    print( '-'*20 )\n",
    "    print( '*'*20 )"
   ]
  },
  {
   "cell_type": "code",
   "execution_count": 13,
   "metadata": {
    "ExecuteTime": {
     "end_time": "2020-10-22T12:22:24.213010Z",
     "start_time": "2020-10-22T12:22:24.207330Z"
    },
    "slideshow": {
     "slide_type": "fragment"
    }
   },
   "outputs": [
    {
     "name": "stdout",
     "output_type": "stream",
     "text": [
      "********************\n",
      "--------------------\n",
      " TITLE OF SECTION \n",
      "--------------------\n",
      "********************\n",
      "********************\n",
      "--------------------\n",
      " TITLE OF SECTION \n",
      "--------------------\n",
      "********************\n"
     ]
    }
   ],
   "source": [
    "header()\n",
    "header()"
   ]
  },
  {
   "cell_type": "code",
   "execution_count": 15,
   "metadata": {
    "slideshow": {
     "slide_type": "subslide"
    }
   },
   "outputs": [
    {
     "name": "stdout",
     "output_type": "stream",
     "text": [
      "********************\n",
      "--------------------\n",
      " TITLE OF SECTION \n",
      "--------------------\n",
      "********************\n",
      "********************\n",
      "--------------------\n",
      " TITLE OF SECTION \n",
      "--------------------\n",
      "********************\n"
     ]
    }
   ],
   "source": [
    "header()\n",
    "header()"
   ]
  },
  {
   "cell_type": "markdown",
   "metadata": {
    "slideshow": {
     "slide_type": "subslide"
    }
   },
   "source": [
    "### Plant height growth"
   ]
  },
  {
   "cell_type": "markdown",
   "metadata": {
    "slideshow": {
     "slide_type": "fragment"
    }
   },
   "source": [
    "### Taken from: *Introduction ot mathematical modeling of crop growth*, by Christopher Teh. \n",
    "#### (published in 2006 by BrownWalker Press)"
   ]
  },
  {
   "cell_type": "markdown",
   "metadata": {
    "slideshow": {
     "slide_type": "subslide"
    }
   },
   "source": [
    "We will show the usage of python functions with a simple model of plant growth.\n",
    "\n",
    "The idea behind this model is that plants grow more when the temperatures are higher, but stop growing at some point. This point is the maximum growth. The growth is then a function(!) of the temperature. This temperature is only taken into account if it surpasses a ___base temperature___, which is dependent on the crop. \n",
    "\n",
    "(Note that the last statement is a more elaborated form of the condition in the toy example 1 shown previously)"
   ]
  },
  {
   "cell_type": "markdown",
   "metadata": {
    "slideshow": {
     "slide_type": "subslide"
    }
   },
   "source": [
    "$$ \\huge h_{ts}  =  \\frac{ h_m }{ 1 + b_0 \\cdot e^{-b_1 \\cdot T_{\\Sigma_{ts}}}} $$"
   ]
  },
  {
   "cell_type": "markdown",
   "metadata": {
    "slideshow": {
     "slide_type": "subslide"
    }
   },
   "source": [
    "Where:\n",
    "\n",
    "$\\large h_{ts}: $ height at time $s$ in $[m]$\n",
    "\n",
    "$\\large h_{m}: $ maximum possible height of the plant in $[m]$\n",
    "\n",
    "$\\large b_0: $ intercept parameter (unitless)\n",
    "\n",
    "$\\large b_1: $ slope parameter in $[^\\circ C^{-1} \\cdot day^{-1} ]$\n",
    "\n",
    "$\\large T_{\\Sigma_{ts}} :$ temperature sum (above the base temperature) at time $s$ in $[^\\circ C \\cdot day ]$"
   ]
  },
  {
   "cell_type": "markdown",
   "metadata": {
    "slideshow": {
     "slide_type": "subslide"
    }
   },
   "source": [
    "#### First step: A function to calculate the temperature sum"
   ]
  },
  {
   "cell_type": "markdown",
   "metadata": {
    "slideshow": {
     "slide_type": "fragment"
    }
   },
   "source": [
    "Let's suppose a number of daily average temperatures over 9 days:"
   ]
  },
  {
   "cell_type": "code",
   "execution_count": 14,
   "metadata": {
    "ExecuteTime": {
     "end_time": "2020-10-22T12:26:37.353709Z",
     "start_time": "2020-10-22T12:26:37.348195Z"
    },
    "slideshow": {
     "slide_type": "fragment"
    }
   },
   "outputs": [],
   "source": [
    "t = [ item+1 for item in range(9) ]\n",
    "temp_avg = [ 4, 5, 8, 10, 12, 10, 8, 5, 8 ]\n",
    "temp_base = 5 # General plant growth - Table 7.6, pag. 153"
   ]
  },
  {
   "cell_type": "code",
   "execution_count": 15,
   "metadata": {
    "ExecuteTime": {
     "end_time": "2020-10-22T12:26:41.490131Z",
     "start_time": "2020-10-22T12:26:41.487344Z"
    },
    "slideshow": {
     "slide_type": "fragment"
    }
   },
   "outputs": [
    {
     "name": "stdout",
     "output_type": "stream",
     "text": [
      "[1, 2, 3, 4, 5, 6, 7, 8, 9]\n"
     ]
    }
   ],
   "source": [
    "print( t )"
   ]
  },
  {
   "cell_type": "code",
   "execution_count": 16,
   "metadata": {
    "ExecuteTime": {
     "end_time": "2020-10-22T12:28:26.364207Z",
     "start_time": "2020-10-22T12:28:26.172577Z"
    },
    "slideshow": {
     "slide_type": "subslide"
    }
   },
   "outputs": [],
   "source": [
    "%matplotlib inline\n",
    "import matplotlib.pyplot as plt\n",
    "plt.ioff()"
   ]
  },
  {
   "cell_type": "code",
   "execution_count": 17,
   "metadata": {
    "ExecuteTime": {
     "end_time": "2020-10-22T12:28:59.378589Z",
     "start_time": "2020-10-22T12:28:59.368774Z"
    },
    "slideshow": {
     "slide_type": "subslide"
    }
   },
   "outputs": [],
   "source": [
    "def makegraph():\n",
    "    fig, ax = plt.subplots( nrows=1, ncols=1, figsize=(10,5) )\n",
    "\n",
    "    ax.plot( t, temp_avg, linewidth=3, marker='s', markersize=10, color='red', label='Daily average temperaure' )\n",
    "    ax.plot( t, [temp_base]*len(t), linewidth=3, color='green', label='Base temperature' )\n",
    "\n",
    "    ax.set_ylabel( 'Temperature $[^\\circ C]$', fontsize=14 )\n",
    "    ax.set_xlabel( 'Time [$days$]', fontsize=14 )\n",
    "\n",
    "    ax.legend()\n",
    "    \n",
    "    plt.show()"
   ]
  },
  {
   "cell_type": "code",
   "execution_count": 18,
   "metadata": {
    "ExecuteTime": {
     "end_time": "2020-10-22T12:29:29.658681Z",
     "start_time": "2020-10-22T12:29:29.177607Z"
    },
    "scrolled": false,
    "slideshow": {
     "slide_type": "subslide"
    }
   },
   "outputs": [
    {
     "data": {
      "image/png": "[encoded data removed]",
      "text/plain": [
       "<Figure size 720x360 with 1 Axes>"
      ]
     },
     "metadata": {
      "needs_background": "light"
     },
     "output_type": "display_data"
    }
   ],
   "source": [
    "makegraph()"
   ]
  },
  {
   "cell_type": "markdown",
   "metadata": {
    "slideshow": {
     "slide_type": "subslide"
    }
   },
   "source": [
    "Now, a function that calculates the temperature sum after those 9 days:"
   ]
  },
  {
   "cell_type": "code",
   "execution_count": 24,
   "metadata": {
    "ExecuteTime": {
     "end_time": "2020-10-22T12:35:13.937297Z",
     "start_time": "2020-10-22T12:35:13.929208Z"
    },
    "slideshow": {
     "slide_type": "fragment"
    }
   },
   "outputs": [],
   "source": [
    "def temperature_sum( temp_avgs, temp_base ):\n",
    "\n",
    "    temperatures_above = []\n",
    "    for element in temp_avgs:\n",
    "        temperatures_above = temperatures_above + [ element - temp_base ]\n",
    "\n",
    "    temperature_sum = 0\n",
    "    for element in temperatures_above:\n",
    "        if element>0:\n",
    "            temperature_sum = temperature_sum + element\n",
    "\n",
    "    return temperature_sum"
   ]
  },
  {
   "cell_type": "markdown",
   "metadata": {
    "slideshow": {
     "slide_type": "subslide"
    }
   },
   "source": [
    "We had, from before, two variables already:"
   ]
  },
  {
   "cell_type": "code",
   "execution_count": 25,
   "metadata": {
    "ExecuteTime": {
     "end_time": "2020-10-22T12:35:24.039233Z",
     "start_time": "2020-10-22T12:35:24.036289Z"
    },
    "slideshow": {
     "slide_type": "fragment"
    }
   },
   "outputs": [
    {
     "name": "stdout",
     "output_type": "stream",
     "text": [
      "[4, 5, 8, 10, 12, 10, 8, 5, 8]\n",
      "5\n"
     ]
    }
   ],
   "source": [
    "print( temp_avg )\n",
    "print( temp_base )"
   ]
  },
  {
   "cell_type": "markdown",
   "metadata": {
    "slideshow": {
     "slide_type": "fragment"
    }
   },
   "source": [
    "The function is then called with the variables previously defined:"
   ]
  },
  {
   "cell_type": "code",
   "execution_count": 26,
   "metadata": {
    "ExecuteTime": {
     "end_time": "2020-10-22T12:35:37.670192Z",
     "start_time": "2020-10-22T12:35:37.664639Z"
    },
    "slideshow": {
     "slide_type": "fragment"
    }
   },
   "outputs": [
    {
     "name": "stdout",
     "output_type": "stream",
     "text": [
      "26\n"
     ]
    }
   ],
   "source": [
    "print( temperature_sum( temp_avg, temp_base ) )"
   ]
  },
  {
   "cell_type": "markdown",
   "metadata": {
    "slideshow": {
     "slide_type": "fragment"
    }
   },
   "source": [
    "Note that that is the temperature sum (in $[^\\circ C \\cdot day]$) after the whole 9 days!!"
   ]
  },
  {
   "cell_type": "markdown",
   "metadata": {
    "slideshow": {
     "slide_type": "subslide"
    }
   },
   "source": [
    "It is possible to reuse the function with a different number of days in the first list, as it was not defined to iterate exactly 9 times:"
   ]
  },
  {
   "cell_type": "code",
   "execution_count": 27,
   "metadata": {
    "ExecuteTime": {
     "end_time": "2020-10-22T12:39:28.872008Z",
     "start_time": "2020-10-22T12:39:28.864788Z"
    },
    "slideshow": {
     "slide_type": "fragment"
    }
   },
   "outputs": [
    {
     "name": "stdout",
     "output_type": "stream",
     "text": [
      "3\n",
      "15\n",
      "26\n"
     ]
    }
   ],
   "source": [
    "print( temperature_sum( [4, 5, 8], temp_base ) )\n",
    "print( temperature_sum( [4, 5, 8, 10, 12], temp_base ) )\n",
    "print( temperature_sum( [4, 5, 8, 10, 12, 10, 8, 5, 8], temp_base ) )"
   ]
  },
  {
   "cell_type": "markdown",
   "metadata": {
    "slideshow": {
     "slide_type": "fragment"
    }
   },
   "source": [
    "We will use this fact to create a list of average sums up to each day, from day 1, 1 to 2, 1 to 3 and so on."
   ]
  },
  {
   "cell_type": "markdown",
   "metadata": {
    "slideshow": {
     "slide_type": "subslide"
    }
   },
   "source": [
    "#### Second step: A function that reuses the previous one, to calculate the temperature sum for each day"
   ]
  },
  {
   "cell_type": "markdown",
   "metadata": {
    "slideshow": {
     "slide_type": "fragment"
    }
   },
   "source": [
    "We can reuse the defined function using a ___for___ loop in the following way:"
   ]
  },
  {
   "cell_type": "code",
   "execution_count": 28,
   "metadata": {
    "ExecuteTime": {
     "end_time": "2020-10-22T12:40:18.674402Z",
     "start_time": "2020-10-22T12:40:18.669149Z"
    },
    "slideshow": {
     "slide_type": "fragment"
    }
   },
   "outputs": [
    {
     "name": "stdout",
     "output_type": "stream",
     "text": [
      "[0, 0, 3, 8, 15, 20, 23, 23, 26]\n"
     ]
    }
   ],
   "source": [
    "day_temperature_sums = []\n",
    "for i in range(len(temp_avg)):\n",
    "    day_temperature_sums = day_temperature_sums + [ temperature_sum( temp_avg[:i+1], temp_base ) ]\n",
    "print( day_temperature_sums )"
   ]
  },
  {
   "cell_type": "markdown",
   "metadata": {
    "slideshow": {
     "slide_type": "subslide"
    }
   },
   "source": [
    "Alternatively, we can define a second function, wrap that piece of program in it, and use it afterwards."
   ]
  },
  {
   "cell_type": "code",
   "execution_count": 33,
   "metadata": {
    "ExecuteTime": {
     "end_time": "2020-10-22T12:46:24.912189Z",
     "start_time": "2020-10-22T12:46:24.906451Z"
    },
    "slideshow": {
     "slide_type": "fragment"
    }
   },
   "outputs": [],
   "source": [
    "def day_temperature_sums( temp_avgs, temp_base ):\n",
    "    \n",
    "    day_temperature_sums = []\n",
    "    for i in range(len(temp_avgs)):\n",
    "        current_sum = temperature_sum( temp_avgs[:i+1], temp_base )\n",
    "        day_temperature_sums = day_temperature_sums + [ current_sum ]\n",
    "#        print( i, current_sum, day_temperature_sums ) # Activate this line to see partial results\n",
    "        \n",
    "    return day_temperature_sums"
   ]
  },
  {
   "cell_type": "code",
   "execution_count": 34,
   "metadata": {
    "ExecuteTime": {
     "end_time": "2020-10-22T12:46:25.515142Z",
     "start_time": "2020-10-22T12:46:25.510357Z"
    },
    "slideshow": {
     "slide_type": "fragment"
    }
   },
   "outputs": [
    {
     "name": "stdout",
     "output_type": "stream",
     "text": [
      "[0, 0, 3, 8, 15, 20, 23, 23, 26]\n"
     ]
    }
   ],
   "source": [
    "dts = day_temperature_sums( temp_avg, temp_base )\n",
    "print( dts )"
   ]
  },
  {
   "cell_type": "markdown",
   "metadata": {
    "slideshow": {
     "slide_type": "subslide"
    }
   },
   "source": [
    "We can then have a look a the cummulative temperatures over the 9-days range"
   ]
  },
  {
   "cell_type": "code",
   "execution_count": 35,
   "metadata": {
    "ExecuteTime": {
     "end_time": "2020-10-22T12:46:43.674713Z",
     "start_time": "2020-10-22T12:46:43.662544Z"
    },
    "slideshow": {
     "slide_type": "subslide"
    }
   },
   "outputs": [],
   "source": [
    "def makegraph():\n",
    "    fig, ax = plt.subplots( nrows=1, ncols=1, figsize=(10,5) )\n",
    "\n",
    "    ax.plot( t, temp_avg, linewidth=3, marker='s', markersize=10, color='red', label='Daily average temperaure' )\n",
    "    ax.plot( t, dts, linewidth=3, marker='*', markersize=10, color='blue', label='Daily average temperaure' )\n",
    "    ax.plot( t, [temp_base]*len(t), linewidth=3, color='green', label='Base temperature' )\n",
    "\n",
    "    ax.set_ylabel( 'Temperature $[^\\circ C]$', fontsize=14 )\n",
    "    ax.set_xlabel( 'Time [$days$]', fontsize=14 )\n",
    "\n",
    "    ax.legend()\n",
    "    \n",
    "    plt.show()"
   ]
  },
  {
   "cell_type": "code",
   "execution_count": 36,
   "metadata": {
    "ExecuteTime": {
     "end_time": "2020-10-22T12:46:45.826637Z",
     "start_time": "2020-10-22T12:46:45.683519Z"
    },
    "slideshow": {
     "slide_type": "subslide"
    }
   },
   "outputs": [
    {
     "data": {
      "image/png": "[encoded data removed]",
      "text/plain": [
       "<Figure size 720x360 with 1 Axes>"
      ]
     },
     "metadata": {
      "needs_background": "light"
     },
     "output_type": "display_data"
    }
   ],
   "source": [
    "makegraph()"
   ]
  },
  {
   "cell_type": "markdown",
   "metadata": {
    "slideshow": {
     "slide_type": "subslide"
    }
   },
   "source": [
    "Lastly, having the temperature sums for each day, we can calculate the plant height growth for each day using the formula from Mr. Teh:"
   ]
  },
  {
   "cell_type": "markdown",
   "metadata": {
    "slideshow": {
     "slide_type": "fragment"
    }
   },
   "source": [
    "$$ \\huge h_{ts}  =  \\frac{ h_m }{ 1 + b_0 \\cdot e^{-b_1 \\cdot T_{\\Sigma_{ts}}}} $$"
   ]
  },
  {
   "cell_type": "markdown",
   "metadata": {
    "slideshow": {
     "slide_type": "fragment"
    }
   },
   "source": [
    "The formula includes other parameters: plant maximum height and two coefficients (most commonly from field experiments).\n",
    "    \n",
    "We therefore define a function that accepts all four parameters."
   ]
  },
  {
   "cell_type": "code",
   "execution_count": 41,
   "metadata": {
    "ExecuteTime": {
     "end_time": "2020-10-22T12:52:07.692333Z",
     "start_time": "2020-10-22T12:52:07.684695Z"
    },
    "slideshow": {
     "slide_type": "fragment"
    }
   },
   "outputs": [],
   "source": [
    "def plant_height( temperature_sum, hm, b0, b1 ):\n",
    "    \n",
    "    import numpy as np\n",
    "    \n",
    "    return hm / ( 1 + b0 * np.exp( -1 * b1 * temperature_sum ) )"
   ]
  },
  {
   "cell_type": "markdown",
   "metadata": {
    "slideshow": {
     "slide_type": "fragment"
    }
   },
   "source": [
    "It is a very simple function: it accepts four parameters, makes a calculation and returns a single value, meaning the height of the plants under those conditions."
   ]
  },
  {
   "cell_type": "markdown",
   "metadata": {
    "slideshow": {
     "slide_type": "subslide"
    }
   },
   "source": [
    "Note the use of the ___numpy___ library. It is a very useful library for mathematical calculations. Its name stands for \"numeric python\", and we need it here to calculate the exponential function in the denominator."
   ]
  },
  {
   "cell_type": "markdown",
   "metadata": {
    "slideshow": {
     "slide_type": "subslide"
    }
   },
   "source": [
    "To test the function, we will suppose a maximum plant height of 60 cm, and two coefficientes $b_0=10$ and $b_1=0.05$."
   ]
  },
  {
   "cell_type": "code",
   "execution_count": 42,
   "metadata": {
    "ExecuteTime": {
     "end_time": "2020-10-22T12:52:20.294582Z",
     "start_time": "2020-10-22T12:52:20.291174Z"
    },
    "slideshow": {
     "slide_type": "fragment"
    }
   },
   "outputs": [
    {
     "name": "stdout",
     "output_type": "stream",
     "text": [
      "[0.05454545454545454, 0.05454545454545454, 0.06245394175165406, 0.07788970351840495, 0.1048279283837693, 0.12823816291174578, 0.14401033324404555, 0.14401033324404555, 0.1610600789568635]\n"
     ]
    }
   ],
   "source": [
    "b0 = 10\n",
    "b1 = 0.05\n",
    "max_height = 0.6 # in meters\n",
    "\n",
    "heights = []\n",
    "for element in dts:\n",
    "    current_height = plant_height( element, max_height, b0, b1 )\n",
    "    heights = heights + [ current_height ]\n",
    "#    print( element, current_height, heights ) # Activate this line to see partial results\n",
    "\n",
    "print( heights )"
   ]
  },
  {
   "cell_type": "markdown",
   "metadata": {
    "slideshow": {
     "slide_type": "subslide"
    }
   },
   "source": [
    "Lastly, a graph to see how the plants growth increases with the given temperatures:"
   ]
  },
  {
   "cell_type": "code",
   "execution_count": 43,
   "metadata": {
    "ExecuteTime": {
     "end_time": "2020-10-22T12:53:43.474711Z",
     "start_time": "2020-10-22T12:53:43.468865Z"
    },
    "slideshow": {
     "slide_type": "subslide"
    }
   },
   "outputs": [],
   "source": [
    "def makegraph():\n",
    "    fig, ax = plt.subplots( nrows=1, ncols=1, figsize=(10,5) )\n",
    "\n",
    "    ax.plot( t, heights, linewidth=2, marker='o', markersize=10, color='black', label='Cummulative growth' )\n",
    "\n",
    "    ax.set_ylabel( 'Growth in height $[m]$', fontsize=14 )\n",
    "    ax.set_xlabel( 'Time [$days$]', fontsize=14 )\n",
    "\n",
    "    ax.legend()\n",
    "\n",
    "    plt.show()"
   ]
  },
  {
   "cell_type": "code",
   "execution_count": 44,
   "metadata": {
    "ExecuteTime": {
     "end_time": "2020-10-22T12:53:46.799598Z",
     "start_time": "2020-10-22T12:53:46.629341Z"
    },
    "slideshow": {
     "slide_type": "fragment"
    }
   },
   "outputs": [
    {
     "data": {
      "image/png": "[encoded data removed]",
      "text/plain": [
       "<Figure size 720x360 with 1 Axes>"
      ]
     },
     "metadata": {
      "needs_background": "light"
     },
     "output_type": "display_data"
    }
   ],
   "source": [
    "makegraph()"
   ]
  },
  {
   "cell_type": "code",
   "execution_count": 45,
   "metadata": {
    "ExecuteTime": {
     "end_time": "2020-10-22T12:53:55.587787Z",
     "start_time": "2020-10-22T12:53:55.576226Z"
    },
    "slideshow": {
     "slide_type": "subslide"
    }
   },
   "outputs": [],
   "source": [
    "def makegraph():\n",
    "    fig, ax = plt.subplots( nrows=1, ncols=1, figsize=(10,5) )\n",
    "\n",
    "    ax.plot( t, temp_avg, linewidth=3, marker='s', markersize=10, color='red', label='Daily average temperaure' )\n",
    "    ax.plot( t, dts, linewidth=3, marker='*', markersize=10, color='blue', label='Daily average temperaure' )\n",
    "    ax.plot( t, [temp_base]*len(t), linewidth=3, color='green', label='Base temperature' )\n",
    "\n",
    "    ax.set_ylabel( 'Temperature $[^\\circ C]$', fontsize=14 )\n",
    "    ax.set_xlabel( 'Time [$days$]', fontsize=14 )\n",
    "\n",
    "    axR = fig.add_subplot(111, sharex=ax, frameon=False)\n",
    "    axR.plot( t, heights, linewidth=2, marker='o', markersize=10, color='black', label='Cummulative growth' )\n",
    "    axR.set_ylabel( 'Growth in height $[m]$', fontsize=14 )\n",
    "    axR.yaxis.tick_right()\n",
    "    axR.yaxis.set_label_position(\"right\")\n",
    "\n",
    "    ax.legend()\n",
    "    axR.legend(loc=1)\n",
    "\n",
    "    plt.show()"
   ]
  },
  {
   "cell_type": "code",
   "execution_count": 46,
   "metadata": {
    "ExecuteTime": {
     "end_time": "2020-10-22T12:53:58.221456Z",
     "start_time": "2020-10-22T12:53:57.992294Z"
    },
    "slideshow": {
     "slide_type": "subslide"
    }
   },
   "outputs": [
    {
     "data": {
      "image/png": "[encoded data removed]",
      "text/plain": [
       "<Figure size 720x360 with 2 Axes>"
      ]
     },
     "metadata": {
      "needs_background": "light"
     },
     "output_type": "display_data"
    }
   ],
   "source": [
    "makegraph()"
   ]
  },
  {
   "cell_type": "markdown",
   "metadata": {
    "slideshow": {
     "slide_type": "subslide"
    }
   },
   "source": [
    "(don't bother much with the plots, we will cover that in the fifth session...)"
   ]
  },
  {
   "cell_type": "markdown",
   "metadata": {
    "slideshow": {
     "slide_type": "subslide"
    }
   },
   "source": [
    "#### Functions - Exercises"
   ]
  },
  {
   "cell_type": "markdown",
   "metadata": {
    "slideshow": {
     "slide_type": "fragment"
    }
   },
   "source": [
    "→ Define some functions and experiment with them. \n",
    "\n",
    "Some ideas are:\n",
    "* A function that determines the maximum of three numbers\n",
    "* A function that determines the maximum ___and___ minimum of three numbers\n",
    "* A function that gets a list of numbers and another (constant) number, and adds the second to each element in the first\n",
    "* A function that gets two parameters and says if both of them are ___integer___ numbers"
   ]
  },
  {
   "cell_type": "markdown",
   "metadata": {
    "slideshow": {
     "slide_type": "slide"
    }
   },
   "source": [
    "## 3. Libraries"
   ]
  },
  {
   "cell_type": "markdown",
   "metadata": {
    "slideshow": {
     "slide_type": "subslide"
    }
   },
   "source": [
    "Sometimes, we are happy with a piece of code and hope to use it again in the future. We can then save it to a file in the hard disk, and later on call the functions in it without bothering to copy-paste the code each time. \n",
    "\n",
    "Files containing functions (or constants) are called ___libraries___, and build a very important part of many programming projects.\n",
    "\n",
    "There is a number of libraries already written and ready-to-use (remember _pysolar_?), but we can also make our own, either to share or to use them ourselves."
   ]
  },
  {
   "cell_type": "markdown",
   "metadata": {
    "slideshow": {
     "slide_type": "subslide"
    }
   },
   "source": [
    "A library is just the code saved in a raw-text file.\n",
    "\n",
    "We will make a library with the functions defined previously for the plant height growth calculation."
   ]
  },
  {
   "cell_type": "markdown",
   "metadata": {
    "slideshow": {
     "slide_type": "subslide"
    }
   },
   "source": [
    "<img src='../../misc/img/library.png' width='800'>"
   ]
  },
  {
   "cell_type": "markdown",
   "metadata": {
    "slideshow": {
     "slide_type": "subslide"
    }
   },
   "source": [
    "To use a custom library, we use the ___import___ statement, which we used before for ___numpy___."
   ]
  },
  {
   "cell_type": "markdown",
   "metadata": {
    "slideshow": {
     "slide_type": "fragment"
    }
   },
   "source": [
    "We can either import the whole library:"
   ]
  },
  {
   "cell_type": "code",
   "execution_count": 36,
   "metadata": {
    "slideshow": {
     "slide_type": "fragment"
    }
   },
   "outputs": [],
   "source": [
    "import plantheight"
   ]
  },
  {
   "cell_type": "markdown",
   "metadata": {
    "slideshow": {
     "slide_type": "fragment"
    }
   },
   "source": [
    "Or single functions that we need:"
   ]
  },
  {
   "cell_type": "code",
   "execution_count": 37,
   "metadata": {
    "slideshow": {
     "slide_type": "fragment"
    }
   },
   "outputs": [],
   "source": [
    "from plantheight import day_temperature_sums"
   ]
  },
  {
   "cell_type": "markdown",
   "metadata": {
    "slideshow": {
     "slide_type": "subslide"
    }
   },
   "source": [
    "If we import the complete library, we can use it like follows (it is the same example):"
   ]
  },
  {
   "cell_type": "code",
   "execution_count": 52,
   "metadata": {
    "slideshow": {
     "slide_type": "subslide"
    }
   },
   "outputs": [
    {
     "name": "stdout",
     "output_type": "stream",
     "text": [
      "[0.045454545454545456, 0.045454545454545456, 0.059465885455551905, 0.09102014141990604, 0.15473640707828853, 0.2124628288301699, 0.24967686355569643, 0.24967686355569643, 0.2869052240294653]\n"
     ]
    }
   ],
   "source": [
    "import plantheight\n",
    "\n",
    "temp_avg = [ 4, 5, 8, 10, 12, 10, 8, 5, 8 ]\n",
    "temp_base = 5\n",
    "\n",
    "dts = plantheight.day_temperature_sums( temp_avg, temp_base )\n",
    "\n",
    "b0 = 10\n",
    "b1 = 0.05\n",
    "max_height = 0.6 # in meters\n",
    "\n",
    "heights = []\n",
    "for element in dts:\n",
    "    current_height = plantheight.plant_height( element, max_height, b0, b1 )\n",
    "    heights = heights + [ current_height ]\n",
    "\n",
    "print( heights )"
   ]
  },
  {
   "cell_type": "markdown",
   "metadata": {
    "slideshow": {
     "slide_type": "subslide"
    }
   },
   "source": [
    "Note that we access a function in a library using the dot operator ___.___"
   ]
  },
  {
   "cell_type": "markdown",
   "metadata": {
    "slideshow": {
     "slide_type": "slide"
    }
   },
   "source": [
    "## 4. Exercises"
   ]
  },
  {
   "cell_type": "markdown",
   "metadata": {
    "slideshow": {
     "slide_type": "subslide"
    }
   },
   "source": [
    "Suppose that we need a function to trigger the irrigation in an automated irrigation system.\n",
    "\n",
    "Define a function that returns either ___True___ or ___False___ if an irrigation event should start.\n",
    "\n",
    "The irrigation should be triggered if a radiation sum exceeds a fixed value of $92.3 J/cm^2$"
   ]
  },
  {
   "cell_type": "markdown",
   "metadata": {
    "slideshow": {
     "slide_type": "fragment"
    }
   },
   "source": [
    "Modify the irrigation function to trigger an event only after 8:00 a.m."
   ]
  },
  {
   "cell_type": "markdown",
   "metadata": {
    "slideshow": {
     "slide_type": "subslide"
    }
   },
   "source": [
    "Tips: Use the library ___datetime___:"
   ]
  },
  {
   "cell_type": "code",
   "execution_count": 39,
   "metadata": {
    "slideshow": {
     "slide_type": "fragment"
    }
   },
   "outputs": [],
   "source": [
    "import datetime"
   ]
  },
  {
   "cell_type": "markdown",
   "metadata": {
    "slideshow": {
     "slide_type": "fragment"
    }
   },
   "source": [
    "To define a time, use ___datetime.time___:"
   ]
  },
  {
   "cell_type": "code",
   "execution_count": 40,
   "metadata": {
    "slideshow": {
     "slide_type": "fragment"
    }
   },
   "outputs": [
    {
     "data": {
      "text/plain": [
       "datetime.time(12, 30, 55)"
      ]
     },
     "execution_count": 40,
     "metadata": {},
     "output_type": "execute_result"
    }
   ],
   "source": [
    "datetime.time(12,30,55)"
   ]
  },
  {
   "cell_type": "markdown",
   "metadata": {
    "slideshow": {
     "slide_type": "subslide"
    }
   },
   "source": [
    "To check the current hour, use ___datetime.datetime.now().time()___:"
   ]
  },
  {
   "cell_type": "code",
   "execution_count": 41,
   "metadata": {
    "slideshow": {
     "slide_type": "fragment"
    }
   },
   "outputs": [
    {
     "data": {
      "text/plain": [
       "True"
      ]
     },
     "execution_count": 41,
     "metadata": {},
     "output_type": "execute_result"
    }
   ],
   "source": [
    "datetime.datetime.now().time() > datetime.time( 8,0,0 )"
   ]
  },
  {
   "cell_type": "markdown",
   "metadata": {
    "slideshow": {
     "slide_type": "subslide"
    }
   },
   "source": [
    "Lastly, save your irrigation function in a library ___irrigation.py___ and test it from the IPython terminal."
   ]
  },
  {
   "cell_type": "markdown",
   "metadata": {},
   "source": [
    "---"
   ]
  }
 ],
 "metadata": {
  "celltoolbar": "Slideshow",
  "kernelspec": {
   "display_name": "Python 3",
   "language": "python",
   "name": "python3"
  },
  "language_info": {
   "codemirror_mode": {
    "name": "ipython",
    "version": 3
   },
   "file_extension": ".py",
   "mimetype": "text/x-python",
   "name": "python",
   "nbconvert_exporter": "python",
   "pygments_lexer": "ipython3",
   "version": "3.8.3"
  },
  "toc": {
   "base_numbering": 1,
   "nav_menu": {},
   "number_sections": true,
   "sideBar": true,
   "skip_h1_title": false,
   "title_cell": "Table of Contents",
   "title_sidebar": "Contents",
   "toc_cell": false,
   "toc_position": {},
   "toc_section_display": true,
   "toc_window_display": false
  },
  "varInspector": {
   "cols": {
    "lenName": 16,
    "lenType": 16,
    "lenVar": 40
   },
   "kernels_config": {
    "python": {
     "delete_cmd_postfix": "",
     "delete_cmd_prefix": "del ",
     "library": "var_list.py",
     "varRefreshCmd": "print(var_dic_list())"
    },
    "r": {
     "delete_cmd_postfix": ") ",
     "delete_cmd_prefix": "rm(",
     "library": "var_list.r",
     "varRefreshCmd": "cat(var_dic_list()) "
    }
   },
   "types_to_exclude": [
    "module",
    "function",
    "builtin_function_or_method",
    "instance",
    "_Feature"
   ],
   "window_display": false
  }
 },
 "nbformat": 4,
 "nbformat_minor": 2
}
