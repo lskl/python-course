{
 "cells": [
  {
   "cell_type": "markdown",
   "metadata": {
    "slideshow": {
     "slide_type": "skip"
    },
    "toc": true
   },
   "source": [
    "<h1>Table of Contents<span class=\"tocSkip\"></span></h1>\n",
    "<div class=\"toc\"><ul class=\"toc-item\"><li><span><a href=\"#What-this-workshop-is-about\" data-toc-modified-id=\"What-this-workshop-is-about-1\">What this workshop is about</a></span></li><li><span><a href=\"#How-the-workshop-is-organized\" data-toc-modified-id=\"How-the-workshop-is-organized-2\">How the workshop is organized</a></span></li><li><span><a href=\"#Materials\" data-toc-modified-id=\"Materials-3\">Materials</a></span></li><li><span><a href=\"#Requirements-and-installation\" data-toc-modified-id=\"Requirements-and-installation-4\">Requirements and installation</a></span></li><li><span><a href=\"#Libraries-in-anaconda\" data-toc-modified-id=\"Libraries-in-anaconda-5\">Libraries in anaconda</a></span></li></ul></div>"
   ]
  },
  {
   "cell_type": "markdown",
   "metadata": {
    "ExecuteTime": {
     "end_time": "2019-08-26T15:28:11.561545Z",
     "start_time": "2019-08-26T15:28:11.555148Z"
    },
    "slideshow": {
     "slide_type": "slide"
    }
   },
   "source": [
    "<img src='../../misc/img/python-logo.png' width='150'>"
   ]
  },
  {
   "cell_type": "markdown",
   "metadata": {
    "ExecuteTime": {
     "end_time": "2019-08-26T12:44:39.801693Z",
     "start_time": "2019-08-26T12:44:39.751020Z"
    },
    "slideshow": {
     "slide_type": "fragment"
    }
   },
   "source": [
    "# A - Python for data analysis"
   ]
  },
  {
   "cell_type": "markdown",
   "metadata": {
    "slideshow": {
     "slide_type": "slide"
    }
   },
   "source": [
    "## What this workshop is about"
   ]
  },
  {
   "cell_type": "markdown",
   "metadata": {
    "slideshow": {
     "slide_type": "fragment"
    }
   },
   "source": [
    "A 1-day, hands-on introductory workshop to python, with a particular focus on:\n",
    "* data analysis\n",
    "* plant science for agriculture and horticulture"
   ]
  },
  {
   "cell_type": "markdown",
   "metadata": {
    "slideshow": {
     "slide_type": "fragment"
    }
   },
   "source": [
    "The examples are taken from soil science, from weather data and plant modelling. "
   ]
  },
  {
   "cell_type": "markdown",
   "metadata": {
    "ExecuteTime": {
     "end_time": "2019-08-26T15:05:23.548446Z",
     "start_time": "2019-08-26T15:05:23.542966Z"
    },
    "slideshow": {
     "slide_type": "subslide"
    }
   },
   "source": [
    "It is assumed that the participants have certain experience with programming in any language, for example ___MATLAB___ or ___C___. \n",
    "\n",
    "___python___-specific syntax and basic general examples will be covered prior to the practical exercises."
   ]
  },
  {
   "cell_type": "markdown",
   "metadata": {
    "slideshow": {
     "slide_type": "fragment"
    }
   },
   "source": [
    "More concretely, we will read data from files, make simple calculations, get exploratory statistics, plot graphs and fit functions. \n",
    "\n",
    "We will also work with temporal data."
   ]
  },
  {
   "cell_type": "markdown",
   "metadata": {
    "slideshow": {
     "slide_type": "slide"
    }
   },
   "source": [
    "## How the workshop is organized"
   ]
  },
  {
   "cell_type": "markdown",
   "metadata": {
    "slideshow": {
     "slide_type": "fragment"
    }
   },
   "source": [
    "* General introductory blocks to ___anaconda___, ___python___ and ___jupyter notebooks___\n",
    "    1. This introduction: Requirements, installation\n",
    "    1. ___jupyter notebooks___, library imports, create and run cells; control flow (___for___ and ___if___ statements, indentation ; lists and dictionaries"
   ]
  },
  {
   "cell_type": "markdown",
   "metadata": {
    "slideshow": {
     "slide_type": "fragment"
    }
   },
   "source": [
    "* Data projects\n",
    "    3. A model of plant height as function of the air temperature\n",
    "    3. Exploratory Data Analysis (EDA) of a characterization of horticultural substrates\n",
    "    1. Calculation and plot of temperature means over a period"
   ]
  },
  {
   "cell_type": "markdown",
   "metadata": {
    "slideshow": {
     "slide_type": "slide"
    }
   },
   "source": [
    "## Materials"
   ]
  },
  {
   "cell_type": "markdown",
   "metadata": {
    "slideshow": {
     "slide_type": "fragment"
    }
   },
   "source": [
    "All course materials, data, code and explanations will be available in a public repository, under https://github.com/mirandal-gh/python-course/\n",
    "    \n",
    "In particular, we are working with the 1-day workshop, but you might look at other materials there as well."
   ]
  },
  {
   "cell_type": "markdown",
   "metadata": {
    "slideshow": {
     "slide_type": "slide"
    }
   },
   "source": [
    "## Requirements and installation"
   ]
  },
  {
   "cell_type": "markdown",
   "metadata": {
    "slideshow": {
     "slide_type": "fragment"
    }
   },
   "source": [
    "* python 3.x\n",
    "* jupyter notebook\n",
    "* Libraries:\n",
    "    * numpy\n",
    "    * pandas\n",
    "    * matplotlib\n",
    "    * scipy"
   ]
  },
  {
   "cell_type": "markdown",
   "metadata": {
    "slideshow": {
     "slide_type": "subslide"
    }
   },
   "source": [
    "All the previous are included in the ___anaconda___ bundle!\n",
    "\n",
    "Though not strictly needed, it is recommended to install anaconda, it makes it easier to get started.\n"
   ]
  },
  {
   "cell_type": "markdown",
   "metadata": {
    "slideshow": {
     "slide_type": "fragment"
    }
   },
   "source": [
    "To install anaconda, go to https://www.anaconda.com/distribution/#download-section , select your operative system, download an follow the instructions to install.\n",
    "\n",
    "Please pay attention to install the __python 3.x version__, not the __python 2.x version__."
   ]
  },
  {
   "cell_type": "markdown",
   "metadata": {
    "slideshow": {
     "slide_type": "subslide"
    }
   },
   "source": [
    "After a successful installation, you should be able to access the __anaconda navigator__ in a window similar to this:"
   ]
  },
  {
   "cell_type": "markdown",
   "metadata": {
    "ExecuteTime": {
     "end_time": "2019-08-26T15:36:33.625583Z",
     "start_time": "2019-08-26T15:36:33.622354Z"
    },
    "slideshow": {
     "slide_type": "fragment"
    }
   },
   "source": [
    "<img src='../../misc/img/anaconda_navigator.png' width='700'>"
   ]
  },
  {
   "cell_type": "markdown",
   "metadata": {
    "slideshow": {
     "slide_type": "subslide"
    }
   },
   "source": [
    "Please make an effort to get to this point before the workshop starts, so that we can move directly to the programming language itself.\n",
    "\n",
    "We will be using the __jupyter notebook__ section starting from the next presentation."
   ]
  },
  {
   "cell_type": "markdown",
   "metadata": {
    "slideshow": {
     "slide_type": "slide"
    }
   },
   "source": [
    "## Libraries in anaconda"
   ]
  },
  {
   "cell_type": "markdown",
   "metadata": {
    "slideshow": {
     "slide_type": "subslide"
    }
   },
   "source": [
    "In some cases, we might want to install libraries that are not included in the standard anaconda bundle, for example __rise__ is useful to format notebooks as slideshow presentations.\n",
    "\n",
    "This should not be the case for the present workshop, but I include the following notes as a reference.\n",
    "\n",
    "To install the __rise__ library in anaconda, we need to click on Environments $\\rightarrow$ Open terminal, as shown here:"
   ]
  },
  {
   "cell_type": "markdown",
   "metadata": {
    "ExecuteTime": {
     "end_time": "2019-08-26T15:50:02.610328Z",
     "start_time": "2019-08-26T15:50:02.606610Z"
    },
    "slideshow": {
     "slide_type": "subslide"
    }
   },
   "source": [
    "<img src='../../misc/img/anaconda_rise1.png' width='700'>"
   ]
  },
  {
   "cell_type": "markdown",
   "metadata": {
    "slideshow": {
     "slide_type": "subslide"
    }
   },
   "source": [
    "In the terminal, type `conda install -c ` and the name of the library you want to install:"
   ]
  },
  {
   "cell_type": "markdown",
   "metadata": {
    "ExecuteTime": {
     "end_time": "2019-08-26T15:52:31.235528Z",
     "start_time": "2019-08-26T15:52:31.232391Z"
    },
    "slideshow": {
     "slide_type": "fragment"
    }
   },
   "source": [
    "<img src='../../misc/img/anaconda_rise2.png' width='700'>"
   ]
  }
 ],
 "metadata": {
  "celltoolbar": "Slideshow",
  "kernelspec": {
   "display_name": "Python 3",
   "language": "python",
   "name": "python3"
  },
  "language_info": {
   "codemirror_mode": {
    "name": "ipython",
    "version": 3
   },
   "file_extension": ".py",
   "mimetype": "text/x-python",
   "name": "python",
   "nbconvert_exporter": "python",
   "pygments_lexer": "ipython3",
   "version": "3.6.8"
  },
  "toc": {
   "base_numbering": 1,
   "nav_menu": {},
   "number_sections": false,
   "sideBar": true,
   "skip_h1_title": true,
   "title_cell": "Table of Contents",
   "title_sidebar": "Contents",
   "toc_cell": true,
   "toc_position": {},
   "toc_section_display": true,
   "toc_window_display": false
  },
  "varInspector": {
   "cols": {
    "lenName": 16,
    "lenType": 16,
    "lenVar": 40
   },
   "kernels_config": {
    "python": {
     "delete_cmd_postfix": "",
     "delete_cmd_prefix": "del ",
     "library": "var_list.py",
     "varRefreshCmd": "print(var_dic_list())"
    },
    "r": {
     "delete_cmd_postfix": ") ",
     "delete_cmd_prefix": "rm(",
     "library": "var_list.r",
     "varRefreshCmd": "cat(var_dic_list()) "
    }
   },
   "types_to_exclude": [
    "module",
    "function",
    "builtin_function_or_method",
    "instance",
    "_Feature"
   ],
   "window_display": false
  }
 },
 "nbformat": 4,
 "nbformat_minor": 2
}
