{
 "cells": [
  {
   "cell_type": "markdown",
   "metadata": {
    "slideshow": {
     "slide_type": "slide"
    },
    "toc": true
   },
   "source": [
    "<h1>Table of Contents<span class=\"tocSkip\"></span></h1>\n",
    "<div class=\"toc\"><ul class=\"toc-item\"><li><span><a href=\"#Functions-in-python\" data-toc-modified-id=\"Functions-in-python-1\">Functions in python</a></span><ul class=\"toc-item\"><li><span><a href=\"#Functions:-Toy-example\" data-toc-modified-id=\"Functions:-Toy-example-1.1\">Functions: Toy example</a></span></li><li><span><a href=\"#Another-toy-example\" data-toc-modified-id=\"Another-toy-example-1.2\">Another toy example</a></span></li></ul></li><li><span><a href=\"#Plant-height-growth-model\" data-toc-modified-id=\"Plant-height-growth-model-2\">Plant height growth model</a></span><ul class=\"toc-item\"><li><ul class=\"toc-item\"><li><span><a href=\"#First-step:-A-function-to-calculate-the-temperature-sum\" data-toc-modified-id=\"First-step:-A-function-to-calculate-the-temperature-sum-2.0.1\">First step: A function to calculate the temperature sum</a></span></li><li><span><a href=\"#Second-step:-A-function-that-reuses-the-previous-one,-to-calculate-the-temperature-sum-for-each-day\" data-toc-modified-id=\"Second-step:-A-function-that-reuses-the-previous-one,-to-calculate-the-temperature-sum-for-each-day-2.0.2\">Second step: A function that reuses the previous one, to calculate the temperature sum for each day</a></span></li></ul></li></ul></li><li><span><a href=\"#Custom-libraries\" data-toc-modified-id=\"Custom-libraries-3\">Custom libraries</a></span></li><li><span><a href=\"#Parameter-estimation---curve-fitting\" data-toc-modified-id=\"Parameter-estimation---curve-fitting-4\">Parameter estimation - curve fitting</a></span></li><li><span><a href=\"#Exercises\" data-toc-modified-id=\"Exercises-5\">Exercises</a></span></li></ul></div>"
   ]
  },
  {
   "cell_type": "markdown",
   "metadata": {
    "slideshow": {
     "slide_type": "slide"
    }
   },
   "source": [
    "# D - Plant height model"
   ]
  },
  {
   "cell_type": "markdown",
   "metadata": {
    "slideshow": {
     "slide_type": "subslide"
    }
   },
   "source": [
    "In this module we:\n",
    "* present the syntax for python functions\n",
    "* use functions to test a simple model of plant growth (height) as a function of the temperature\n",
    "* show how to save functions in files to use them in future projects\n",
    "* estumate parameters of the plant growth function using least squares optimisation"
   ]
  },
  {
   "cell_type": "markdown",
   "metadata": {
    "slideshow": {
     "slide_type": "slide"
    }
   },
   "source": [
    "## Functions in python"
   ]
  },
  {
   "cell_type": "markdown",
   "metadata": {
    "slideshow": {
     "slide_type": "subslide"
    }
   },
   "source": [
    "Functions are useful because they allow us to address a single task, solve it, and apply the solution several times afterwards.\n",
    "\n",
    "In other words, using functions we can reuse parts of code, without having to program them again.\n",
    "\n"
   ]
  },
  {
   "cell_type": "markdown",
   "metadata": {
    "slideshow": {
     "slide_type": "subslide"
    }
   },
   "source": [
    "### Functions: Toy example"
   ]
  },
  {
   "cell_type": "markdown",
   "metadata": {
    "slideshow": {
     "slide_type": "fragment"
    }
   },
   "source": [
    "As an example to illustrate the use of functions in python, consider a case where we need to detect if a number is bigger than zero. If it is bigger than zero, we should make a calculation using a second number. If it is lower than zero we just take the calculation"
   ]
  },
  {
   "cell_type": "markdown",
   "metadata": {
    "slideshow": {
     "slide_type": "fragment"
    }
   },
   "source": [
    "* First number: $a_1$\n",
    "* Second number: $a_2$\n",
    "* Calculation: \n",
    "    * $a_2 \\times 3 + 1$ if $a_1 > 0$\n",
    "    * $0$ if $a_1 \\leq 0$"
   ]
  },
  {
   "cell_type": "markdown",
   "metadata": {
    "slideshow": {
     "slide_type": "subslide"
    }
   },
   "source": [
    "We can execute this calculation with the following piece of code:"
   ]
  },
  {
   "cell_type": "code",
   "execution_count": null,
   "metadata": {
    "slideshow": {
     "slide_type": "fragment"
    }
   },
   "outputs": [],
   "source": [
    "a1 = -3\n",
    "a2 = 2\n",
    "\n",
    "if a1>0:\n",
    "    result = a2 * 3 + 1\n",
    "else:\n",
    "    result = 0\n",
    "    \n",
    "print( result )"
   ]
  },
  {
   "cell_type": "markdown",
   "metadata": {
    "slideshow": {
     "slide_type": "subslide"
    }
   },
   "source": [
    "We can also wrap that piece of code in a ___function___.\n",
    "\n",
    "There are two reasons to do so:\n",
    "* To make the code more readable\n",
    "* To reuse that piece of code"
   ]
  },
  {
   "cell_type": "markdown",
   "metadata": {
    "slideshow": {
     "slide_type": "subslide"
    }
   },
   "source": [
    "To define a function we use the keyword ___def___ and write the code in an indentated block:"
   ]
  },
  {
   "cell_type": "code",
   "execution_count": null,
   "metadata": {
    "slideshow": {
     "slide_type": "fragment"
    }
   },
   "outputs": [],
   "source": [
    "def calculation( a1, a2 ):\n",
    "    \n",
    "    if a1>0:\n",
    "        result = a2 * 3 + 1\n",
    "    else:\n",
    "        result = 0\n",
    "        \n",
    "    return result"
   ]
  },
  {
   "cell_type": "markdown",
   "metadata": {
    "slideshow": {
     "slide_type": "subslide"
    }
   },
   "source": [
    "Notes:\n",
    "* The use of the keyword ___def___, followed by the functions custom name.\n",
    "* The use of parenthesis to list the ___parameters___ that the function will expect to do its job. Not all functions need parameters, they are optional. Additionally, there are ways to define optional parameters, which use a default value.\n",
    "* The code in the function ends with the first-level indentated block.\n",
    "* The ___return___ statement allows to bring one (or more) values back to the code that called the function. It is not mandatory to return a value."
   ]
  },
  {
   "cell_type": "markdown",
   "metadata": {
    "slideshow": {
     "slide_type": "subslide"
    }
   },
   "source": [
    "The function can then be used like follows:"
   ]
  },
  {
   "cell_type": "code",
   "execution_count": null,
   "metadata": {
    "slideshow": {
     "slide_type": "fragment"
    }
   },
   "outputs": [],
   "source": [
    "print( calculation( 1, 2 ) )\n",
    "print( calculation( -1, 2 ) )\n",
    "print( calculation( 1, 3 ) )"
   ]
  },
  {
   "cell_type": "code",
   "execution_count": null,
   "metadata": {
    "slideshow": {
     "slide_type": "fragment"
    }
   },
   "outputs": [],
   "source": [
    "a=-1\n",
    "b=3\n",
    "print( calculation( a, -1 ) ) "
   ]
  },
  {
   "cell_type": "code",
   "execution_count": null,
   "metadata": {
    "slideshow": {
     "slide_type": "fragment"
    }
   },
   "outputs": [],
   "source": [
    "c = calculation( 1, 2 )\n",
    "print( c+2 )"
   ]
  },
  {
   "cell_type": "markdown",
   "metadata": {
    "slideshow": {
     "slide_type": "subslide"
    }
   },
   "source": [
    "### Another toy example"
   ]
  },
  {
   "cell_type": "markdown",
   "metadata": {
    "slideshow": {
     "slide_type": "subslide"
    }
   },
   "source": [
    "A simple function that does not need arguments and does not return a value can be used to print a formatted header."
   ]
  },
  {
   "cell_type": "code",
   "execution_count": null,
   "metadata": {
    "slideshow": {
     "slide_type": "fragment"
    }
   },
   "outputs": [],
   "source": [
    "def header():\n",
    "    print( '*'*20 )\n",
    "    print( '-'*20 )\n",
    "    print( ' TITLE OF SECTION ' )\n",
    "    print( '-'*20 )\n",
    "    print( '*'*20 )\n",
    "    print( '\\n' )"
   ]
  },
  {
   "cell_type": "code",
   "execution_count": null,
   "metadata": {
    "slideshow": {
     "slide_type": "fragment"
    }
   },
   "outputs": [],
   "source": [
    "header()"
   ]
  },
  {
   "cell_type": "code",
   "execution_count": null,
   "metadata": {
    "slideshow": {
     "slide_type": "subslide"
    }
   },
   "outputs": [],
   "source": [
    "header()\n",
    "header()"
   ]
  },
  {
   "cell_type": "markdown",
   "metadata": {
    "slideshow": {
     "slide_type": "subslide"
    }
   },
   "source": [
    "## Plant height growth model"
   ]
  },
  {
   "cell_type": "markdown",
   "metadata": {
    "slideshow": {
     "slide_type": "fragment"
    }
   },
   "source": [
    "**Taken from: *Introduction ot mathematical modeling of crop growth*, by Christopher Teh. \n",
    "(published in 2006 by BrownWalker Press)**"
   ]
  },
  {
   "cell_type": "markdown",
   "metadata": {
    "slideshow": {
     "slide_type": "subslide"
    }
   },
   "source": [
    "We will show the usage of python functions with a simple model of plant growth.\n",
    "\n",
    "The idea behind this model is that plants grow more when the temperatures are higher, but stop growing at some point. This point is the maximum growth. The growth is then a function(!) of the temperature. This temperature is only taken into account if it surpasses a ___base temperature___, which is dependent on the crop. \n",
    "\n",
    "(Note that the last statement is a more elaborated form of the __if__ condition in the toy example 1 shown previously)"
   ]
  },
  {
   "cell_type": "markdown",
   "metadata": {
    "slideshow": {
     "slide_type": "subslide"
    }
   },
   "source": [
    "$$ \\huge h_{ts}  =  \\frac{ h_m }{ 1 + b_0 \\cdot e^{-b_1 \\cdot T_{\\Sigma_{ts}}}} $$"
   ]
  },
  {
   "cell_type": "markdown",
   "metadata": {
    "slideshow": {
     "slide_type": "subslide"
    }
   },
   "source": [
    "Where:\n",
    "\n",
    "$\\large h_{ts}: $ height at time $s$ in $[m]$\n",
    "\n",
    "$\\large h_{m}: $ maximum possible height of the plant in $[m]$\n",
    "\n",
    "$\\large b_0: $ intercept parameter (unitless)\n",
    "\n",
    "$\\large b_1: $ slope parameter in $[^\\circ C^{-1} \\cdot day^{-1} ]$\n",
    "\n",
    "$\\large T_{\\Sigma_{ts}} :$ temperature sum (above the base temperature) at time $s$ in $[^\\circ C \\cdot day ]$"
   ]
  },
  {
   "cell_type": "markdown",
   "metadata": {
    "slideshow": {
     "slide_type": "subslide"
    }
   },
   "source": [
    "#### First step: A function to calculate the temperature sum"
   ]
  },
  {
   "cell_type": "markdown",
   "metadata": {
    "slideshow": {
     "slide_type": "fragment"
    }
   },
   "source": [
    "Let's suppose a number of daily average temperatures over 9 days:"
   ]
  },
  {
   "cell_type": "code",
   "execution_count": null,
   "metadata": {
    "slideshow": {
     "slide_type": "fragment"
    }
   },
   "outputs": [],
   "source": [
    "t = [ item+1 for item in range(9) ]\n",
    "temp_avg = [ 4, 5, 8, 10, 12, 10, 8, 5, 8 ]\n",
    "temp_base = 5 # General plant growth - Table 7.6, pag. 153"
   ]
  },
  {
   "cell_type": "code",
   "execution_count": null,
   "metadata": {
    "slideshow": {
     "slide_type": "fragment"
    }
   },
   "outputs": [],
   "source": [
    "print( t )"
   ]
  },
  {
   "cell_type": "code",
   "execution_count": null,
   "metadata": {
    "slideshow": {
     "slide_type": "subslide"
    }
   },
   "outputs": [],
   "source": [
    "%matplotlib inline\n",
    "import matplotlib.pyplot as plt\n",
    "plt.ioff()"
   ]
  },
  {
   "cell_type": "code",
   "execution_count": null,
   "metadata": {
    "slideshow": {
     "slide_type": "subslide"
    }
   },
   "outputs": [],
   "source": [
    "def makegraph():\n",
    "    fig, ax = plt.subplots( nrows=1, ncols=1, figsize=(10,5) )\n",
    "\n",
    "    ax.plot( t, temp_avg, linewidth=3, marker='s', markersize=10, color='red', label='Daily average temperaure' )\n",
    "    ax.plot( t, [temp_base]*len(t), linewidth=3, color='green', label='Base temperature' )\n",
    "\n",
    "    ax.set_ylabel( 'Temperature $[^\\circ C]$', fontsize=14 )\n",
    "    ax.set_xlabel( 'Time [$days$]', fontsize=14 )\n",
    "\n",
    "    ax.legend()\n",
    "    \n",
    "    plt.show()"
   ]
  },
  {
   "cell_type": "code",
   "execution_count": null,
   "metadata": {
    "scrolled": true,
    "slideshow": {
     "slide_type": "subslide"
    }
   },
   "outputs": [],
   "source": [
    "makegraph()"
   ]
  },
  {
   "cell_type": "markdown",
   "metadata": {
    "slideshow": {
     "slide_type": "subslide"
    }
   },
   "source": [
    "Now, a function that calculates the temperature sum after those 9 days:"
   ]
  },
  {
   "cell_type": "code",
   "execution_count": null,
   "metadata": {
    "slideshow": {
     "slide_type": "fragment"
    }
   },
   "outputs": [],
   "source": [
    "def temperature_sum( temp_avgs, temp_base ):\n",
    "\n",
    "    temperatures_above = []\n",
    "    for element in temp_avgs:\n",
    "        temperatures_above = temperatures_above + [ element - temp_base ]\n",
    "\n",
    "    temperature_sum = 0\n",
    "    for element in temperatures_above:\n",
    "        if element>0:\n",
    "            temperature_sum = temperature_sum + element\n",
    "\n",
    "    return temperature_sum"
   ]
  },
  {
   "cell_type": "markdown",
   "metadata": {
    "slideshow": {
     "slide_type": "subslide"
    }
   },
   "source": [
    "We had, from before, two variables already:"
   ]
  },
  {
   "cell_type": "code",
   "execution_count": null,
   "metadata": {
    "slideshow": {
     "slide_type": "fragment"
    }
   },
   "outputs": [],
   "source": [
    "print( temp_avg )\n",
    "print( temp_base )"
   ]
  },
  {
   "cell_type": "markdown",
   "metadata": {
    "slideshow": {
     "slide_type": "fragment"
    }
   },
   "source": [
    "The function is then called with the variables previously defined:"
   ]
  },
  {
   "cell_type": "code",
   "execution_count": null,
   "metadata": {
    "slideshow": {
     "slide_type": "fragment"
    }
   },
   "outputs": [],
   "source": [
    "print( temperature_sum( temp_avg, temp_base ) )"
   ]
  },
  {
   "cell_type": "markdown",
   "metadata": {
    "slideshow": {
     "slide_type": "fragment"
    }
   },
   "source": [
    "Note that that is the temperature sum (in $[^\\circ C \\cdot day]$) after the whole 9 days!!"
   ]
  },
  {
   "cell_type": "markdown",
   "metadata": {
    "slideshow": {
     "slide_type": "subslide"
    }
   },
   "source": [
    "It is possible to reuse the function with a different number of days in the first list, as it was not defined to iterate exactly 9 times:"
   ]
  },
  {
   "cell_type": "code",
   "execution_count": null,
   "metadata": {
    "slideshow": {
     "slide_type": "fragment"
    }
   },
   "outputs": [],
   "source": [
    "print( temperature_sum( [4, 5, 8], temp_base ) )\n",
    "print( temperature_sum( [4, 5, 8, 10, 12], temp_base ) )\n",
    "print( temperature_sum( [4, 5, 8, 10, 12, 10, 8, 5, 8], temp_base ) )"
   ]
  },
  {
   "cell_type": "markdown",
   "metadata": {
    "slideshow": {
     "slide_type": "fragment"
    }
   },
   "source": [
    "We will use this fact later to create a list of average sums up to each day, from day 1, 1 to 2, 1 to 3 and so on."
   ]
  },
  {
   "cell_type": "markdown",
   "metadata": {
    "slideshow": {
     "slide_type": "subslide"
    }
   },
   "source": [
    "#### Second step: A function that reuses the previous one, to calculate the temperature sum for each day"
   ]
  },
  {
   "cell_type": "markdown",
   "metadata": {
    "slideshow": {
     "slide_type": "fragment"
    }
   },
   "source": [
    "We can reuse the defined function using a ___for___ loop in the following way:"
   ]
  },
  {
   "cell_type": "code",
   "execution_count": null,
   "metadata": {
    "slideshow": {
     "slide_type": "fragment"
    }
   },
   "outputs": [],
   "source": [
    "day_temperature_sums = []\n",
    "for i in range(len(temp_avg)):\n",
    "    day_temperature_sums = day_temperature_sums + [ temperature_sum( temp_avg[:i+1], temp_base ) ]\n",
    "print( day_temperature_sums )"
   ]
  },
  {
   "cell_type": "markdown",
   "metadata": {
    "slideshow": {
     "slide_type": "subslide"
    }
   },
   "source": [
    "Alternatively, we can define a second function, wrap that piece of program in it, and use it afterwards."
   ]
  },
  {
   "cell_type": "code",
   "execution_count": null,
   "metadata": {
    "slideshow": {
     "slide_type": "fragment"
    }
   },
   "outputs": [],
   "source": [
    "def day_temperature_sums( temp_avgs, temp_base ):\n",
    "    \n",
    "    day_temperature_sums = []\n",
    "    for i in range(len(temp_avgs)):\n",
    "        current_sum = temperature_sum( temp_avgs[:i+1], temp_base )\n",
    "        day_temperature_sums = day_temperature_sums + [ current_sum ]\n",
    "#        print( i, current_sum, day_temperature_sums ) # Activate this line to see partial results\n",
    "        \n",
    "    return day_temperature_sums"
   ]
  },
  {
   "cell_type": "code",
   "execution_count": null,
   "metadata": {
    "slideshow": {
     "slide_type": "fragment"
    }
   },
   "outputs": [],
   "source": [
    "dts = day_temperature_sums( temp_avg, temp_base )\n",
    "print( dts )"
   ]
  },
  {
   "cell_type": "markdown",
   "metadata": {
    "slideshow": {
     "slide_type": "subslide"
    }
   },
   "source": [
    "We can then have a look a the cummulative temperatures over the 9-days range"
   ]
  },
  {
   "cell_type": "code",
   "execution_count": null,
   "metadata": {
    "slideshow": {
     "slide_type": "subslide"
    }
   },
   "outputs": [],
   "source": [
    "def makegraph():\n",
    "    fig, ax = plt.subplots( nrows=1, ncols=1, figsize=(10,5) )\n",
    "\n",
    "    ax.plot( t, temp_avg, linewidth=3, marker='s', markersize=10, color='red', label='Daily average temperaure' )\n",
    "    ax.plot( t, dts, linewidth=3, marker='*', markersize=10, color='blue', label='Daily average temperaure' )\n",
    "    ax.plot( t, [temp_base]*len(t), linewidth=3, color='green', label='Base temperature' )\n",
    "\n",
    "    ax.set_ylabel( 'Temperature $[^\\circ C]$', fontsize=14 )\n",
    "    ax.set_xlabel( 'Time [$days$]', fontsize=14 )\n",
    "\n",
    "    ax.legend()\n",
    "    \n",
    "    plt.show()"
   ]
  },
  {
   "cell_type": "code",
   "execution_count": null,
   "metadata": {
    "slideshow": {
     "slide_type": "subslide"
    }
   },
   "outputs": [],
   "source": [
    "makegraph()"
   ]
  },
  {
   "cell_type": "markdown",
   "metadata": {
    "slideshow": {
     "slide_type": "subslide"
    }
   },
   "source": [
    "Lastly, having the temperature sums for each day, we can calculate the plant height growth for each day using the formula from Mr. Teh:"
   ]
  },
  {
   "cell_type": "markdown",
   "metadata": {
    "slideshow": {
     "slide_type": "fragment"
    }
   },
   "source": [
    "$$ \\huge h_{ts}  =  \\frac{ h_m }{ 1 + b_0 \\cdot e^{-b_1 \\cdot T_{\\Sigma_{ts}}}} $$"
   ]
  },
  {
   "cell_type": "markdown",
   "metadata": {
    "slideshow": {
     "slide_type": "fragment"
    }
   },
   "source": [
    "The formula includes other parameters: plant maximum height and two coefficients (most commonly from field experiments).\n",
    "    \n",
    "We therefore define a function that accepts all four parameters."
   ]
  },
  {
   "cell_type": "code",
   "execution_count": null,
   "metadata": {
    "slideshow": {
     "slide_type": "fragment"
    }
   },
   "outputs": [],
   "source": [
    "def plant_height( temperature_sum, hm, b0, b1 ):\n",
    "    \n",
    "    import numpy as np\n",
    "    \n",
    "    return hm / ( 1 + b0 * np.exp( -1 * b1 * temperature_sum ) )"
   ]
  },
  {
   "cell_type": "markdown",
   "metadata": {
    "slideshow": {
     "slide_type": "fragment"
    }
   },
   "source": [
    "It is a very simple function: it accepts four parameters, makes a calculation and returns a single value, meaning the height of the plants under those conditions."
   ]
  },
  {
   "cell_type": "markdown",
   "metadata": {
    "slideshow": {
     "slide_type": "subslide"
    }
   },
   "source": [
    "Note the use of the ___numpy___ library. It is a very useful library for mathematical calculations. Its name stands for \"numeric python\", and we need it here to calculate the exponential function in the denominator."
   ]
  },
  {
   "cell_type": "markdown",
   "metadata": {
    "slideshow": {
     "slide_type": "subslide"
    }
   },
   "source": [
    "To test the function, we will suppose a maximum plant height of 60 cm, and two coefficientes $b_0=10$ and $b_1=0.05$."
   ]
  },
  {
   "cell_type": "code",
   "execution_count": null,
   "metadata": {
    "slideshow": {
     "slide_type": "fragment"
    }
   },
   "outputs": [],
   "source": [
    "b0 = 10\n",
    "b1 = 0.05\n",
    "max_height = 0.6 # in meters\n",
    "\n",
    "heights = []\n",
    "for element in dts:\n",
    "    current_height = plant_height( element, max_height, b0, b1 )\n",
    "    heights = heights + [ current_height ]\n",
    "#    print( element, current_height, heights ) # Activate this line to see partial results\n",
    "\n",
    "print( heights )"
   ]
  },
  {
   "cell_type": "markdown",
   "metadata": {
    "slideshow": {
     "slide_type": "subslide"
    }
   },
   "source": [
    "Lastly, a graph to see how the plants growth increases with the given temperatures:"
   ]
  },
  {
   "cell_type": "code",
   "execution_count": null,
   "metadata": {
    "slideshow": {
     "slide_type": "subslide"
    }
   },
   "outputs": [],
   "source": [
    "def makegraph():\n",
    "    fig, ax = plt.subplots( nrows=1, ncols=1, figsize=(10,5) )\n",
    "\n",
    "    ax.plot( t, heights, linewidth=2, marker='o', markersize=10, color='black', label='Cummulative growth' )\n",
    "\n",
    "    ax.set_ylabel( 'Growth in height $[m]$', fontsize=14 )\n",
    "    ax.set_xlabel( 'Time [$days$]', fontsize=14 )\n",
    "\n",
    "    ax.legend()\n",
    "\n",
    "    plt.show()"
   ]
  },
  {
   "cell_type": "code",
   "execution_count": null,
   "metadata": {
    "slideshow": {
     "slide_type": "fragment"
    }
   },
   "outputs": [],
   "source": [
    "makegraph()"
   ]
  },
  {
   "cell_type": "code",
   "execution_count": null,
   "metadata": {
    "slideshow": {
     "slide_type": "subslide"
    }
   },
   "outputs": [],
   "source": [
    "def makegraph():\n",
    "    fig, ax = plt.subplots( nrows=1, ncols=1, figsize=(10,5) )\n",
    "\n",
    "    ax.plot( t, temp_avg, linewidth=3, marker='s', markersize=10, color='red', label='Daily average temperaure' )\n",
    "    ax.plot( t, dts, linewidth=3, marker='*', markersize=10, color='blue', label='Daily average temperaure' )\n",
    "    ax.plot( t, [temp_base]*len(t), linewidth=3, color='green', label='Base temperature' )\n",
    "\n",
    "    ax.set_ylabel( 'Temperature $[^\\circ C]$', fontsize=14 )\n",
    "    ax.set_xlabel( 'Time [$days$]', fontsize=14 )\n",
    "\n",
    "    axR = fig.add_subplot(111, sharex=ax, frameon=False)\n",
    "    axR.plot( t, heights, linewidth=2, marker='o', markersize=10, color='black', label='Cummulative growth' )\n",
    "    axR.set_ylabel( 'Growth in height $[m]$', fontsize=14 )\n",
    "    axR.yaxis.tick_right()\n",
    "    axR.yaxis.set_label_position(\"right\")\n",
    "\n",
    "    ax.legend()\n",
    "    axR.legend(loc=1)\n",
    "\n",
    "    plt.show()"
   ]
  },
  {
   "cell_type": "code",
   "execution_count": null,
   "metadata": {
    "slideshow": {
     "slide_type": "subslide"
    }
   },
   "outputs": [],
   "source": [
    "makegraph()"
   ]
  },
  {
   "cell_type": "markdown",
   "metadata": {
    "slideshow": {
     "slide_type": "slide"
    }
   },
   "source": [
    "## Custom libraries"
   ]
  },
  {
   "cell_type": "markdown",
   "metadata": {
    "slideshow": {
     "slide_type": "subslide"
    }
   },
   "source": [
    "Sometimes, we are happy with a piece of code and hope to use it again in the future. We can then save it to a file in the hard disk, and later on call the functions in it without bothering to copy-paste the code each time. \n",
    "\n",
    "Files containing functions (or constants) are called ___libraries___, and build a very important part of many programming projects.\n",
    "\n",
    "There is a number of libraries already written and ready-to-use (remember _pysolar_?), but we can also make our own, either to share or to use them ourselves."
   ]
  },
  {
   "cell_type": "markdown",
   "metadata": {
    "slideshow": {
     "slide_type": "subslide"
    }
   },
   "source": [
    "A library is just the code saved in a raw-text file.\n",
    "\n",
    "We will make a library with the functions defined previously for the plant height growth calculation."
   ]
  },
  {
   "cell_type": "markdown",
   "metadata": {
    "slideshow": {
     "slide_type": "subslide"
    }
   },
   "source": [
    "<img src='../../misc/img/library.png' width='800'>"
   ]
  },
  {
   "cell_type": "markdown",
   "metadata": {
    "slideshow": {
     "slide_type": "subslide"
    }
   },
   "source": [
    "To use a custom library, we use the ___import___ statement, which we used before for ___numpy___."
   ]
  },
  {
   "cell_type": "markdown",
   "metadata": {
    "slideshow": {
     "slide_type": "fragment"
    }
   },
   "source": [
    "We can either import the whole library:"
   ]
  },
  {
   "cell_type": "code",
   "execution_count": null,
   "metadata": {
    "slideshow": {
     "slide_type": "fragment"
    }
   },
   "outputs": [],
   "source": [
    "import plantheight"
   ]
  },
  {
   "cell_type": "markdown",
   "metadata": {
    "slideshow": {
     "slide_type": "fragment"
    }
   },
   "source": [
    "Or single functions that we need:"
   ]
  },
  {
   "cell_type": "code",
   "execution_count": null,
   "metadata": {
    "slideshow": {
     "slide_type": "fragment"
    }
   },
   "outputs": [],
   "source": [
    "from plantheight import day_temperature_sums"
   ]
  },
  {
   "cell_type": "markdown",
   "metadata": {
    "slideshow": {
     "slide_type": "subslide"
    }
   },
   "source": [
    "If we import the complete library, we can use it like follows (it is the same example):"
   ]
  },
  {
   "cell_type": "code",
   "execution_count": null,
   "metadata": {
    "slideshow": {
     "slide_type": "subslide"
    }
   },
   "outputs": [],
   "source": [
    "import plantheight\n",
    "\n",
    "temp_avg = [ 4, 5, 8, 10, 12, 10, 8, 5, 8 ]\n",
    "temp_base = 5\n",
    "\n",
    "dts = plantheight.day_temperature_sums( temp_avg, temp_base )\n",
    "\n",
    "b0 = 10\n",
    "b1 = 0.05\n",
    "max_height = 0.6 # in meters\n",
    "\n",
    "heights = []\n",
    "for element in dts:\n",
    "    current_height = plantheight.plant_height( element, max_height, b0, b1 )\n",
    "    heights = heights + [ current_height ]\n",
    "\n",
    "print( heights )"
   ]
  },
  {
   "cell_type": "markdown",
   "metadata": {
    "slideshow": {
     "slide_type": "subslide"
    }
   },
   "source": [
    "Note that we access a function in a library using the dot operator ___.___"
   ]
  },
  {
   "cell_type": "markdown",
   "metadata": {
    "slideshow": {
     "slide_type": "slide"
    }
   },
   "source": [
    "## Parameter estimation - curve fitting"
   ]
  },
  {
   "cell_type": "markdown",
   "metadata": {
    "slideshow": {
     "slide_type": "subslide"
    }
   },
   "source": [
    "Up to now, we have defined the values for the $b_0$ and $b_1$ parameters in our plant growth model ourselves.\n",
    "\n",
    "Given that we have plant height *measurements* for each of the 9 days when we also have the temperatures, we can search for the optimal values of those two parameters."
   ]
  },
  {
   "cell_type": "markdown",
   "metadata": {
    "slideshow": {
     "slide_type": "subslide"
    }
   },
   "source": [
    "This is called *parameter estimation* and we will perform it using least squares optimization, a standard technique for this purpose.\n",
    "\n",
    "In our case, we will calle it from the submdule `optimize` in the library `scipy` (scientific python)."
   ]
  },
  {
   "cell_type": "code",
   "execution_count": null,
   "metadata": {
    "slideshow": {
     "slide_type": "fragment"
    }
   },
   "outputs": [],
   "source": [
    "from scipy.optimize import curve_fit"
   ]
  },
  {
   "cell_type": "code",
   "execution_count": null,
   "metadata": {
    "slideshow": {
     "slide_type": "subslide"
    }
   },
   "outputs": [],
   "source": [
    "curve_fit?"
   ]
  },
  {
   "cell_type": "markdown",
   "metadata": {
    "slideshow": {
     "slide_type": "subslide"
    }
   },
   "source": [
    "`curve_fit` needs a function with a particular parameter form: it needs the measurements in the first parameter, and optimizes all others coming after that.\n",
    "\n",
    "This is important, because we have 4 terms in Mr. Teh's model, but only want to optimize 2 of them:"
   ]
  },
  {
   "cell_type": "markdown",
   "metadata": {
    "slideshow": {
     "slide_type": "fragment"
    }
   },
   "source": [
    "$$ \\huge h_{ts}  =  \\frac{ h_m }{ 1 + b_0 \\cdot e^{-b_1 \\cdot T_{\\Sigma_{ts}}}} $$"
   ]
  },
  {
   "cell_type": "markdown",
   "metadata": {
    "slideshow": {
     "slide_type": "subslide"
    }
   },
   "source": [
    "We then have two options..."
   ]
  },
  {
   "cell_type": "markdown",
   "metadata": {
    "slideshow": {
     "slide_type": "subslide"
    }
   },
   "source": [
    "Either, we redefine plant_height from its previous form:"
   ]
  },
  {
   "cell_type": "code",
   "execution_count": null,
   "metadata": {
    "slideshow": {
     "slide_type": "fragment"
    }
   },
   "outputs": [],
   "source": [
    "def plant_height( temperature_sum, hm, b0, b1 ):\n",
    "    \n",
    "    import numpy as np\n",
    "    \n",
    "    return hm / ( 1 + b0 * np.exp( -1 * b1 * temperature_sum ) )"
   ]
  },
  {
   "cell_type": "code",
   "execution_count": null,
   "metadata": {
    "slideshow": {
     "slide_type": "fragment"
    }
   },
   "outputs": [],
   "source": [
    "def plant_height_fit( measurements, b0, b1 ):\n",
    "    \n",
    "    import numpy as np\n",
    "    \n",
    "    temperature_sum = measurements[0]\n",
    "    hm = measurements[1]\n",
    "    \n",
    "    return hm / ( 1 + b0 * np.exp( -1 * b1 * temperature_sum ) )"
   ]
  },
  {
   "cell_type": "markdown",
   "metadata": {
    "slideshow": {
     "slide_type": "subslide"
    }
   },
   "source": [
    "Or we wrap it in a second, dummy function to account for the parameter order:"
   ]
  },
  {
   "cell_type": "code",
   "execution_count": null,
   "metadata": {
    "slideshow": {
     "slide_type": "fragment"
    }
   },
   "outputs": [],
   "source": [
    "def plant_height( temperature_sum, hm, b0, b1 ):\n",
    "    \n",
    "    import numpy as np\n",
    "    \n",
    "    return hm / ( 1 + b0 * np.exp( -1 * b1 * temperature_sum ) )"
   ]
  },
  {
   "cell_type": "code",
   "execution_count": null,
   "metadata": {
    "slideshow": {
     "slide_type": "fragment"
    }
   },
   "outputs": [],
   "source": [
    "def plant_height_fit( measurements, b0, b1 ):\n",
    "        \n",
    "    temperature_sum = measurements[0]\n",
    "    hm = measurements[1]\n",
    "            \n",
    "    return plant_height( temperature_sum, hm, b0, b1 )"
   ]
  },
  {
   "cell_type": "markdown",
   "metadata": {
    "slideshow": {
     "slide_type": "subslide"
    }
   },
   "source": [
    "However way you feel more comfortable, it will work."
   ]
  },
  {
   "cell_type": "markdown",
   "metadata": {
    "slideshow": {
     "slide_type": "subslide"
    }
   },
   "source": [
    "Last thing we need are plant height measurements to adjust the parameters to.\n",
    "\n",
    "Let's assume the following measurements were recorded in those 9 days:"
   ]
  },
  {
   "cell_type": "code",
   "execution_count": null,
   "metadata": {
    "slideshow": {
     "slide_type": "fragment"
    }
   },
   "outputs": [],
   "source": [
    "measured_heights = [ 5, 5, 6, 10, 15, 21, 25, 26, 28 ] # <-- recorded in centimeters!!"
   ]
  },
  {
   "cell_type": "markdown",
   "metadata": {
    "slideshow": {
     "slide_type": "subslide"
    }
   },
   "source": [
    "And here we actually calculate the optimum parameters:"
   ]
  },
  {
   "cell_type": "code",
   "execution_count": null,
   "metadata": {
    "slideshow": {
     "slide_type": "fragment"
    }
   },
   "outputs": [],
   "source": [
    "popt, pcov = curve_fit( plant_height_fit, [ dts, [0.6]*len(dts) ], measured_heights )\n",
    "\n",
    "print( popt )"
   ]
  },
  {
   "cell_type": "markdown",
   "metadata": {
    "slideshow": {
     "slide_type": "subslide"
    }
   },
   "source": [
    "The function returns the optimized parameters in `popt`, in the order that they are defined in the function.\n",
    "\n",
    "Therefore: \n",
    "\n",
    "    b0 = popt[0]\n",
    "\n",
    "    b1 = popt[1] "
   ]
  },
  {
   "cell_type": "markdown",
   "metadata": {
    "slideshow": {
     "slide_type": "subslide"
    }
   },
   "source": [
    "We can compare the results from the function with optimized parameters with the measurements:"
   ]
  },
  {
   "cell_type": "code",
   "execution_count": null,
   "metadata": {
    "slideshow": {
     "slide_type": "fragment"
    }
   },
   "outputs": [],
   "source": [
    "simulated_heights = [ plant_height( t, 0.6, popt[0], popt[1] ) for t in dts ]"
   ]
  },
  {
   "cell_type": "code",
   "execution_count": null,
   "metadata": {
    "slideshow": {
     "slide_type": "fragment"
    }
   },
   "outputs": [],
   "source": [
    "print( measured_heights )\n",
    "\n",
    "print( simulated_heights )"
   ]
  },
  {
   "cell_type": "markdown",
   "metadata": {
    "slideshow": {
     "slide_type": "subslide"
    }
   },
   "source": [
    "$R^2$ coefficient of determination"
   ]
  },
  {
   "cell_type": "code",
   "execution_count": null,
   "metadata": {
    "slideshow": {
     "slide_type": "fragment"
    }
   },
   "outputs": [],
   "source": [
    "def rsquared(x, y):\n",
    "    from scipy.stats import linregress\n",
    "\n",
    "    \"\"\" Return R^2 where x and y are array-like.\"\"\"\n",
    "\n",
    "    slope, intercept, r_value, p_value, std_err = linregress(x, y)\n",
    "    return r_value**2"
   ]
  },
  {
   "cell_type": "code",
   "execution_count": null,
   "metadata": {
    "slideshow": {
     "slide_type": "subslide"
    }
   },
   "outputs": [],
   "source": [
    "r2 = rsquared( measured_heights, simulated_heights )\n",
    "r2 = round( r2, 5 )"
   ]
  },
  {
   "cell_type": "code",
   "execution_count": null,
   "metadata": {
    "slideshow": {
     "slide_type": "subslide"
    }
   },
   "outputs": [],
   "source": [
    "def scatter_model():\n",
    "    fig, ax = plt.subplots( figsize=(5,5) )\n",
    "    \n",
    "    ax.plot( [ -10, 50 ], [ -10, 50 ], color='black', linewidth=1 )\n",
    "    ax.scatter( measured_heights, simulated_heights, s=100 )\n",
    "    ax.set_xlim( [ 0, 30 ] )\n",
    "    ax.set_ylim( [ 0, 30 ] )\n",
    "    \n",
    "    ax.set_xlabel( 'Measured plant height $[cm]$', fontsize=14 )\n",
    "    ax.set_ylabel( 'Simulated plant height $[cm]$', fontsize=14 )\n",
    "    \n",
    "    ax.text( 5, 25, \"$r^2$=\"+str(r2), fontsize=14 )\n",
    "    \n",
    "    plt.show()"
   ]
  },
  {
   "cell_type": "code",
   "execution_count": null,
   "metadata": {
    "slideshow": {
     "slide_type": "subslide"
    }
   },
   "outputs": [],
   "source": [
    "scatter_model()"
   ]
  },
  {
   "cell_type": "markdown",
   "metadata": {
    "slideshow": {
     "slide_type": "slide"
    }
   },
   "source": [
    "## Exercises"
   ]
  },
  {
   "cell_type": "markdown",
   "metadata": {
    "slideshow": {
     "slide_type": "subslide"
    }
   },
   "source": [
    "Suppose that we need a function to trigger the irrigation in an automated irrigation system.\n",
    "\n",
    "Define a function that returns either ___True___ or ___False___ if an irrigation event should start.\n",
    "\n",
    "The irrigation should be triggered if a radiation sum exceeds a fixed value of $92.3 J/cm^2$"
   ]
  },
  {
   "cell_type": "markdown",
   "metadata": {
    "slideshow": {
     "slide_type": "fragment"
    }
   },
   "source": [
    "Modify the irrigation function to trigger an event only after 8:00 a.m."
   ]
  },
  {
   "cell_type": "markdown",
   "metadata": {
    "slideshow": {
     "slide_type": "subslide"
    }
   },
   "source": [
    "Tips: Use the library ___datetime___:"
   ]
  },
  {
   "cell_type": "code",
   "execution_count": null,
   "metadata": {
    "slideshow": {
     "slide_type": "fragment"
    }
   },
   "outputs": [],
   "source": [
    "import datetime"
   ]
  },
  {
   "cell_type": "markdown",
   "metadata": {
    "slideshow": {
     "slide_type": "fragment"
    }
   },
   "source": [
    "To define a time, use ___datetime.time___:"
   ]
  },
  {
   "cell_type": "code",
   "execution_count": null,
   "metadata": {
    "slideshow": {
     "slide_type": "fragment"
    }
   },
   "outputs": [],
   "source": [
    "datetime.time(12,30,55)"
   ]
  },
  {
   "cell_type": "markdown",
   "metadata": {
    "slideshow": {
     "slide_type": "subslide"
    }
   },
   "source": [
    "To check the current hour, use ___datetime.datetime.now().time()___:"
   ]
  },
  {
   "cell_type": "code",
   "execution_count": null,
   "metadata": {
    "slideshow": {
     "slide_type": "fragment"
    }
   },
   "outputs": [],
   "source": [
    "datetime.datetime.now().time() > datetime.time( 8,0,0 )"
   ]
  },
  {
   "cell_type": "markdown",
   "metadata": {
    "slideshow": {
     "slide_type": "subslide"
    }
   },
   "source": [
    "Lastly, save your irrigation function in a library ___irrigation.py___ and test it from the IPython terminal."
   ]
  }
 ],
 "metadata": {
  "celltoolbar": "Slideshow",
  "kernelspec": {
   "display_name": "Python 3",
   "language": "python",
   "name": "python3"
  },
  "language_info": {
   "codemirror_mode": {
    "name": "ipython",
    "version": 3
   },
   "file_extension": ".py",
   "mimetype": "text/x-python",
   "name": "python",
   "nbconvert_exporter": "python",
   "pygments_lexer": "ipython3",
   "version": "3.7.4"
  },
  "toc": {
   "base_numbering": 1,
   "nav_menu": {},
   "number_sections": false,
   "sideBar": true,
   "skip_h1_title": true,
   "title_cell": "Table of Contents",
   "title_sidebar": "Contents",
   "toc_cell": true,
   "toc_position": {},
   "toc_section_display": true,
   "toc_window_display": false
  },
  "varInspector": {
   "cols": {
    "lenName": 16,
    "lenType": 16,
    "lenVar": 40
   },
   "kernels_config": {
    "python": {
     "delete_cmd_postfix": "",
     "delete_cmd_prefix": "del ",
     "library": "var_list.py",
     "varRefreshCmd": "print(var_dic_list())"
    },
    "r": {
     "delete_cmd_postfix": ") ",
     "delete_cmd_prefix": "rm(",
     "library": "var_list.r",
     "varRefreshCmd": "cat(var_dic_list()) "
    }
   },
   "types_to_exclude": [
    "module",
    "function",
    "builtin_function_or_method",
    "instance",
    "_Feature"
   ],
   "window_display": false
  }
 },
 "nbformat": 4,
 "nbformat_minor": 2
}
