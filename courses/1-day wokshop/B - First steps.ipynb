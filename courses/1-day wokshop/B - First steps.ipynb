{
 "cells": [
  {
   "cell_type": "markdown",
   "metadata": {
    "slideshow": {
     "slide_type": "slide"
    }
   },
   "source": [
    "# B - First steps in python"
   ]
  },
  {
   "cell_type": "markdown",
   "metadata": {
    "slideshow": {
     "slide_type": "slide"
    }
   },
   "source": [
    "## Jupyter notebooks"
   ]
  },
  {
   "cell_type": "markdown",
   "metadata": {
    "ExecuteTime": {
     "end_time": "2019-08-27T14:48:42.376914Z",
     "start_time": "2019-08-27T14:48:42.371567Z"
    },
    "slideshow": {
     "slide_type": "fragment"
    }
   },
   "source": [
    "___jupyter notebook___ is a tool for developing and presenting  projects involving programming in ___python___, but also in ___julia___ or ___R___.\n",
    "\n",
    "Indeed, the name ___jupyter___ makes reference to those 3 supported programming languages."
   ]
  },
  {
   "cell_type": "markdown",
   "metadata": {
    "ExecuteTime": {
     "end_time": "2019-08-27T14:48:53.334797Z",
     "start_time": "2019-08-27T14:48:53.331045Z"
    },
    "slideshow": {
     "slide_type": "subslide"
    }
   },
   "source": [
    "Two characteristics make notebooks very attractive:\n",
    "\n",
    "* For programming, the possibility to run smaller pieces of code and test them interactively, instead of having a single, big program.\n",
    "* For presentation or sharing, the rich formatting possibilities as well as the option to export the complete project as PDF or HTML file to share."
   ]
  },
  {
   "cell_type": "markdown",
   "metadata": {
    "slideshow": {
     "slide_type": "fragment"
    }
   },
   "source": [
    "When in interactive mode, the commands are interpreted and executed immediately, one after the other. For this, we need an interpreter. Python has it's own interpreter. Other are the IPython console and the jupyter notebooks."
   ]
  },
  {
   "cell_type": "markdown",
   "metadata": {
    "slideshow": {
     "slide_type": "subslide"
    }
   },
   "source": [
    "### Interface"
   ]
  },
  {
   "cell_type": "markdown",
   "metadata": {
    "ExecuteTime": {
     "end_time": "2019-08-27T14:49:13.597183Z",
     "start_time": "2019-08-27T14:49:13.591789Z"
    },
    "slideshow": {
     "slide_type": "subslide"
    }
   },
   "source": [
    "The anaconda bundle includes the jupyter notebook already.\n",
    "\n",
    "It can be launched either from the anaconda navigator interface, or directly typing _jupyter notebook_ in the start menu in windows:"
   ]
  },
  {
   "cell_type": "code",
   "execution_count": null,
   "metadata": {},
   "outputs": [],
   "source": [
    "pwd"
   ]
  },
  {
   "cell_type": "markdown",
   "metadata": {
    "slideshow": {
     "slide_type": "fragment"
    }
   },
   "source": [
    "<img src='../../misc/img/jupyter_win_menu.png' width='300'>"
   ]
  },
  {
   "cell_type": "markdown",
   "metadata": {
    "slideshow": {
     "slide_type": "subslide"
    }
   },
   "source": [
    "When jupyter is launched, it starts a server that runs in a web browser. The operation and editing of the notebooks will then be done in the web browser:"
   ]
  },
  {
   "cell_type": "markdown",
   "metadata": {
    "ExecuteTime": {
     "end_time": "2019-08-27T14:49:58.384573Z",
     "start_time": "2019-08-27T14:49:58.380736Z"
    },
    "slideshow": {
     "slide_type": "fragment"
    }
   },
   "source": [
    "<img src='../../misc/img/delete_notebook.png' width='1000'>"
   ]
  },
  {
   "cell_type": "markdown",
   "metadata": {
    "slideshow": {
     "slide_type": "subslide"
    }
   },
   "source": [
    "The main screen shows a file and directory tree. From here, it is possible to navigate folders and open files. While it is possible to open text files and images (among others) in the browser, the main use of this dashboard panel is to create, rename and delete, to start and stop _notebooks_. In order to perform these actions, it is necessary to check the box to the left of the file(s) and then look for the desired action on top of the screen. By the way, it is also possible to create and delete folders from this screen."
   ]
  },
  {
   "cell_type": "markdown",
   "metadata": {
    "slideshow": {
     "slide_type": "subslide"
    }
   },
   "source": [
    "These notebooks are the documents where we will include code as well as output and formatted text and images."
   ]
  },
  {
   "cell_type": "markdown",
   "metadata": {
    "slideshow": {
     "slide_type": "subslide"
    }
   },
   "source": [
    "### Cells"
   ]
  },
  {
   "cell_type": "markdown",
   "metadata": {
    "slideshow": {
     "slide_type": "subslide"
    }
   },
   "source": [
    "Notebooks are built by ___cells___ which are the units of code that will be executed independently, although it is possible to run them all one after the other."
   ]
  },
  {
   "cell_type": "markdown",
   "metadata": {
    "slideshow": {
     "slide_type": "fragment"
    }
   },
   "source": [
    "___Cells___ can be of three types:\n",
    "* Code\n",
    "* Markdown\n",
    "* Raw text"
   ]
  },
  {
   "cell_type": "markdown",
   "metadata": {
    "slideshow": {
     "slide_type": "subslide"
    }
   },
   "source": [
    "Basically, the three types of cells are used for:\n",
    "* Code → Writing pieces of program, that will be executed in python3\n",
    "* Markdown → Rich format, explanations, text, titles, images, equations\n",
    "* Raw text → Text without any format, in a raw form, that won't be interpreted as format or code"
   ]
  },
  {
   "cell_type": "markdown",
   "metadata": {
    "slideshow": {
     "slide_type": "subslide"
    }
   },
   "source": [
    "The type can be changed using the cell menu:"
   ]
  },
  {
   "cell_type": "markdown",
   "metadata": {
    "slideshow": {
     "slide_type": "fragment"
    }
   },
   "source": [
    "<img src='../../misc/img/cells1.png' width='700'>"
   ]
  },
  {
   "cell_type": "markdown",
   "metadata": {
    "slideshow": {
     "slide_type": "subslide"
    }
   },
   "source": [
    "or with the toolbar:"
   ]
  },
  {
   "cell_type": "markdown",
   "metadata": {
    "slideshow": {
     "slide_type": "fragment"
    }
   },
   "source": [
    "<img src='../../misc/img/cells2.png' width='700'>"
   ]
  },
  {
   "cell_type": "markdown",
   "metadata": {
    "slideshow": {
     "slide_type": "subslide"
    }
   },
   "source": [
    "or using keyboard shortcuts in ___command mode___:\n",
    "* <kbd>y</kbd> → Make this cell ___code___\n",
    "* <kbd>m</kbd> → Make this cell ___markdown format___\n",
    "* <kbd>r</kbd> → Make this cell ___raw input___"
   ]
  },
  {
   "cell_type": "markdown",
   "metadata": {
    "slideshow": {
     "slide_type": "subslide"
    }
   },
   "source": [
    "### Coding"
   ]
  },
  {
   "cell_type": "markdown",
   "metadata": {
    "slideshow": {
     "slide_type": "subslide"
    }
   },
   "source": [
    "Each cell in a jupyter notebook can run python code, provided that the python kernel is installed and running correctly, and that the cell is configured as `code`.\n",
    "\n",
    "By default, all cells are first configured as `code`."
   ]
  },
  {
   "cell_type": "markdown",
   "metadata": {
    "slideshow": {
     "slide_type": "subslide"
    }
   },
   "source": [
    "A cell can be run either using a combination of keys, or using the buttons in the toolbar:"
   ]
  },
  {
   "cell_type": "markdown",
   "metadata": {
    "slideshow": {
     "slide_type": "fragment"
    }
   },
   "source": [
    "* <kbd>CTRL</kbd>+<kbd>ENTER</kbd> → to run the code in the current cell\n",
    "* <kbd>Shift</kbd>+<kbd>ENTER</kbd> → to run the code in the current cell and select next cell below\n",
    "* <kbd>ALT</kbd>+<kbd>ENTER</kbd> → to run the code in the current cell and insert an empty new under it"
   ]
  },
  {
   "cell_type": "markdown",
   "metadata": {
    "slideshow": {
     "slide_type": "fragment"
    }
   },
   "source": [
    "<img src='../../misc/img/run_buttons.png' width='300'>"
   ]
  },
  {
   "cell_type": "markdown",
   "metadata": {
    "slideshow": {
     "slide_type": "subslide"
    }
   },
   "source": [
    "One interesting feature is that we can run a cell *after*, and then one *before*, and the values of variables or imported libraries is preserved."
   ]
  },
  {
   "cell_type": "code",
   "execution_count": 1,
   "metadata": {
    "slideshow": {
     "slide_type": "fragment"
    }
   },
   "outputs": [
    {
     "ename": "NameError",
     "evalue": "name 'a' is not defined",
     "output_type": "error",
     "traceback": [
      "\u001b[0;31m---------------------------------------------------------------------------\u001b[0m",
      "\u001b[0;31mNameError\u001b[0m                                 Traceback (most recent call last)",
      "\u001b[0;32m<ipython-input-1-d818cd487e0a>\u001b[0m in \u001b[0;36m<module>\u001b[0;34m\u001b[0m\n\u001b[0;32m----> 1\u001b[0;31m \u001b[0mprint\u001b[0m\u001b[0;34m(\u001b[0m \u001b[0ma\u001b[0m \u001b[0;34m)\u001b[0m\u001b[0;34m\u001b[0m\u001b[0;34m\u001b[0m\u001b[0m\n\u001b[0m",
      "\u001b[0;31mNameError\u001b[0m: name 'a' is not defined"
     ]
    }
   ],
   "source": [
    "print( a )"
   ]
  },
  {
   "cell_type": "code",
   "execution_count": null,
   "metadata": {
    "slideshow": {
     "slide_type": "fragment"
    }
   },
   "outputs": [],
   "source": [
    "a = 2"
   ]
  },
  {
   "cell_type": "markdown",
   "metadata": {
    "slideshow": {
     "slide_type": "subslide"
    }
   },
   "source": [
    "While running cells without order can be useful sometimes, it leads to untidy and messy code.\n",
    "\n",
    "It is a good practice to structure the code to be run from beginning to end.\n",
    "\n",
    "To run the complete notebook, we can use the menus:\n",
    "* `Cell` → `Run All`\n",
    "* `Kernel` → `Restart & Run All`"
   ]
  },
  {
   "cell_type": "markdown",
   "metadata": {
    "slideshow": {
     "slide_type": "slide"
    }
   },
   "source": [
    "## Python"
   ]
  },
  {
   "cell_type": "markdown",
   "metadata": {
    "slideshow": {
     "slide_type": "subslide"
    }
   },
   "source": [
    "### _import_ and _print_ statements"
   ]
  },
  {
   "cell_type": "markdown",
   "metadata": {
    "slideshow": {
     "slide_type": "fragment"
    }
   },
   "source": [
    "___print___ is a function that takes any number of arguments (separated by commas), and prints them on the screen.\n",
    "\n",
    "___print___ is one of the major differences between ___python 2___ and ___python 3___: in ___python 2___ it is a statement instead of a function."
   ]
  },
  {
   "cell_type": "code",
   "execution_count": null,
   "metadata": {
    "ExecuteTime": {
     "end_time": "2019-08-27T15:37:04.787969Z",
     "start_time": "2019-08-27T15:37:04.785129Z"
    },
    "slideshow": {
     "slide_type": "subslide"
    }
   },
   "outputs": [],
   "source": [
    "print( 'Hello world!' ) # <--- string"
   ]
  },
  {
   "cell_type": "code",
   "execution_count": null,
   "metadata": {
    "ExecuteTime": {
     "end_time": "2019-08-27T15:37:54.100799Z",
     "start_time": "2019-08-27T15:37:54.097951Z"
    },
    "slideshow": {
     "slide_type": "fragment"
    }
   },
   "outputs": [],
   "source": [
    "print( 5 ) # <--- number\n",
    "print( 5.4 ) #  <--- number"
   ]
  },
  {
   "cell_type": "code",
   "execution_count": null,
   "metadata": {
    "ExecuteTime": {
     "end_time": "2019-08-27T15:37:51.695793Z",
     "start_time": "2019-08-27T15:37:51.690626Z"
    },
    "slideshow": {
     "slide_type": "subslide"
    }
   },
   "outputs": [],
   "source": [
    "print( 5, 5.4 )"
   ]
  },
  {
   "cell_type": "code",
   "execution_count": null,
   "metadata": {
    "ExecuteTime": {
     "end_time": "2019-08-27T15:38:37.184319Z",
     "start_time": "2019-08-27T15:38:37.181255Z"
    },
    "slideshow": {
     "slide_type": "fragment"
    }
   },
   "outputs": [],
   "source": [
    "print( 'Addition:',  5 + 5.4 ) # <--- combined types"
   ]
  },
  {
   "cell_type": "code",
   "execution_count": null,
   "metadata": {
    "ExecuteTime": {
     "end_time": "2019-08-27T15:38:56.651913Z",
     "start_time": "2019-08-27T15:38:56.648147Z"
    },
    "slideshow": {
     "slide_type": "subslide"
    }
   },
   "outputs": [],
   "source": [
    "print( '-'*50 )\n",
    "print( 'Addition:',  5 + 5.4 ) # <--- combined types\n",
    "print( '-'*50 )"
   ]
  },
  {
   "cell_type": "code",
   "execution_count": null,
   "metadata": {
    "ExecuteTime": {
     "end_time": "2019-08-27T15:39:25.619373Z",
     "start_time": "2019-08-27T15:39:25.614025Z"
    },
    "slideshow": {
     "slide_type": "fragment"
    }
   },
   "outputs": [],
   "source": [
    "print( '-'*50 )\n",
    "print( 'pi:',  np.pi ) # <--- 3.1416\n",
    "print( '-'*c50 )"
   ]
  },
  {
   "cell_type": "markdown",
   "metadata": {
    "slideshow": {
     "slide_type": "subslide"
    }
   },
   "source": [
    "___import___ calls an installed library, or a part of it, and can be used in several forms:"
   ]
  },
  {
   "cell_type": "code",
   "execution_count": null,
   "metadata": {
    "ExecuteTime": {
     "end_time": "2019-08-27T15:45:15.525010Z",
     "start_time": "2019-08-27T15:45:15.519850Z"
    },
    "slideshow": {
     "slide_type": "fragment"
    }
   },
   "outputs": [],
   "source": [
    "# Imports the complete numpy library\n",
    "import numpy"
   ]
  },
  {
   "cell_type": "code",
   "execution_count": null,
   "metadata": {
    "ExecuteTime": {
     "end_time": "2019-08-27T15:45:44.625909Z",
     "start_time": "2019-08-27T15:45:44.618354Z"
    },
    "slideshow": {
     "slide_type": "fragment"
    }
   },
   "outputs": [],
   "source": [
    "numpy.pi"
   ]
  },
  {
   "cell_type": "code",
   "execution_count": null,
   "metadata": {
    "ExecuteTime": {
     "end_time": "2019-08-27T15:46:28.329590Z",
     "start_time": "2019-08-27T15:46:28.325514Z"
    },
    "slideshow": {
     "slide_type": "fragment"
    }
   },
   "outputs": [],
   "source": [
    "# Imports the complete numpy library with a pseudonym\n",
    "import numpy as np"
   ]
  },
  {
   "cell_type": "code",
   "execution_count": null,
   "metadata": {
    "ExecuteTime": {
     "end_time": "2019-08-27T15:46:44.860289Z",
     "start_time": "2019-08-27T15:46:44.854175Z"
    },
    "slideshow": {
     "slide_type": "fragment"
    }
   },
   "outputs": [],
   "source": [
    "np.pi"
   ]
  },
  {
   "cell_type": "code",
   "execution_count": null,
   "metadata": {
    "ExecuteTime": {
     "end_time": "2019-08-27T15:46:04.122217Z",
     "start_time": "2019-08-27T15:46:04.117965Z"
    },
    "slideshow": {
     "slide_type": "fragment"
    }
   },
   "outputs": [],
   "source": [
    "# Imports only a part of the numpy library\n",
    "from numpy import pi"
   ]
  },
  {
   "cell_type": "code",
   "execution_count": null,
   "metadata": {
    "ExecuteTime": {
     "end_time": "2019-08-27T15:46:06.823370Z",
     "start_time": "2019-08-27T15:46:06.818418Z"
    },
    "slideshow": {
     "slide_type": "fragment"
    }
   },
   "outputs": [],
   "source": [
    "pi"
   ]
  },
  {
   "cell_type": "code",
   "execution_count": null,
   "metadata": {
    "ExecuteTime": {
     "end_time": "2019-08-27T15:38:56.651913Z",
     "start_time": "2019-08-27T15:38:56.648147Z"
    },
    "slideshow": {
     "slide_type": "subslide"
    }
   },
   "outputs": [],
   "source": [
    "print( '-'*50 )\n",
    "print( 'pi:',  np.pi ) # <--- 3.1416\n",
    "print( '-'*50 )"
   ]
  },
  {
   "cell_type": "markdown",
   "metadata": {
    "slideshow": {
     "slide_type": "subslide"
    }
   },
   "source": [
    "### Data structures: _list_ & _dictionary_"
   ]
  },
  {
   "cell_type": "markdown",
   "metadata": {
    "slideshow": {
     "slide_type": "subslide"
    }
   },
   "source": [
    "#### Variables "
   ]
  },
  {
   "cell_type": "markdown",
   "metadata": {
    "slideshow": {
     "slide_type": "subslide"
    }
   },
   "source": [
    "Variables can be defined on the run, they don't need to be declared previously (as in other programming languages)."
   ]
  },
  {
   "cell_type": "code",
   "execution_count": null,
   "metadata": {
    "slideshow": {
     "slide_type": "slide"
    }
   },
   "outputs": [],
   "source": [
    "a = 3\n",
    "print( a )\n",
    "print( a+1 )\n",
    "b = 5\n",
    "print( a+b )\n",
    "c = 'foo' + 'bar'\n",
    "print( c )"
   ]
  },
  {
   "cell_type": "markdown",
   "metadata": {
    "slideshow": {
     "slide_type": "subslide"
    }
   },
   "source": [
    "Even though the variables are not declared explicitly, they still have a type:"
   ]
  },
  {
   "cell_type": "code",
   "execution_count": null,
   "metadata": {
    "slideshow": {
     "slide_type": "fragment"
    }
   },
   "outputs": [],
   "source": [
    "print( type( a ) )\n",
    "print( type( b ) )\n",
    "print( type( c ) )\n",
    "\n",
    "print( a+c )"
   ]
  },
  {
   "cell_type": "markdown",
   "metadata": {
    "slideshow": {
     "slide_type": "subslide"
    }
   },
   "source": [
    "We can check the type of variables with the function ___type()___ or with logical comparisons:"
   ]
  },
  {
   "cell_type": "code",
   "execution_count": null,
   "metadata": {
    "slideshow": {
     "slide_type": "fragment"
    }
   },
   "outputs": [],
   "source": [
    "print( type( a ) == int )\n",
    "print( type( b ) == int )\n",
    "print( type( c ) == int )"
   ]
  },
  {
   "cell_type": "markdown",
   "metadata": {
    "slideshow": {
     "slide_type": "subslide"
    }
   },
   "source": [
    "#### Lists"
   ]
  },
  {
   "cell_type": "markdown",
   "metadata": {
    "slideshow": {
     "slide_type": "fragment"
    }
   },
   "source": [
    "Lists are a type of variable, similar to _arrays_ and _vectors_ in other programming languages.\n",
    "\n",
    "In Python, they deserve particular attention. They are widely used due to their flexibility and a number of functions and routines that encourage their usage. They can make programs very efficient and provide neat solutions to otherwise complex problems."
   ]
  },
  {
   "cell_type": "markdown",
   "metadata": {
    "slideshow": {
     "slide_type": "subslide"
    }
   },
   "source": [
    "Lists are created either by using square brackets:"
   ]
  },
  {
   "cell_type": "code",
   "execution_count": null,
   "metadata": {
    "slideshow": {
     "slide_type": "fragment"
    }
   },
   "outputs": [],
   "source": [
    "ll1 = [ 1, 2, 3, 4 ]\n",
    "print( ll1, type(ll1) )"
   ]
  },
  {
   "cell_type": "markdown",
   "metadata": {
    "slideshow": {
     "slide_type": "fragment"
    }
   },
   "source": [
    "Or by using the function *list*:"
   ]
  },
  {
   "cell_type": "code",
   "execution_count": null,
   "metadata": {
    "slideshow": {
     "slide_type": "fragment"
    }
   },
   "outputs": [],
   "source": [
    "ll2 = list( [ 1, 2, 3, 4 ] )\n",
    "print( ll2, type(ll2) )"
   ]
  },
  {
   "cell_type": "code",
   "execution_count": null,
   "metadata": {
    "slideshow": {
     "slide_type": "fragment"
    }
   },
   "outputs": [],
   "source": [
    "ll3 = list( ( 1, 2, 3, 4 ) )\n",
    "print( ll3, type(ll3) )"
   ]
  },
  {
   "cell_type": "markdown",
   "metadata": {
    "slideshow": {
     "slide_type": "subslide"
    }
   },
   "source": [
    "In all three cases, the result is the same "
   ]
  },
  {
   "cell_type": "code",
   "execution_count": null,
   "metadata": {
    "slideshow": {
     "slide_type": "fragment"
    }
   },
   "outputs": [],
   "source": [
    "print( ll1 == ll2 == ll3 )"
   ]
  },
  {
   "cell_type": "markdown",
   "metadata": {
    "slideshow": {
     "slide_type": "fragment"
    }
   },
   "source": [
    "(don't bother with the parenthesis in ll3 for now... If you *do* want to bother, they define a *generator*, look it up!)"
   ]
  },
  {
   "cell_type": "markdown",
   "metadata": {
    "slideshow": {
     "slide_type": "subslide"
    }
   },
   "source": [
    "Lists can contain variables, not only explicit values:"
   ]
  },
  {
   "cell_type": "code",
   "execution_count": null,
   "metadata": {
    "slideshow": {
     "slide_type": "fragment"
    }
   },
   "outputs": [],
   "source": [
    "ll = [ a, b, c, [ 1,2,3 ] ]\n",
    "\n",
    "print( ll )"
   ]
  },
  {
   "cell_type": "markdown",
   "metadata": {
    "slideshow": {
     "slide_type": "fragment"
    }
   },
   "source": [
    "Notice that the type of the variables in a list doesn't need to be the same!!"
   ]
  },
  {
   "cell_type": "markdown",
   "metadata": {
    "slideshow": {
     "slide_type": "subslide"
    }
   },
   "source": [
    "We access particular elements in a list by _indexing_ using square brackets:"
   ]
  },
  {
   "cell_type": "code",
   "execution_count": null,
   "metadata": {
    "slideshow": {
     "slide_type": "fragment"
    }
   },
   "outputs": [],
   "source": [
    "print( ll )"
   ]
  },
  {
   "cell_type": "code",
   "execution_count": null,
   "metadata": {
    "slideshow": {
     "slide_type": "fragment"
    }
   },
   "outputs": [],
   "source": [
    "print( ll[1] )"
   ]
  },
  {
   "cell_type": "markdown",
   "metadata": {
    "slideshow": {
     "slide_type": "fragment"
    }
   },
   "source": [
    "Notice that python uses 0-indexing in lists!"
   ]
  },
  {
   "cell_type": "markdown",
   "metadata": {
    "slideshow": {
     "slide_type": "subslide"
    }
   },
   "source": [
    "To index a range inside a list, we use a semicolon:"
   ]
  },
  {
   "cell_type": "code",
   "execution_count": null,
   "metadata": {
    "slideshow": {
     "slide_type": "fragment"
    }
   },
   "outputs": [],
   "source": [
    "print( ll )"
   ]
  },
  {
   "cell_type": "code",
   "execution_count": null,
   "metadata": {
    "slideshow": {
     "slide_type": "fragment"
    }
   },
   "outputs": [],
   "source": [
    "print( ll[1:3] )"
   ]
  },
  {
   "cell_type": "code",
   "execution_count": null,
   "metadata": {
    "ExecuteTime": {
     "end_time": "2019-08-27T15:57:56.087407Z",
     "start_time": "2019-08-27T15:57:56.079625Z"
    },
    "slideshow": {
     "slide_type": "fragment"
    }
   },
   "outputs": [],
   "source": [
    "print( ll[:2] )"
   ]
  },
  {
   "cell_type": "markdown",
   "metadata": {
    "slideshow": {
     "slide_type": "fragment"
    }
   },
   "source": [
    "Notice that the last element (here 'foobar') is *not* included in the returned range!"
   ]
  },
  {
   "cell_type": "markdown",
   "metadata": {
    "slideshow": {
     "slide_type": "subslide"
    }
   },
   "source": [
    "We can add elements to a list, either at the beginning, at the end, or at some point in between.\n",
    "\n",
    "Please look how to do it!"
   ]
  },
  {
   "cell_type": "markdown",
   "metadata": {
    "slideshow": {
     "slide_type": "subslide"
    }
   },
   "source": [
    "##### '+' operator"
   ]
  },
  {
   "cell_type": "markdown",
   "metadata": {
    "slideshow": {
     "slide_type": "subslide"
    }
   },
   "source": [
    "We can concatenate lists using the ___'+'___ operator. It returns a list made with the operators:"
   ]
  },
  {
   "cell_type": "code",
   "execution_count": null,
   "metadata": {
    "slideshow": {
     "slide_type": "fragment"
    }
   },
   "outputs": [],
   "source": [
    "print( ll )"
   ]
  },
  {
   "cell_type": "code",
   "execution_count": null,
   "metadata": {
    "scrolled": true,
    "slideshow": {
     "slide_type": "fragment"
    }
   },
   "outputs": [],
   "source": [
    "print( ll[:1] + [ '000' ] + ll[1:] )"
   ]
  },
  {
   "cell_type": "code",
   "execution_count": null,
   "metadata": {
    "slideshow": {
     "slide_type": "fragment"
    }
   },
   "outputs": [],
   "source": [
    "print( [ '000' ] + ll + [ 'xxx', 'yyy' ] )"
   ]
  },
  {
   "cell_type": "code",
   "execution_count": null,
   "metadata": {
    "slideshow": {
     "slide_type": "fragment"
    }
   },
   "outputs": [],
   "source": [
    "print( ll )"
   ]
  },
  {
   "cell_type": "markdown",
   "metadata": {
    "slideshow": {
     "slide_type": "subslide"
    }
   },
   "source": [
    "Two things to notice:\n",
    "* The elements to concatenate ___must___ be all lists, therefore the square brackets in `['000']`\n",
    "* The original list is ___not___ modified with the results, for that, we need to assign the result to the list again:"
   ]
  },
  {
   "cell_type": "code",
   "execution_count": null,
   "metadata": {
    "slideshow": {
     "slide_type": "fragment"
    }
   },
   "outputs": [],
   "source": [
    "print( ll )\n",
    "ll = [ '000' ] + ll\n",
    "print( ll )\n",
    "ll = [ '000' ] + ll + [ 'xxx', 'yyy' ]\n",
    "print( ll )"
   ]
  },
  {
   "cell_type": "markdown",
   "metadata": {
    "slideshow": {
     "slide_type": "subslide"
    }
   },
   "source": [
    "We can also use the *methods* of the *class* *list*, which we can access with a point '.' :"
   ]
  },
  {
   "cell_type": "code",
   "execution_count": null,
   "metadata": {
    "slideshow": {
     "slide_type": "fragment"
    }
   },
   "outputs": [],
   "source": [
    "print( ll )"
   ]
  },
  {
   "cell_type": "code",
   "execution_count": null,
   "metadata": {
    "slideshow": {
     "slide_type": "fragment"
    }
   },
   "outputs": [],
   "source": [
    "ll.append( 'xxx' )\n",
    "print( ll )"
   ]
  },
  {
   "cell_type": "markdown",
   "metadata": {
    "slideshow": {
     "slide_type": "subslide"
    }
   },
   "source": [
    "Ohter useful methods are *insert*, *pop*, *remove*. In many consoles you can type a '.' and hit <TAB> to get a list of available methods."
   ]
  },
  {
   "cell_type": "code",
   "execution_count": null,
   "metadata": {
    "slideshow": {
     "slide_type": "fragment"
    }
   },
   "outputs": [],
   "source": [
    "ll."
   ]
  },
  {
   "cell_type": "markdown",
   "metadata": {
    "slideshow": {
     "slide_type": "fragment"
    }
   },
   "source": [
    "In most interactive consoles, you can look the documentation of objects using a question mark '?' :"
   ]
  },
  {
   "cell_type": "code",
   "execution_count": null,
   "metadata": {
    "slideshow": {
     "slide_type": "fragment"
    }
   },
   "outputs": [],
   "source": [
    "ll.append?"
   ]
  },
  {
   "cell_type": "markdown",
   "metadata": {
    "slideshow": {
     "slide_type": "subslide"
    }
   },
   "source": [
    "Some functions and commands that are useful when working with lists include:\n",
    "* ___len()___\n",
    "* ___sorted()___\n",
    "* ___set()___\n",
    "* ___reversed()___\n",
    "* ___in___"
   ]
  },
  {
   "cell_type": "markdown",
   "metadata": {
    "slideshow": {
     "slide_type": "subslide"
    }
   },
   "source": [
    "#### Dictionaries"
   ]
  },
  {
   "cell_type": "markdown",
   "metadata": {
    "slideshow": {
     "slide_type": "subslide"
    }
   },
   "source": [
    "We can think of dictionaries as an enhanced type of lists, where the indexing is not necessarily numbers, but arbitrary labels.\n",
    "\n",
    "In terms of syntax, the main difference is the use of curly brackets. Also that the keys (indexes) must be specified for each element."
   ]
  },
  {
   "cell_type": "code",
   "execution_count": null,
   "metadata": {
    "ExecuteTime": {
     "end_time": "2019-08-27T16:05:27.042008Z",
     "start_time": "2019-08-27T16:05:27.039036Z"
    },
    "slideshow": {
     "slide_type": "fragment"
    }
   },
   "outputs": [],
   "source": [
    "ll = [ 'apple', 'pear', 'quince' ]\n",
    "print( ll[2] )"
   ]
  },
  {
   "cell_type": "code",
   "execution_count": null,
   "metadata": {
    "ExecuteTime": {
     "end_time": "2019-08-27T16:06:13.900506Z",
     "start_time": "2019-08-27T16:06:13.897784Z"
    },
    "slideshow": {
     "slide_type": "fragment"
    }
   },
   "outputs": [],
   "source": [
    "dd = { 'a': 'apple', 'b': 'pear', 'c':'quince' }\n",
    "print( dd['c'] )"
   ]
  },
  {
   "cell_type": "markdown",
   "metadata": {
    "slideshow": {
     "slide_type": "subslide"
    }
   },
   "source": [
    "A more realistic example can look like this:"
   ]
  },
  {
   "cell_type": "code",
   "execution_count": null,
   "metadata": {
    "ExecuteTime": {
     "end_time": "2019-08-27T16:12:23.844429Z",
     "start_time": "2019-08-27T16:12:23.840015Z"
    },
    "slideshow": {
     "slide_type": "fragment"
    }
   },
   "outputs": [],
   "source": [
    "coord = { 'Chapingo': { 'lat':19.483, 'lon':-98.883 },\n",
    "          'Berlin':   { 'lat':52.516, 'lon':13.388 } }"
   ]
  },
  {
   "cell_type": "code",
   "execution_count": null,
   "metadata": {
    "ExecuteTime": {
     "end_time": "2019-08-27T16:12:37.426821Z",
     "start_time": "2019-08-27T16:12:37.419854Z"
    },
    "slideshow": {
     "slide_type": "fragment"
    }
   },
   "outputs": [],
   "source": [
    "coord[ 'Chapingo' ][ 'lat' ]"
   ]
  },
  {
   "cell_type": "markdown",
   "metadata": {
    "slideshow": {
     "slide_type": "subslide"
    }
   },
   "source": [
    "### Control flow: _if_ & _for_"
   ]
  },
  {
   "cell_type": "markdown",
   "metadata": {
    "slideshow": {
     "slide_type": "subslide"
    }
   },
   "source": [
    "We will see only the ___if___ conditional and the ___for___ loop statements, because they are the most widely used.\n",
    "\n",
    "Both can be used to control the flow of the program execution in different lines, or inside lists. \n",
    "\n",
    "We will cover both uses for both statements."
   ]
  },
  {
   "cell_type": "markdown",
   "metadata": {
    "ExecuteTime": {
     "end_time": "2019-08-27T16:19:32.461344Z",
     "start_time": "2019-08-27T16:19:32.454617Z"
    },
    "slideshow": {
     "slide_type": "subslide"
    }
   },
   "source": [
    "#### *if* conditionals"
   ]
  },
  {
   "cell_type": "markdown",
   "metadata": {
    "slideshow": {
     "slide_type": "fragment"
    }
   },
   "source": [
    "##### First case: Change the program execution line according to a logical condition."
   ]
  },
  {
   "cell_type": "code",
   "execution_count": null,
   "metadata": {
    "ExecuteTime": {
     "end_time": "2019-08-27T16:26:17.132993Z",
     "start_time": "2019-08-27T16:26:17.129814Z"
    },
    "slideshow": {
     "slide_type": "subslide"
    }
   },
   "outputs": [],
   "source": [
    "a = 3\n",
    "if a<5:\n",
    "    print( 'a is less than 5!' )\n",
    "else:\n",
    "    print( 'a is not less than 5!' )"
   ]
  },
  {
   "cell_type": "markdown",
   "metadata": {
    "ExecuteTime": {
     "end_time": "2019-08-27T16:26:35.148889Z",
     "start_time": "2019-08-27T16:26:35.141888Z"
    },
    "slideshow": {
     "slide_type": "subslide"
    }
   },
   "source": [
    "Notice:\n",
    "* The indentation blocks!!! → Very... VERY important, since python defines the execution blocks by having always the same indentation. Other programs use for example curly brackets ({}) or keywords (END) to demarcate the blocks. Python uses the indentation, which is both a common source of errors (because we used 3 spaces instead of 4 in some line) and a source of beauty (because it forces us to write very ordered, good looking code)\n",
    "* The ___else___ statement and the corresponding indentated block\n",
    "* The colon ___':'___ before an execution block"
   ]
  },
  {
   "cell_type": "markdown",
   "metadata": {
    "slideshow": {
     "slide_type": "subslide"
    }
   },
   "source": [
    "It is possible to define more than two possible ways to execute the program by using _elif_:"
   ]
  },
  {
   "cell_type": "code",
   "execution_count": null,
   "metadata": {
    "ExecuteTime": {
     "end_time": "2019-08-27T16:34:07.630757Z",
     "start_time": "2019-08-27T16:34:07.625915Z"
    },
    "slideshow": {
     "slide_type": "fragment"
    }
   },
   "outputs": [],
   "source": [
    "a = 5\n",
    "b = 2\n",
    "\n",
    "if a<5:\n",
    "    print( 'a is less than 5!' )\n",
    "elif a==5:\n",
    "    print( 'a is exactly 5!' )\n",
    "    print( '****' )\n",
    "    if b<3:\n",
    "        print( 'yes, b is less than 3' )\n",
    "else:\n",
    "    print( 'a is more than 5!' )"
   ]
  },
  {
   "cell_type": "markdown",
   "metadata": {
    "slideshow": {
     "slide_type": "subslide"
    }
   },
   "source": [
    "The ___if___ block will be executed if the the first condition is true. \n",
    "\n",
    "Each (there can be more than one) ___elif___ block will be executed if corresponding condition is true.\n",
    "\n",
    "The (only) ___else___ block will be executed only of all other conditions were not met."
   ]
  },
  {
   "cell_type": "markdown",
   "metadata": {
    "slideshow": {
     "slide_type": "subslide"
    }
   },
   "source": [
    "Lastly, it is possible to ask for complex conditions using the logical operators ___and___, ___or___ and ___not__:"
   ]
  },
  {
   "cell_type": "code",
   "execution_count": null,
   "metadata": {
    "slideshow": {
     "slide_type": "fragment"
    }
   },
   "outputs": [],
   "source": [
    "cost = 5.2\n",
    "place = 'Chapingo'\n",
    "day = 'Sunday'\n",
    "\n",
    "if cost>0 and place=='Chapingo' and not (day=='Saturday' or day=='Sunday'):\n",
    "    print( 'We are in ', place, ' on a nice ', day )\n",
    "else:\n",
    "    print( '***' )"
   ]
  },
  {
   "cell_type": "markdown",
   "metadata": {
    "slideshow": {
     "slide_type": "subslide"
    }
   },
   "source": [
    "A last example, using the ___in___ operator and lists (as well as ___index___)...\n",
    "\n",
    "(information taken from https://strawberryplants.org/strawberry-varieties/)"
   ]
  },
  {
   "cell_type": "markdown",
   "metadata": {
    "slideshow": {
     "slide_type": "fragment"
    }
   },
   "source": [
    "The following are four strawberry (*Fragaria x ananassa*) varieties:"
   ]
  },
  {
   "cell_type": "code",
   "execution_count": null,
   "metadata": {
    "ExecuteTime": {
     "end_time": "2019-08-27T16:53:14.138316Z",
     "start_time": "2019-08-27T16:53:14.136025Z"
    },
    "slideshow": {
     "slide_type": "fragment"
    }
   },
   "outputs": [],
   "source": [
    "varieties = [ 'Valley Sunset', 'Kent', 'Benicia', 'Mojave' ]"
   ]
  },
  {
   "cell_type": "markdown",
   "metadata": {
    "slideshow": {
     "slide_type": "fragment"
    }
   },
   "source": [
    "and the corresponding cultivation (production) season:"
   ]
  },
  {
   "cell_type": "code",
   "execution_count": null,
   "metadata": {
    "ExecuteTime": {
     "end_time": "2019-08-27T16:54:32.049141Z",
     "start_time": "2019-08-27T16:54:32.046883Z"
    },
    "slideshow": {
     "slide_type": "fragment"
    }
   },
   "outputs": [],
   "source": [
    "seasons = [ 'Very Late Season', 'Midseason', 'Short-day June-bearing', 'Short-day June-bearing' ]"
   ]
  },
  {
   "cell_type": "code",
   "execution_count": null,
   "metadata": {
    "slideshow": {
     "slide_type": "subslide"
    }
   },
   "outputs": [],
   "source": [
    "print( varieties )\n",
    "print( seasons )"
   ]
  },
  {
   "cell_type": "code",
   "execution_count": null,
   "metadata": {
    "slideshow": {
     "slide_type": "fragment"
    }
   },
   "outputs": [],
   "source": [
    "season_to_search = 'Midseason'\n",
    "\n",
    "if season_to_search in seasons:\n",
    "    ii = seasons.index( 'Midseason' )\n",
    "    print( ii )\n",
    "    print( '\\n' ) # print empty line\n",
    "    print( varieties[ii],' is a ', season_to_search, ' variety' )"
   ]
  },
  {
   "cell_type": "markdown",
   "metadata": {
    "slideshow": {
     "slide_type": "subslide"
    }
   },
   "source": [
    "That is a very simple way of indexing lists, we will learn about more sophisticated strategies in later sessions. \n",
    "\n",
    "However, the use of conditionals and the overall logic remains the same."
   ]
  },
  {
   "cell_type": "markdown",
   "metadata": {
    "slideshow": {
     "slide_type": "subslide"
    }
   },
   "source": [
    "##### Second case: Building lists according to a logical condition."
   ]
  },
  {
   "cell_type": "markdown",
   "metadata": {
    "slideshow": {
     "slide_type": "fragment"
    }
   },
   "source": [
    "→ Building lists on logical conditions is better understood in loops, see below in the ___for___ section ahead."
   ]
  },
  {
   "cell_type": "markdown",
   "metadata": {
    "slideshow": {
     "slide_type": "subslide"
    }
   },
   "source": [
    "#### *for*"
   ]
  },
  {
   "cell_type": "markdown",
   "metadata": {
    "slideshow": {
     "slide_type": "subslide"
    }
   },
   "source": [
    "##### First case: Change the program execution line according to a logical condition."
   ]
  },
  {
   "cell_type": "markdown",
   "metadata": {
    "slideshow": {
     "slide_type": "fragment"
    }
   },
   "source": [
    "___for___ loops repeat the indented block according to the logical condition. \n",
    "\n",
    "The following code: repeats the call to ___print()___ 4 times:"
   ]
  },
  {
   "cell_type": "code",
   "execution_count": null,
   "metadata": {
    "ExecuteTime": {
     "end_time": "2019-08-27T16:51:17.199474Z",
     "start_time": "2019-08-27T16:51:17.193985Z"
    },
    "slideshow": {
     "slide_type": "subslide"
    }
   },
   "outputs": [],
   "source": [
    "for i in range(4):\n",
    "    print( '*' )\n",
    "    print( 'x' )\n",
    "    print( '\\n' )"
   ]
  },
  {
   "cell_type": "markdown",
   "metadata": {
    "slideshow": {
     "slide_type": "subslide"
    }
   },
   "source": [
    "But the call doesn't need to be _exactly_ the same:"
   ]
  },
  {
   "cell_type": "code",
   "execution_count": null,
   "metadata": {
    "ExecuteTime": {
     "end_time": "2019-08-27T16:51:37.608662Z",
     "start_time": "2019-08-27T16:51:37.605509Z"
    },
    "slideshow": {
     "slide_type": "fragment"
    }
   },
   "outputs": [],
   "source": [
    "for i in range(4):\n",
    "    print( i, '*' )"
   ]
  },
  {
   "cell_type": "markdown",
   "metadata": {
    "ExecuteTime": {
     "end_time": "2019-08-27T16:51:43.411775Z",
     "start_time": "2019-08-27T16:51:43.408249Z"
    },
    "slideshow": {
     "slide_type": "subslide"
    }
   },
   "source": [
    "The ___range()___ function allows us to generate a list of integer numbers over which we can iterate with ___for___.\n",
    "\n",
    "It takes a start, end and step parameters. Some examples on its usage:"
   ]
  },
  {
   "cell_type": "code",
   "execution_count": null,
   "metadata": {
    "ExecuteTime": {
     "end_time": "2019-08-27T16:52:16.852310Z",
     "start_time": "2019-08-27T16:52:16.846902Z"
    },
    "slideshow": {
     "slide_type": "fragment"
    }
   },
   "outputs": [],
   "source": [
    "for i in range( 1, 10, 2 ):\n",
    "    print( i )"
   ]
  },
  {
   "cell_type": "code",
   "execution_count": null,
   "metadata": {
    "ExecuteTime": {
     "end_time": "2019-08-27T16:52:22.558030Z",
     "start_time": "2019-08-27T16:52:22.554946Z"
    },
    "slideshow": {
     "slide_type": "fragment"
    }
   },
   "outputs": [],
   "source": [
    "for i in range( 0, 10, 2 ):\n",
    "    print( i )"
   ]
  },
  {
   "cell_type": "code",
   "execution_count": null,
   "metadata": {
    "ExecuteTime": {
     "end_time": "2019-08-27T16:52:27.102621Z",
     "start_time": "2019-08-27T16:52:27.099272Z"
    },
    "slideshow": {
     "slide_type": "subslide"
    }
   },
   "outputs": [],
   "source": [
    "for i in range( 10, 0, -2 ):\n",
    "    print( i )"
   ]
  },
  {
   "cell_type": "code",
   "execution_count": null,
   "metadata": {
    "ExecuteTime": {
     "end_time": "2019-08-27T16:52:33.362714Z",
     "start_time": "2019-08-27T16:52:33.352752Z"
    },
    "slideshow": {
     "slide_type": "fragment"
    }
   },
   "outputs": [],
   "source": [
    "for i in range( 10, 0, -2.5 ):\n",
    "    print( i )"
   ]
  },
  {
   "cell_type": "code",
   "execution_count": null,
   "metadata": {
    "slideshow": {
     "slide_type": "subslide"
    }
   },
   "outputs": [],
   "source": [
    "range?"
   ]
  },
  {
   "cell_type": "markdown",
   "metadata": {
    "slideshow": {
     "slide_type": "subslide"
    }
   },
   "source": [
    "Another very useful way to use the ___for___ loops is to iterate _over a list_, which is to say: for each element present in the list, do what the indentated block says:"
   ]
  },
  {
   "cell_type": "code",
   "execution_count": null,
   "metadata": {
    "ExecuteTime": {
     "end_time": "2019-08-27T16:53:18.594648Z",
     "start_time": "2019-08-27T16:53:18.589598Z"
    },
    "slideshow": {
     "slide_type": "fragment"
    }
   },
   "outputs": [],
   "source": [
    "print( varieties )"
   ]
  },
  {
   "cell_type": "code",
   "execution_count": null,
   "metadata": {
    "ExecuteTime": {
     "end_time": "2019-08-27T16:53:18.692702Z",
     "start_time": "2019-08-27T16:53:18.688968Z"
    },
    "slideshow": {
     "slide_type": "fragment"
    }
   },
   "outputs": [],
   "source": [
    "for v in varieties:\n",
    "    print( '*', v, '*' )"
   ]
  },
  {
   "cell_type": "markdown",
   "metadata": {
    "slideshow": {
     "slide_type": "subslide"
    }
   },
   "source": [
    "If we need the position of each variety (index), we can use ___enumerate()___:"
   ]
  },
  {
   "cell_type": "code",
   "execution_count": null,
   "metadata": {
    "ExecuteTime": {
     "end_time": "2019-08-27T16:54:49.574713Z",
     "start_time": "2019-08-27T16:54:49.570279Z"
    },
    "slideshow": {
     "slide_type": "fragment"
    }
   },
   "outputs": [],
   "source": [
    "for i, v in enumerate(varieties):\n",
    "    print( '*', i, ': ', v, '\\t\\t\\t-', seasons[i] )"
   ]
  },
  {
   "cell_type": "markdown",
   "metadata": {
    "slideshow": {
     "slide_type": "subslide"
    }
   },
   "source": [
    "If we need to nest loops, we need to take care of the indentation: The inner loop needs a second level of indentation."
   ]
  },
  {
   "cell_type": "code",
   "execution_count": null,
   "metadata": {
    "ExecuteTime": {
     "end_time": "2019-08-27T16:54:58.726904Z",
     "start_time": "2019-08-27T16:54:58.720754Z"
    },
    "slideshow": {
     "slide_type": "fragment"
    }
   },
   "outputs": [],
   "source": [
    "for i in range( 2, 5 ):\n",
    "    for j in range( 10, 6, -1 ):\n",
    "        print( 'i=', i, '\\t j=', j )\n",
    "    print( '_'*15 )\n",
    "print( '-end-' )"
   ]
  },
  {
   "cell_type": "markdown",
   "metadata": {
    "slideshow": {
     "slide_type": "subslide"
    }
   },
   "source": [
    "##### Second case: Building lists using if and for."
   ]
  },
  {
   "cell_type": "markdown",
   "metadata": {
    "slideshow": {
     "slide_type": "fragment"
    }
   },
   "source": [
    "We use this technique, called _list comprehension_ to create a list starting from another, existing one. \n",
    "\n",
    "Two applications are: \n",
    "* to apply a function to each element in a list\n",
    "* to select a subset of a previous list according with a logical condition    "
   ]
  },
  {
   "cell_type": "markdown",
   "metadata": {
    "slideshow": {
     "slide_type": "subslide"
    }
   },
   "source": [
    "Apply a function to each element in an existing list..."
   ]
  },
  {
   "cell_type": "markdown",
   "metadata": {
    "slideshow": {
     "slide_type": "subslide"
    }
   },
   "source": [
    "Given a list of strings, change the case of each element:"
   ]
  },
  {
   "cell_type": "code",
   "execution_count": null,
   "metadata": {
    "ExecuteTime": {
     "end_time": "2019-08-27T16:56:01.503115Z",
     "start_time": "2019-08-27T16:56:01.497041Z"
    },
    "slideshow": {
     "slide_type": "fragment"
    }
   },
   "outputs": [],
   "source": [
    "numbers1 = [ 1.66666, 3.2, 5.89, -1.11, 100000.1 ]\n",
    "\n",
    "numbers2 = [ round(item,2) for item in numbers1 ]\n",
    "\n",
    "print( numbers1 )\n",
    "print( numbers2 )\n",
    "print( '\\n' )\n",
    "\n",
    "for i in range( len( numbers1 ) ): # using len() we can add or remove items without bothering about changing the loop\n",
    "    print( numbers1[i], ' → ', numbers2[i] )\n"
   ]
  },
  {
   "cell_type": "markdown",
   "metadata": {
    "slideshow": {
     "slide_type": "subslide"
    }
   },
   "source": [
    "The second application is to select certain elements according to a condition. "
   ]
  },
  {
   "cell_type": "markdown",
   "metadata": {
    "slideshow": {
     "slide_type": "subslide"
    }
   },
   "source": [
    "In the last numeric example, we can select only the positive numbers (and still round) with:"
   ]
  },
  {
   "cell_type": "code",
   "execution_count": null,
   "metadata": {
    "ExecuteTime": {
     "end_time": "2019-08-27T16:57:08.261686Z",
     "start_time": "2019-08-27T16:57:08.257819Z"
    },
    "slideshow": {
     "slide_type": "fragment"
    }
   },
   "outputs": [],
   "source": [
    "numbers1 = [ 1.66666, 3.2, 5.89, -1.11, 100000.1 ]\n",
    "\n",
    "numbers2 = [ round(item,2) for item in numbers1 if item>0 ]\n",
    "\n",
    "# using len() we can add or remove items without bothering about changing the loop\n",
    "for i in range( len( numbers2 ) ): \n",
    "    print( numbers2[i] )"
   ]
  },
  {
   "cell_type": "markdown",
   "metadata": {
    "slideshow": {
     "slide_type": "subslide"
    }
   },
   "source": [
    "Or we can select numbers in a range:"
   ]
  },
  {
   "cell_type": "code",
   "execution_count": null,
   "metadata": {
    "ExecuteTime": {
     "end_time": "2019-08-27T16:57:36.744871Z",
     "start_time": "2019-08-27T16:57:36.740785Z"
    },
    "slideshow": {
     "slide_type": "fragment"
    }
   },
   "outputs": [],
   "source": [
    "numbers1 = [ 1.66666, 3.2, 5.89, -1.11, 100000.1 ]\n",
    "\n",
    "numbers2 = [ round(item,2) for item in numbers1 if ( item>0 and item<1000 ) ]\n",
    "\n",
    "# using len() we can add or remove items without bothering about changing the loop\n",
    "for i in range( len( numbers2 ) ): \n",
    "    print( numbers2[i] )"
   ]
  },
  {
   "cell_type": "markdown",
   "metadata": {
    "slideshow": {
     "slide_type": "slide"
    }
   },
   "source": [
    "## Exercise"
   ]
  },
  {
   "cell_type": "markdown",
   "metadata": {
    "slideshow": {
     "slide_type": "fragment"
    }
   },
   "source": [
    "Let's suppose that we want to take soil samples and check their pH and N-content. Let's say we have 5 sampling points: 'east', 'west', 'north', 'south' and 'central'. In each point, we have 2 sampling depths: '10cm' and '30cm'. Lastly, we do it three times, monthly from April to June.\n",
    "\n",
    "Create a list for each factor in this hypothetical problem. Use nested ___for___ loops to print all the combinations of measurements that will be needed, in a table similar fashion to that shown before."
   ]
  },
  {
   "cell_type": "code",
   "execution_count": null,
   "metadata": {
    "ExecuteTime": {
     "end_time": "2019-08-27T17:11:58.330296Z",
     "start_time": "2019-08-27T17:11:58.323260Z"
    },
    "slideshow": {
     "slide_type": "skip"
    }
   },
   "outputs": [],
   "source": [
    "samples = [ 'pH', 'N' ]\n",
    "points = [ 'east', 'west', 'north', 'south', 'central' ]\n",
    "depths = [ '10cm', '30cm' ]\n",
    "months = [ 'April', 'May', 'June' ]\n",
    "\n",
    "for s in samples:\n",
    "    for p in points:\n",
    "        for d in depths:\n",
    "            for m in months:\n",
    "                print( '| ' + s + ' | ' + p + ' | ' + d + ' | ' + m )"
   ]
  },
  {
   "cell_type": "markdown",
   "metadata": {
    "slideshow": {
     "slide_type": "fragment"
    }
   },
   "source": [
    "Modify the previous piece of code to print a __(!)__ mark after each measurement in the central sampling point."
   ]
  },
  {
   "cell_type": "code",
   "execution_count": null,
   "metadata": {
    "ExecuteTime": {
     "end_time": "2019-08-27T17:13:16.304838Z",
     "start_time": "2019-08-27T17:13:16.297019Z"
    },
    "slideshow": {
     "slide_type": "skip"
    }
   },
   "outputs": [],
   "source": [
    "samples = [ 'pH', 'N' ]\n",
    "points = [ 'east', 'west', 'north', 'south', 'central' ]\n",
    "depths = [ '10cm', '30cm' ]\n",
    "months = [ 'April', 'May', 'June' ]\n",
    "\n",
    "for s in samples:\n",
    "    for p in points:\n",
    "        for d in depths:\n",
    "            for m in months:\n",
    "                if p=='central':\n",
    "                    print( '| ' + s + ' | ' + p + ' | ' + d + ' | ' + m + ' !' )\n",
    "                else:\n",
    "                    print( '| ' + s + ' | ' + p + ' | ' + d + ' | ' + m )\n",
    "                "
   ]
  },
  {
   "cell_type": "markdown",
   "metadata": {
    "slideshow": {
     "slide_type": "fragment"
    }
   },
   "source": [
    "Print th __(!)__ mark only after each measurement in the central sampling point that is to be taken at 30cm."
   ]
  },
  {
   "cell_type": "code",
   "execution_count": null,
   "metadata": {
    "ExecuteTime": {
     "end_time": "2019-08-27T17:13:57.682921Z",
     "start_time": "2019-08-27T17:13:57.674655Z"
    },
    "slideshow": {
     "slide_type": "skip"
    }
   },
   "outputs": [],
   "source": [
    "samples = [ 'pH', 'N' ]\n",
    "points = [ 'east', 'west', 'north', 'south', 'central' ]\n",
    "depths = [ '10cm', '30cm' ]\n",
    "months = [ 'April', 'May', 'June' ]\n",
    "\n",
    "for s in samples:\n",
    "    for p in points:\n",
    "        for d in depths:\n",
    "            for m in months:\n",
    "                if p=='central' and d=='30cm':\n",
    "                    print( '| ' + s + ' | ' + p + ' | ' + d + ' | ' + m + ' !' )\n",
    "                else:\n",
    "                    print( '| ' + s + ' | ' + p + ' | ' + d + ' | ' + m )\n",
    "                "
   ]
  },
  {
   "cell_type": "code",
   "execution_count": null,
   "metadata": {},
   "outputs": [],
   "source": []
  }
 ],
 "metadata": {
  "celltoolbar": "Slideshow",
  "kernelspec": {
   "display_name": "Python 3",
   "language": "python",
   "name": "python3"
  },
  "language_info": {
   "codemirror_mode": {
    "name": "ipython",
    "version": 3
   },
   "file_extension": ".py",
   "mimetype": "text/x-python",
   "name": "python",
   "nbconvert_exporter": "python",
   "pygments_lexer": "ipython3",
   "version": "3.7.4"
  },
  "toc": {
   "base_numbering": 1,
   "nav_menu": {
    "height": "522px",
    "width": "477px"
   },
   "number_sections": false,
   "sideBar": false,
   "skip_h1_title": true,
   "title_cell": "Table of Contents",
   "title_sidebar": "Contents",
   "toc_cell": false,
   "toc_position": {
    "height": "374px",
    "left": "702px",
    "top": "111.133px",
    "width": "255px"
   },
   "toc_section_display": false,
   "toc_window_display": true
  },
  "varInspector": {
   "cols": {
    "lenName": 16,
    "lenType": 16,
    "lenVar": 40
   },
   "kernels_config": {
    "python": {
     "delete_cmd_postfix": "",
     "delete_cmd_prefix": "del ",
     "library": "var_list.py",
     "varRefreshCmd": "print(var_dic_list())"
    },
    "r": {
     "delete_cmd_postfix": ") ",
     "delete_cmd_prefix": "rm(",
     "library": "var_list.r",
     "varRefreshCmd": "cat(var_dic_list()) "
    }
   },
   "types_to_exclude": [
    "module",
    "function",
    "builtin_function_or_method",
    "instance",
    "_Feature"
   ],
   "window_display": false
  }
 },
 "nbformat": 4,
 "nbformat_minor": 2
}
