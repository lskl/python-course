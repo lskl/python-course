{
 "cells": [
  {
   "cell_type": "markdown",
   "metadata": {
    "slideshow": {
     "slide_type": "slide"
    },
    "toc": true
   },
   "source": [
    "<h1>Table of Contents<span class=\"tocSkip\"></span></h1>\n",
    "<div class=\"toc\"><ul class=\"toc-item\"><li><span><a href=\"#Imports\" data-toc-modified-id=\"Imports-1\">Imports</a></span><ul class=\"toc-item\"><li><span><a href=\"#Libraries\" data-toc-modified-id=\"Libraries-1.1\">Libraries</a></span></li></ul></li><li><span><a href=\"#Data\" data-toc-modified-id=\"Data-2\">Data</a></span></li><li><span><a href=\"#Index\" data-toc-modified-id=\"Index-3\">Index</a></span></li><li><span><a href=\"#Resample\" data-toc-modified-id=\"Resample-4\">Resample</a></span></li><li><span><a href=\"#Plotting-on-a-time-axis\" data-toc-modified-id=\"Plotting-on-a-time-axis-5\">Plotting on a time axis</a></span><ul class=\"toc-item\"><li><span><a href=\"#Plotting-libraries\" data-toc-modified-id=\"Plotting-libraries-5.1\">Plotting libraries</a></span></li></ul></li></ul></div>"
   ]
  },
  {
   "cell_type": "markdown",
   "metadata": {
    "slideshow": {
     "slide_type": "slide"
    }
   },
   "source": [
    "# E - Temporal data"
   ]
  },
  {
   "cell_type": "markdown",
   "metadata": {
    "slideshow": {
     "slide_type": "subslide"
    }
   },
   "source": [
    "This notebook shows how to import, format and reconfigure tables of data organized chronologically, using `pandas` data frames.\n",
    "\n",
    "In the next cells we:\n",
    "* read data from a file that has a column with the date and time and parse them as time\n",
    "* select data from a certain period\n",
    "* resample the data to a different time step\n",
    "* plot with a time x-axis"
   ]
  },
  {
   "cell_type": "markdown",
   "metadata": {
    "slideshow": {
     "slide_type": "subslide"
    }
   },
   "source": [
    "## Imports"
   ]
  },
  {
   "cell_type": "markdown",
   "metadata": {
    "slideshow": {
     "slide_type": "subslide"
    }
   },
   "source": [
    "### Libraries"
   ]
  },
  {
   "cell_type": "code",
   "execution_count": null,
   "metadata": {
    "slideshow": {
     "slide_type": "fragment"
    }
   },
   "outputs": [],
   "source": [
    "import pandas as pd\n",
    "import numpy as np"
   ]
  },
  {
   "cell_type": "markdown",
   "metadata": {
    "slideshow": {
     "slide_type": "slide"
    }
   },
   "source": [
    "## Data"
   ]
  },
  {
   "cell_type": "markdown",
   "metadata": {
    "slideshow": {
     "slide_type": "fragment"
    }
   },
   "source": [
    "We will use measurements of temperature and relative humidity measurements from an experiment with lettuce in Berlin."
   ]
  },
  {
   "cell_type": "code",
   "execution_count": null,
   "metadata": {
    "slideshow": {
     "slide_type": "fragment"
    }
   },
   "outputs": [],
   "source": [
    "df_climate = pd.read_excel( '../../data/climate.xlsx', sheet_name='greenhouse' )"
   ]
  },
  {
   "cell_type": "code",
   "execution_count": null,
   "metadata": {
    "slideshow": {
     "slide_type": "subslide"
    }
   },
   "outputs": [],
   "source": [
    "df_climate.head()"
   ]
  },
  {
   "cell_type": "code",
   "execution_count": null,
   "metadata": {
    "slideshow": {
     "slide_type": "subslide"
    }
   },
   "outputs": [],
   "source": [
    "df_climate.tail()"
   ]
  },
  {
   "cell_type": "markdown",
   "metadata": {
    "slideshow": {
     "slide_type": "subslide"
    }
   },
   "source": [
    "We have data measurements in (about) 5-minutes intervales, measuring temperature and relative humidity inside a greenhouse.\n",
    "\n",
    "The data span from 18th of April until the 24th of May of 2018. We have a little more than one month of data."
   ]
  },
  {
   "cell_type": "markdown",
   "metadata": {
    "slideshow": {
     "slide_type": "slide"
    }
   },
   "source": [
    "## Index"
   ]
  },
  {
   "cell_type": "markdown",
   "metadata": {
    "slideshow": {
     "slide_type": "subslide"
    }
   },
   "source": [
    "Note that the index is numeric. We want to make it time-aware using the data in the ___Date and Time___ column to be able to select rows in time ranges.\n",
    "\n",
    "For that, we use the function `pd.DatetimeIndex`, and send as argument the column from te table that has the date and time."
   ]
  },
  {
   "cell_type": "code",
   "execution_count": null,
   "metadata": {
    "slideshow": {
     "slide_type": "fragment"
    }
   },
   "outputs": [],
   "source": [
    "df_climate.head()"
   ]
  },
  {
   "cell_type": "markdown",
   "metadata": {
    "slideshow": {
     "slide_type": "subslide"
    }
   },
   "source": [
    "Old index:"
   ]
  },
  {
   "cell_type": "code",
   "execution_count": null,
   "metadata": {
    "slideshow": {
     "slide_type": "fragment"
    }
   },
   "outputs": [],
   "source": [
    "df_climate.index"
   ]
  },
  {
   "cell_type": "markdown",
   "metadata": {
    "slideshow": {
     "slide_type": "subslide"
    }
   },
   "source": [
    "New index:"
   ]
  },
  {
   "cell_type": "code",
   "execution_count": null,
   "metadata": {
    "slideshow": {
     "slide_type": "fragment"
    }
   },
   "outputs": [],
   "source": [
    "df_climate.index = pd.DatetimeIndex( df_climate[ 'Date and Time' ] )"
   ]
  },
  {
   "cell_type": "markdown",
   "metadata": {
    "slideshow": {
     "slide_type": "subslide"
    }
   },
   "source": [
    "Note: A common source of error in this step is a confusion between days and monts (because of the order). It can also happen with the year, if only the last 2 numbers are written: Which are the day, month and year if the date is __10-11-12__?\n",
    "\n",
    "For the first case, you can specify if days or months go first:\n",
    "`df_climate.index = pd.DatetimeIndex( df_climate[ 'Date and Time' ], dayfirst=True, yearfirst=True )`"
   ]
  },
  {
   "cell_type": "markdown",
   "metadata": {
    "slideshow": {
     "slide_type": "subslide"
    }
   },
   "source": [
    "Now we have the index as a time object and can select rows according with it:"
   ]
  },
  {
   "cell_type": "code",
   "execution_count": null,
   "metadata": {
    "slideshow": {
     "slide_type": "fragment"
    }
   },
   "outputs": [],
   "source": [
    "df_climate.head()"
   ]
  },
  {
   "cell_type": "markdown",
   "metadata": {
    "slideshow": {
     "slide_type": "subslide"
    }
   },
   "source": [
    "To select a particular time period, we can use `pd.Timestamp`.\n",
    "\n",
    "Let's say we want to check the data of the 23rd of May:"
   ]
  },
  {
   "cell_type": "code",
   "execution_count": null,
   "metadata": {
    "slideshow": {
     "slide_type": "fragment"
    }
   },
   "outputs": [],
   "source": [
    "start = pd.Timestamp( '2018-05-23, 00:00:00' )\n",
    "end = pd.Timestamp( '2018-05-24, 00:00:00' )"
   ]
  },
  {
   "cell_type": "code",
   "execution_count": null,
   "metadata": {
    "scrolled": false,
    "slideshow": {
     "slide_type": "subslide"
    }
   },
   "outputs": [],
   "source": [
    "condition_start = df_climate.index > start\n",
    "condition_end = df_climate.index < end\n",
    "\n",
    "df_climate[ condition_start & condition_end ]"
   ]
  },
  {
   "cell_type": "markdown",
   "metadata": {
    "slideshow": {
     "slide_type": "subslide"
    }
   },
   "source": [
    "And we can use this new table to calculate the average (or max, min, etc) of the columns on that interval:"
   ]
  },
  {
   "cell_type": "code",
   "execution_count": null,
   "metadata": {
    "slideshow": {
     "slide_type": "fragment"
    }
   },
   "outputs": [],
   "source": [
    "df_climate[ condition_start & condition_end ].mean()"
   ]
  },
  {
   "cell_type": "markdown",
   "metadata": {
    "slideshow": {
     "slide_type": "subslide"
    }
   },
   "source": [
    "Of course, we can also look for other periods with this technique, we just follow the steps:\n",
    "* Define a start time with `pd.Timestamp`\n",
    "* Define a finishing time with `pd.Timestamp`\n",
    "* Check condition: > start\n",
    "* Check condition: < end\n",
    "* Select from the table (query)"
   ]
  },
  {
   "cell_type": "code",
   "execution_count": null,
   "metadata": {
    "slideshow": {
     "slide_type": "subslide"
    }
   },
   "outputs": [],
   "source": [
    "start = pd.Timestamp( '2018-05-23, 08:00:00' )\n",
    "end = pd.Timestamp( '2018-05-23, 09:00:00' )\n",
    "\n",
    "condition_start = df_climate.index > start\n",
    "condition_end = df_climate.index < end\n",
    "\n",
    "df_climate[ condition_start & condition_end ]"
   ]
  },
  {
   "cell_type": "markdown",
   "metadata": {
    "slideshow": {
     "slide_type": "subslide"
    }
   },
   "source": [
    "This techinque does not look for exact matches, as the measuring times in the table include seconds that are irregular. It is very useful because it also works in cases when there are empty or not equally distributed timestamps."
   ]
  },
  {
   "cell_type": "markdown",
   "metadata": {
    "slideshow": {
     "slide_type": "subslide"
    }
   },
   "source": [
    "It is now very easy to know the average temperature in the period between 8 and 9 that we selected previously:"
   ]
  },
  {
   "cell_type": "code",
   "execution_count": null,
   "metadata": {
    "slideshow": {
     "slide_type": "fragment"
    }
   },
   "outputs": [],
   "source": [
    "start = pd.Timestamp( '2018-05-23, 08:00:00' )\n",
    "end = pd.Timestamp( '2018-05-23, 09:00:00' )\n",
    "\n",
    "condition_start = df_climate.index > start\n",
    "condition_end = df_climate.index < end\n",
    "\n",
    "df_climate[ condition_start & condition_end ].mean()\n"
   ]
  },
  {
   "cell_type": "markdown",
   "metadata": {
    "slideshow": {
     "slide_type": "subslide"
    }
   },
   "source": [
    "## Resample"
   ]
  },
  {
   "cell_type": "markdown",
   "metadata": {
    "slideshow": {
     "slide_type": "fragment"
    }
   },
   "source": [
    "Lastly, we will have a quick introduction to `.resample`, a function that allows us to change the interval in which some data are given, either ___upsample___ (get more points, at smaller intervals) or ___downsample___ (agreggating values in bigger intervals)."
   ]
  },
  {
   "cell_type": "markdown",
   "metadata": {
    "slideshow": {
     "slide_type": "subslide"
    }
   },
   "source": [
    "The data in the climate data frame is stored in intervals of about 5 minutes. \n",
    "\n",
    "We will first ___downsample___ it to hourly and daily values."
   ]
  },
  {
   "cell_type": "markdown",
   "metadata": {
    "slideshow": {
     "slide_type": "fragment"
    }
   },
   "source": [
    "There are two things that we have to have clear to correctly resample data:\n",
    "\n",
    "* What the new frequency will be. 1 hour? 15 minutes? 1 day?\n",
    "* How we will create the new values. Sum? Average?"
   ]
  },
  {
   "cell_type": "markdown",
   "metadata": {
    "slideshow": {
     "slide_type": "subslide"
    }
   },
   "source": [
    "About the first question, we will use the following letters to specifiy the new frequency:\n",
    "    \n",
    "* M → monthly frequency\n",
    "* W → weekly frequency\n",
    "* D → daily frequency\n",
    "* H → hourly frequency\n",
    "* T → minutely frequency\n",
    "* S → secondly frequency\n",
    "* L → milliseonds\n",
    "* U → microseconds\n",
    "* N → nanoseconds"
   ]
  },
  {
   "cell_type": "markdown",
   "metadata": {
    "slideshow": {
     "slide_type": "subslide"
    }
   },
   "source": [
    "About the second question, think that water (liter [L]) from irrigation in the morning and in the afternoon should ___add___ up for a daily value.\n",
    "\n",
    "On the other hand, the temperature in the morning, and the temperature in the afternoon should be ___averaged___ to give a daily value.\n",
    "\n",
    "Also, in cases we need the last value, or the first, or the most common in the interval. At the end of this notebook is a link to a very nice post where these options can be consulted."
   ]
  },
  {
   "cell_type": "markdown",
   "metadata": {
    "slideshow": {
     "slide_type": "subslide"
    }
   },
   "source": [
    "First we will resample the whole data frame to 1 hour, taking the average of the values in each hourly interval. \n",
    "\n",
    "It is like this now:"
   ]
  },
  {
   "cell_type": "code",
   "execution_count": null,
   "metadata": {
    "slideshow": {
     "slide_type": "fragment"
    }
   },
   "outputs": [],
   "source": [
    "df_climate.head()"
   ]
  },
  {
   "cell_type": "code",
   "execution_count": null,
   "metadata": {
    "slideshow": {
     "slide_type": "subslide"
    }
   },
   "outputs": [],
   "source": [
    "df_climate_1h = df_climate.resample( '1H' ).mean()"
   ]
  },
  {
   "cell_type": "code",
   "execution_count": null,
   "metadata": {
    "slideshow": {
     "slide_type": "fragment"
    }
   },
   "outputs": [],
   "source": [
    "df_climate_1h.head()"
   ]
  },
  {
   "cell_type": "code",
   "execution_count": null,
   "metadata": {
    "slideshow": {
     "slide_type": "subslide"
    }
   },
   "outputs": [],
   "source": [
    "df_climate_1h.tail()"
   ]
  },
  {
   "cell_type": "markdown",
   "metadata": {
    "slideshow": {
     "slide_type": "subslide"
    }
   },
   "source": [
    "And now the same for daily values:"
   ]
  },
  {
   "cell_type": "code",
   "execution_count": null,
   "metadata": {
    "slideshow": {
     "slide_type": "fragment"
    }
   },
   "outputs": [],
   "source": [
    "df_climate_1d = df_climate.resample( '1D' ).mean()"
   ]
  },
  {
   "cell_type": "code",
   "execution_count": null,
   "metadata": {
    "slideshow": {
     "slide_type": "fragment"
    }
   },
   "outputs": [],
   "source": [
    "df_climate_1d.head()"
   ]
  },
  {
   "cell_type": "code",
   "execution_count": null,
   "metadata": {
    "slideshow": {
     "slide_type": "subslide"
    }
   },
   "outputs": [],
   "source": [
    "df_climate_1d.tail()"
   ]
  },
  {
   "cell_type": "markdown",
   "metadata": {
    "slideshow": {
     "slide_type": "subslide"
    }
   },
   "source": [
    "And that easily we get the daily average temperature and humidity from measurements in 5 minutes interval!"
   ]
  },
  {
   "cell_type": "markdown",
   "metadata": {
    "slideshow": {
     "slide_type": "subslide"
    }
   },
   "source": [
    "If we wanted to resample with different functions, sometimes the maximum value, for some other columns the sum or the mean, we need to use the following syntax.\n",
    "\n",
    "In this case, it resamples to the same 1-day frequency, but it returns the minimum temperature and averages the relative humidity.\n",
    "\n",
    "Remember to import numpy to use the functions `np.max` and `np.mean`!"
   ]
  },
  {
   "cell_type": "code",
   "execution_count": null,
   "metadata": {
    "slideshow": {
     "slide_type": "subslide"
    }
   },
   "outputs": [],
   "source": [
    "import numpy as np"
   ]
  },
  {
   "cell_type": "code",
   "execution_count": null,
   "metadata": {
    "slideshow": {
     "slide_type": "fragment"
    }
   },
   "outputs": [],
   "source": [
    "df_climate.resample( '1D' ).apply( {'Temp. (°C)':np.sum,'Rel. Humidity (%)':np.mean} ) "
   ]
  },
  {
   "cell_type": "markdown",
   "metadata": {
    "slideshow": {
     "slide_type": "subslide"
    }
   },
   "source": [
    "Lastly, we will show what happens if the new frequency is bigger, i.e. the time intervals are smaller.\n",
    "\n",
    "In these cases, we get empty spaces, that need to be filled with _something_. Common options are the next or last values, or empty cells."
   ]
  },
  {
   "cell_type": "markdown",
   "metadata": {
    "slideshow": {
     "slide_type": "fragment"
    }
   },
   "source": [
    "For an example, we will change the frequency from 5 minutes to 1 minute."
   ]
  },
  {
   "cell_type": "markdown",
   "metadata": {
    "slideshow": {
     "slide_type": "subslide"
    }
   },
   "source": [
    "Mean, average and other functions that ___aggregate___ values do not have meaning in this case, because we are \"creating\" new values, cells that were not there before:"
   ]
  },
  {
   "cell_type": "code",
   "execution_count": null,
   "metadata": {
    "slideshow": {
     "slide_type": "fragment"
    }
   },
   "outputs": [],
   "source": [
    "df_climate['Temp. (°C)'].resample( '1min' ).ffill()"
   ]
  },
  {
   "cell_type": "markdown",
   "metadata": {
    "slideshow": {
     "slide_type": "slide"
    }
   },
   "source": [
    "## Plotting on a time axis"
   ]
  },
  {
   "cell_type": "markdown",
   "metadata": {
    "slideshow": {
     "slide_type": "subslide"
    }
   },
   "source": [
    "If we have a data frame with time index, we can plot it using `matplotlib`, and treat the x-axis as time. \n",
    "\n",
    "This can be useful to set the limits of the axis, or to align plots from different sources. As an example, we often have measurements in different tables, with different time stamps. They will be plotted correctly if we previously set the indexes to time."
   ]
  },
  {
   "cell_type": "markdown",
   "metadata": {
    "slideshow": {
     "slide_type": "subslide"
    }
   },
   "source": [
    "In this example, we will plot the temperature from before, as well as the daily averages as points."
   ]
  },
  {
   "cell_type": "markdown",
   "metadata": {
    "slideshow": {
     "slide_type": "subslide"
    }
   },
   "source": [
    "### Plotting libraries"
   ]
  },
  {
   "cell_type": "code",
   "execution_count": null,
   "metadata": {
    "slideshow": {
     "slide_type": "fragment"
    }
   },
   "outputs": [],
   "source": [
    "%matplotlib inline\n",
    "#matplotlib notebook\n",
    "\n",
    "import matplotlib.pyplot as plt\n",
    "import matplotlib.dates as mdates"
   ]
  },
  {
   "cell_type": "markdown",
   "metadata": {
    "slideshow": {
     "slide_type": "subslide"
    }
   },
   "source": [
    "First a simple plot:"
   ]
  },
  {
   "cell_type": "code",
   "execution_count": null,
   "metadata": {
    "slideshow": {
     "slide_type": "fragment"
    }
   },
   "outputs": [],
   "source": [
    "fig, ax = plt.subplots()\n",
    "\n",
    "ax.plot( df_climate.index, df_climate['Temp. (°C)'] )\n",
    "\n",
    "plt.show()"
   ]
  },
  {
   "cell_type": "markdown",
   "metadata": {
    "slideshow": {
     "slide_type": "subslide"
    }
   },
   "source": [
    "Now a little bit more elaborated formatting.\n",
    "\n",
    "To ensure that we get the ticks in the x-axis where we want them, we use the functions in `matplotlib.dates`, which was imported as mdates before. \n",
    "\n",
    "Basically we use the `Locator` and the `Formatter`.\n",
    "\n",
    "In this case, we put the ticks once a week, on Mondays (`mdates.MO`)."
   ]
  },
  {
   "cell_type": "code",
   "execution_count": null,
   "metadata": {
    "slideshow": {
     "slide_type": "fragment"
    }
   },
   "outputs": [],
   "source": [
    "fig, ax = plt.subplots( figsize=(12,5) )\n",
    "\n",
    "ax.plot( df_climate.index, df_climate['Temp. (°C)'], linewidth=2 )\n",
    "\n",
    "ax.xaxis.set_major_locator( mdates.WeekdayLocator(byweekday=mdates.MO) ) # Put x ticks on Mondays\n",
    "ax.xaxis.set_major_formatter( mdates.DateFormatter('%d/%b') )            # Print only day and month\n",
    "ax.tick_params( axis='both', which='major', labelsize=14 )\n",
    "\n",
    "plt.show()"
   ]
  },
  {
   "cell_type": "markdown",
   "metadata": {
    "slideshow": {
     "slide_type": "subslide"
    }
   },
   "source": [
    "Now, we can add a second data line, with the daily means. Notice that the x and y coordinates are different in both calls to `ax.plot`. This allows us to combine different sources of data and get the plots aligned correctly."
   ]
  },
  {
   "cell_type": "code",
   "execution_count": null,
   "metadata": {
    "slideshow": {
     "slide_type": "fragment"
    }
   },
   "outputs": [],
   "source": [
    "fig, ax = plt.subplots( figsize=(12,5) )\n",
    "\n",
    "ax.plot( df_climate.index, df_climate['Temp. (°C)'], linewidth=2 )\n",
    "\n",
    "ax.plot( df_climate_1d.index, df_climate_1d['Temp. (°C)'], linewidth=0, marker='s', markersize=10, color='red' )\n",
    "\n",
    "ax.xaxis.set_major_locator( mdates.WeekdayLocator(byweekday=mdates.MO) )\n",
    "ax.xaxis.set_major_formatter( mdates.DateFormatter('%d/%m') )\n",
    "ax.tick_params( axis='both', which='major', labelsize=14 )\n",
    "\n",
    "plt.show()"
   ]
  },
  {
   "cell_type": "markdown",
   "metadata": {
    "slideshow": {
     "slide_type": "subslide"
    }
   },
   "source": [
    "Now, adding a third source of data, the hourly averages, makes the plot look a little messy:"
   ]
  },
  {
   "cell_type": "code",
   "execution_count": null,
   "metadata": {
    "slideshow": {
     "slide_type": "fragment"
    }
   },
   "outputs": [],
   "source": [
    "fig, ax = plt.subplots( figsize=(12,5) )\n",
    "\n",
    "ax.plot( df_climate.index, df_climate['Temp. (°C)'], linewidth=2 )\n",
    "\n",
    "ax.plot( df_climate_1h.index, df_climate_1h['Temp. (°C)'], linewidth=0, marker='^', markersize=10, color='green', alpha=0.3 )\n",
    "ax.plot( df_climate_1d.index, df_climate_1d['Temp. (°C)'], linewidth=0, marker='s', markersize=10, color='red' )\n",
    "\n",
    "ax.xaxis.set_major_locator( mdates.WeekdayLocator(byweekday=mdates.MO) )\n",
    "ax.xaxis.set_major_formatter( mdates.DateFormatter('%d/%m') )\n",
    "ax.tick_params( axis='both', which='major', labelsize=14 )\n",
    "\n",
    "plt.show()"
   ]
  },
  {
   "cell_type": "markdown",
   "metadata": {
    "slideshow": {
     "slide_type": "subslide"
    }
   },
   "source": [
    "But it looks ok if we select a proper time range and give a little bit more formatting to the whole plot:"
   ]
  },
  {
   "cell_type": "code",
   "execution_count": null,
   "metadata": {
    "slideshow": {
     "slide_type": "fragment"
    }
   },
   "outputs": [],
   "source": [
    "fig, ax = plt.subplots( figsize=(12,5) )\n",
    "\n",
    "ax.plot( df_climate.index, df_climate['Temp. (°C)'], linewidth=2, label='Air temperature' )\n",
    "\n",
    "ax.plot( df_climate_1h.index, df_climate_1h['Temp. (°C)'], linewidth=0, marker='^', markersize=10, \n",
    "         markeredgecolor='green', markerfacecolor='None', alpha=0.9, label='Air temperature: 1h mean' )\n",
    "ax.plot( df_climate_1d.index, df_climate_1d['Temp. (°C)'], linewidth=0, marker='s', markersize=10, \n",
    "         color='red', label='Air temperature: 1 day mean' )\n",
    "\n",
    "ax.xaxis.set_major_locator( mdates.DayLocator() )\n",
    "ax.xaxis.set_major_formatter( mdates.DateFormatter('%d/%m') )\n",
    "ax.tick_params( axis='both', which='major', labelsize=14 )\n",
    "\n",
    "start = pd.Timestamp('2018-Apr-23 00:00:00')\n",
    "end = pd.Timestamp('2018-Apr-26 00:00:00')\n",
    "ax.set_xlim( [ start, end ] )\n",
    "\n",
    "ax.legend()\n",
    "\n",
    "ax.set_xlabel( 'Timestamp', fontsize=14 )\n",
    "ax.set_ylabel( 'Temperature', fontsize=14 )\n",
    "\n",
    "plt.show()"
   ]
  },
  {
   "cell_type": "markdown",
   "metadata": {
    "slideshow": {
     "slide_type": "subslide"
    }
   },
   "source": [
    "As said, these examples are thought to be instructive and serve as a look up source to consult later. \n",
    "\n",
    "The whole materials will be publicly available in a repository, and will updated eventually. Feel free to download and share.\n",
    "\n",
    "Hopefully you found a couple of ideas to test in your projects!"
   ]
  },
  {
   "cell_type": "code",
   "execution_count": null,
   "metadata": {},
   "outputs": [],
   "source": []
  }
 ],
 "metadata": {
  "celltoolbar": "Slideshow",
  "kernelspec": {
   "display_name": "Python 3",
   "language": "python",
   "name": "python3"
  },
  "language_info": {
   "codemirror_mode": {
    "name": "ipython",
    "version": 3
   },
   "file_extension": ".py",
   "mimetype": "text/x-python",
   "name": "python",
   "nbconvert_exporter": "python",
   "pygments_lexer": "ipython3",
   "version": "3.7.4"
  },
  "toc": {
   "base_numbering": 1,
   "nav_menu": {},
   "number_sections": false,
   "sideBar": true,
   "skip_h1_title": true,
   "title_cell": "Table of Contents",
   "title_sidebar": "Contents",
   "toc_cell": true,
   "toc_position": {},
   "toc_section_display": true,
   "toc_window_display": false
  },
  "varInspector": {
   "cols": {
    "lenName": 16,
    "lenType": 16,
    "lenVar": 40
   },
   "kernels_config": {
    "python": {
     "delete_cmd_postfix": "",
     "delete_cmd_prefix": "del ",
     "library": "var_list.py",
     "varRefreshCmd": "print(var_dic_list())"
    },
    "r": {
     "delete_cmd_postfix": ") ",
     "delete_cmd_prefix": "rm(",
     "library": "var_list.r",
     "varRefreshCmd": "cat(var_dic_list()) "
    }
   },
   "types_to_exclude": [
    "module",
    "function",
    "builtin_function_or_method",
    "instance",
    "_Feature"
   ],
   "window_display": false
  }
 },
 "nbformat": 4,
 "nbformat_minor": 2
}
