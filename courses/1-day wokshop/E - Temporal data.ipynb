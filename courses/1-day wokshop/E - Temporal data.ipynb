{
 "cells": [
  {
   "cell_type": "markdown",
   "metadata": {
    "toc": true
   },
   "source": [
    "<h1>Table of Contents<span class=\"tocSkip\"></span></h1>\n",
    "<div class=\"toc\"><ul class=\"toc-item\"><li><span><a href=\"#Imports\" data-toc-modified-id=\"Imports-1\">Imports</a></span><ul class=\"toc-item\"><li><span><a href=\"#Libraries\" data-toc-modified-id=\"Libraries-1.1\">Libraries</a></span></li></ul></li><li><span><a href=\"#Data\" data-toc-modified-id=\"Data-2\">Data</a></span></li><li><span><a href=\"#Index\" data-toc-modified-id=\"Index-3\">Index</a></span></li><li><span><a href=\"#Resample\" data-toc-modified-id=\"Resample-4\">Resample</a></span></li><li><span><a href=\"#Plotting-on-a-time-axis\" data-toc-modified-id=\"Plotting-on-a-time-axis-5\">Plotting on a time axis</a></span></li></ul></div>"
   ]
  },
  {
   "cell_type": "markdown",
   "metadata": {},
   "source": [
    "# E - Temporal data"
   ]
  },
  {
   "cell_type": "markdown",
   "metadata": {},
   "source": [
    "This notebook shows how to import, format and reconfigure tables of data organized chronologically, using `pandas` data frames.\n",
    "\n",
    "In the next cells we:\n",
    "* read data from a file that has a column with the date and time and parse them as time\n",
    "* select data from a certain period\n",
    "* resample the data to a different time step\n",
    "* plot with a time x-axis"
   ]
  },
  {
   "cell_type": "markdown",
   "metadata": {},
   "source": [
    "## Imports"
   ]
  },
  {
   "cell_type": "markdown",
   "metadata": {},
   "source": [
    "### Libraries"
   ]
  },
  {
   "cell_type": "code",
   "execution_count": 25,
   "metadata": {},
   "outputs": [],
   "source": [
    "import pandas as pd\n",
    "import numpy as np"
   ]
  },
  {
   "cell_type": "markdown",
   "metadata": {},
   "source": [
    "## Data"
   ]
  },
  {
   "cell_type": "markdown",
   "metadata": {},
   "source": [
    "We will use measurements of temperature and relative humidity measurements from an experiment with lettuce in Berlin."
   ]
  },
  {
   "cell_type": "code",
   "execution_count": 2,
   "metadata": {},
   "outputs": [],
   "source": [
    "df_climate = pd.read_excel( '../../data/climate.xlsx', sheet_name='greenhouse' )"
   ]
  },
  {
   "cell_type": "code",
   "execution_count": 3,
   "metadata": {},
   "outputs": [
    {
     "data": {
      "text/html": [
       "<div>\n",
       "<style scoped>\n",
       "    .dataframe tbody tr th:only-of-type {\n",
       "        vertical-align: middle;\n",
       "    }\n",
       "\n",
       "    .dataframe tbody tr th {\n",
       "        vertical-align: top;\n",
       "    }\n",
       "\n",
       "    .dataframe thead th {\n",
       "        text-align: right;\n",
       "    }\n",
       "</style>\n",
       "<table border=\"1\" class=\"dataframe\">\n",
       "  <thead>\n",
       "    <tr style=\"text-align: right;\">\n",
       "      <th></th>\n",
       "      <th>Num.</th>\n",
       "      <th>Date and Time</th>\n",
       "      <th>Temp. (°C)</th>\n",
       "      <th>Rel. Humidity (%)</th>\n",
       "    </tr>\n",
       "  </thead>\n",
       "  <tbody>\n",
       "    <tr>\n",
       "      <th>0</th>\n",
       "      <td>4321</td>\n",
       "      <td>2018-04-18 00:00:21</td>\n",
       "      <td>18.53</td>\n",
       "      <td>52.37</td>\n",
       "    </tr>\n",
       "    <tr>\n",
       "      <th>1</th>\n",
       "      <td>4322</td>\n",
       "      <td>2018-04-18 00:05:19</td>\n",
       "      <td>18.49</td>\n",
       "      <td>52.44</td>\n",
       "    </tr>\n",
       "    <tr>\n",
       "      <th>2</th>\n",
       "      <td>4323</td>\n",
       "      <td>2018-04-18 00:10:19</td>\n",
       "      <td>17.97</td>\n",
       "      <td>55.13</td>\n",
       "    </tr>\n",
       "    <tr>\n",
       "      <th>3</th>\n",
       "      <td>4324</td>\n",
       "      <td>2018-04-18 00:15:19</td>\n",
       "      <td>17.58</td>\n",
       "      <td>56.38</td>\n",
       "    </tr>\n",
       "    <tr>\n",
       "      <th>4</th>\n",
       "      <td>4325</td>\n",
       "      <td>2018-04-18 00:20:18</td>\n",
       "      <td>17.48</td>\n",
       "      <td>53.81</td>\n",
       "    </tr>\n",
       "  </tbody>\n",
       "</table>\n",
       "</div>"
      ],
      "text/plain": [
       "   Num.       Date and Time  Temp. (°C)  Rel. Humidity (%)\n",
       "0  4321 2018-04-18 00:00:21       18.53              52.37\n",
       "1  4322 2018-04-18 00:05:19       18.49              52.44\n",
       "2  4323 2018-04-18 00:10:19       17.97              55.13\n",
       "3  4324 2018-04-18 00:15:19       17.58              56.38\n",
       "4  4325 2018-04-18 00:20:18       17.48              53.81"
      ]
     },
     "execution_count": 3,
     "metadata": {},
     "output_type": "execute_result"
    }
   ],
   "source": [
    "df_climate.head()"
   ]
  },
  {
   "cell_type": "code",
   "execution_count": 4,
   "metadata": {},
   "outputs": [
    {
     "data": {
      "text/html": [
       "<div>\n",
       "<style scoped>\n",
       "    .dataframe tbody tr th:only-of-type {\n",
       "        vertical-align: middle;\n",
       "    }\n",
       "\n",
       "    .dataframe tbody tr th {\n",
       "        vertical-align: top;\n",
       "    }\n",
       "\n",
       "    .dataframe thead th {\n",
       "        text-align: right;\n",
       "    }\n",
       "</style>\n",
       "<table border=\"1\" class=\"dataframe\">\n",
       "  <thead>\n",
       "    <tr style=\"text-align: right;\">\n",
       "      <th></th>\n",
       "      <th>Num.</th>\n",
       "      <th>Date and Time</th>\n",
       "      <th>Temp. (°C)</th>\n",
       "      <th>Rel. Humidity (%)</th>\n",
       "    </tr>\n",
       "  </thead>\n",
       "  <tbody>\n",
       "    <tr>\n",
       "      <th>10164</th>\n",
       "      <td>14684</td>\n",
       "      <td>2018-05-23 23:35:32</td>\n",
       "      <td>19.27</td>\n",
       "      <td>54.42</td>\n",
       "    </tr>\n",
       "    <tr>\n",
       "      <th>10165</th>\n",
       "      <td>14685</td>\n",
       "      <td>2018-05-23 23:40:30</td>\n",
       "      <td>19.24</td>\n",
       "      <td>54.79</td>\n",
       "    </tr>\n",
       "    <tr>\n",
       "      <th>10166</th>\n",
       "      <td>14686</td>\n",
       "      <td>2018-05-23 23:45:27</td>\n",
       "      <td>19.22</td>\n",
       "      <td>55.16</td>\n",
       "    </tr>\n",
       "    <tr>\n",
       "      <th>10167</th>\n",
       "      <td>14687</td>\n",
       "      <td>2018-05-23 23:50:25</td>\n",
       "      <td>19.19</td>\n",
       "      <td>55.52</td>\n",
       "    </tr>\n",
       "    <tr>\n",
       "      <th>10168</th>\n",
       "      <td>14688</td>\n",
       "      <td>2018-05-23 23:55:22</td>\n",
       "      <td>19.19</td>\n",
       "      <td>55.52</td>\n",
       "    </tr>\n",
       "  </tbody>\n",
       "</table>\n",
       "</div>"
      ],
      "text/plain": [
       "        Num.       Date and Time  Temp. (°C)  Rel. Humidity (%)\n",
       "10164  14684 2018-05-23 23:35:32       19.27              54.42\n",
       "10165  14685 2018-05-23 23:40:30       19.24              54.79\n",
       "10166  14686 2018-05-23 23:45:27       19.22              55.16\n",
       "10167  14687 2018-05-23 23:50:25       19.19              55.52\n",
       "10168  14688 2018-05-23 23:55:22       19.19              55.52"
      ]
     },
     "execution_count": 4,
     "metadata": {},
     "output_type": "execute_result"
    }
   ],
   "source": [
    "df_climate.tail()"
   ]
  },
  {
   "cell_type": "markdown",
   "metadata": {
    "slideshow": {
     "slide_type": "subslide"
    }
   },
   "source": [
    "We have data measurements in (about) 5-minutes intervales, measuring temperature and relative humidity inside a greenhouse.\n",
    "\n",
    "The data span from 18th of April until the 24th of May of 2018. We have a little more than one month of data."
   ]
  },
  {
   "cell_type": "markdown",
   "metadata": {},
   "source": [
    "## Index"
   ]
  },
  {
   "cell_type": "markdown",
   "metadata": {
    "slideshow": {
     "slide_type": "subslide"
    }
   },
   "source": [
    "Note that the index is numeric. We want to make it time-aware using the data in the ___Date and Time___ column to be able to select rows in time ranges.\n",
    "\n",
    "For that, we use the function `pd.DatetimeIndex`, and send as argument the column from te table that has the date and time."
   ]
  },
  {
   "cell_type": "code",
   "execution_count": 5,
   "metadata": {
    "slideshow": {
     "slide_type": "fragment"
    }
   },
   "outputs": [
    {
     "data": {
      "text/html": [
       "<div>\n",
       "<style scoped>\n",
       "    .dataframe tbody tr th:only-of-type {\n",
       "        vertical-align: middle;\n",
       "    }\n",
       "\n",
       "    .dataframe tbody tr th {\n",
       "        vertical-align: top;\n",
       "    }\n",
       "\n",
       "    .dataframe thead th {\n",
       "        text-align: right;\n",
       "    }\n",
       "</style>\n",
       "<table border=\"1\" class=\"dataframe\">\n",
       "  <thead>\n",
       "    <tr style=\"text-align: right;\">\n",
       "      <th></th>\n",
       "      <th>Num.</th>\n",
       "      <th>Date and Time</th>\n",
       "      <th>Temp. (°C)</th>\n",
       "      <th>Rel. Humidity (%)</th>\n",
       "    </tr>\n",
       "  </thead>\n",
       "  <tbody>\n",
       "    <tr>\n",
       "      <th>0</th>\n",
       "      <td>4321</td>\n",
       "      <td>2018-04-18 00:00:21</td>\n",
       "      <td>18.53</td>\n",
       "      <td>52.37</td>\n",
       "    </tr>\n",
       "    <tr>\n",
       "      <th>1</th>\n",
       "      <td>4322</td>\n",
       "      <td>2018-04-18 00:05:19</td>\n",
       "      <td>18.49</td>\n",
       "      <td>52.44</td>\n",
       "    </tr>\n",
       "    <tr>\n",
       "      <th>2</th>\n",
       "      <td>4323</td>\n",
       "      <td>2018-04-18 00:10:19</td>\n",
       "      <td>17.97</td>\n",
       "      <td>55.13</td>\n",
       "    </tr>\n",
       "    <tr>\n",
       "      <th>3</th>\n",
       "      <td>4324</td>\n",
       "      <td>2018-04-18 00:15:19</td>\n",
       "      <td>17.58</td>\n",
       "      <td>56.38</td>\n",
       "    </tr>\n",
       "    <tr>\n",
       "      <th>4</th>\n",
       "      <td>4325</td>\n",
       "      <td>2018-04-18 00:20:18</td>\n",
       "      <td>17.48</td>\n",
       "      <td>53.81</td>\n",
       "    </tr>\n",
       "  </tbody>\n",
       "</table>\n",
       "</div>"
      ],
      "text/plain": [
       "   Num.       Date and Time  Temp. (°C)  Rel. Humidity (%)\n",
       "0  4321 2018-04-18 00:00:21       18.53              52.37\n",
       "1  4322 2018-04-18 00:05:19       18.49              52.44\n",
       "2  4323 2018-04-18 00:10:19       17.97              55.13\n",
       "3  4324 2018-04-18 00:15:19       17.58              56.38\n",
       "4  4325 2018-04-18 00:20:18       17.48              53.81"
      ]
     },
     "execution_count": 5,
     "metadata": {},
     "output_type": "execute_result"
    }
   ],
   "source": [
    "df_climate.head()"
   ]
  },
  {
   "cell_type": "markdown",
   "metadata": {
    "slideshow": {
     "slide_type": "subslide"
    }
   },
   "source": [
    "Old index:"
   ]
  },
  {
   "cell_type": "code",
   "execution_count": 6,
   "metadata": {
    "slideshow": {
     "slide_type": "fragment"
    }
   },
   "outputs": [
    {
     "data": {
      "text/plain": [
       "RangeIndex(start=0, stop=10169, step=1)"
      ]
     },
     "execution_count": 6,
     "metadata": {},
     "output_type": "execute_result"
    }
   ],
   "source": [
    "df_climate.index"
   ]
  },
  {
   "cell_type": "markdown",
   "metadata": {
    "slideshow": {
     "slide_type": "subslide"
    }
   },
   "source": [
    "New index:"
   ]
  },
  {
   "cell_type": "code",
   "execution_count": 7,
   "metadata": {
    "slideshow": {
     "slide_type": "fragment"
    }
   },
   "outputs": [],
   "source": [
    "df_climate.index = pd.DatetimeIndex( df_climate[ 'Date and Time' ] )"
   ]
  },
  {
   "cell_type": "markdown",
   "metadata": {
    "slideshow": {
     "slide_type": "subslide"
    }
   },
   "source": [
    "Note: A common source of error in this step is a confusion between days and monts (because of the order). It can also happen with the year, if only the last 2 numbers are written: Which are the day, month and year if the date is __10-11-12__?\n",
    "\n",
    "For the first case, you can specify if days or months go first:\n",
    "`df_climate.index = pd.DatetimeIndex( df_climate[ 'Date and Time' ], dayfirst=True, yearfirst=True )`"
   ]
  },
  {
   "cell_type": "markdown",
   "metadata": {
    "slideshow": {
     "slide_type": "subslide"
    }
   },
   "source": [
    "Now we have the index as a time object and can select rows according with it:"
   ]
  },
  {
   "cell_type": "code",
   "execution_count": 8,
   "metadata": {
    "slideshow": {
     "slide_type": "fragment"
    }
   },
   "outputs": [
    {
     "data": {
      "text/html": [
       "<div>\n",
       "<style scoped>\n",
       "    .dataframe tbody tr th:only-of-type {\n",
       "        vertical-align: middle;\n",
       "    }\n",
       "\n",
       "    .dataframe tbody tr th {\n",
       "        vertical-align: top;\n",
       "    }\n",
       "\n",
       "    .dataframe thead th {\n",
       "        text-align: right;\n",
       "    }\n",
       "</style>\n",
       "<table border=\"1\" class=\"dataframe\">\n",
       "  <thead>\n",
       "    <tr style=\"text-align: right;\">\n",
       "      <th></th>\n",
       "      <th>Num.</th>\n",
       "      <th>Date and Time</th>\n",
       "      <th>Temp. (°C)</th>\n",
       "      <th>Rel. Humidity (%)</th>\n",
       "    </tr>\n",
       "    <tr>\n",
       "      <th>Date and Time</th>\n",
       "      <th></th>\n",
       "      <th></th>\n",
       "      <th></th>\n",
       "      <th></th>\n",
       "    </tr>\n",
       "  </thead>\n",
       "  <tbody>\n",
       "    <tr>\n",
       "      <th>2018-04-18 00:00:21</th>\n",
       "      <td>4321</td>\n",
       "      <td>2018-04-18 00:00:21</td>\n",
       "      <td>18.53</td>\n",
       "      <td>52.37</td>\n",
       "    </tr>\n",
       "    <tr>\n",
       "      <th>2018-04-18 00:05:19</th>\n",
       "      <td>4322</td>\n",
       "      <td>2018-04-18 00:05:19</td>\n",
       "      <td>18.49</td>\n",
       "      <td>52.44</td>\n",
       "    </tr>\n",
       "    <tr>\n",
       "      <th>2018-04-18 00:10:19</th>\n",
       "      <td>4323</td>\n",
       "      <td>2018-04-18 00:10:19</td>\n",
       "      <td>17.97</td>\n",
       "      <td>55.13</td>\n",
       "    </tr>\n",
       "    <tr>\n",
       "      <th>2018-04-18 00:15:19</th>\n",
       "      <td>4324</td>\n",
       "      <td>2018-04-18 00:15:19</td>\n",
       "      <td>17.58</td>\n",
       "      <td>56.38</td>\n",
       "    </tr>\n",
       "    <tr>\n",
       "      <th>2018-04-18 00:20:18</th>\n",
       "      <td>4325</td>\n",
       "      <td>2018-04-18 00:20:18</td>\n",
       "      <td>17.48</td>\n",
       "      <td>53.81</td>\n",
       "    </tr>\n",
       "  </tbody>\n",
       "</table>\n",
       "</div>"
      ],
      "text/plain": [
       "                     Num.       Date and Time  Temp. (°C)  Rel. Humidity (%)\n",
       "Date and Time                                                               \n",
       "2018-04-18 00:00:21  4321 2018-04-18 00:00:21       18.53              52.37\n",
       "2018-04-18 00:05:19  4322 2018-04-18 00:05:19       18.49              52.44\n",
       "2018-04-18 00:10:19  4323 2018-04-18 00:10:19       17.97              55.13\n",
       "2018-04-18 00:15:19  4324 2018-04-18 00:15:19       17.58              56.38\n",
       "2018-04-18 00:20:18  4325 2018-04-18 00:20:18       17.48              53.81"
      ]
     },
     "execution_count": 8,
     "metadata": {},
     "output_type": "execute_result"
    }
   ],
   "source": [
    "df_climate.head()"
   ]
  },
  {
   "cell_type": "markdown",
   "metadata": {
    "slideshow": {
     "slide_type": "subslide"
    }
   },
   "source": [
    "To select a particular time period, we can use `pd.Timestamp`.\n",
    "\n",
    "Let's say we want to check the data of the 23rd of May:"
   ]
  },
  {
   "cell_type": "code",
   "execution_count": 9,
   "metadata": {
    "slideshow": {
     "slide_type": "fragment"
    }
   },
   "outputs": [],
   "source": [
    "start = pd.Timestamp( '2018-05-23, 00:00:00' )\n",
    "end = pd.Timestamp( '2018-05-24, 00:00:00' )"
   ]
  },
  {
   "cell_type": "code",
   "execution_count": 10,
   "metadata": {
    "scrolled": false,
    "slideshow": {
     "slide_type": "subslide"
    }
   },
   "outputs": [
    {
     "data": {
      "text/html": [
       "<div>\n",
       "<style scoped>\n",
       "    .dataframe tbody tr th:only-of-type {\n",
       "        vertical-align: middle;\n",
       "    }\n",
       "\n",
       "    .dataframe tbody tr th {\n",
       "        vertical-align: top;\n",
       "    }\n",
       "\n",
       "    .dataframe thead th {\n",
       "        text-align: right;\n",
       "    }\n",
       "</style>\n",
       "<table border=\"1\" class=\"dataframe\">\n",
       "  <thead>\n",
       "    <tr style=\"text-align: right;\">\n",
       "      <th></th>\n",
       "      <th>Num.</th>\n",
       "      <th>Date and Time</th>\n",
       "      <th>Temp. (°C)</th>\n",
       "      <th>Rel. Humidity (%)</th>\n",
       "    </tr>\n",
       "    <tr>\n",
       "      <th>Date and Time</th>\n",
       "      <th></th>\n",
       "      <th></th>\n",
       "      <th></th>\n",
       "      <th></th>\n",
       "    </tr>\n",
       "  </thead>\n",
       "  <tbody>\n",
       "    <tr>\n",
       "      <th>2018-05-23 00:00:21</th>\n",
       "      <td>14401</td>\n",
       "      <td>2018-05-23 00:00:21</td>\n",
       "      <td>18.38</td>\n",
       "      <td>58.77</td>\n",
       "    </tr>\n",
       "    <tr>\n",
       "      <th>2018-05-23 00:05:19</th>\n",
       "      <td>14402</td>\n",
       "      <td>2018-05-23 00:05:19</td>\n",
       "      <td>18.34</td>\n",
       "      <td>59.22</td>\n",
       "    </tr>\n",
       "    <tr>\n",
       "      <th>2018-05-23 00:10:19</th>\n",
       "      <td>14403</td>\n",
       "      <td>2018-05-23 00:10:19</td>\n",
       "      <td>18.30</td>\n",
       "      <td>59.71</td>\n",
       "    </tr>\n",
       "    <tr>\n",
       "      <th>2018-05-23 00:15:19</th>\n",
       "      <td>14404</td>\n",
       "      <td>2018-05-23 00:15:19</td>\n",
       "      <td>18.25</td>\n",
       "      <td>60.21</td>\n",
       "    </tr>\n",
       "    <tr>\n",
       "      <th>2018-05-23 00:20:18</th>\n",
       "      <td>14405</td>\n",
       "      <td>2018-05-23 00:20:18</td>\n",
       "      <td>18.20</td>\n",
       "      <td>60.66</td>\n",
       "    </tr>\n",
       "    <tr>\n",
       "      <th>2018-05-23 00:25:17</th>\n",
       "      <td>14406</td>\n",
       "      <td>2018-05-23 00:25:17</td>\n",
       "      <td>18.15</td>\n",
       "      <td>61.19</td>\n",
       "    </tr>\n",
       "    <tr>\n",
       "      <th>2018-05-23 00:30:17</th>\n",
       "      <td>14407</td>\n",
       "      <td>2018-05-23 00:30:17</td>\n",
       "      <td>18.10</td>\n",
       "      <td>61.72</td>\n",
       "    </tr>\n",
       "    <tr>\n",
       "      <th>2018-05-23 00:35:16</th>\n",
       "      <td>14408</td>\n",
       "      <td>2018-05-23 00:35:16</td>\n",
       "      <td>18.05</td>\n",
       "      <td>62.18</td>\n",
       "    </tr>\n",
       "    <tr>\n",
       "      <th>2018-05-23 00:40:16</th>\n",
       "      <td>14409</td>\n",
       "      <td>2018-05-23 00:40:16</td>\n",
       "      <td>17.99</td>\n",
       "      <td>62.74</td>\n",
       "    </tr>\n",
       "    <tr>\n",
       "      <th>2018-05-23 00:45:19</th>\n",
       "      <td>14410</td>\n",
       "      <td>2018-05-23 00:45:19</td>\n",
       "      <td>17.94</td>\n",
       "      <td>63.31</td>\n",
       "    </tr>\n",
       "    <tr>\n",
       "      <th>2018-05-23 00:50:21</th>\n",
       "      <td>14411</td>\n",
       "      <td>2018-05-23 00:50:21</td>\n",
       "      <td>17.88</td>\n",
       "      <td>63.82</td>\n",
       "    </tr>\n",
       "    <tr>\n",
       "      <th>2018-05-23 00:55:20</th>\n",
       "      <td>14412</td>\n",
       "      <td>2018-05-23 00:55:20</td>\n",
       "      <td>17.84</td>\n",
       "      <td>64.33</td>\n",
       "    </tr>\n",
       "    <tr>\n",
       "      <th>2018-05-23 01:00:20</th>\n",
       "      <td>14413</td>\n",
       "      <td>2018-05-23 01:00:20</td>\n",
       "      <td>17.79</td>\n",
       "      <td>64.89</td>\n",
       "    </tr>\n",
       "    <tr>\n",
       "      <th>2018-05-23 01:05:20</th>\n",
       "      <td>14414</td>\n",
       "      <td>2018-05-23 01:05:20</td>\n",
       "      <td>17.74</td>\n",
       "      <td>65.45</td>\n",
       "    </tr>\n",
       "    <tr>\n",
       "      <th>2018-05-23 01:10:20</th>\n",
       "      <td>14415</td>\n",
       "      <td>2018-05-23 01:10:20</td>\n",
       "      <td>17.69</td>\n",
       "      <td>65.98</td>\n",
       "    </tr>\n",
       "    <tr>\n",
       "      <th>2018-05-23 01:15:19</th>\n",
       "      <td>14416</td>\n",
       "      <td>2018-05-23 01:15:19</td>\n",
       "      <td>17.65</td>\n",
       "      <td>66.47</td>\n",
       "    </tr>\n",
       "    <tr>\n",
       "      <th>2018-05-23 01:20:18</th>\n",
       "      <td>14417</td>\n",
       "      <td>2018-05-23 01:20:18</td>\n",
       "      <td>17.60</td>\n",
       "      <td>66.95</td>\n",
       "    </tr>\n",
       "    <tr>\n",
       "      <th>2018-05-23 01:25:18</th>\n",
       "      <td>14418</td>\n",
       "      <td>2018-05-23 01:25:18</td>\n",
       "      <td>17.55</td>\n",
       "      <td>67.54</td>\n",
       "    </tr>\n",
       "    <tr>\n",
       "      <th>2018-05-23 01:30:17</th>\n",
       "      <td>14419</td>\n",
       "      <td>2018-05-23 01:30:17</td>\n",
       "      <td>17.52</td>\n",
       "      <td>68.06</td>\n",
       "    </tr>\n",
       "    <tr>\n",
       "      <th>2018-05-23 01:35:17</th>\n",
       "      <td>14420</td>\n",
       "      <td>2018-05-23 01:35:17</td>\n",
       "      <td>17.48</td>\n",
       "      <td>68.58</td>\n",
       "    </tr>\n",
       "    <tr>\n",
       "      <th>2018-05-23 01:40:16</th>\n",
       "      <td>14421</td>\n",
       "      <td>2018-05-23 01:40:16</td>\n",
       "      <td>17.44</td>\n",
       "      <td>69.05</td>\n",
       "    </tr>\n",
       "    <tr>\n",
       "      <th>2018-05-23 01:45:16</th>\n",
       "      <td>14422</td>\n",
       "      <td>2018-05-23 01:45:16</td>\n",
       "      <td>17.40</td>\n",
       "      <td>69.59</td>\n",
       "    </tr>\n",
       "    <tr>\n",
       "      <th>2018-05-23 01:50:15</th>\n",
       "      <td>14423</td>\n",
       "      <td>2018-05-23 01:50:15</td>\n",
       "      <td>17.37</td>\n",
       "      <td>70.02</td>\n",
       "    </tr>\n",
       "    <tr>\n",
       "      <th>2018-05-23 01:55:15</th>\n",
       "      <td>14424</td>\n",
       "      <td>2018-05-23 01:55:15</td>\n",
       "      <td>17.34</td>\n",
       "      <td>70.51</td>\n",
       "    </tr>\n",
       "    <tr>\n",
       "      <th>2018-05-23 02:00:15</th>\n",
       "      <td>14425</td>\n",
       "      <td>2018-05-23 02:00:15</td>\n",
       "      <td>17.31</td>\n",
       "      <td>70.88</td>\n",
       "    </tr>\n",
       "    <tr>\n",
       "      <th>2018-05-23 02:05:14</th>\n",
       "      <td>14426</td>\n",
       "      <td>2018-05-23 02:05:14</td>\n",
       "      <td>17.29</td>\n",
       "      <td>71.28</td>\n",
       "    </tr>\n",
       "    <tr>\n",
       "      <th>2018-05-23 02:10:14</th>\n",
       "      <td>14427</td>\n",
       "      <td>2018-05-23 02:10:14</td>\n",
       "      <td>17.26</td>\n",
       "      <td>71.78</td>\n",
       "    </tr>\n",
       "    <tr>\n",
       "      <th>2018-05-23 02:15:14</th>\n",
       "      <td>14428</td>\n",
       "      <td>2018-05-23 02:15:14</td>\n",
       "      <td>17.23</td>\n",
       "      <td>72.17</td>\n",
       "    </tr>\n",
       "    <tr>\n",
       "      <th>2018-05-23 02:20:13</th>\n",
       "      <td>14429</td>\n",
       "      <td>2018-05-23 02:20:13</td>\n",
       "      <td>17.19</td>\n",
       "      <td>72.49</td>\n",
       "    </tr>\n",
       "    <tr>\n",
       "      <th>2018-05-23 02:25:13</th>\n",
       "      <td>14430</td>\n",
       "      <td>2018-05-23 02:25:13</td>\n",
       "      <td>17.15</td>\n",
       "      <td>72.82</td>\n",
       "    </tr>\n",
       "    <tr>\n",
       "      <th>...</th>\n",
       "      <td>...</td>\n",
       "      <td>...</td>\n",
       "      <td>...</td>\n",
       "      <td>...</td>\n",
       "    </tr>\n",
       "    <tr>\n",
       "      <th>2018-05-23 21:30:31</th>\n",
       "      <td>14659</td>\n",
       "      <td>2018-05-23 21:30:31</td>\n",
       "      <td>19.26</td>\n",
       "      <td>45.67</td>\n",
       "    </tr>\n",
       "    <tr>\n",
       "      <th>2018-05-23 21:35:29</th>\n",
       "      <td>14660</td>\n",
       "      <td>2018-05-23 21:35:29</td>\n",
       "      <td>19.28</td>\n",
       "      <td>46.18</td>\n",
       "    </tr>\n",
       "    <tr>\n",
       "      <th>2018-05-23 21:40:27</th>\n",
       "      <td>14661</td>\n",
       "      <td>2018-05-23 21:40:27</td>\n",
       "      <td>19.31</td>\n",
       "      <td>46.54</td>\n",
       "    </tr>\n",
       "    <tr>\n",
       "      <th>2018-05-23 21:45:26</th>\n",
       "      <td>14662</td>\n",
       "      <td>2018-05-23 21:45:26</td>\n",
       "      <td>19.34</td>\n",
       "      <td>46.81</td>\n",
       "    </tr>\n",
       "    <tr>\n",
       "      <th>2018-05-23 21:50:24</th>\n",
       "      <td>14663</td>\n",
       "      <td>2018-05-23 21:50:24</td>\n",
       "      <td>19.38</td>\n",
       "      <td>47.11</td>\n",
       "    </tr>\n",
       "    <tr>\n",
       "      <th>2018-05-23 21:55:01</th>\n",
       "      <td>14664</td>\n",
       "      <td>2018-05-23 21:55:01</td>\n",
       "      <td>19.41</td>\n",
       "      <td>47.44</td>\n",
       "    </tr>\n",
       "    <tr>\n",
       "      <th>2018-05-23 22:00:03</th>\n",
       "      <td>14665</td>\n",
       "      <td>2018-05-23 22:00:03</td>\n",
       "      <td>19.44</td>\n",
       "      <td>47.74</td>\n",
       "    </tr>\n",
       "    <tr>\n",
       "      <th>2018-05-23 22:05:01</th>\n",
       "      <td>14666</td>\n",
       "      <td>2018-05-23 22:05:01</td>\n",
       "      <td>19.46</td>\n",
       "      <td>48.06</td>\n",
       "    </tr>\n",
       "    <tr>\n",
       "      <th>2018-05-23 22:10:32</th>\n",
       "      <td>14667</td>\n",
       "      <td>2018-05-23 22:10:32</td>\n",
       "      <td>19.47</td>\n",
       "      <td>48.41</td>\n",
       "    </tr>\n",
       "    <tr>\n",
       "      <th>2018-05-23 22:15:30</th>\n",
       "      <td>14668</td>\n",
       "      <td>2018-05-23 22:15:30</td>\n",
       "      <td>19.47</td>\n",
       "      <td>48.75</td>\n",
       "    </tr>\n",
       "    <tr>\n",
       "      <th>2018-05-23 22:20:28</th>\n",
       "      <td>14669</td>\n",
       "      <td>2018-05-23 22:20:28</td>\n",
       "      <td>19.47</td>\n",
       "      <td>49.15</td>\n",
       "    </tr>\n",
       "    <tr>\n",
       "      <th>2018-05-23 22:25:26</th>\n",
       "      <td>14670</td>\n",
       "      <td>2018-05-23 22:25:26</td>\n",
       "      <td>19.47</td>\n",
       "      <td>49.47</td>\n",
       "    </tr>\n",
       "    <tr>\n",
       "      <th>2018-05-23 22:30:24</th>\n",
       "      <td>14671</td>\n",
       "      <td>2018-05-23 22:30:24</td>\n",
       "      <td>19.46</td>\n",
       "      <td>49.83</td>\n",
       "    </tr>\n",
       "    <tr>\n",
       "      <th>2018-05-23 22:35:22</th>\n",
       "      <td>14672</td>\n",
       "      <td>2018-05-23 22:35:22</td>\n",
       "      <td>19.46</td>\n",
       "      <td>50.19</td>\n",
       "    </tr>\n",
       "    <tr>\n",
       "      <th>2018-05-23 22:40:20</th>\n",
       "      <td>14673</td>\n",
       "      <td>2018-05-23 22:40:20</td>\n",
       "      <td>19.46</td>\n",
       "      <td>50.53</td>\n",
       "    </tr>\n",
       "    <tr>\n",
       "      <th>2018-05-23 22:45:18</th>\n",
       "      <td>14674</td>\n",
       "      <td>2018-05-23 22:45:18</td>\n",
       "      <td>19.46</td>\n",
       "      <td>50.84</td>\n",
       "    </tr>\n",
       "    <tr>\n",
       "      <th>2018-05-23 22:50:17</th>\n",
       "      <td>14675</td>\n",
       "      <td>2018-05-23 22:50:17</td>\n",
       "      <td>19.46</td>\n",
       "      <td>51.12</td>\n",
       "    </tr>\n",
       "    <tr>\n",
       "      <th>2018-05-23 22:55:15</th>\n",
       "      <td>14676</td>\n",
       "      <td>2018-05-23 22:55:15</td>\n",
       "      <td>19.46</td>\n",
       "      <td>51.43</td>\n",
       "    </tr>\n",
       "    <tr>\n",
       "      <th>2018-05-23 23:00:13</th>\n",
       "      <td>14677</td>\n",
       "      <td>2018-05-23 23:00:13</td>\n",
       "      <td>19.46</td>\n",
       "      <td>51.78</td>\n",
       "    </tr>\n",
       "    <tr>\n",
       "      <th>2018-05-23 23:05:11</th>\n",
       "      <td>14678</td>\n",
       "      <td>2018-05-23 23:05:11</td>\n",
       "      <td>19.44</td>\n",
       "      <td>52.17</td>\n",
       "    </tr>\n",
       "    <tr>\n",
       "      <th>2018-05-23 23:10:09</th>\n",
       "      <td>14679</td>\n",
       "      <td>2018-05-23 23:10:09</td>\n",
       "      <td>19.41</td>\n",
       "      <td>52.58</td>\n",
       "    </tr>\n",
       "    <tr>\n",
       "      <th>2018-05-23 23:15:07</th>\n",
       "      <td>14680</td>\n",
       "      <td>2018-05-23 23:15:07</td>\n",
       "      <td>19.38</td>\n",
       "      <td>52.90</td>\n",
       "    </tr>\n",
       "    <tr>\n",
       "      <th>2018-05-23 23:20:05</th>\n",
       "      <td>14681</td>\n",
       "      <td>2018-05-23 23:20:05</td>\n",
       "      <td>19.36</td>\n",
       "      <td>53.26</td>\n",
       "    </tr>\n",
       "    <tr>\n",
       "      <th>2018-05-23 23:25:03</th>\n",
       "      <td>14682</td>\n",
       "      <td>2018-05-23 23:25:03</td>\n",
       "      <td>19.32</td>\n",
       "      <td>53.68</td>\n",
       "    </tr>\n",
       "    <tr>\n",
       "      <th>2018-05-23 23:30:01</th>\n",
       "      <td>14683</td>\n",
       "      <td>2018-05-23 23:30:01</td>\n",
       "      <td>19.30</td>\n",
       "      <td>54.06</td>\n",
       "    </tr>\n",
       "    <tr>\n",
       "      <th>2018-05-23 23:35:32</th>\n",
       "      <td>14684</td>\n",
       "      <td>2018-05-23 23:35:32</td>\n",
       "      <td>19.27</td>\n",
       "      <td>54.42</td>\n",
       "    </tr>\n",
       "    <tr>\n",
       "      <th>2018-05-23 23:40:30</th>\n",
       "      <td>14685</td>\n",
       "      <td>2018-05-23 23:40:30</td>\n",
       "      <td>19.24</td>\n",
       "      <td>54.79</td>\n",
       "    </tr>\n",
       "    <tr>\n",
       "      <th>2018-05-23 23:45:27</th>\n",
       "      <td>14686</td>\n",
       "      <td>2018-05-23 23:45:27</td>\n",
       "      <td>19.22</td>\n",
       "      <td>55.16</td>\n",
       "    </tr>\n",
       "    <tr>\n",
       "      <th>2018-05-23 23:50:25</th>\n",
       "      <td>14687</td>\n",
       "      <td>2018-05-23 23:50:25</td>\n",
       "      <td>19.19</td>\n",
       "      <td>55.52</td>\n",
       "    </tr>\n",
       "    <tr>\n",
       "      <th>2018-05-23 23:55:22</th>\n",
       "      <td>14688</td>\n",
       "      <td>2018-05-23 23:55:22</td>\n",
       "      <td>19.19</td>\n",
       "      <td>55.52</td>\n",
       "    </tr>\n",
       "  </tbody>\n",
       "</table>\n",
       "<p>288 rows × 4 columns</p>\n",
       "</div>"
      ],
      "text/plain": [
       "                      Num.       Date and Time  Temp. (°C)  Rel. Humidity (%)\n",
       "Date and Time                                                                \n",
       "2018-05-23 00:00:21  14401 2018-05-23 00:00:21       18.38              58.77\n",
       "2018-05-23 00:05:19  14402 2018-05-23 00:05:19       18.34              59.22\n",
       "2018-05-23 00:10:19  14403 2018-05-23 00:10:19       18.30              59.71\n",
       "2018-05-23 00:15:19  14404 2018-05-23 00:15:19       18.25              60.21\n",
       "2018-05-23 00:20:18  14405 2018-05-23 00:20:18       18.20              60.66\n",
       "...                    ...                 ...         ...                ...\n",
       "2018-05-23 23:35:32  14684 2018-05-23 23:35:32       19.27              54.42\n",
       "2018-05-23 23:40:30  14685 2018-05-23 23:40:30       19.24              54.79\n",
       "2018-05-23 23:45:27  14686 2018-05-23 23:45:27       19.22              55.16\n",
       "2018-05-23 23:50:25  14687 2018-05-23 23:50:25       19.19              55.52\n",
       "2018-05-23 23:55:22  14688 2018-05-23 23:55:22       19.19              55.52\n",
       "\n",
       "[288 rows x 4 columns]"
      ]
     },
     "execution_count": 10,
     "metadata": {},
     "output_type": "execute_result"
    }
   ],
   "source": [
    "condition_start = df_climate.index > start\n",
    "condition_end = df_climate.index < end\n",
    "\n",
    "df_climate[ condition_start & condition_end ]"
   ]
  },
  {
   "cell_type": "markdown",
   "metadata": {
    "slideshow": {
     "slide_type": "subslide"
    }
   },
   "source": [
    "And we can use this new table to calculate the average (or max, min, etc) of the columns on that interval:"
   ]
  },
  {
   "cell_type": "code",
   "execution_count": 11,
   "metadata": {
    "slideshow": {
     "slide_type": "fragment"
    }
   },
   "outputs": [
    {
     "data": {
      "text/plain": [
       "Num.                 14544.500000\n",
       "Temp. (°C)              23.980278\n",
       "Rel. Humidity (%)       42.395347\n",
       "dtype: float64"
      ]
     },
     "execution_count": 11,
     "metadata": {},
     "output_type": "execute_result"
    }
   ],
   "source": [
    "df_climate[ condition_start & condition_end ].mean()"
   ]
  },
  {
   "cell_type": "markdown",
   "metadata": {
    "slideshow": {
     "slide_type": "subslide"
    }
   },
   "source": [
    "Of course, we can also look for other periods with this technique, we just follow the steps:\n",
    "* Define a start time with `pd.Timestamp`\n",
    "* Define a finishing time with `pd.Timestamp`\n",
    "* Check condition: > start\n",
    "* Check condition: < end\n",
    "* Select from the table (query)"
   ]
  },
  {
   "cell_type": "code",
   "execution_count": 12,
   "metadata": {
    "slideshow": {
     "slide_type": "subslide"
    }
   },
   "outputs": [
    {
     "data": {
      "text/html": [
       "<div>\n",
       "<style scoped>\n",
       "    .dataframe tbody tr th:only-of-type {\n",
       "        vertical-align: middle;\n",
       "    }\n",
       "\n",
       "    .dataframe tbody tr th {\n",
       "        vertical-align: top;\n",
       "    }\n",
       "\n",
       "    .dataframe thead th {\n",
       "        text-align: right;\n",
       "    }\n",
       "</style>\n",
       "<table border=\"1\" class=\"dataframe\">\n",
       "  <thead>\n",
       "    <tr style=\"text-align: right;\">\n",
       "      <th></th>\n",
       "      <th>Num.</th>\n",
       "      <th>Date and Time</th>\n",
       "      <th>Temp. (°C)</th>\n",
       "      <th>Rel. Humidity (%)</th>\n",
       "    </tr>\n",
       "    <tr>\n",
       "      <th>Date and Time</th>\n",
       "      <th></th>\n",
       "      <th></th>\n",
       "      <th></th>\n",
       "      <th></th>\n",
       "    </tr>\n",
       "  </thead>\n",
       "  <tbody>\n",
       "    <tr>\n",
       "      <th>2018-05-23 08:00:04</th>\n",
       "      <td>14497</td>\n",
       "      <td>2018-05-23 08:00:04</td>\n",
       "      <td>23.93</td>\n",
       "      <td>39.23</td>\n",
       "    </tr>\n",
       "    <tr>\n",
       "      <th>2018-05-23 08:05:03</th>\n",
       "      <td>14498</td>\n",
       "      <td>2018-05-23 08:05:03</td>\n",
       "      <td>24.22</td>\n",
       "      <td>38.60</td>\n",
       "    </tr>\n",
       "    <tr>\n",
       "      <th>2018-05-23 08:10:03</th>\n",
       "      <td>14499</td>\n",
       "      <td>2018-05-23 08:10:03</td>\n",
       "      <td>24.50</td>\n",
       "      <td>38.01</td>\n",
       "    </tr>\n",
       "    <tr>\n",
       "      <th>2018-05-23 08:15:03</th>\n",
       "      <td>14500</td>\n",
       "      <td>2018-05-23 08:15:03</td>\n",
       "      <td>24.87</td>\n",
       "      <td>37.22</td>\n",
       "    </tr>\n",
       "    <tr>\n",
       "      <th>2018-05-23 08:20:03</th>\n",
       "      <td>14501</td>\n",
       "      <td>2018-05-23 08:20:03</td>\n",
       "      <td>25.16</td>\n",
       "      <td>36.96</td>\n",
       "    </tr>\n",
       "    <tr>\n",
       "      <th>2018-05-23 08:25:03</th>\n",
       "      <td>14502</td>\n",
       "      <td>2018-05-23 08:25:03</td>\n",
       "      <td>25.38</td>\n",
       "      <td>36.74</td>\n",
       "    </tr>\n",
       "    <tr>\n",
       "      <th>2018-05-23 08:30:03</th>\n",
       "      <td>14503</td>\n",
       "      <td>2018-05-23 08:30:03</td>\n",
       "      <td>25.53</td>\n",
       "      <td>36.23</td>\n",
       "    </tr>\n",
       "    <tr>\n",
       "      <th>2018-05-23 08:35:03</th>\n",
       "      <td>14504</td>\n",
       "      <td>2018-05-23 08:35:03</td>\n",
       "      <td>25.71</td>\n",
       "      <td>35.84</td>\n",
       "    </tr>\n",
       "    <tr>\n",
       "      <th>2018-05-23 08:40:03</th>\n",
       "      <td>14505</td>\n",
       "      <td>2018-05-23 08:40:03</td>\n",
       "      <td>25.88</td>\n",
       "      <td>35.48</td>\n",
       "    </tr>\n",
       "    <tr>\n",
       "      <th>2018-05-23 08:45:03</th>\n",
       "      <td>14506</td>\n",
       "      <td>2018-05-23 08:45:03</td>\n",
       "      <td>26.09</td>\n",
       "      <td>35.10</td>\n",
       "    </tr>\n",
       "    <tr>\n",
       "      <th>2018-05-23 08:50:03</th>\n",
       "      <td>14507</td>\n",
       "      <td>2018-05-23 08:50:03</td>\n",
       "      <td>26.21</td>\n",
       "      <td>34.29</td>\n",
       "    </tr>\n",
       "    <tr>\n",
       "      <th>2018-05-23 08:55:02</th>\n",
       "      <td>14508</td>\n",
       "      <td>2018-05-23 08:55:02</td>\n",
       "      <td>26.29</td>\n",
       "      <td>33.99</td>\n",
       "    </tr>\n",
       "  </tbody>\n",
       "</table>\n",
       "</div>"
      ],
      "text/plain": [
       "                      Num.       Date and Time  Temp. (°C)  Rel. Humidity (%)\n",
       "Date and Time                                                                \n",
       "2018-05-23 08:00:04  14497 2018-05-23 08:00:04       23.93              39.23\n",
       "2018-05-23 08:05:03  14498 2018-05-23 08:05:03       24.22              38.60\n",
       "2018-05-23 08:10:03  14499 2018-05-23 08:10:03       24.50              38.01\n",
       "2018-05-23 08:15:03  14500 2018-05-23 08:15:03       24.87              37.22\n",
       "2018-05-23 08:20:03  14501 2018-05-23 08:20:03       25.16              36.96\n",
       "2018-05-23 08:25:03  14502 2018-05-23 08:25:03       25.38              36.74\n",
       "2018-05-23 08:30:03  14503 2018-05-23 08:30:03       25.53              36.23\n",
       "2018-05-23 08:35:03  14504 2018-05-23 08:35:03       25.71              35.84\n",
       "2018-05-23 08:40:03  14505 2018-05-23 08:40:03       25.88              35.48\n",
       "2018-05-23 08:45:03  14506 2018-05-23 08:45:03       26.09              35.10\n",
       "2018-05-23 08:50:03  14507 2018-05-23 08:50:03       26.21              34.29\n",
       "2018-05-23 08:55:02  14508 2018-05-23 08:55:02       26.29              33.99"
      ]
     },
     "execution_count": 12,
     "metadata": {},
     "output_type": "execute_result"
    }
   ],
   "source": [
    "start = pd.Timestamp( '2018-05-23, 08:00:00' )\n",
    "end = pd.Timestamp( '2018-05-23, 09:00:00' )\n",
    "\n",
    "condition_start = df_climate.index > start\n",
    "condition_end = df_climate.index < end\n",
    "\n",
    "df_climate[ condition_start & condition_end ]"
   ]
  },
  {
   "cell_type": "markdown",
   "metadata": {
    "slideshow": {
     "slide_type": "subslide"
    }
   },
   "source": [
    "This techinque does not look for exact matches, as the measuring times in the table include seconds that are irregular. It is very useful because it also works in cases when there are empty or not equally distributed timestamps."
   ]
  },
  {
   "cell_type": "markdown",
   "metadata": {
    "slideshow": {
     "slide_type": "subslide"
    }
   },
   "source": [
    "It is now very easy to know the average temperature in the period between 8 and 9 that we selected previously:"
   ]
  },
  {
   "cell_type": "code",
   "execution_count": 13,
   "metadata": {
    "slideshow": {
     "slide_type": "fragment"
    }
   },
   "outputs": [
    {
     "data": {
      "text/plain": [
       "Num.                 14502.500000\n",
       "Temp. (°C)              25.314167\n",
       "Rel. Humidity (%)       36.474167\n",
       "dtype: float64"
      ]
     },
     "execution_count": 13,
     "metadata": {},
     "output_type": "execute_result"
    }
   ],
   "source": [
    "start = pd.Timestamp( '2018-05-23, 08:00:00' )\n",
    "end = pd.Timestamp( '2018-05-23, 09:00:00' )\n",
    "\n",
    "condition_start = df_climate.index > start\n",
    "condition_end = df_climate.index < end\n",
    "\n",
    "df_climate[ condition_start & condition_end ].mean()\n"
   ]
  },
  {
   "cell_type": "markdown",
   "metadata": {
    "slideshow": {
     "slide_type": "subslide"
    }
   },
   "source": [
    "## Resample"
   ]
  },
  {
   "cell_type": "markdown",
   "metadata": {
    "slideshow": {
     "slide_type": "fragment"
    }
   },
   "source": [
    "Lastly, we will have a quick introduction to `.resample`, a function that allows us to change the interval in which some data are given, either ___upsample___ (get more points, at smaller intervals) or ___downsample___ (agreggating values in bigger intervals)."
   ]
  },
  {
   "cell_type": "markdown",
   "metadata": {
    "slideshow": {
     "slide_type": "subslide"
    }
   },
   "source": [
    "The data in the climate data frame is stored in intervals of about 5 minutes. \n",
    "\n",
    "We will first ___downsample___ it to hourly and daily values."
   ]
  },
  {
   "cell_type": "markdown",
   "metadata": {
    "slideshow": {
     "slide_type": "fragment"
    }
   },
   "source": [
    "There are two things that we have to have clear to correctly resample data:\n",
    "\n",
    "* What the new frequency will be. 1 hour? 15 minutes? 1 day?\n",
    "* How we will create the new values. Sum? Average?"
   ]
  },
  {
   "cell_type": "markdown",
   "metadata": {
    "slideshow": {
     "slide_type": "subslide"
    }
   },
   "source": [
    "About the first question, we will use the following letters to specifiy the new frequency:\n",
    "    \n",
    "* M → monthly frequency\n",
    "* W → weekly frequency\n",
    "* D → daily frequency\n",
    "* H → hourly frequency\n",
    "* T → minutely frequency\n",
    "* S → secondly frequency\n",
    "* L → milliseonds\n",
    "* U → microseconds\n",
    "* N → nanoseconds"
   ]
  },
  {
   "cell_type": "markdown",
   "metadata": {
    "slideshow": {
     "slide_type": "subslide"
    }
   },
   "source": [
    "About the second question, think that water (liter [L]) from irrigation in the morning and in the afternoon should ___add___ up for a daily value.\n",
    "\n",
    "On the other hand, the temperature in the morning, and the temperature in the afternoon should be ___averaged___ to give a daily value.\n",
    "\n",
    "Also, in cases we need the last value, or the first, or the most common in the interval. At the end of this notebook is a link to a very nice post where these options can be consulted."
   ]
  },
  {
   "cell_type": "markdown",
   "metadata": {
    "slideshow": {
     "slide_type": "subslide"
    }
   },
   "source": [
    "First we will resample the whole data frame to 1 hour, taking the average of the values in each hourly interval. \n",
    "\n",
    "It is like this now:"
   ]
  },
  {
   "cell_type": "code",
   "execution_count": 14,
   "metadata": {
    "slideshow": {
     "slide_type": "fragment"
    }
   },
   "outputs": [
    {
     "data": {
      "text/html": [
       "<div>\n",
       "<style scoped>\n",
       "    .dataframe tbody tr th:only-of-type {\n",
       "        vertical-align: middle;\n",
       "    }\n",
       "\n",
       "    .dataframe tbody tr th {\n",
       "        vertical-align: top;\n",
       "    }\n",
       "\n",
       "    .dataframe thead th {\n",
       "        text-align: right;\n",
       "    }\n",
       "</style>\n",
       "<table border=\"1\" class=\"dataframe\">\n",
       "  <thead>\n",
       "    <tr style=\"text-align: right;\">\n",
       "      <th></th>\n",
       "      <th>Num.</th>\n",
       "      <th>Date and Time</th>\n",
       "      <th>Temp. (°C)</th>\n",
       "      <th>Rel. Humidity (%)</th>\n",
       "    </tr>\n",
       "    <tr>\n",
       "      <th>Date and Time</th>\n",
       "      <th></th>\n",
       "      <th></th>\n",
       "      <th></th>\n",
       "      <th></th>\n",
       "    </tr>\n",
       "  </thead>\n",
       "  <tbody>\n",
       "    <tr>\n",
       "      <th>2018-04-18 00:00:21</th>\n",
       "      <td>4321</td>\n",
       "      <td>2018-04-18 00:00:21</td>\n",
       "      <td>18.53</td>\n",
       "      <td>52.37</td>\n",
       "    </tr>\n",
       "    <tr>\n",
       "      <th>2018-04-18 00:05:19</th>\n",
       "      <td>4322</td>\n",
       "      <td>2018-04-18 00:05:19</td>\n",
       "      <td>18.49</td>\n",
       "      <td>52.44</td>\n",
       "    </tr>\n",
       "    <tr>\n",
       "      <th>2018-04-18 00:10:19</th>\n",
       "      <td>4323</td>\n",
       "      <td>2018-04-18 00:10:19</td>\n",
       "      <td>17.97</td>\n",
       "      <td>55.13</td>\n",
       "    </tr>\n",
       "    <tr>\n",
       "      <th>2018-04-18 00:15:19</th>\n",
       "      <td>4324</td>\n",
       "      <td>2018-04-18 00:15:19</td>\n",
       "      <td>17.58</td>\n",
       "      <td>56.38</td>\n",
       "    </tr>\n",
       "    <tr>\n",
       "      <th>2018-04-18 00:20:18</th>\n",
       "      <td>4325</td>\n",
       "      <td>2018-04-18 00:20:18</td>\n",
       "      <td>17.48</td>\n",
       "      <td>53.81</td>\n",
       "    </tr>\n",
       "  </tbody>\n",
       "</table>\n",
       "</div>"
      ],
      "text/plain": [
       "                     Num.       Date and Time  Temp. (°C)  Rel. Humidity (%)\n",
       "Date and Time                                                               \n",
       "2018-04-18 00:00:21  4321 2018-04-18 00:00:21       18.53              52.37\n",
       "2018-04-18 00:05:19  4322 2018-04-18 00:05:19       18.49              52.44\n",
       "2018-04-18 00:10:19  4323 2018-04-18 00:10:19       17.97              55.13\n",
       "2018-04-18 00:15:19  4324 2018-04-18 00:15:19       17.58              56.38\n",
       "2018-04-18 00:20:18  4325 2018-04-18 00:20:18       17.48              53.81"
      ]
     },
     "execution_count": 14,
     "metadata": {},
     "output_type": "execute_result"
    }
   ],
   "source": [
    "df_climate.head()"
   ]
  },
  {
   "cell_type": "code",
   "execution_count": 15,
   "metadata": {
    "slideshow": {
     "slide_type": "subslide"
    }
   },
   "outputs": [],
   "source": [
    "df_climate_1h = df_climate.resample( '1H' ).mean()"
   ]
  },
  {
   "cell_type": "code",
   "execution_count": 16,
   "metadata": {
    "slideshow": {
     "slide_type": "fragment"
    }
   },
   "outputs": [
    {
     "data": {
      "text/html": [
       "<div>\n",
       "<style scoped>\n",
       "    .dataframe tbody tr th:only-of-type {\n",
       "        vertical-align: middle;\n",
       "    }\n",
       "\n",
       "    .dataframe tbody tr th {\n",
       "        vertical-align: top;\n",
       "    }\n",
       "\n",
       "    .dataframe thead th {\n",
       "        text-align: right;\n",
       "    }\n",
       "</style>\n",
       "<table border=\"1\" class=\"dataframe\">\n",
       "  <thead>\n",
       "    <tr style=\"text-align: right;\">\n",
       "      <th></th>\n",
       "      <th>Num.</th>\n",
       "      <th>Temp. (°C)</th>\n",
       "      <th>Rel. Humidity (%)</th>\n",
       "    </tr>\n",
       "    <tr>\n",
       "      <th>Date and Time</th>\n",
       "      <th></th>\n",
       "      <th></th>\n",
       "      <th></th>\n",
       "    </tr>\n",
       "  </thead>\n",
       "  <tbody>\n",
       "    <tr>\n",
       "      <th>2018-04-18 00:00:00</th>\n",
       "      <td>4326.5</td>\n",
       "      <td>18.013333</td>\n",
       "      <td>53.595000</td>\n",
       "    </tr>\n",
       "    <tr>\n",
       "      <th>2018-04-18 01:00:00</th>\n",
       "      <td>4338.5</td>\n",
       "      <td>18.055833</td>\n",
       "      <td>52.836667</td>\n",
       "    </tr>\n",
       "    <tr>\n",
       "      <th>2018-04-18 02:00:00</th>\n",
       "      <td>4350.5</td>\n",
       "      <td>17.971667</td>\n",
       "      <td>51.935833</td>\n",
       "    </tr>\n",
       "    <tr>\n",
       "      <th>2018-04-18 03:00:00</th>\n",
       "      <td>4362.5</td>\n",
       "      <td>17.933333</td>\n",
       "      <td>51.635000</td>\n",
       "    </tr>\n",
       "    <tr>\n",
       "      <th>2018-04-18 04:00:00</th>\n",
       "      <td>4374.5</td>\n",
       "      <td>18.014167</td>\n",
       "      <td>50.772500</td>\n",
       "    </tr>\n",
       "  </tbody>\n",
       "</table>\n",
       "</div>"
      ],
      "text/plain": [
       "                       Num.  Temp. (°C)  Rel. Humidity (%)\n",
       "Date and Time                                             \n",
       "2018-04-18 00:00:00  4326.5   18.013333          53.595000\n",
       "2018-04-18 01:00:00  4338.5   18.055833          52.836667\n",
       "2018-04-18 02:00:00  4350.5   17.971667          51.935833\n",
       "2018-04-18 03:00:00  4362.5   17.933333          51.635000\n",
       "2018-04-18 04:00:00  4374.5   18.014167          50.772500"
      ]
     },
     "execution_count": 16,
     "metadata": {},
     "output_type": "execute_result"
    }
   ],
   "source": [
    "df_climate_1h.head()"
   ]
  },
  {
   "cell_type": "code",
   "execution_count": 17,
   "metadata": {
    "slideshow": {
     "slide_type": "subslide"
    }
   },
   "outputs": [
    {
     "data": {
      "text/html": [
       "<div>\n",
       "<style scoped>\n",
       "    .dataframe tbody tr th:only-of-type {\n",
       "        vertical-align: middle;\n",
       "    }\n",
       "\n",
       "    .dataframe tbody tr th {\n",
       "        vertical-align: top;\n",
       "    }\n",
       "\n",
       "    .dataframe thead th {\n",
       "        text-align: right;\n",
       "    }\n",
       "</style>\n",
       "<table border=\"1\" class=\"dataframe\">\n",
       "  <thead>\n",
       "    <tr style=\"text-align: right;\">\n",
       "      <th></th>\n",
       "      <th>Num.</th>\n",
       "      <th>Temp. (°C)</th>\n",
       "      <th>Rel. Humidity (%)</th>\n",
       "    </tr>\n",
       "    <tr>\n",
       "      <th>Date and Time</th>\n",
       "      <th></th>\n",
       "      <th></th>\n",
       "      <th></th>\n",
       "    </tr>\n",
       "  </thead>\n",
       "  <tbody>\n",
       "    <tr>\n",
       "      <th>2018-05-23 19:00:00</th>\n",
       "      <td>14634.5</td>\n",
       "      <td>22.855000</td>\n",
       "      <td>28.825000</td>\n",
       "    </tr>\n",
       "    <tr>\n",
       "      <th>2018-05-23 20:00:00</th>\n",
       "      <td>14646.5</td>\n",
       "      <td>20.790833</td>\n",
       "      <td>36.506667</td>\n",
       "    </tr>\n",
       "    <tr>\n",
       "      <th>2018-05-23 21:00:00</th>\n",
       "      <td>14658.5</td>\n",
       "      <td>19.447500</td>\n",
       "      <td>44.990833</td>\n",
       "    </tr>\n",
       "    <tr>\n",
       "      <th>2018-05-23 22:00:00</th>\n",
       "      <td>14670.5</td>\n",
       "      <td>19.461667</td>\n",
       "      <td>49.626667</td>\n",
       "    </tr>\n",
       "    <tr>\n",
       "      <th>2018-05-23 23:00:00</th>\n",
       "      <td>14682.5</td>\n",
       "      <td>19.315000</td>\n",
       "      <td>53.820000</td>\n",
       "    </tr>\n",
       "  </tbody>\n",
       "</table>\n",
       "</div>"
      ],
      "text/plain": [
       "                        Num.  Temp. (°C)  Rel. Humidity (%)\n",
       "Date and Time                                              \n",
       "2018-05-23 19:00:00  14634.5   22.855000          28.825000\n",
       "2018-05-23 20:00:00  14646.5   20.790833          36.506667\n",
       "2018-05-23 21:00:00  14658.5   19.447500          44.990833\n",
       "2018-05-23 22:00:00  14670.5   19.461667          49.626667\n",
       "2018-05-23 23:00:00  14682.5   19.315000          53.820000"
      ]
     },
     "execution_count": 17,
     "metadata": {},
     "output_type": "execute_result"
    }
   ],
   "source": [
    "df_climate_1h.tail()"
   ]
  },
  {
   "cell_type": "markdown",
   "metadata": {
    "slideshow": {
     "slide_type": "subslide"
    }
   },
   "source": [
    "And now the same for daily values:"
   ]
  },
  {
   "cell_type": "code",
   "execution_count": 18,
   "metadata": {
    "slideshow": {
     "slide_type": "fragment"
    }
   },
   "outputs": [],
   "source": [
    "df_climate_1d = df_climate.resample( '1D' ).mean()"
   ]
  },
  {
   "cell_type": "code",
   "execution_count": 19,
   "metadata": {
    "slideshow": {
     "slide_type": "fragment"
    }
   },
   "outputs": [
    {
     "data": {
      "text/html": [
       "<div>\n",
       "<style scoped>\n",
       "    .dataframe tbody tr th:only-of-type {\n",
       "        vertical-align: middle;\n",
       "    }\n",
       "\n",
       "    .dataframe tbody tr th {\n",
       "        vertical-align: top;\n",
       "    }\n",
       "\n",
       "    .dataframe thead th {\n",
       "        text-align: right;\n",
       "    }\n",
       "</style>\n",
       "<table border=\"1\" class=\"dataframe\">\n",
       "  <thead>\n",
       "    <tr style=\"text-align: right;\">\n",
       "      <th></th>\n",
       "      <th>Num.</th>\n",
       "      <th>Temp. (°C)</th>\n",
       "      <th>Rel. Humidity (%)</th>\n",
       "    </tr>\n",
       "    <tr>\n",
       "      <th>Date and Time</th>\n",
       "      <th></th>\n",
       "      <th></th>\n",
       "      <th></th>\n",
       "    </tr>\n",
       "  </thead>\n",
       "  <tbody>\n",
       "    <tr>\n",
       "      <th>2018-04-18</th>\n",
       "      <td>4464.500000</td>\n",
       "      <td>21.353715</td>\n",
       "      <td>47.279514</td>\n",
       "    </tr>\n",
       "    <tr>\n",
       "      <th>2018-04-19</th>\n",
       "      <td>4752.447183</td>\n",
       "      <td>21.316585</td>\n",
       "      <td>58.615634</td>\n",
       "    </tr>\n",
       "    <tr>\n",
       "      <th>2018-04-20</th>\n",
       "      <td>5042.031802</td>\n",
       "      <td>22.221908</td>\n",
       "      <td>57.677244</td>\n",
       "    </tr>\n",
       "    <tr>\n",
       "      <th>2018-04-21</th>\n",
       "      <td>5328.500000</td>\n",
       "      <td>19.976771</td>\n",
       "      <td>54.997917</td>\n",
       "    </tr>\n",
       "    <tr>\n",
       "      <th>2018-04-22</th>\n",
       "      <td>5616.500000</td>\n",
       "      <td>20.016562</td>\n",
       "      <td>51.049583</td>\n",
       "    </tr>\n",
       "  </tbody>\n",
       "</table>\n",
       "</div>"
      ],
      "text/plain": [
       "                      Num.  Temp. (°C)  Rel. Humidity (%)\n",
       "Date and Time                                            \n",
       "2018-04-18     4464.500000   21.353715          47.279514\n",
       "2018-04-19     4752.447183   21.316585          58.615634\n",
       "2018-04-20     5042.031802   22.221908          57.677244\n",
       "2018-04-21     5328.500000   19.976771          54.997917\n",
       "2018-04-22     5616.500000   20.016562          51.049583"
      ]
     },
     "execution_count": 19,
     "metadata": {},
     "output_type": "execute_result"
    }
   ],
   "source": [
    "df_climate_1d.head()"
   ]
  },
  {
   "cell_type": "code",
   "execution_count": 20,
   "metadata": {
    "slideshow": {
     "slide_type": "subslide"
    }
   },
   "outputs": [
    {
     "data": {
      "text/html": [
       "<div>\n",
       "<style scoped>\n",
       "    .dataframe tbody tr th:only-of-type {\n",
       "        vertical-align: middle;\n",
       "    }\n",
       "\n",
       "    .dataframe tbody tr th {\n",
       "        vertical-align: top;\n",
       "    }\n",
       "\n",
       "    .dataframe thead th {\n",
       "        text-align: right;\n",
       "    }\n",
       "</style>\n",
       "<table border=\"1\" class=\"dataframe\">\n",
       "  <thead>\n",
       "    <tr style=\"text-align: right;\">\n",
       "      <th></th>\n",
       "      <th>Num.</th>\n",
       "      <th>Temp. (°C)</th>\n",
       "      <th>Rel. Humidity (%)</th>\n",
       "    </tr>\n",
       "    <tr>\n",
       "      <th>Date and Time</th>\n",
       "      <th></th>\n",
       "      <th></th>\n",
       "      <th></th>\n",
       "    </tr>\n",
       "  </thead>\n",
       "  <tbody>\n",
       "    <tr>\n",
       "      <th>2018-05-19</th>\n",
       "      <td>13392.5</td>\n",
       "      <td>22.091285</td>\n",
       "      <td>48.573750</td>\n",
       "    </tr>\n",
       "    <tr>\n",
       "      <th>2018-05-20</th>\n",
       "      <td>13680.5</td>\n",
       "      <td>22.293472</td>\n",
       "      <td>38.786319</td>\n",
       "    </tr>\n",
       "    <tr>\n",
       "      <th>2018-05-21</th>\n",
       "      <td>13968.5</td>\n",
       "      <td>21.855174</td>\n",
       "      <td>42.795382</td>\n",
       "    </tr>\n",
       "    <tr>\n",
       "      <th>2018-05-22</th>\n",
       "      <td>14256.5</td>\n",
       "      <td>22.901215</td>\n",
       "      <td>42.902083</td>\n",
       "    </tr>\n",
       "    <tr>\n",
       "      <th>2018-05-23</th>\n",
       "      <td>14544.5</td>\n",
       "      <td>23.980278</td>\n",
       "      <td>42.395347</td>\n",
       "    </tr>\n",
       "  </tbody>\n",
       "</table>\n",
       "</div>"
      ],
      "text/plain": [
       "                  Num.  Temp. (°C)  Rel. Humidity (%)\n",
       "Date and Time                                        \n",
       "2018-05-19     13392.5   22.091285          48.573750\n",
       "2018-05-20     13680.5   22.293472          38.786319\n",
       "2018-05-21     13968.5   21.855174          42.795382\n",
       "2018-05-22     14256.5   22.901215          42.902083\n",
       "2018-05-23     14544.5   23.980278          42.395347"
      ]
     },
     "execution_count": 20,
     "metadata": {},
     "output_type": "execute_result"
    }
   ],
   "source": [
    "df_climate_1d.tail()"
   ]
  },
  {
   "cell_type": "markdown",
   "metadata": {
    "slideshow": {
     "slide_type": "subslide"
    }
   },
   "source": [
    "And that easily we get the daily average temperature and humidity from measurements in 5 minutes interval!"
   ]
  },
  {
   "cell_type": "markdown",
   "metadata": {
    "slideshow": {
     "slide_type": "subslide"
    }
   },
   "source": [
    "If we wanted to resample with different functions, sometimes the maximum value, for some other columns the sum or the mean, we need to use the following syntax.\n",
    "\n",
    "In this case, it resamples to the same 1-day frequency, but it returns the minimum temperature and averages the relative humidity.\n",
    "\n",
    "Remember to import numpy to use the functions `np.max` and `np.mean`!"
   ]
  },
  {
   "cell_type": "code",
   "execution_count": 21,
   "metadata": {
    "slideshow": {
     "slide_type": "subslide"
    }
   },
   "outputs": [],
   "source": [
    "import numpy as np"
   ]
  },
  {
   "cell_type": "code",
   "execution_count": 22,
   "metadata": {
    "slideshow": {
     "slide_type": "fragment"
    }
   },
   "outputs": [
    {
     "data": {
      "text/html": [
       "<div>\n",
       "<style scoped>\n",
       "    .dataframe tbody tr th:only-of-type {\n",
       "        vertical-align: middle;\n",
       "    }\n",
       "\n",
       "    .dataframe tbody tr th {\n",
       "        vertical-align: top;\n",
       "    }\n",
       "\n",
       "    .dataframe thead th {\n",
       "        text-align: right;\n",
       "    }\n",
       "</style>\n",
       "<table border=\"1\" class=\"dataframe\">\n",
       "  <thead>\n",
       "    <tr style=\"text-align: right;\">\n",
       "      <th></th>\n",
       "      <th>Temp. (°C)</th>\n",
       "      <th>Rel. Humidity (%)</th>\n",
       "    </tr>\n",
       "    <tr>\n",
       "      <th>Date and Time</th>\n",
       "      <th></th>\n",
       "      <th></th>\n",
       "    </tr>\n",
       "  </thead>\n",
       "  <tbody>\n",
       "    <tr>\n",
       "      <th>2018-04-18</th>\n",
       "      <td>6149.87</td>\n",
       "      <td>47.279514</td>\n",
       "    </tr>\n",
       "    <tr>\n",
       "      <th>2018-04-19</th>\n",
       "      <td>6053.91</td>\n",
       "      <td>58.615634</td>\n",
       "    </tr>\n",
       "    <tr>\n",
       "      <th>2018-04-20</th>\n",
       "      <td>6288.80</td>\n",
       "      <td>57.677244</td>\n",
       "    </tr>\n",
       "    <tr>\n",
       "      <th>2018-04-21</th>\n",
       "      <td>5753.31</td>\n",
       "      <td>54.997917</td>\n",
       "    </tr>\n",
       "    <tr>\n",
       "      <th>2018-04-22</th>\n",
       "      <td>5764.77</td>\n",
       "      <td>51.049583</td>\n",
       "    </tr>\n",
       "    <tr>\n",
       "      <th>2018-04-23</th>\n",
       "      <td>5617.61</td>\n",
       "      <td>58.576408</td>\n",
       "    </tr>\n",
       "    <tr>\n",
       "      <th>2018-04-24</th>\n",
       "      <td>4815.39</td>\n",
       "      <td>62.034316</td>\n",
       "    </tr>\n",
       "    <tr>\n",
       "      <th>2018-04-25</th>\n",
       "      <td>4809.80</td>\n",
       "      <td>64.354774</td>\n",
       "    </tr>\n",
       "    <tr>\n",
       "      <th>2018-04-26</th>\n",
       "      <td>2567.26</td>\n",
       "      <td>64.391706</td>\n",
       "    </tr>\n",
       "    <tr>\n",
       "      <th>2018-04-27</th>\n",
       "      <td>4447.07</td>\n",
       "      <td>38.669330</td>\n",
       "    </tr>\n",
       "    <tr>\n",
       "      <th>2018-04-28</th>\n",
       "      <td>5851.46</td>\n",
       "      <td>43.108507</td>\n",
       "    </tr>\n",
       "    <tr>\n",
       "      <th>2018-04-29</th>\n",
       "      <td>6592.33</td>\n",
       "      <td>45.982465</td>\n",
       "    </tr>\n",
       "    <tr>\n",
       "      <th>2018-04-30</th>\n",
       "      <td>6025.32</td>\n",
       "      <td>52.344757</td>\n",
       "    </tr>\n",
       "    <tr>\n",
       "      <th>2018-05-01</th>\n",
       "      <td>5324.67</td>\n",
       "      <td>45.780382</td>\n",
       "    </tr>\n",
       "    <tr>\n",
       "      <th>2018-05-02</th>\n",
       "      <td>5138.78</td>\n",
       "      <td>45.758299</td>\n",
       "    </tr>\n",
       "    <tr>\n",
       "      <th>2018-05-03</th>\n",
       "      <td>5646.26</td>\n",
       "      <td>46.190938</td>\n",
       "    </tr>\n",
       "    <tr>\n",
       "      <th>2018-05-04</th>\n",
       "      <td>5582.16</td>\n",
       "      <td>37.508125</td>\n",
       "    </tr>\n",
       "    <tr>\n",
       "      <th>2018-05-05</th>\n",
       "      <td>5748.91</td>\n",
       "      <td>39.987500</td>\n",
       "    </tr>\n",
       "    <tr>\n",
       "      <th>2018-05-06</th>\n",
       "      <td>6192.57</td>\n",
       "      <td>45.982222</td>\n",
       "    </tr>\n",
       "    <tr>\n",
       "      <th>2018-05-07</th>\n",
       "      <td>6093.85</td>\n",
       "      <td>49.766285</td>\n",
       "    </tr>\n",
       "    <tr>\n",
       "      <th>2018-05-08</th>\n",
       "      <td>6298.74</td>\n",
       "      <td>49.043924</td>\n",
       "    </tr>\n",
       "    <tr>\n",
       "      <th>2018-05-09</th>\n",
       "      <td>6551.59</td>\n",
       "      <td>54.250764</td>\n",
       "    </tr>\n",
       "    <tr>\n",
       "      <th>2018-05-10</th>\n",
       "      <td>6479.49</td>\n",
       "      <td>65.714549</td>\n",
       "    </tr>\n",
       "    <tr>\n",
       "      <th>2018-05-11</th>\n",
       "      <td>5332.67</td>\n",
       "      <td>76.756111</td>\n",
       "    </tr>\n",
       "    <tr>\n",
       "      <th>2018-05-12</th>\n",
       "      <td>5747.49</td>\n",
       "      <td>65.297639</td>\n",
       "    </tr>\n",
       "    <tr>\n",
       "      <th>2018-05-13</th>\n",
       "      <td>6698.29</td>\n",
       "      <td>51.287465</td>\n",
       "    </tr>\n",
       "    <tr>\n",
       "      <th>2018-05-14</th>\n",
       "      <td>6662.93</td>\n",
       "      <td>42.728750</td>\n",
       "    </tr>\n",
       "    <tr>\n",
       "      <th>2018-05-15</th>\n",
       "      <td>5915.59</td>\n",
       "      <td>57.936458</td>\n",
       "    </tr>\n",
       "    <tr>\n",
       "      <th>2018-05-16</th>\n",
       "      <td>6215.47</td>\n",
       "      <td>58.533611</td>\n",
       "    </tr>\n",
       "    <tr>\n",
       "      <th>2018-05-17</th>\n",
       "      <td>5983.94</td>\n",
       "      <td>58.776111</td>\n",
       "    </tr>\n",
       "    <tr>\n",
       "      <th>2018-05-18</th>\n",
       "      <td>5432.05</td>\n",
       "      <td>63.067743</td>\n",
       "    </tr>\n",
       "    <tr>\n",
       "      <th>2018-05-19</th>\n",
       "      <td>6362.29</td>\n",
       "      <td>48.573750</td>\n",
       "    </tr>\n",
       "    <tr>\n",
       "      <th>2018-05-20</th>\n",
       "      <td>6420.52</td>\n",
       "      <td>38.786319</td>\n",
       "    </tr>\n",
       "    <tr>\n",
       "      <th>2018-05-21</th>\n",
       "      <td>6294.29</td>\n",
       "      <td>42.795382</td>\n",
       "    </tr>\n",
       "    <tr>\n",
       "      <th>2018-05-22</th>\n",
       "      <td>6595.55</td>\n",
       "      <td>42.902083</td>\n",
       "    </tr>\n",
       "    <tr>\n",
       "      <th>2018-05-23</th>\n",
       "      <td>6906.32</td>\n",
       "      <td>42.395347</td>\n",
       "    </tr>\n",
       "  </tbody>\n",
       "</table>\n",
       "</div>"
      ],
      "text/plain": [
       "               Temp. (°C)  Rel. Humidity (%)\n",
       "Date and Time                               \n",
       "2018-04-18        6149.87          47.279514\n",
       "2018-04-19        6053.91          58.615634\n",
       "2018-04-20        6288.80          57.677244\n",
       "2018-04-21        5753.31          54.997917\n",
       "2018-04-22        5764.77          51.049583\n",
       "2018-04-23        5617.61          58.576408\n",
       "2018-04-24        4815.39          62.034316\n",
       "2018-04-25        4809.80          64.354774\n",
       "2018-04-26        2567.26          64.391706\n",
       "2018-04-27        4447.07          38.669330\n",
       "2018-04-28        5851.46          43.108507\n",
       "2018-04-29        6592.33          45.982465\n",
       "2018-04-30        6025.32          52.344757\n",
       "2018-05-01        5324.67          45.780382\n",
       "2018-05-02        5138.78          45.758299\n",
       "2018-05-03        5646.26          46.190938\n",
       "2018-05-04        5582.16          37.508125\n",
       "2018-05-05        5748.91          39.987500\n",
       "2018-05-06        6192.57          45.982222\n",
       "2018-05-07        6093.85          49.766285\n",
       "2018-05-08        6298.74          49.043924\n",
       "2018-05-09        6551.59          54.250764\n",
       "2018-05-10        6479.49          65.714549\n",
       "2018-05-11        5332.67          76.756111\n",
       "2018-05-12        5747.49          65.297639\n",
       "2018-05-13        6698.29          51.287465\n",
       "2018-05-14        6662.93          42.728750\n",
       "2018-05-15        5915.59          57.936458\n",
       "2018-05-16        6215.47          58.533611\n",
       "2018-05-17        5983.94          58.776111\n",
       "2018-05-18        5432.05          63.067743\n",
       "2018-05-19        6362.29          48.573750\n",
       "2018-05-20        6420.52          38.786319\n",
       "2018-05-21        6294.29          42.795382\n",
       "2018-05-22        6595.55          42.902083\n",
       "2018-05-23        6906.32          42.395347"
      ]
     },
     "execution_count": 22,
     "metadata": {},
     "output_type": "execute_result"
    }
   ],
   "source": [
    "df_climate.resample( '1D' ).apply( {'Temp. (°C)':np.sum,'Rel. Humidity (%)':np.mean} ) "
   ]
  },
  {
   "cell_type": "markdown",
   "metadata": {
    "slideshow": {
     "slide_type": "subslide"
    }
   },
   "source": [
    "Lastly, we will show what happens if the new frequency is bigger, i.e. the time intervals are smaller.\n",
    "\n",
    "In these cases, we get empty spaces, that need to be filled with _something_. Common options are the next or last values, or empty cells."
   ]
  },
  {
   "cell_type": "markdown",
   "metadata": {
    "slideshow": {
     "slide_type": "fragment"
    }
   },
   "source": [
    "For an example, we will change the frequency from 5 minutes to 1 minute."
   ]
  },
  {
   "cell_type": "markdown",
   "metadata": {
    "slideshow": {
     "slide_type": "subslide"
    }
   },
   "source": [
    "Mean, average and other functions that ___aggregate___ values do not have meaning in this case, because we are \"creating\" new values, cells that were not there before:"
   ]
  },
  {
   "cell_type": "code",
   "execution_count": 23,
   "metadata": {
    "slideshow": {
     "slide_type": "fragment"
    }
   },
   "outputs": [
    {
     "data": {
      "text/plain": [
       "Date and Time\n",
       "2018-04-18 00:00:00      NaN\n",
       "2018-04-18 00:01:00    18.53\n",
       "2018-04-18 00:02:00    18.53\n",
       "2018-04-18 00:03:00    18.53\n",
       "2018-04-18 00:04:00    18.53\n",
       "                       ...  \n",
       "2018-05-23 23:51:00    19.19\n",
       "2018-05-23 23:52:00    19.19\n",
       "2018-05-23 23:53:00    19.19\n",
       "2018-05-23 23:54:00    19.19\n",
       "2018-05-23 23:55:00    19.19\n",
       "Freq: T, Name: Temp. (°C), Length: 51836, dtype: float64"
      ]
     },
     "execution_count": 23,
     "metadata": {},
     "output_type": "execute_result"
    }
   ],
   "source": [
    "df_climate['Temp. (°C)'].resample( '1min' ).ffill()"
   ]
  },
  {
   "cell_type": "markdown",
   "metadata": {},
   "source": [
    "## Plotting on a time axis"
   ]
  },
  {
   "cell_type": "markdown",
   "metadata": {},
   "source": [
    "If we have a data frame with time index, we can plot it using `matplotlib`, and treat the x-axis as time. \n",
    "\n",
    "This can be useful to set the limits of the axis, or to align plots from different sources. As an example, we often have measurements in different tables, with different time stamps. They will be plotted correctly if we previously set the indexes to time."
   ]
  },
  {
   "cell_type": "markdown",
   "metadata": {},
   "source": [
    "In this example, we will plot the temperature from before, as well as the daily averages as points."
   ]
  },
  {
   "cell_type": "code",
   "execution_count": 27,
   "metadata": {},
   "outputs": [],
   "source": [
    "%matplotlib inline\n",
    "#matplotlib notebook\n",
    "\n",
    "import matplotlib.pyplot as plt\n",
    "import matplotlib.dates as mdates"
   ]
  },
  {
   "cell_type": "markdown",
   "metadata": {},
   "source": [
    "First a simple plot:"
   ]
  },
  {
   "cell_type": "code",
   "execution_count": 28,
   "metadata": {},
   "outputs": [
    {
     "data": {
      "image/png": "[encoded data removed]",
      "text/plain": [
       "<Figure size 432x288 with 1 Axes>"
      ]
     },
     "metadata": {
      "needs_background": "light"
     },
     "output_type": "display_data"
    }
   ],
   "source": [
    "fig, ax = plt.subplots()\n",
    "\n",
    "ax.plot( df_climate.index, df_climate['Temp. (°C)'] )\n",
    "\n",
    "plt.show()"
   ]
  },
  {
   "cell_type": "markdown",
   "metadata": {},
   "source": [
    "Now a little bit more elaborated formatting.\n",
    "\n",
    "To ensure that we get the ticks in the x-axis where we want them, we use the functions in `matplotlib.dates`, which was imported as mdates before. \n",
    "\n",
    "Basically we use the `Locator` and the `Formatter`.\n",
    "\n",
    "In this case, we put the ticks once a week, on Mondays (`mdates.MO`)."
   ]
  },
  {
   "cell_type": "code",
   "execution_count": 51,
   "metadata": {},
   "outputs": [
    {
     "data": {
      "image/png": "[encoded data removed]",
      "text/plain": [
       "<Figure size 864x360 with 1 Axes>"
      ]
     },
     "metadata": {
      "needs_background": "light"
     },
     "output_type": "display_data"
    }
   ],
   "source": [
    "fig, ax = plt.subplots( figsize=(12,5) )\n",
    "\n",
    "ax.plot( df_climate.index, df_climate['Temp. (°C)'], linewidth=2 )\n",
    "\n",
    "ax.xaxis.set_major_locator( mdates.WeekdayLocator(byweekday=mdates.MO) ) # Put x ticks on Mondays\n",
    "ax.xaxis.set_major_formatter( mdates.DateFormatter('%d/%b') )            # Print only day and month\n",
    "ax.tick_params( axis='both', which='major', labelsize=14 )\n",
    "\n",
    "plt.show()"
   ]
  },
  {
   "cell_type": "markdown",
   "metadata": {},
   "source": [
    "Now, we can add a second data line, with the daily means. Notice that the x and y coordinates are different in both calls to `ax.plot`. This allows us to combine different sources of data and get the plots aligned correctly."
   ]
  },
  {
   "cell_type": "code",
   "execution_count": 53,
   "metadata": {},
   "outputs": [
    {
     "data": {
      "image/png": "[encoded data removed]",
      "text/plain": [
       "<Figure size 864x360 with 1 Axes>"
      ]
     },
     "metadata": {
      "needs_background": "light"
     },
     "output_type": "display_data"
    }
   ],
   "source": [
    "fig, ax = plt.subplots( figsize=(12,5) )\n",
    "\n",
    "ax.plot( df_climate.index, df_climate['Temp. (°C)'], linewidth=2 )\n",
    "\n",
    "ax.plot( df_climate_1d.index, df_climate_1d['Temp. (°C)'], linewidth=0, marker='s', markersize=10, color='red' )\n",
    "\n",
    "ax.xaxis.set_major_locator( mdates.WeekdayLocator(byweekday=mdates.MO) )\n",
    "ax.xaxis.set_major_formatter( mdates.DateFormatter('%d/%m') )\n",
    "ax.tick_params( axis='both', which='major', labelsize=14 )\n",
    "\n",
    "plt.show()"
   ]
  },
  {
   "cell_type": "markdown",
   "metadata": {},
   "source": [
    "Now, adding a third source of data, the hourly averages, makes the plot look a little messy:"
   ]
  },
  {
   "cell_type": "code",
   "execution_count": 42,
   "metadata": {},
   "outputs": [
    {
     "data": {
      "image/png": "[encoded data removed]",
      "text/plain": [
       "<Figure size 864x360 with 1 Axes>"
      ]
     },
     "metadata": {
      "needs_background": "light"
     },
     "output_type": "display_data"
    }
   ],
   "source": [
    "fig, ax = plt.subplots( figsize=(12,5) )\n",
    "\n",
    "ax.plot( df_climate.index, df_climate['Temp. (°C)'], linewidth=2 )\n",
    "\n",
    "ax.plot( df_climate_1h.index, df_climate_1h['Temp. (°C)'], linewidth=0, marker='^', markersize=10, color='green', alpha=0.3 )\n",
    "ax.plot( df_climate_1d.index, df_climate_1d['Temp. (°C)'], linewidth=0, marker='s', markersize=10, color='red' )\n",
    "\n",
    "ax.xaxis.set_major_locator( mdates.WeekdayLocator(byweekday=mdates.MO) )\n",
    "ax.xaxis.set_major_formatter( mdates.DateFormatter('%d/%m') )\n",
    "ax.tick_params( axis='both', which='major', labelsize=14 )\n",
    "\n",
    "plt.show()"
   ]
  },
  {
   "cell_type": "markdown",
   "metadata": {},
   "source": [
    "But it looks ok if we select a proper time range and give a little bit more formatting to the whole plot:"
   ]
  },
  {
   "cell_type": "code",
   "execution_count": 50,
   "metadata": {},
   "outputs": [
    {
     "data": {
      "image/png": "[encoded data removed]",
      "text/plain": [
       "<Figure size 864x360 with 1 Axes>"
      ]
     },
     "metadata": {
      "needs_background": "light"
     },
     "output_type": "display_data"
    }
   ],
   "source": [
    "fig, ax = plt.subplots( figsize=(12,5) )\n",
    "\n",
    "ax.plot( df_climate.index, df_climate['Temp. (°C)'], linewidth=2, label='Air temperature' )\n",
    "\n",
    "ax.plot( df_climate_1h.index, df_climate_1h['Temp. (°C)'], linewidth=0, marker='^', markersize=10, \n",
    "         markeredgecolor='green', markerfacecolor='None', alpha=0.9, label='Air temperature: 1h mean' )\n",
    "ax.plot( df_climate_1d.index, df_climate_1d['Temp. (°C)'], linewidth=0, marker='s', markersize=10, \n",
    "         color='red', label='Air temperature: 1 day mean' )\n",
    "\n",
    "ax.xaxis.set_major_locator( mdates.DayLocator() )\n",
    "ax.xaxis.set_major_formatter( mdates.DateFormatter('%d/%m') )\n",
    "ax.tick_params( axis='both', which='major', labelsize=14 )\n",
    "\n",
    "start = pd.Timestamp('2018-Apr-23 00:00:00')\n",
    "end = pd.Timestamp('2018-Apr-26 00:00:00')\n",
    "ax.set_xlim( [ start, end ] )\n",
    "\n",
    "ax.legend()\n",
    "\n",
    "ax.set_xlabel( 'Timestamp', fontsize=14 )\n",
    "ax.set_ylabel( 'Temperature', fontsize=14 )\n",
    "\n",
    "plt.show()"
   ]
  },
  {
   "cell_type": "markdown",
   "metadata": {},
   "source": [
    "As said, these examples are thought to be instructive and serve as a look up source to consult later. \n",
    "\n",
    "The whole materials will be publicly available in a repository, and will updated eventually. Feel free to download and share.\n",
    "\n",
    "Hopefully you found a couple of ideas to test in your projects!"
   ]
  },
  {
   "cell_type": "code",
   "execution_count": null,
   "metadata": {},
   "outputs": [],
   "source": []
  }
 ],
 "metadata": {
  "kernelspec": {
   "display_name": "Python 3",
   "language": "python",
   "name": "python3"
  },
  "language_info": {
   "codemirror_mode": {
    "name": "ipython",
    "version": 3
   },
   "file_extension": ".py",
   "mimetype": "text/x-python",
   "name": "python",
   "nbconvert_exporter": "python",
   "pygments_lexer": "ipython3",
   "version": "3.7.4"
  },
  "toc": {
   "base_numbering": 1,
   "nav_menu": {},
   "number_sections": false,
   "sideBar": true,
   "skip_h1_title": true,
   "title_cell": "Table of Contents",
   "title_sidebar": "Contents",
   "toc_cell": true,
   "toc_position": {},
   "toc_section_display": true,
   "toc_window_display": false
  },
  "varInspector": {
   "cols": {
    "lenName": 16,
    "lenType": 16,
    "lenVar": 40
   },
   "kernels_config": {
    "python": {
     "delete_cmd_postfix": "",
     "delete_cmd_prefix": "del ",
     "library": "var_list.py",
     "varRefreshCmd": "print(var_dic_list())"
    },
    "r": {
     "delete_cmd_postfix": ") ",
     "delete_cmd_prefix": "rm(",
     "library": "var_list.r",
     "varRefreshCmd": "cat(var_dic_list()) "
    }
   },
   "types_to_exclude": [
    "module",
    "function",
    "builtin_function_or_method",
    "instance",
    "_Feature"
   ],
   "window_display": false
  }
 },
 "nbformat": 4,
 "nbformat_minor": 2
}
