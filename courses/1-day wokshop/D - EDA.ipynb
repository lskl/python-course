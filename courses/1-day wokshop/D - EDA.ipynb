{
 "cells": [
  {
   "cell_type": "markdown",
   "metadata": {
    "slideshow": {
     "slide_type": "slide"
    },
    "toc": true
   },
   "source": [
    "<h1>Table of Contents<span class=\"tocSkip\"></span></h1>\n",
    "<div class=\"toc\"><ul class=\"toc-item\"><li><span><a href=\"#Imports\" data-toc-modified-id=\"Imports-1\">Imports</a></span><ul class=\"toc-item\"><li><span><a href=\"#Libraries\" data-toc-modified-id=\"Libraries-1.1\">Libraries</a></span></li></ul></li><li><span><a href=\"#Data-import\" data-toc-modified-id=\"Data-import-2\">Data import</a></span><ul class=\"toc-item\"><li><span><a href=\"#From-a-CSV-file\" data-toc-modified-id=\"From-a-CSV-file-2.1\">From a CSV file</a></span></li><li><span><a href=\"#From-an-Excel-file\" data-toc-modified-id=\"From-an-Excel-file-2.2\">From an Excel file</a></span></li></ul></li><li><span><a href=\"#Data-check\" data-toc-modified-id=\"Data-check-3\">Data check</a></span></li><li><span><a href=\"#Indexes-&amp;-queries\" data-toc-modified-id=\"Indexes-&amp;-queries-4\">Indexes &amp; queries</a></span></li><li><span><a href=\"#Tomato-leaf-size\" data-toc-modified-id=\"Tomato-leaf-size-5\">Tomato leaf size</a></span><ul class=\"toc-item\"><li><span><a href=\"#Read-data\" data-toc-modified-id=\"Read-data-5.1\">Read data</a></span></li><li><span><a href=\"#Modify-table\" data-toc-modified-id=\"Modify-table-5.2\">Modify table</a></span><ul class=\"toc-item\"><li><span><a href=\"#Drop-extra-rows\" data-toc-modified-id=\"Drop-extra-rows-5.2.1\">Drop extra rows</a></span></li><li><span><a href=\"#Fill-empty-cells\" data-toc-modified-id=\"Fill-empty-cells-5.2.2\">Fill empty cells</a></span></li></ul></li><li><span><a href=\"#More-queries\" data-toc-modified-id=\"More-queries-5.3\">More queries</a></span><ul class=\"toc-item\"><li><span><a href=\"#groupby\" data-toc-modified-id=\"groupby-5.3.1\">groupby</a></span></li></ul></li></ul></li></ul></div>"
   ]
  },
  {
   "cell_type": "markdown",
   "metadata": {
    "slideshow": {
     "slide_type": "slide"
    }
   },
   "source": [
    "# D - Exploratory Data Analysis with pandas"
   ]
  },
  {
   "cell_type": "markdown",
   "metadata": {
    "slideshow": {
     "slide_type": "subslide"
    }
   },
   "source": [
    "The present notebook shows how to import and handle data from files in the hard disk, as well as how to perform simple exploratory data analysis. \n",
    "\n",
    "It demonstrates the following points:\n",
    "\n",
    "* Read data from csv and xlsx files\n",
    "* Quick check the data, print a summary\n",
    "* Queries"
   ]
  },
  {
   "cell_type": "markdown",
   "metadata": {
    "slideshow": {
     "slide_type": "slide"
    }
   },
   "source": [
    "## Imports"
   ]
  },
  {
   "cell_type": "markdown",
   "metadata": {
    "slideshow": {
     "slide_type": "subslide"
    }
   },
   "source": [
    "### Libraries"
   ]
  },
  {
   "cell_type": "markdown",
   "metadata": {
    "slideshow": {
     "slide_type": "subslide"
    }
   },
   "source": [
    "It is a common practice to name an alias for some common libraries. Some conventions are:\n",
    "\n",
    "* numpy: **np**\n",
    "* pandas: **pd**\n",
    "* matplotlib.pyplot: **plt**"
   ]
  },
  {
   "cell_type": "code",
   "execution_count": null,
   "metadata": {
    "ExecuteTime": {
     "end_time": "2019-08-26T12:56:11.538817Z",
     "start_time": "2019-08-26T12:56:11.352005Z"
    },
    "slideshow": {
     "slide_type": "fragment"
    }
   },
   "outputs": [],
   "source": [
    "import numpy as np\n",
    "import pandas as pd"
   ]
  },
  {
   "cell_type": "markdown",
   "metadata": {
    "slideshow": {
     "slide_type": "slide"
    }
   },
   "source": [
    "## Data import"
   ]
  },
  {
   "cell_type": "markdown",
   "metadata": {
    "slideshow": {
     "slide_type": "subslide"
    }
   },
   "source": [
    "We will show how to import data from two common file types: ___comma-separated values___ and ___excel___ files."
   ]
  },
  {
   "cell_type": "markdown",
   "metadata": {
    "slideshow": {
     "slide_type": "subslide"
    }
   },
   "source": [
    "The data that we will be using in the following examples comes from:\n",
    "\n",
    "Schindler, U. G. and Eulenstein, F. (2017). Hydraulic properties of horticultural substrates. Open Data Journal for Agricultural Research, 3. \n",
    "\n",
    "It is available at the following link, and has a PDF file describing the columns:\n",
    "https://odjar.org/article/view/15765\n",
    "\n",
    "The authors tested a number of substrates for horticultural purposes and give describe their results here to public use. We will be using only the data in **basic_data**, which has the following structure:"
   ]
  },
  {
   "cell_type": "markdown",
   "metadata": {
    "slideshow": {
     "slide_type": "subslide"
    }
   },
   "source": [
    "<center><img src='../../misc/img/horti-data-structure.png' width='700'></center>"
   ]
  },
  {
   "cell_type": "markdown",
   "metadata": {
    "slideshow": {
     "slide_type": "subslide"
    }
   },
   "source": [
    "### From a CSV file"
   ]
  },
  {
   "cell_type": "markdown",
   "metadata": {
    "slideshow": {
     "slide_type": "fragment"
    }
   },
   "source": [
    "<center><img src='../../misc/img/horti-csv.png' width='900'></center>"
   ]
  },
  {
   "cell_type": "markdown",
   "metadata": {
    "slideshow": {
     "slide_type": "subslide"
    }
   },
   "source": [
    "csv files are raw-text files that separate columns in a table by using a previously defined character, most commonly a comma `,`"
   ]
  },
  {
   "cell_type": "markdown",
   "metadata": {
    "slideshow": {
     "slide_type": "fragment"
    }
   },
   "source": [
    "Note however, that other characters might be used. For example, Microsoft Excel uses a semicolon `;` when it saves a sheet as csv file!\n",
    "\n",
    "(like in the example shown)"
   ]
  },
  {
   "cell_type": "markdown",
   "metadata": {
    "slideshow": {
     "slide_type": "subslide"
    }
   },
   "source": [
    "We can read csv files using the `read_csv` function from pandas. The function's most important argument is the file name:"
   ]
  },
  {
   "cell_type": "code",
   "execution_count": null,
   "metadata": {
    "ExecuteTime": {
     "end_time": "2019-08-26T12:58:13.646031Z",
     "start_time": "2019-08-26T12:58:13.537371Z"
    },
    "slideshow": {
     "slide_type": "fragment"
    }
   },
   "outputs": [],
   "source": [
    "df_substrates = pd.read_csv( '../../data/substrates/2015_278/hortic_basicdata.csv', sep=',' )"
   ]
  },
  {
   "cell_type": "markdown",
   "metadata": {
    "slideshow": {
     "slide_type": "subslide"
    }
   },
   "source": [
    "The parameter **sep** was not needed in this case, as the data was separated with a single comma and that is what the function `read_csv()` takes as a default argument. \n",
    "\n",
    "It is included here, to show how other files could be read. A common case are csv files created with Microsoft Excel, which are often separated by a semicolon **;**, in which case this parameter is actually needed."
   ]
  },
  {
   "cell_type": "markdown",
   "metadata": {
    "slideshow": {
     "slide_type": "subslide"
    }
   },
   "source": [
    "The function `pd.read_csv` returns a ___Data Frame___, which is the most used data type for tables."
   ]
  },
  {
   "cell_type": "code",
   "execution_count": null,
   "metadata": {
    "slideshow": {
     "slide_type": "fragment"
    }
   },
   "outputs": [],
   "source": [
    "type( df_substrates )"
   ]
  },
  {
   "cell_type": "markdown",
   "metadata": {
    "slideshow": {
     "slide_type": "subslide"
    }
   },
   "source": [
    "This particular table has the following number of rows and columns:"
   ]
  },
  {
   "cell_type": "code",
   "execution_count": null,
   "metadata": {
    "ExecuteTime": {
     "end_time": "2019-08-26T12:58:22.157559Z",
     "start_time": "2019-08-26T12:58:22.153289Z"
    },
    "slideshow": {
     "slide_type": "fragment"
    }
   },
   "outputs": [],
   "source": [
    "print( df_substrates.shape )"
   ]
  },
  {
   "cell_type": "code",
   "execution_count": null,
   "metadata": {
    "ExecuteTime": {
     "end_time": "2019-08-26T12:58:48.447707Z",
     "start_time": "2019-08-26T12:58:48.423246Z"
    },
    "scrolled": true,
    "slideshow": {
     "slide_type": "subslide"
    }
   },
   "outputs": [],
   "source": [
    "df_substrates"
   ]
  },
  {
   "cell_type": "markdown",
   "metadata": {
    "slideshow": {
     "slide_type": "subslide"
    }
   },
   "source": [
    "Note that pandas:\n",
    "* tries to use the data in the first row as column names (in this case this is correct)\n",
    "* adds a column at the beginning, with numbers: that is the ___index___ of all rows\n",
    "* infers the data type of each column: text, numbers... (this fails if there are mixed types)"
   ]
  },
  {
   "cell_type": "markdown",
   "metadata": {
    "slideshow": {
     "slide_type": "subslide"
    }
   },
   "source": [
    "### From an Excel file"
   ]
  },
  {
   "cell_type": "markdown",
   "metadata": {
    "slideshow": {
     "slide_type": "fragment"
    }
   },
   "source": [
    "<img src='../../misc/img/horti-excel.png' width='900'>"
   ]
  },
  {
   "cell_type": "code",
   "execution_count": null,
   "metadata": {
    "slideshow": {
     "slide_type": "subslide"
    }
   },
   "outputs": [],
   "source": [
    "# how we read a csv file previously:\n",
    "# df_substrates = pd.read_csv( '../../data/substrates/2015_278/hortic_basicdata.csv', sep=',' ) \n",
    "\n",
    "df_substrates_xlsx = pd.read_excel( '../../data/substrates/2015_278/hortic.xlsx', sheet_name='hortic_basicdata' )"
   ]
  },
  {
   "cell_type": "code",
   "execution_count": null,
   "metadata": {
    "slideshow": {
     "slide_type": "subslide"
    }
   },
   "outputs": [],
   "source": [
    "df_substrates_xlsx.head()"
   ]
  },
  {
   "cell_type": "markdown",
   "metadata": {
    "slideshow": {
     "slide_type": "slide"
    }
   },
   "source": [
    "## Data check"
   ]
  },
  {
   "cell_type": "markdown",
   "metadata": {
    "slideshow": {
     "slide_type": "subslide"
    }
   },
   "source": [
    "It is often needed to check the data frame to make sure that the data was imported correctly. pandas provides a number of commands to help with this. The first we can use are `.head()` and `.tail()`:"
   ]
  },
  {
   "cell_type": "code",
   "execution_count": null,
   "metadata": {
    "ExecuteTime": {
     "end_time": "2019-08-26T12:58:52.728072Z",
     "start_time": "2019-08-26T12:58:52.713271Z"
    },
    "slideshow": {
     "slide_type": "fragment"
    }
   },
   "outputs": [],
   "source": [
    "df_substrates.head()"
   ]
  },
  {
   "cell_type": "code",
   "execution_count": null,
   "metadata": {
    "ExecuteTime": {
     "end_time": "2019-08-26T12:58:52.728072Z",
     "start_time": "2019-08-26T12:58:52.713271Z"
    },
    "slideshow": {
     "slide_type": "subslide"
    }
   },
   "outputs": [],
   "source": [
    "df_substrates.tail()"
   ]
  },
  {
   "cell_type": "markdown",
   "metadata": {
    "slideshow": {
     "slide_type": "subslide"
    }
   },
   "source": [
    "`.shape` prints the number of rows and columns in the table, very useful to check that the data was imported correctly."
   ]
  },
  {
   "cell_type": "code",
   "execution_count": null,
   "metadata": {
    "slideshow": {
     "slide_type": "fragment"
    }
   },
   "outputs": [],
   "source": [
    "df_substrates.shape"
   ]
  },
  {
   "cell_type": "markdown",
   "metadata": {
    "slideshow": {
     "slide_type": "subslide"
    }
   },
   "source": [
    "Other checks include to show the column names and the data types of each column (automatically inferred by pandas)"
   ]
  },
  {
   "cell_type": "code",
   "execution_count": null,
   "metadata": {
    "ExecuteTime": {
     "end_time": "2019-08-26T12:58:56.763060Z",
     "start_time": "2019-08-26T12:58:56.757924Z"
    },
    "slideshow": {
     "slide_type": "fragment"
    }
   },
   "outputs": [],
   "source": [
    "df_substrates.columns"
   ]
  },
  {
   "cell_type": "code",
   "execution_count": null,
   "metadata": {
    "ExecuteTime": {
     "end_time": "2019-08-26T12:58:59.965668Z",
     "start_time": "2019-08-26T12:58:59.958140Z"
    },
    "slideshow": {
     "slide_type": "subslide"
    }
   },
   "outputs": [],
   "source": [
    "df_substrates.dtypes"
   ]
  },
  {
   "cell_type": "markdown",
   "metadata": {
    "slideshow": {
     "slide_type": "subslide"
    }
   },
   "source": [
    "Columns defined as *object* are those where pandas was not able to determine their type. They are \"something\". It often happens that they are numeric columns with some text values, like an hyphen **-** or words like \"missing\". In these cases, it is needed to change those values to a numerical (or empty) cell to be able to make calculations later on."
   ]
  },
  {
   "cell_type": "markdown",
   "metadata": {
    "slideshow": {
     "slide_type": "subslide"
    }
   },
   "source": [
    "Lastly, for numerical columns, we can get a quick statistical summary by using `.describe()`:"
   ]
  },
  {
   "cell_type": "code",
   "execution_count": null,
   "metadata": {
    "slideshow": {
     "slide_type": "subslide"
    }
   },
   "outputs": [],
   "source": [
    "df_substrates.describe()"
   ]
  },
  {
   "cell_type": "markdown",
   "metadata": {
    "slideshow": {
     "slide_type": "subslide"
    }
   },
   "source": [
    "Note that:\n",
    "* Columns that are **not** numeric, are excluded from this summary (e.g. ***H***)\n",
    "* The column **HS_ID** is included, even though its value does not have numerical meaning, being only a reference number for each substrate"
   ]
  },
  {
   "cell_type": "markdown",
   "metadata": {
    "slideshow": {
     "slide_type": "subslide"
    }
   },
   "source": [
    "It is also possible to check those same descriptive statistics separately. "
   ]
  },
  {
   "cell_type": "markdown",
   "metadata": {
    "slideshow": {
     "slide_type": "fragment"
    }
   },
   "source": [
    "For example, we can get the mean only, without having the other values:"
   ]
  },
  {
   "cell_type": "code",
   "execution_count": null,
   "metadata": {
    "scrolled": true,
    "slideshow": {
     "slide_type": "fragment"
    }
   },
   "outputs": [],
   "source": [
    "df_substrates.mean()"
   ]
  },
  {
   "cell_type": "markdown",
   "metadata": {
    "slideshow": {
     "slide_type": "slide"
    }
   },
   "source": [
    "## Indexes \\& queries"
   ]
  },
  {
   "cell_type": "markdown",
   "metadata": {
    "slideshow": {
     "slide_type": "subslide"
    }
   },
   "source": [
    "Most commonly we only need to select parts of a table according to conditions."
   ]
  },
  {
   "cell_type": "markdown",
   "metadata": {
    "slideshow": {
     "slide_type": "subslide"
    }
   },
   "source": [
    "As an example, we can see the compost content by selecting this column, using the squared brackets syntax:"
   ]
  },
  {
   "cell_type": "code",
   "execution_count": null,
   "metadata": {
    "slideshow": {
     "slide_type": "fragment"
    }
   },
   "outputs": [],
   "source": [
    "df_substrates[ 'COMPOST_PERC' ]"
   ]
  },
  {
   "cell_type": "markdown",
   "metadata": {
    "slideshow": {
     "slide_type": "subslide"
    }
   },
   "source": [
    "It is also possible to select several columns simultaneously, passing a list (in squared brackets):"
   ]
  },
  {
   "cell_type": "code",
   "execution_count": null,
   "metadata": {
    "slideshow": {
     "slide_type": "fragment"
    }
   },
   "outputs": [],
   "source": [
    "df_substrates[ ['COMPOST_PERC', 'PERLIT_PERC', 'CLAY_PERC'] ]"
   ]
  },
  {
   "cell_type": "markdown",
   "metadata": {
    "slideshow": {
     "slide_type": "subslide"
    }
   },
   "source": [
    "Lastly, we can apply functions to the single columns, like `.mean()`, `.std()` or `.value_counts()`.\n",
    "\n",
    "For example, we can count how many substrates are expensive or cheap:"
   ]
  },
  {
   "cell_type": "code",
   "execution_count": null,
   "metadata": {
    "slideshow": {
     "slide_type": "fragment"
    }
   },
   "outputs": [],
   "source": [
    "df_substrates['PRICE'].value_counts()"
   ]
  },
  {
   "cell_type": "markdown",
   "metadata": {
    "slideshow": {
     "slide_type": "slide"
    }
   },
   "source": [
    "## Tomato leaf size"
   ]
  },
  {
   "cell_type": "markdown",
   "metadata": {
    "slideshow": {
     "slide_type": "subslide"
    }
   },
   "source": [
    "A second example of data includes measurements of the size of tomato leaves.\n",
    "\n",
    "These measurements were taken in the greenhouses in Berlin this year, and include the leaves' length and width in different substrates. \n",
    "\n",
    "In the file **lead_size.csv** we have the measurements from the first week, 5 substrates, 3 plants per substrate, each with 2 stems and all leaves longer than 20 cm."
   ]
  },
  {
   "cell_type": "markdown",
   "metadata": {
    "slideshow": {
     "slide_type": "subslide"
    }
   },
   "source": [
    "### Read data"
   ]
  },
  {
   "cell_type": "code",
   "execution_count": null,
   "metadata": {
    "slideshow": {
     "slide_type": "subslide"
    }
   },
   "outputs": [],
   "source": [
    "df_leaf = pd.read_csv( '../../data/leaf_size.csv', sep=';' )\n",
    "print( df_leaf.shape )  \n",
    "df_leaf"
   ]
  },
  {
   "cell_type": "code",
   "execution_count": null,
   "metadata": {
    "slideshow": {
     "slide_type": "subslide"
    }
   },
   "outputs": [],
   "source": [
    "df_leaf.dtypes"
   ]
  },
  {
   "cell_type": "markdown",
   "metadata": {
    "slideshow": {
     "slide_type": "subslide"
    }
   },
   "source": [
    "### Modify table"
   ]
  },
  {
   "cell_type": "markdown",
   "metadata": {
    "slideshow": {
     "slide_type": "fragment"
    }
   },
   "source": [
    "We will perform a small number of transformations to this table:\n",
    "* Fill the empty cells with repeated values for all rows below\n",
    "* Delete rows without values for length and width (leaf 7+)"
   ]
  },
  {
   "cell_type": "markdown",
   "metadata": {
    "slideshow": {
     "slide_type": "subslide"
    }
   },
   "source": [
    "#### Drop extra rows"
   ]
  },
  {
   "cell_type": "markdown",
   "metadata": {
    "slideshow": {
     "slide_type": "fragment"
    }
   },
   "source": [
    "Drop lines without measurements: rows with a 0 value in the leaf length"
   ]
  },
  {
   "cell_type": "code",
   "execution_count": null,
   "metadata": {
    "slideshow": {
     "slide_type": "fragment"
    }
   },
   "outputs": [],
   "source": [
    "print( df_leaf.shape )\n",
    "df_leaf.head()"
   ]
  },
  {
   "cell_type": "code",
   "execution_count": null,
   "metadata": {
    "slideshow": {
     "slide_type": "subslide"
    }
   },
   "outputs": [],
   "source": [
    "df_leaf = df_leaf[ df_leaf['Length']>0 ]\n",
    "print( df_leaf.shape )\n",
    "df_leaf.head()"
   ]
  },
  {
   "cell_type": "markdown",
   "metadata": {
    "slideshow": {
     "slide_type": "subslide"
    }
   },
   "source": [
    "Another possibility to query is to first define the condition, and then use it as index to the data frame. \n",
    "\n",
    "In other words, split the query in two lines:"
   ]
  },
  {
   "cell_type": "code",
   "execution_count": null,
   "metadata": {
    "slideshow": {
     "slide_type": "fragment"
    }
   },
   "outputs": [],
   "source": [
    "condition = df_leaf['Length']>0 \n",
    "df_leaf = df_leaf[ condition ]"
   ]
  },
  {
   "cell_type": "markdown",
   "metadata": {
    "slideshow": {
     "slide_type": "subslide"
    }
   },
   "source": [
    "This can make the code easier to read if the condition is complex, like for example:"
   ]
  },
  {
   "cell_type": "code",
   "execution_count": null,
   "metadata": {
    "slideshow": {
     "slide_type": "fragment"
    }
   },
   "outputs": [],
   "source": [
    "condition1 = df_leaf['Leaf']=='Leaf 1'\n",
    "condition2 = df_leaf['Substrate']=='Sphagnum'\n",
    "df_leaf[ condition1 & condition2 ]"
   ]
  },
  {
   "cell_type": "markdown",
   "metadata": {
    "slideshow": {
     "slide_type": "subslide"
    }
   },
   "source": [
    "Notice that in this last example, we got only the Leaf 1 from the left stem. There is another Leaf 1 in the stem 2, and in the other plants from the same substrate, but our query could not match it because it does not have \"Sphagnum\" in the Substrate column.\n",
    "\n",
    "That is the reason why we need to fill out those empty cells."
   ]
  },
  {
   "cell_type": "markdown",
   "metadata": {
    "slideshow": {
     "slide_type": "subslide"
    }
   },
   "source": [
    "#### Fill empty cells"
   ]
  },
  {
   "cell_type": "markdown",
   "metadata": {
    "slideshow": {
     "slide_type": "fragment"
    }
   },
   "source": [
    "Cells with a **NaN** values are generally empty, meaning that is Not-a-Number. This is good, as pandas (and numpy) can still perform calculations with these columns and rows, just ignoring the empty cells.\n",
    "\n",
    "In our case, we would like to fill out the empty cells forward, with the last available value, to get the substrate, plant and stem in all rows, repeated."
   ]
  },
  {
   "cell_type": "code",
   "execution_count": null,
   "metadata": {
    "slideshow": {
     "slide_type": "subslide"
    }
   },
   "outputs": [],
   "source": [
    "df_leaf.head()"
   ]
  },
  {
   "cell_type": "markdown",
   "metadata": {
    "slideshow": {
     "slide_type": "subslide"
    }
   },
   "source": [
    "`ffill` stands for **forward fill**, meaning that whenever an empty cell (**NaN**) is found, the value from the last, previous one will be taken to fill it.\n",
    "\n",
    "There is also `bfill` for **backward fill**"
   ]
  },
  {
   "cell_type": "code",
   "execution_count": null,
   "metadata": {
    "slideshow": {
     "slide_type": "subslide"
    }
   },
   "outputs": [],
   "source": [
    "df_leaf = df_leaf.ffill()"
   ]
  },
  {
   "cell_type": "code",
   "execution_count": null,
   "metadata": {
    "slideshow": {
     "slide_type": "fragment"
    }
   },
   "outputs": [],
   "source": [
    "df_leaf.head()"
   ]
  },
  {
   "cell_type": "markdown",
   "metadata": {
    "slideshow": {
     "slide_type": "subslide"
    }
   },
   "source": [
    "Notice that the value needs to be reassigned to `df_leaf`!"
   ]
  },
  {
   "cell_type": "markdown",
   "metadata": {
    "slideshow": {
     "slide_type": "subslide"
    }
   },
   "source": [
    "Now we can repeat our query from before, to see the Leafs #1 in the Sphagnum substrate"
   ]
  },
  {
   "cell_type": "code",
   "execution_count": null,
   "metadata": {
    "slideshow": {
     "slide_type": "subslide"
    }
   },
   "outputs": [],
   "source": [
    "condition1 = df_leaf['Leaf']=='Leaf 1'\n",
    "condition2 = df_leaf['Substrate']=='Sphagnum'\n",
    "df_leaf[ condition1 & condition2 ]"
   ]
  },
  {
   "cell_type": "markdown",
   "metadata": {
    "slideshow": {
     "slide_type": "subslide"
    }
   },
   "source": [
    "### More queries"
   ]
  },
  {
   "cell_type": "markdown",
   "metadata": {
    "slideshow": {
     "slide_type": "slide"
    }
   },
   "source": [
    "Once the table has been filled out, we can make different kind of queries to search for interesting feats."
   ]
  },
  {
   "cell_type": "markdown",
   "metadata": {
    "slideshow": {
     "slide_type": "subslide"
    }
   },
   "source": [
    "We can select only the first leaf of all plants and stems:"
   ]
  },
  {
   "cell_type": "code",
   "execution_count": null,
   "metadata": {
    "slideshow": {
     "slide_type": "fragment"
    }
   },
   "outputs": [],
   "source": [
    "df_leaf[ (df_leaf['Leaf']=='Leaf 1') ]"
   ]
  },
  {
   "cell_type": "markdown",
   "metadata": {
    "slideshow": {
     "slide_type": "subslide"
    }
   },
   "source": [
    "Or only the first leaf of the plants that were together in a greenhouse (the NFT plants where somewhere else):"
   ]
  },
  {
   "cell_type": "code",
   "execution_count": null,
   "metadata": {
    "slideshow": {
     "slide_type": "fragment"
    }
   },
   "outputs": [],
   "source": [
    "df_leaf[ (df_leaf['Leaf']=='Leaf 1') & (df_leaf['Substrate']!='NFT') ]"
   ]
  },
  {
   "cell_type": "markdown",
   "metadata": {
    "slideshow": {
     "slide_type": "subslide"
    }
   },
   "source": [
    "#### groupby"
   ]
  },
  {
   "cell_type": "markdown",
   "metadata": {
    "slideshow": {
     "slide_type": "subslide"
    }
   },
   "source": [
    "One useful function at this point is `.groupby`, which allows to... Group rows by the values on a column.\n",
    "\n",
    "Note that it groups the values, but needs to know what to do with them:"
   ]
  },
  {
   "cell_type": "code",
   "execution_count": null,
   "metadata": {
    "slideshow": {
     "slide_type": "fragment"
    }
   },
   "outputs": [],
   "source": [
    "df_leaf[ (df_leaf['Leaf']=='Leaf 1') ].groupby( by='Substrate' )"
   ]
  },
  {
   "cell_type": "markdown",
   "metadata": {
    "slideshow": {
     "slide_type": "subslide"
    }
   },
   "source": [
    "In other words, we need to tell specifically what we want to know for each substrate. There are several possibilities:\n",
    "* If the values were yield in kg, we may want to know the **sum** by substrate\n",
    "* In other cases we might want to know the maximum or minimum value for each substrate, or the standar deviation\n",
    "* In this case, we will look for the **mean** and **standar deviation** for each substrate"
   ]
  },
  {
   "cell_type": "code",
   "execution_count": null,
   "metadata": {
    "slideshow": {
     "slide_type": "fragment"
    }
   },
   "outputs": [],
   "source": [
    "df_leaf[ (df_leaf['Leaf']=='Leaf 1') ].groupby( by='Substrate' )"
   ]
  },
  {
   "cell_type": "code",
   "execution_count": null,
   "metadata": {
    "slideshow": {
     "slide_type": "fragment"
    }
   },
   "outputs": [],
   "source": [
    "df_leaf[ (df_leaf['Leaf']=='Leaf 1') ].groupby( by='Substrate' ).mean()"
   ]
  },
  {
   "cell_type": "code",
   "execution_count": null,
   "metadata": {
    "slideshow": {
     "slide_type": "subslide"
    }
   },
   "outputs": [],
   "source": [
    "df_leaf[ (df_leaf['Leaf']=='Leaf 1') ].groupby( by='Substrate' ).std()"
   ]
  },
  {
   "cell_type": "markdown",
   "metadata": {
    "slideshow": {
     "slide_type": "subslide"
    }
   },
   "source": [
    "Now, that is not really correct, because we are mixing up older and younger leaves. They will be different in size.\n",
    "\n",
    "To separate by substrate **and** leaf age, we can pass a list of columns to the parameter **by**, as follows:"
   ]
  },
  {
   "cell_type": "code",
   "execution_count": null,
   "metadata": {
    "slideshow": {
     "slide_type": "fragment"
    }
   },
   "outputs": [],
   "source": [
    "df_leaf.groupby( by=['Substrate','Leaf'] )[['Length','Width']].mean()"
   ]
  },
  {
   "cell_type": "markdown",
   "metadata": {
    "slideshow": {
     "slide_type": "subslide"
    }
   },
   "source": [
    "Let's finally concentrate on the first two leaves, the older ones, just to get an idea if there is some difference between substrates:"
   ]
  },
  {
   "cell_type": "code",
   "execution_count": null,
   "metadata": {
    "slideshow": {
     "slide_type": "fragment"
    }
   },
   "outputs": [],
   "source": [
    "df_leaf[ (df_leaf['Leaf']=='Leaf 1') | (df_leaf['Leaf']=='Leaf 2') ]\\\n",
    " .groupby( by=['Substrate','Leaf'] )[['Length','Width']] \\\n",
    " .agg([np.mean, np.std])"
   ]
  },
  {
   "cell_type": "markdown",
   "metadata": {
    "slideshow": {
     "slide_type": "subslide"
    }
   },
   "source": [
    "There is a number of thins happening there:\n",
    "1. Select only the leaves 1 OR(!!) 2 from the whole table\n",
    "1. Group them by substrate and leaf number\n",
    "1. Select only the columns Length and Width\n",
    "1. Calculate the mean and standard deviation for each group: use `.agg()` and 2 functions from `numpy`\n",
    "\n",
    "By the way, if a line is getting too long, you can use a backslash **\\** to continue in the next line, to make it more readable."
   ]
  },
  {
   "cell_type": "markdown",
   "metadata": {
    "slideshow": {
     "slide_type": "subslide"
    }
   },
   "source": [
    "Perhaps the last example was a little overdone, but the idea is to show how the mechanics of queries work, and the kind of functions that can be used in pandas. Hopefully you get an idea of the sort of questions that can be answered and find ways to use these techniques in your own projects."
   ]
  }
 ],
 "metadata": {
  "celltoolbar": "Slideshow",
  "kernelspec": {
   "display_name": "Python 3",
   "language": "python",
   "name": "python3"
  },
  "language_info": {
   "codemirror_mode": {
    "name": "ipython",
    "version": 3
   },
   "file_extension": ".py",
   "mimetype": "text/x-python",
   "name": "python",
   "nbconvert_exporter": "python",
   "pygments_lexer": "ipython3",
   "version": "3.7.4"
  },
  "toc": {
   "base_numbering": 1,
   "nav_menu": {},
   "number_sections": false,
   "sideBar": true,
   "skip_h1_title": true,
   "title_cell": "Table of Contents",
   "title_sidebar": "Contents",
   "toc_cell": true,
   "toc_position": {},
   "toc_section_display": true,
   "toc_window_display": false
  },
  "varInspector": {
   "cols": {
    "lenName": 16,
    "lenType": 16,
    "lenVar": 40
   },
   "kernels_config": {
    "python": {
     "delete_cmd_postfix": "",
     "delete_cmd_prefix": "del ",
     "library": "var_list.py",
     "varRefreshCmd": "print(var_dic_list())"
    },
    "r": {
     "delete_cmd_postfix": ") ",
     "delete_cmd_prefix": "rm(",
     "library": "var_list.r",
     "varRefreshCmd": "cat(var_dic_list()) "
    }
   },
   "types_to_exclude": [
    "module",
    "function",
    "builtin_function_or_method",
    "instance",
    "_Feature"
   ],
   "window_display": false
  }
 },
 "nbformat": 4,
 "nbformat_minor": 2
}
