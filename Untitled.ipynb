{
 "cells": [
  {
   "cell_type": "code",
   "execution_count": 4,
   "metadata": {},
   "outputs": [
    {
     "name": "stdout",
     "output_type": "stream",
     "text": [
      "[0.05454545454545454, 0.05454545454545454, 0.06245394175165406, 0.07788970351840495, 0.1048279283837693, 0.12823816291174578, 0.14401033324404555, 0.14401033324404555, 0.1610600789568635]\n"
     ]
    }
   ],
   "source": [
    "import plantheight\n",
    "\n",
    "temp_avg = [ 4, 5, 8, 10, 12, 10, 8, 5, 8 ]\n",
    "temp_base = 5\n",
    "\n",
    "dts = plantheight.day_temperature_sums( temp_avg, temp_base )\n",
    "\n",
    "b0 = 10\n",
    "b1 = 0.05\n",
    "max_height = 0.6 # in meters\n",
    "\n",
    "heights = []\n",
    "for element in dts:\n",
    "    current_height = plantheight.plant_height( element, max_height, b0, b1 )\n",
    "    heights = heights + [ current_height ]\n",
    "\n",
    "print( heights )"
   ]
  },
  {
   "cell_type": "code",
   "execution_count": 2,
   "metadata": {},
   "outputs": [],
   "source": [
    "import plantheight"
   ]
  },
  {
   "cell_type": "code",
   "execution_count": null,
   "metadata": {},
   "outputs": [],
   "source": []
  }
 ],
 "metadata": {
  "kernelspec": {
   "display_name": "Python 3",
   "language": "python",
   "name": "python3"
  },
  "language_info": {
   "codemirror_mode": {
    "name": "ipython",
    "version": 3
   },
   "file_extension": ".py",
   "mimetype": "text/x-python",
   "name": "python",
   "nbconvert_exporter": "python",
   "pygments_lexer": "ipython3",
   "version": "3.6.6"
  }
 },
 "nbformat": 4,
 "nbformat_minor": 2
}
