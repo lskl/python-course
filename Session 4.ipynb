{
 "cells": [
  {
   "cell_type": "markdown",
   "metadata": {
    "slideshow": {
     "slide_type": "slide"
    }
   },
   "source": [
    "# Introduction to python"
   ]
  },
  {
   "cell_type": "markdown",
   "metadata": {
    "slideshow": {
     "slide_type": "subslide"
    }
   },
   "source": [
    "## Session 4"
   ]
  },
  {
   "cell_type": "markdown",
   "metadata": {
    "slideshow": {
     "slide_type": "slide"
    }
   },
   "source": [
    "## Contents"
   ]
  },
  {
   "cell_type": "markdown",
   "metadata": {
    "slideshow": {
     "slide_type": "fragment"
    }
   },
   "source": [
    "### 1. Introduction. Data Frames. CSV and Excel files. Average, max, min, etc."
   ]
  },
  {
   "cell_type": "markdown",
   "metadata": {
    "slideshow": {
     "slide_type": "fragment"
    }
   },
   "source": [
    "### 2. Indexing. Queries."
   ]
  },
  {
   "cell_type": "markdown",
   "metadata": {
    "slideshow": {
     "slide_type": "fragment"
    }
   },
   "source": [
    "### 3. Time Series. Resample."
   ]
  },
  {
   "cell_type": "markdown",
   "metadata": {
    "slideshow": {
     "slide_type": "fragment"
    }
   },
   "source": [
    "### 4. Exercises"
   ]
  },
  {
   "cell_type": "markdown",
   "metadata": {
    "slideshow": {
     "slide_type": "slide"
    }
   },
   "source": [
    "## 1. Introduction. Data Frames. CSV and Excel files. Average, max, min, etc."
   ]
  },
  {
   "cell_type": "markdown",
   "metadata": {
    "slideshow": {
     "slide_type": "subslide"
    }
   },
   "source": [
    "___pandas___ is a python library with functions and tools for data analysis. \n",
    "\n",
    "It provides means to handle series and tables of data, make calculations with them, select data based on criteria and save the results to files."
   ]
  },
  {
   "cell_type": "markdown",
   "metadata": {
    "slideshow": {
     "slide_type": "fragment"
    }
   },
   "source": [
    "A simple example of pandas usage is reading a table of data from an excel or csv file, select some rows and columns and calculate the average value.\n",
    "\n",
    "More complicated examples include creating new tables based on the previous data, and also working with time. An example would be to calculate the daily (or hourly, monthly) average (or sum, or maximum value) of a value from of a high number of measurements, perhaps each minute or 5 minutes."
   ]
  },
  {
   "cell_type": "markdown",
   "metadata": {
    "slideshow": {
     "slide_type": "subslide"
    }
   },
   "source": [
    "The following examples refer to measurements on different nutrients in an experiment with lettuce. They will help us to practice the `pandas` usage.\n",
    "\n",
    "There are three different treatments, with different amounts of nitrogen as nitrate and ammonium, as well as the amount of other elements. The measurements are what was present in the lettuce at the end of the cultivation cycle. This is the kind of data that we often need to group by categories, and where we might want to calculate averages or sums for each group."
   ]
  },
  {
   "cell_type": "markdown",
   "metadata": {
    "slideshow": {
     "slide_type": "fragment"
    }
   },
   "source": [
    "Later, in the last part of the present session we will use climate data to give an example of the use of ___time series___, which is data that is not in categories or groups, but rather in points ordered in time, events that happen one after the other."
   ]
  },
  {
   "cell_type": "markdown",
   "metadata": {
    "slideshow": {
     "slide_type": "subslide"
    }
   },
   "source": [
    "#### Import the pandas library"
   ]
  },
  {
   "cell_type": "markdown",
   "metadata": {
    "slideshow": {
     "slide_type": "subslide"
    }
   },
   "source": [
    "It is a common practice to import pandas using the alias ___pd___, like this:"
   ]
  },
  {
   "cell_type": "code",
   "execution_count": 1,
   "metadata": {
    "slideshow": {
     "slide_type": "fragment"
    }
   },
   "outputs": [],
   "source": [
    "import pandas as pd"
   ]
  },
  {
   "cell_type": "markdown",
   "metadata": {
    "slideshow": {
     "slide_type": "fragment"
    }
   },
   "source": [
    "From there, the package can be used with `pd.` + the name of the function (dot operator `.`)\n",
    "\n",
    "For example, to access a `read_csv` function we can write `pd.read_csv`."
   ]
  },
  {
   "cell_type": "markdown",
   "metadata": {
    "slideshow": {
     "slide_type": "fragment"
    }
   },
   "source": [
    "Of course it is possible to just `import pandas` and then use `pandas.read_csv`, it makes no difference."
   ]
  },
  {
   "cell_type": "markdown",
   "metadata": {
    "slideshow": {
     "slide_type": "subslide"
    }
   },
   "source": [
    "#### Read a table from a file"
   ]
  },
  {
   "cell_type": "markdown",
   "metadata": {
    "slideshow": {
     "slide_type": "fragment"
    }
   },
   "source": [
    "We will show how to import data from two common file types: ___comma-separated values___ and ___excel___ files."
   ]
  },
  {
   "cell_type": "markdown",
   "metadata": {
    "slideshow": {
     "slide_type": "subslide"
    }
   },
   "source": [
    "#### Reading a csv-file"
   ]
  },
  {
   "cell_type": "markdown",
   "metadata": {
    "slideshow": {
     "slide_type": "fragment"
    }
   },
   "source": [
    "<img src='img/csv_file.png' width='700'>"
   ]
  },
  {
   "cell_type": "markdown",
   "metadata": {
    "slideshow": {
     "slide_type": "subslide"
    }
   },
   "source": [
    "csv files are raw-text files that separate columns in a table by using a previously defined character, most commonly a comma `,`"
   ]
  },
  {
   "cell_type": "markdown",
   "metadata": {
    "slideshow": {
     "slide_type": "fragment"
    }
   },
   "source": [
    "Note however, that other characters might be used. For example, Microsoft Excel uses a semicolon `;` when it saves a sheet as csv file!\n",
    "\n",
    "(like in the example shown)"
   ]
  },
  {
   "cell_type": "markdown",
   "metadata": {
    "slideshow": {
     "slide_type": "subslide"
    }
   },
   "source": [
    "We can read csv files using the `read_csv` function from pandas. The function's most important argument is the file name:"
   ]
  },
  {
   "cell_type": "code",
   "execution_count": 2,
   "metadata": {
    "slideshow": {
     "slide_type": "fragment"
    }
   },
   "outputs": [],
   "source": [
    "df_nutrients = pd.read_csv( 'data/nutrients.csv', sep=';' )"
   ]
  },
  {
   "cell_type": "markdown",
   "metadata": {
    "slideshow": {
     "slide_type": "fragment"
    }
   },
   "source": [
    "Note that by default, the function looks for ___comma___ separated files `,`, which is not the case in the file shown (created with excel). \n",
    "\n",
    "Therefore it is necessary to use the parameter `sep=';'` to indicate that, in this case, the columns are separated by semicolon characters."
   ]
  },
  {
   "cell_type": "markdown",
   "metadata": {
    "slideshow": {
     "slide_type": "subslide"
    }
   },
   "source": [
    "The function `pd.read_csv` returns a ___Data Frame___, which is the most used data type for tables."
   ]
  },
  {
   "cell_type": "code",
   "execution_count": 3,
   "metadata": {
    "slideshow": {
     "slide_type": "fragment"
    }
   },
   "outputs": [
    {
     "data": {
      "text/plain": [
       "pandas.core.frame.DataFrame"
      ]
     },
     "execution_count": 3,
     "metadata": {},
     "output_type": "execute_result"
    }
   ],
   "source": [
    "type( df_nutrients )"
   ]
  },
  {
   "cell_type": "markdown",
   "metadata": {
    "slideshow": {
     "slide_type": "subslide"
    }
   },
   "source": [
    "Inside the Data Frame that was created, `df_nutrients` in this example, we have the content of the file, in rows and columns:"
   ]
  },
  {
   "cell_type": "code",
   "execution_count": 4,
   "metadata": {
    "slideshow": {
     "slide_type": "fragment"
    }
   },
   "outputs": [
    {
     "data": {
      "text/html": [
       "<div>\n",
       "<style scoped>\n",
       "    .dataframe tbody tr th:only-of-type {\n",
       "        vertical-align: middle;\n",
       "    }\n",
       "\n",
       "    .dataframe tbody tr th {\n",
       "        vertical-align: top;\n",
       "    }\n",
       "\n",
       "    .dataframe thead th {\n",
       "        text-align: right;\n",
       "    }\n",
       "</style>\n",
       "<table border=\"1\" class=\"dataframe\">\n",
       "  <thead>\n",
       "    <tr style=\"text-align: right;\">\n",
       "      <th></th>\n",
       "      <th>Tank</th>\n",
       "      <th>Treatment</th>\n",
       "      <th>NitrateN</th>\n",
       "      <th>AmmoniumN</th>\n",
       "      <th>TotalN</th>\n",
       "      <th>Phosphorus</th>\n",
       "      <th>Potassium</th>\n",
       "      <th>Magnesium</th>\n",
       "      <th>Calcium</th>\n",
       "      <th>Iron</th>\n",
       "      <th>Boron</th>\n",
       "      <th>all in (g)</th>\n",
       "    </tr>\n",
       "  </thead>\n",
       "  <tbody>\n",
       "    <tr>\n",
       "      <th>0</th>\n",
       "      <td>3</td>\n",
       "      <td>Control</td>\n",
       "      <td>18761.904841</td>\n",
       "      <td>10306.002208</td>\n",
       "      <td>29067.272500</td>\n",
       "      <td>12684.874373</td>\n",
       "      <td>42136.987241</td>\n",
       "      <td>1504.5355</td>\n",
       "      <td>22010.605</td>\n",
       "      <td>222.039645</td>\n",
       "      <td>23.661833</td>\n",
       "      <td>NaN</td>\n",
       "    </tr>\n",
       "    <tr>\n",
       "      <th>1</th>\n",
       "      <td>4</td>\n",
       "      <td>Control</td>\n",
       "      <td>21645.354288</td>\n",
       "      <td>12437.070289</td>\n",
       "      <td>34081.642850</td>\n",
       "      <td>11491.501873</td>\n",
       "      <td>44055.094673</td>\n",
       "      <td>1,635.42</td>\n",
       "      <td>18,548.59</td>\n",
       "      <td>278.240000</td>\n",
       "      <td>27.742095</td>\n",
       "      <td>NaN</td>\n",
       "    </tr>\n",
       "    <tr>\n",
       "      <th>2</th>\n",
       "      <td>8</td>\n",
       "      <td>Control</td>\n",
       "      <td>16838.258788</td>\n",
       "      <td>10632.168232</td>\n",
       "      <td>27469.952475</td>\n",
       "      <td>10355.950873</td>\n",
       "      <td>43390.354388</td>\n",
       "      <td>1,383.34</td>\n",
       "      <td>16,853.25</td>\n",
       "      <td>238.930000</td>\n",
       "      <td>19.138933</td>\n",
       "      <td>NaN</td>\n",
       "    </tr>\n",
       "    <tr>\n",
       "      <th>3</th>\n",
       "      <td>1</td>\n",
       "      <td>Au47</td>\n",
       "      <td>20802.809014</td>\n",
       "      <td>11967.706838</td>\n",
       "      <td>31895.044325</td>\n",
       "      <td>12630.322442</td>\n",
       "      <td>41029.996115</td>\n",
       "      <td>1439.81973474096</td>\n",
       "      <td>26337.7301089178</td>\n",
       "      <td>335.542442</td>\n",
       "      <td>28.949213</td>\n",
       "      <td>NaN</td>\n",
       "    </tr>\n",
       "    <tr>\n",
       "      <th>4</th>\n",
       "      <td>6</td>\n",
       "      <td>Au47</td>\n",
       "      <td>21772.696629</td>\n",
       "      <td>11997.356846</td>\n",
       "      <td>33770.053475</td>\n",
       "      <td>10672.216286</td>\n",
       "      <td>47175.575986</td>\n",
       "      <td>1467.01863862725</td>\n",
       "      <td>21585.5732755892</td>\n",
       "      <td>316.188490</td>\n",
       "      <td>29.377145</td>\n",
       "      <td>NaN</td>\n",
       "    </tr>\n",
       "    <tr>\n",
       "      <th>5</th>\n",
       "      <td>2</td>\n",
       "      <td>Au47</td>\n",
       "      <td>17620.295796</td>\n",
       "      <td>13936.716929</td>\n",
       "      <td>31557.012725</td>\n",
       "      <td>11265.672917</td>\n",
       "      <td>42896.950847</td>\n",
       "      <td>1502.48748702529</td>\n",
       "      <td>24398.428146034</td>\n",
       "      <td>257.110626</td>\n",
       "      <td>25.003664</td>\n",
       "      <td>NaN</td>\n",
       "    </tr>\n",
       "    <tr>\n",
       "      <th>6</th>\n",
       "      <td>7</td>\n",
       "      <td>Au53</td>\n",
       "      <td>20342.654221</td>\n",
       "      <td>13938.842429</td>\n",
       "      <td>34281.496650</td>\n",
       "      <td>9118.485757</td>\n",
       "      <td>47207.997883</td>\n",
       "      <td>1394.8993926275</td>\n",
       "      <td>19296.3288426945</td>\n",
       "      <td>285.840136</td>\n",
       "      <td>31.025050</td>\n",
       "      <td>NaN</td>\n",
       "    </tr>\n",
       "    <tr>\n",
       "      <th>7</th>\n",
       "      <td>5</td>\n",
       "      <td>Au53</td>\n",
       "      <td>21635.106571</td>\n",
       "      <td>15013.877702</td>\n",
       "      <td>36648.984274</td>\n",
       "      <td>6988.360757</td>\n",
       "      <td>46268.123502</td>\n",
       "      <td>1730.13032705656</td>\n",
       "      <td>15865.5454860459</td>\n",
       "      <td>265.159355</td>\n",
       "      <td>29.770982</td>\n",
       "      <td>NaN</td>\n",
       "    </tr>\n",
       "    <tr>\n",
       "      <th>8</th>\n",
       "      <td>9</td>\n",
       "      <td>Au53</td>\n",
       "      <td>22563.040451</td>\n",
       "      <td>12648.008949</td>\n",
       "      <td>35211.049400</td>\n",
       "      <td>10432.143429</td>\n",
       "      <td>40841.131830</td>\n",
       "      <td>1348.28810098257</td>\n",
       "      <td>22660.4840070055</td>\n",
       "      <td>301.044988</td>\n",
       "      <td>25.868277</td>\n",
       "      <td>NaN</td>\n",
       "    </tr>\n",
       "  </tbody>\n",
       "</table>\n",
       "</div>"
      ],
      "text/plain": [
       "   Tank Treatment      NitrateN     AmmoniumN        TotalN    Phosphorus  \\\n",
       "0     3   Control  18761.904841  10306.002208  29067.272500  12684.874373   \n",
       "1     4   Control  21645.354288  12437.070289  34081.642850  11491.501873   \n",
       "2     8   Control  16838.258788  10632.168232  27469.952475  10355.950873   \n",
       "3     1      Au47  20802.809014  11967.706838  31895.044325  12630.322442   \n",
       "4     6      Au47  21772.696629  11997.356846  33770.053475  10672.216286   \n",
       "5     2      Au47  17620.295796  13936.716929  31557.012725  11265.672917   \n",
       "6     7      Au53  20342.654221  13938.842429  34281.496650   9118.485757   \n",
       "7     5      Au53  21635.106571  15013.877702  36648.984274   6988.360757   \n",
       "8     9      Au53  22563.040451  12648.008949  35211.049400  10432.143429   \n",
       "\n",
       "      Potassium         Magnesium           Calcium        Iron      Boron  \\\n",
       "0  42136.987241         1504.5355         22010.605  222.039645  23.661833   \n",
       "1  44055.094673          1,635.42         18,548.59  278.240000  27.742095   \n",
       "2  43390.354388          1,383.34         16,853.25  238.930000  19.138933   \n",
       "3  41029.996115  1439.81973474096  26337.7301089178  335.542442  28.949213   \n",
       "4  47175.575986  1467.01863862725  21585.5732755892  316.188490  29.377145   \n",
       "5  42896.950847  1502.48748702529   24398.428146034  257.110626  25.003664   \n",
       "6  47207.997883   1394.8993926275  19296.3288426945  285.840136  31.025050   \n",
       "7  46268.123502  1730.13032705656  15865.5454860459  265.159355  29.770982   \n",
       "8  40841.131830  1348.28810098257  22660.4840070055  301.044988  25.868277   \n",
       "\n",
       "   all in (g)  \n",
       "0         NaN  \n",
       "1         NaN  \n",
       "2         NaN  \n",
       "3         NaN  \n",
       "4         NaN  \n",
       "5         NaN  \n",
       "6         NaN  \n",
       "7         NaN  \n",
       "8         NaN  "
      ]
     },
     "execution_count": 4,
     "metadata": {},
     "output_type": "execute_result"
    }
   ],
   "source": [
    "df_nutrients"
   ]
  },
  {
   "cell_type": "markdown",
   "metadata": {
    "slideshow": {
     "slide_type": "subslide"
    }
   },
   "source": [
    "Note that pandas:\n",
    "* tries to use the data in the first row as column names (in this case this is correct)\n",
    "* adds a column at the beginning, with numbers: that is the ___index___ of all rows\n",
    "* infers the data type of each column: text, numbers... (this fails if there are mixed types)\n",
    "* adds a value of __NaN__ (not-a-number) to empty cells"
   ]
  },
  {
   "cell_type": "markdown",
   "metadata": {
    "slideshow": {
     "slide_type": "subslide"
    }
   },
   "source": [
    "#### Reading an xlsx-file from Microsoft Excel"
   ]
  },
  {
   "cell_type": "markdown",
   "metadata": {
    "slideshow": {
     "slide_type": "subslide"
    }
   },
   "source": [
    "Microsoft Excel is a widespread software for working with data tables, therefore it is very useful to import this kind of files into pandas.\n",
    "\n",
    "The main difference from csv files to take into account is that excel files can contain several different sheets, and we need to specify which one we want to read to a single table, to a single pandas Data Frame object."
   ]
  },
  {
   "cell_type": "markdown",
   "metadata": {
    "slideshow": {
     "slide_type": "fragment"
    }
   },
   "source": [
    "<img src='img/excel_file.png' width='700'>"
   ]
  },
  {
   "cell_type": "markdown",
   "metadata": {
    "slideshow": {
     "slide_type": "subslide"
    }
   },
   "source": [
    "We will import the sheet \"Nutrients\", which has the same values that we had previously from the csv file."
   ]
  },
  {
   "cell_type": "code",
   "execution_count": 5,
   "metadata": {
    "slideshow": {
     "slide_type": "fragment"
    }
   },
   "outputs": [],
   "source": [
    "# df_nutrients = pd.read_csv( 'data/nutrients.csv', ';' ) → how we read a csv file previously\n",
    "\n",
    "df_nutrients_xlsx = pd.read_excel( 'data/lettuce.xlsx', sheet_name='Nutrients' )"
   ]
  },
  {
   "cell_type": "code",
   "execution_count": 6,
   "metadata": {
    "slideshow": {
     "slide_type": "subslide"
    }
   },
   "outputs": [
    {
     "data": {
      "text/html": [
       "<div>\n",
       "<style scoped>\n",
       "    .dataframe tbody tr th:only-of-type {\n",
       "        vertical-align: middle;\n",
       "    }\n",
       "\n",
       "    .dataframe tbody tr th {\n",
       "        vertical-align: top;\n",
       "    }\n",
       "\n",
       "    .dataframe thead th {\n",
       "        text-align: right;\n",
       "    }\n",
       "</style>\n",
       "<table border=\"1\" class=\"dataframe\">\n",
       "  <thead>\n",
       "    <tr style=\"text-align: right;\">\n",
       "      <th></th>\n",
       "      <th>Tank</th>\n",
       "      <th>Treatment</th>\n",
       "      <th>NitrateN</th>\n",
       "      <th>AmmoniumN</th>\n",
       "      <th>TotalN</th>\n",
       "      <th>Phosphorus</th>\n",
       "      <th>Potassium</th>\n",
       "      <th>Magnesium</th>\n",
       "      <th>Calcium</th>\n",
       "      <th>Iron</th>\n",
       "      <th>Boron</th>\n",
       "      <th>all in (g)</th>\n",
       "    </tr>\n",
       "  </thead>\n",
       "  <tbody>\n",
       "    <tr>\n",
       "      <th>0</th>\n",
       "      <td>3</td>\n",
       "      <td>Control</td>\n",
       "      <td>18761.904841</td>\n",
       "      <td>10306.002208</td>\n",
       "      <td>29067.272500</td>\n",
       "      <td>12684.874373</td>\n",
       "      <td>42136.987241</td>\n",
       "      <td>1504.535500</td>\n",
       "      <td>22010.605000</td>\n",
       "      <td>222.039645</td>\n",
       "      <td>23.661832</td>\n",
       "      <td>NaN</td>\n",
       "    </tr>\n",
       "    <tr>\n",
       "      <th>1</th>\n",
       "      <td>4</td>\n",
       "      <td>Control</td>\n",
       "      <td>21645.354288</td>\n",
       "      <td>12437.070289</td>\n",
       "      <td>34081.642850</td>\n",
       "      <td>11491.501873</td>\n",
       "      <td>44055.094673</td>\n",
       "      <td>1635.416000</td>\n",
       "      <td>18548.592500</td>\n",
       "      <td>278.241845</td>\n",
       "      <td>27.742095</td>\n",
       "      <td>NaN</td>\n",
       "    </tr>\n",
       "    <tr>\n",
       "      <th>2</th>\n",
       "      <td>8</td>\n",
       "      <td>Control</td>\n",
       "      <td>16838.258788</td>\n",
       "      <td>10632.168232</td>\n",
       "      <td>27469.952475</td>\n",
       "      <td>10355.950873</td>\n",
       "      <td>43390.354388</td>\n",
       "      <td>1383.341750</td>\n",
       "      <td>16853.247500</td>\n",
       "      <td>238.926895</td>\n",
       "      <td>19.138933</td>\n",
       "      <td>NaN</td>\n",
       "    </tr>\n",
       "    <tr>\n",
       "      <th>3</th>\n",
       "      <td>1</td>\n",
       "      <td>Au47</td>\n",
       "      <td>20802.809014</td>\n",
       "      <td>11967.706838</td>\n",
       "      <td>31895.044325</td>\n",
       "      <td>12630.322442</td>\n",
       "      <td>41029.996115</td>\n",
       "      <td>1439.819735</td>\n",
       "      <td>26337.730109</td>\n",
       "      <td>335.542442</td>\n",
       "      <td>28.949213</td>\n",
       "      <td>NaN</td>\n",
       "    </tr>\n",
       "    <tr>\n",
       "      <th>4</th>\n",
       "      <td>6</td>\n",
       "      <td>Au47</td>\n",
       "      <td>21772.696629</td>\n",
       "      <td>11997.356846</td>\n",
       "      <td>33770.053475</td>\n",
       "      <td>10672.216286</td>\n",
       "      <td>47175.575986</td>\n",
       "      <td>1467.018639</td>\n",
       "      <td>21585.573276</td>\n",
       "      <td>316.188490</td>\n",
       "      <td>29.377145</td>\n",
       "      <td>NaN</td>\n",
       "    </tr>\n",
       "    <tr>\n",
       "      <th>5</th>\n",
       "      <td>2</td>\n",
       "      <td>Au47</td>\n",
       "      <td>17620.295796</td>\n",
       "      <td>13936.716929</td>\n",
       "      <td>31557.012725</td>\n",
       "      <td>11265.672917</td>\n",
       "      <td>42896.950847</td>\n",
       "      <td>1502.487487</td>\n",
       "      <td>24398.428146</td>\n",
       "      <td>257.110626</td>\n",
       "      <td>25.003664</td>\n",
       "      <td>NaN</td>\n",
       "    </tr>\n",
       "    <tr>\n",
       "      <th>6</th>\n",
       "      <td>7</td>\n",
       "      <td>Au53</td>\n",
       "      <td>20342.654221</td>\n",
       "      <td>13938.842429</td>\n",
       "      <td>34281.496650</td>\n",
       "      <td>9118.485757</td>\n",
       "      <td>47207.997883</td>\n",
       "      <td>1394.899393</td>\n",
       "      <td>19296.328843</td>\n",
       "      <td>285.840136</td>\n",
       "      <td>31.025050</td>\n",
       "      <td>NaN</td>\n",
       "    </tr>\n",
       "    <tr>\n",
       "      <th>7</th>\n",
       "      <td>5</td>\n",
       "      <td>Au53</td>\n",
       "      <td>21635.106571</td>\n",
       "      <td>15013.877702</td>\n",
       "      <td>36648.984274</td>\n",
       "      <td>6988.360757</td>\n",
       "      <td>46268.123502</td>\n",
       "      <td>1730.130327</td>\n",
       "      <td>15865.545486</td>\n",
       "      <td>265.159355</td>\n",
       "      <td>29.770982</td>\n",
       "      <td>NaN</td>\n",
       "    </tr>\n",
       "    <tr>\n",
       "      <th>8</th>\n",
       "      <td>9</td>\n",
       "      <td>Au53</td>\n",
       "      <td>22563.040451</td>\n",
       "      <td>12648.008949</td>\n",
       "      <td>35211.049400</td>\n",
       "      <td>10432.143429</td>\n",
       "      <td>40841.131830</td>\n",
       "      <td>1348.288101</td>\n",
       "      <td>22660.484007</td>\n",
       "      <td>301.044988</td>\n",
       "      <td>25.868277</td>\n",
       "      <td>NaN</td>\n",
       "    </tr>\n",
       "  </tbody>\n",
       "</table>\n",
       "</div>"
      ],
      "text/plain": [
       "   Tank Treatment      NitrateN     AmmoniumN        TotalN    Phosphorus  \\\n",
       "0     3   Control  18761.904841  10306.002208  29067.272500  12684.874373   \n",
       "1     4   Control  21645.354288  12437.070289  34081.642850  11491.501873   \n",
       "2     8   Control  16838.258788  10632.168232  27469.952475  10355.950873   \n",
       "3     1      Au47  20802.809014  11967.706838  31895.044325  12630.322442   \n",
       "4     6      Au47  21772.696629  11997.356846  33770.053475  10672.216286   \n",
       "5     2      Au47  17620.295796  13936.716929  31557.012725  11265.672917   \n",
       "6     7      Au53  20342.654221  13938.842429  34281.496650   9118.485757   \n",
       "7     5      Au53  21635.106571  15013.877702  36648.984274   6988.360757   \n",
       "8     9      Au53  22563.040451  12648.008949  35211.049400  10432.143429   \n",
       "\n",
       "      Potassium    Magnesium       Calcium        Iron      Boron  all in (g)  \n",
       "0  42136.987241  1504.535500  22010.605000  222.039645  23.661832         NaN  \n",
       "1  44055.094673  1635.416000  18548.592500  278.241845  27.742095         NaN  \n",
       "2  43390.354388  1383.341750  16853.247500  238.926895  19.138933         NaN  \n",
       "3  41029.996115  1439.819735  26337.730109  335.542442  28.949213         NaN  \n",
       "4  47175.575986  1467.018639  21585.573276  316.188490  29.377145         NaN  \n",
       "5  42896.950847  1502.487487  24398.428146  257.110626  25.003664         NaN  \n",
       "6  47207.997883  1394.899393  19296.328843  285.840136  31.025050         NaN  \n",
       "7  46268.123502  1730.130327  15865.545486  265.159355  29.770982         NaN  \n",
       "8  40841.131830  1348.288101  22660.484007  301.044988  25.868277         NaN  "
      ]
     },
     "execution_count": 6,
     "metadata": {},
     "output_type": "execute_result"
    }
   ],
   "source": [
    "df_nutrients_xlsx"
   ]
  },
  {
   "cell_type": "markdown",
   "metadata": {
    "slideshow": {
     "slide_type": "subslide"
    }
   },
   "source": [
    "#### Having a look at a DataFrame"
   ]
  },
  {
   "cell_type": "markdown",
   "metadata": {
    "slideshow": {
     "slide_type": "fragment"
    }
   },
   "source": [
    "There are a number of functions that can be used directly on a DataFrame and that help to have information from the data inside. \n",
    "\n",
    "We will show some of the most common in the next cells. "
   ]
  },
  {
   "cell_type": "markdown",
   "metadata": {
    "slideshow": {
     "slide_type": "subslide"
    }
   },
   "source": [
    "#### Head and tail"
   ]
  },
  {
   "cell_type": "markdown",
   "metadata": {
    "slideshow": {
     "slide_type": "fragment"
    }
   },
   "source": [
    "`.head()` shows the first rows in the table, while `.tail()` shows the last ones."
   ]
  },
  {
   "cell_type": "code",
   "execution_count": 7,
   "metadata": {
    "slideshow": {
     "slide_type": "fragment"
    }
   },
   "outputs": [
    {
     "data": {
      "text/html": [
       "<div>\n",
       "<style scoped>\n",
       "    .dataframe tbody tr th:only-of-type {\n",
       "        vertical-align: middle;\n",
       "    }\n",
       "\n",
       "    .dataframe tbody tr th {\n",
       "        vertical-align: top;\n",
       "    }\n",
       "\n",
       "    .dataframe thead th {\n",
       "        text-align: right;\n",
       "    }\n",
       "</style>\n",
       "<table border=\"1\" class=\"dataframe\">\n",
       "  <thead>\n",
       "    <tr style=\"text-align: right;\">\n",
       "      <th></th>\n",
       "      <th>Tank</th>\n",
       "      <th>Treatment</th>\n",
       "      <th>NitrateN</th>\n",
       "      <th>AmmoniumN</th>\n",
       "      <th>TotalN</th>\n",
       "      <th>Phosphorus</th>\n",
       "      <th>Potassium</th>\n",
       "      <th>Magnesium</th>\n",
       "      <th>Calcium</th>\n",
       "      <th>Iron</th>\n",
       "      <th>Boron</th>\n",
       "      <th>all in (g)</th>\n",
       "    </tr>\n",
       "  </thead>\n",
       "  <tbody>\n",
       "    <tr>\n",
       "      <th>0</th>\n",
       "      <td>3</td>\n",
       "      <td>Control</td>\n",
       "      <td>18761.904841</td>\n",
       "      <td>10306.002208</td>\n",
       "      <td>29067.272500</td>\n",
       "      <td>12684.874373</td>\n",
       "      <td>42136.987241</td>\n",
       "      <td>1504.5355</td>\n",
       "      <td>22010.605</td>\n",
       "      <td>222.039645</td>\n",
       "      <td>23.661833</td>\n",
       "      <td>NaN</td>\n",
       "    </tr>\n",
       "    <tr>\n",
       "      <th>1</th>\n",
       "      <td>4</td>\n",
       "      <td>Control</td>\n",
       "      <td>21645.354288</td>\n",
       "      <td>12437.070289</td>\n",
       "      <td>34081.642850</td>\n",
       "      <td>11491.501873</td>\n",
       "      <td>44055.094673</td>\n",
       "      <td>1,635.42</td>\n",
       "      <td>18,548.59</td>\n",
       "      <td>278.240000</td>\n",
       "      <td>27.742095</td>\n",
       "      <td>NaN</td>\n",
       "    </tr>\n",
       "    <tr>\n",
       "      <th>2</th>\n",
       "      <td>8</td>\n",
       "      <td>Control</td>\n",
       "      <td>16838.258788</td>\n",
       "      <td>10632.168232</td>\n",
       "      <td>27469.952475</td>\n",
       "      <td>10355.950873</td>\n",
       "      <td>43390.354388</td>\n",
       "      <td>1,383.34</td>\n",
       "      <td>16,853.25</td>\n",
       "      <td>238.930000</td>\n",
       "      <td>19.138933</td>\n",
       "      <td>NaN</td>\n",
       "    </tr>\n",
       "    <tr>\n",
       "      <th>3</th>\n",
       "      <td>1</td>\n",
       "      <td>Au47</td>\n",
       "      <td>20802.809014</td>\n",
       "      <td>11967.706838</td>\n",
       "      <td>31895.044325</td>\n",
       "      <td>12630.322442</td>\n",
       "      <td>41029.996115</td>\n",
       "      <td>1439.81973474096</td>\n",
       "      <td>26337.7301089178</td>\n",
       "      <td>335.542442</td>\n",
       "      <td>28.949213</td>\n",
       "      <td>NaN</td>\n",
       "    </tr>\n",
       "    <tr>\n",
       "      <th>4</th>\n",
       "      <td>6</td>\n",
       "      <td>Au47</td>\n",
       "      <td>21772.696629</td>\n",
       "      <td>11997.356846</td>\n",
       "      <td>33770.053475</td>\n",
       "      <td>10672.216286</td>\n",
       "      <td>47175.575986</td>\n",
       "      <td>1467.01863862725</td>\n",
       "      <td>21585.5732755892</td>\n",
       "      <td>316.188490</td>\n",
       "      <td>29.377145</td>\n",
       "      <td>NaN</td>\n",
       "    </tr>\n",
       "  </tbody>\n",
       "</table>\n",
       "</div>"
      ],
      "text/plain": [
       "   Tank Treatment      NitrateN     AmmoniumN        TotalN    Phosphorus  \\\n",
       "0     3   Control  18761.904841  10306.002208  29067.272500  12684.874373   \n",
       "1     4   Control  21645.354288  12437.070289  34081.642850  11491.501873   \n",
       "2     8   Control  16838.258788  10632.168232  27469.952475  10355.950873   \n",
       "3     1      Au47  20802.809014  11967.706838  31895.044325  12630.322442   \n",
       "4     6      Au47  21772.696629  11997.356846  33770.053475  10672.216286   \n",
       "\n",
       "      Potassium         Magnesium           Calcium        Iron      Boron  \\\n",
       "0  42136.987241         1504.5355         22010.605  222.039645  23.661833   \n",
       "1  44055.094673          1,635.42         18,548.59  278.240000  27.742095   \n",
       "2  43390.354388          1,383.34         16,853.25  238.930000  19.138933   \n",
       "3  41029.996115  1439.81973474096  26337.7301089178  335.542442  28.949213   \n",
       "4  47175.575986  1467.01863862725  21585.5732755892  316.188490  29.377145   \n",
       "\n",
       "   all in (g)  \n",
       "0         NaN  \n",
       "1         NaN  \n",
       "2         NaN  \n",
       "3         NaN  \n",
       "4         NaN  "
      ]
     },
     "execution_count": 7,
     "metadata": {},
     "output_type": "execute_result"
    }
   ],
   "source": [
    "df_nutrients.head()"
   ]
  },
  {
   "cell_type": "code",
   "execution_count": 8,
   "metadata": {
    "slideshow": {
     "slide_type": "subslide"
    }
   },
   "outputs": [
    {
     "data": {
      "text/html": [
       "<div>\n",
       "<style scoped>\n",
       "    .dataframe tbody tr th:only-of-type {\n",
       "        vertical-align: middle;\n",
       "    }\n",
       "\n",
       "    .dataframe tbody tr th {\n",
       "        vertical-align: top;\n",
       "    }\n",
       "\n",
       "    .dataframe thead th {\n",
       "        text-align: right;\n",
       "    }\n",
       "</style>\n",
       "<table border=\"1\" class=\"dataframe\">\n",
       "  <thead>\n",
       "    <tr style=\"text-align: right;\">\n",
       "      <th></th>\n",
       "      <th>Tank</th>\n",
       "      <th>Treatment</th>\n",
       "      <th>NitrateN</th>\n",
       "      <th>AmmoniumN</th>\n",
       "      <th>TotalN</th>\n",
       "      <th>Phosphorus</th>\n",
       "      <th>Potassium</th>\n",
       "      <th>Magnesium</th>\n",
       "      <th>Calcium</th>\n",
       "      <th>Iron</th>\n",
       "      <th>Boron</th>\n",
       "      <th>all in (g)</th>\n",
       "    </tr>\n",
       "  </thead>\n",
       "  <tbody>\n",
       "    <tr>\n",
       "      <th>4</th>\n",
       "      <td>6</td>\n",
       "      <td>Au47</td>\n",
       "      <td>21772.696629</td>\n",
       "      <td>11997.356846</td>\n",
       "      <td>33770.053475</td>\n",
       "      <td>10672.216286</td>\n",
       "      <td>47175.575986</td>\n",
       "      <td>1467.01863862725</td>\n",
       "      <td>21585.5732755892</td>\n",
       "      <td>316.188490</td>\n",
       "      <td>29.377145</td>\n",
       "      <td>NaN</td>\n",
       "    </tr>\n",
       "    <tr>\n",
       "      <th>5</th>\n",
       "      <td>2</td>\n",
       "      <td>Au47</td>\n",
       "      <td>17620.295796</td>\n",
       "      <td>13936.716929</td>\n",
       "      <td>31557.012725</td>\n",
       "      <td>11265.672917</td>\n",
       "      <td>42896.950847</td>\n",
       "      <td>1502.48748702529</td>\n",
       "      <td>24398.428146034</td>\n",
       "      <td>257.110626</td>\n",
       "      <td>25.003664</td>\n",
       "      <td>NaN</td>\n",
       "    </tr>\n",
       "    <tr>\n",
       "      <th>6</th>\n",
       "      <td>7</td>\n",
       "      <td>Au53</td>\n",
       "      <td>20342.654221</td>\n",
       "      <td>13938.842429</td>\n",
       "      <td>34281.496650</td>\n",
       "      <td>9118.485757</td>\n",
       "      <td>47207.997883</td>\n",
       "      <td>1394.8993926275</td>\n",
       "      <td>19296.3288426945</td>\n",
       "      <td>285.840136</td>\n",
       "      <td>31.025050</td>\n",
       "      <td>NaN</td>\n",
       "    </tr>\n",
       "    <tr>\n",
       "      <th>7</th>\n",
       "      <td>5</td>\n",
       "      <td>Au53</td>\n",
       "      <td>21635.106571</td>\n",
       "      <td>15013.877702</td>\n",
       "      <td>36648.984274</td>\n",
       "      <td>6988.360757</td>\n",
       "      <td>46268.123502</td>\n",
       "      <td>1730.13032705656</td>\n",
       "      <td>15865.5454860459</td>\n",
       "      <td>265.159355</td>\n",
       "      <td>29.770982</td>\n",
       "      <td>NaN</td>\n",
       "    </tr>\n",
       "    <tr>\n",
       "      <th>8</th>\n",
       "      <td>9</td>\n",
       "      <td>Au53</td>\n",
       "      <td>22563.040451</td>\n",
       "      <td>12648.008949</td>\n",
       "      <td>35211.049400</td>\n",
       "      <td>10432.143429</td>\n",
       "      <td>40841.131830</td>\n",
       "      <td>1348.28810098257</td>\n",
       "      <td>22660.4840070055</td>\n",
       "      <td>301.044988</td>\n",
       "      <td>25.868277</td>\n",
       "      <td>NaN</td>\n",
       "    </tr>\n",
       "  </tbody>\n",
       "</table>\n",
       "</div>"
      ],
      "text/plain": [
       "   Tank Treatment      NitrateN     AmmoniumN        TotalN    Phosphorus  \\\n",
       "4     6      Au47  21772.696629  11997.356846  33770.053475  10672.216286   \n",
       "5     2      Au47  17620.295796  13936.716929  31557.012725  11265.672917   \n",
       "6     7      Au53  20342.654221  13938.842429  34281.496650   9118.485757   \n",
       "7     5      Au53  21635.106571  15013.877702  36648.984274   6988.360757   \n",
       "8     9      Au53  22563.040451  12648.008949  35211.049400  10432.143429   \n",
       "\n",
       "      Potassium         Magnesium           Calcium        Iron      Boron  \\\n",
       "4  47175.575986  1467.01863862725  21585.5732755892  316.188490  29.377145   \n",
       "5  42896.950847  1502.48748702529   24398.428146034  257.110626  25.003664   \n",
       "6  47207.997883   1394.8993926275  19296.3288426945  285.840136  31.025050   \n",
       "7  46268.123502  1730.13032705656  15865.5454860459  265.159355  29.770982   \n",
       "8  40841.131830  1348.28810098257  22660.4840070055  301.044988  25.868277   \n",
       "\n",
       "   all in (g)  \n",
       "4         NaN  \n",
       "5         NaN  \n",
       "6         NaN  \n",
       "7         NaN  \n",
       "8         NaN  "
      ]
     },
     "execution_count": 8,
     "metadata": {},
     "output_type": "execute_result"
    }
   ],
   "source": [
    "df_nutrients.tail()"
   ]
  },
  {
   "cell_type": "markdown",
   "metadata": {
    "slideshow": {
     "slide_type": "subslide"
    }
   },
   "source": [
    "By default, they show 5 rows, but a number can be passed as parameter:"
   ]
  },
  {
   "cell_type": "code",
   "execution_count": 9,
   "metadata": {
    "slideshow": {
     "slide_type": "fragment"
    }
   },
   "outputs": [
    {
     "data": {
      "text/html": [
       "<div>\n",
       "<style scoped>\n",
       "    .dataframe tbody tr th:only-of-type {\n",
       "        vertical-align: middle;\n",
       "    }\n",
       "\n",
       "    .dataframe tbody tr th {\n",
       "        vertical-align: top;\n",
       "    }\n",
       "\n",
       "    .dataframe thead th {\n",
       "        text-align: right;\n",
       "    }\n",
       "</style>\n",
       "<table border=\"1\" class=\"dataframe\">\n",
       "  <thead>\n",
       "    <tr style=\"text-align: right;\">\n",
       "      <th></th>\n",
       "      <th>Tank</th>\n",
       "      <th>Treatment</th>\n",
       "      <th>NitrateN</th>\n",
       "      <th>AmmoniumN</th>\n",
       "      <th>TotalN</th>\n",
       "      <th>Phosphorus</th>\n",
       "      <th>Potassium</th>\n",
       "      <th>Magnesium</th>\n",
       "      <th>Calcium</th>\n",
       "      <th>Iron</th>\n",
       "      <th>Boron</th>\n",
       "      <th>all in (g)</th>\n",
       "    </tr>\n",
       "  </thead>\n",
       "  <tbody>\n",
       "    <tr>\n",
       "      <th>0</th>\n",
       "      <td>3</td>\n",
       "      <td>Control</td>\n",
       "      <td>18761.904841</td>\n",
       "      <td>10306.002208</td>\n",
       "      <td>29067.27250</td>\n",
       "      <td>12684.874373</td>\n",
       "      <td>42136.987241</td>\n",
       "      <td>1504.5355</td>\n",
       "      <td>22010.605</td>\n",
       "      <td>222.039645</td>\n",
       "      <td>23.661833</td>\n",
       "      <td>NaN</td>\n",
       "    </tr>\n",
       "    <tr>\n",
       "      <th>1</th>\n",
       "      <td>4</td>\n",
       "      <td>Control</td>\n",
       "      <td>21645.354288</td>\n",
       "      <td>12437.070289</td>\n",
       "      <td>34081.64285</td>\n",
       "      <td>11491.501873</td>\n",
       "      <td>44055.094673</td>\n",
       "      <td>1,635.42</td>\n",
       "      <td>18,548.59</td>\n",
       "      <td>278.240000</td>\n",
       "      <td>27.742095</td>\n",
       "      <td>NaN</td>\n",
       "    </tr>\n",
       "  </tbody>\n",
       "</table>\n",
       "</div>"
      ],
      "text/plain": [
       "   Tank Treatment      NitrateN     AmmoniumN       TotalN    Phosphorus  \\\n",
       "0     3   Control  18761.904841  10306.002208  29067.27250  12684.874373   \n",
       "1     4   Control  21645.354288  12437.070289  34081.64285  11491.501873   \n",
       "\n",
       "      Potassium  Magnesium    Calcium        Iron      Boron  all in (g)  \n",
       "0  42136.987241  1504.5355  22010.605  222.039645  23.661833         NaN  \n",
       "1  44055.094673   1,635.42  18,548.59  278.240000  27.742095         NaN  "
      ]
     },
     "execution_count": 9,
     "metadata": {},
     "output_type": "execute_result"
    }
   ],
   "source": [
    "df_nutrients.head( 2 )"
   ]
  },
  {
   "cell_type": "markdown",
   "metadata": {
    "slideshow": {
     "slide_type": "subslide"
    }
   },
   "source": [
    "#### Shape"
   ]
  },
  {
   "cell_type": "markdown",
   "metadata": {
    "slideshow": {
     "slide_type": "fragment"
    }
   },
   "source": [
    "`.shape` prints the number of rows and columns in the table, very useful to check that the data was imported correctly."
   ]
  },
  {
   "cell_type": "code",
   "execution_count": 10,
   "metadata": {
    "slideshow": {
     "slide_type": "fragment"
    }
   },
   "outputs": [
    {
     "data": {
      "text/plain": [
       "(9, 12)"
      ]
     },
     "execution_count": 10,
     "metadata": {},
     "output_type": "execute_result"
    }
   ],
   "source": [
    "df_nutrients.shape"
   ]
  },
  {
   "cell_type": "markdown",
   "metadata": {
    "slideshow": {
     "slide_type": "subslide"
    }
   },
   "source": [
    "#### Columns"
   ]
  },
  {
   "cell_type": "markdown",
   "metadata": {
    "slideshow": {
     "slide_type": "fragment"
    }
   },
   "source": [
    "`.columns` gives the names of the columns in the table"
   ]
  },
  {
   "cell_type": "code",
   "execution_count": 11,
   "metadata": {
    "slideshow": {
     "slide_type": "fragment"
    }
   },
   "outputs": [
    {
     "data": {
      "text/plain": [
       "Index(['Tank', 'Treatment', 'NitrateN', 'AmmoniumN', 'TotalN', 'Phosphorus',\n",
       "       'Potassium', 'Magnesium', 'Calcium', 'Iron', 'Boron', 'all in (g)'],\n",
       "      dtype='object')"
      ]
     },
     "execution_count": 11,
     "metadata": {},
     "output_type": "execute_result"
    }
   ],
   "source": [
    "df_nutrients.columns"
   ]
  },
  {
   "cell_type": "markdown",
   "metadata": {
    "slideshow": {
     "slide_type": "subslide"
    }
   },
   "source": [
    "It can also be used to change the name of a column:"
   ]
  },
  {
   "cell_type": "code",
   "execution_count": 12,
   "metadata": {
    "slideshow": {
     "slide_type": "fragment"
    }
   },
   "outputs": [],
   "source": [
    "df_nutrients.columns = [ 'Tank', 'Treatment', 'NitrateN', 'AmmoniumN', 'TotalN', 'Phosphorus',\n",
    "       'Potassium', 'Magnesium', 'Calcium', 'Iron', 'Boron', 'New Column Name' ]"
   ]
  },
  {
   "cell_type": "code",
   "execution_count": 13,
   "metadata": {
    "slideshow": {
     "slide_type": "fragment"
    }
   },
   "outputs": [
    {
     "data": {
      "text/html": [
       "<div>\n",
       "<style scoped>\n",
       "    .dataframe tbody tr th:only-of-type {\n",
       "        vertical-align: middle;\n",
       "    }\n",
       "\n",
       "    .dataframe tbody tr th {\n",
       "        vertical-align: top;\n",
       "    }\n",
       "\n",
       "    .dataframe thead th {\n",
       "        text-align: right;\n",
       "    }\n",
       "</style>\n",
       "<table border=\"1\" class=\"dataframe\">\n",
       "  <thead>\n",
       "    <tr style=\"text-align: right;\">\n",
       "      <th></th>\n",
       "      <th>Tank</th>\n",
       "      <th>Treatment</th>\n",
       "      <th>NitrateN</th>\n",
       "      <th>AmmoniumN</th>\n",
       "      <th>TotalN</th>\n",
       "      <th>Phosphorus</th>\n",
       "      <th>Potassium</th>\n",
       "      <th>Magnesium</th>\n",
       "      <th>Calcium</th>\n",
       "      <th>Iron</th>\n",
       "      <th>Boron</th>\n",
       "      <th>New Column Name</th>\n",
       "    </tr>\n",
       "  </thead>\n",
       "  <tbody>\n",
       "    <tr>\n",
       "      <th>0</th>\n",
       "      <td>3</td>\n",
       "      <td>Control</td>\n",
       "      <td>18761.904841</td>\n",
       "      <td>10306.002208</td>\n",
       "      <td>29067.272500</td>\n",
       "      <td>12684.874373</td>\n",
       "      <td>42136.987241</td>\n",
       "      <td>1504.5355</td>\n",
       "      <td>22010.605</td>\n",
       "      <td>222.039645</td>\n",
       "      <td>23.661833</td>\n",
       "      <td>NaN</td>\n",
       "    </tr>\n",
       "    <tr>\n",
       "      <th>1</th>\n",
       "      <td>4</td>\n",
       "      <td>Control</td>\n",
       "      <td>21645.354288</td>\n",
       "      <td>12437.070289</td>\n",
       "      <td>34081.642850</td>\n",
       "      <td>11491.501873</td>\n",
       "      <td>44055.094673</td>\n",
       "      <td>1,635.42</td>\n",
       "      <td>18,548.59</td>\n",
       "      <td>278.240000</td>\n",
       "      <td>27.742095</td>\n",
       "      <td>NaN</td>\n",
       "    </tr>\n",
       "    <tr>\n",
       "      <th>2</th>\n",
       "      <td>8</td>\n",
       "      <td>Control</td>\n",
       "      <td>16838.258788</td>\n",
       "      <td>10632.168232</td>\n",
       "      <td>27469.952475</td>\n",
       "      <td>10355.950873</td>\n",
       "      <td>43390.354388</td>\n",
       "      <td>1,383.34</td>\n",
       "      <td>16,853.25</td>\n",
       "      <td>238.930000</td>\n",
       "      <td>19.138933</td>\n",
       "      <td>NaN</td>\n",
       "    </tr>\n",
       "    <tr>\n",
       "      <th>3</th>\n",
       "      <td>1</td>\n",
       "      <td>Au47</td>\n",
       "      <td>20802.809014</td>\n",
       "      <td>11967.706838</td>\n",
       "      <td>31895.044325</td>\n",
       "      <td>12630.322442</td>\n",
       "      <td>41029.996115</td>\n",
       "      <td>1439.81973474096</td>\n",
       "      <td>26337.7301089178</td>\n",
       "      <td>335.542442</td>\n",
       "      <td>28.949213</td>\n",
       "      <td>NaN</td>\n",
       "    </tr>\n",
       "    <tr>\n",
       "      <th>4</th>\n",
       "      <td>6</td>\n",
       "      <td>Au47</td>\n",
       "      <td>21772.696629</td>\n",
       "      <td>11997.356846</td>\n",
       "      <td>33770.053475</td>\n",
       "      <td>10672.216286</td>\n",
       "      <td>47175.575986</td>\n",
       "      <td>1467.01863862725</td>\n",
       "      <td>21585.5732755892</td>\n",
       "      <td>316.188490</td>\n",
       "      <td>29.377145</td>\n",
       "      <td>NaN</td>\n",
       "    </tr>\n",
       "  </tbody>\n",
       "</table>\n",
       "</div>"
      ],
      "text/plain": [
       "   Tank Treatment      NitrateN     AmmoniumN        TotalN    Phosphorus  \\\n",
       "0     3   Control  18761.904841  10306.002208  29067.272500  12684.874373   \n",
       "1     4   Control  21645.354288  12437.070289  34081.642850  11491.501873   \n",
       "2     8   Control  16838.258788  10632.168232  27469.952475  10355.950873   \n",
       "3     1      Au47  20802.809014  11967.706838  31895.044325  12630.322442   \n",
       "4     6      Au47  21772.696629  11997.356846  33770.053475  10672.216286   \n",
       "\n",
       "      Potassium         Magnesium           Calcium        Iron      Boron  \\\n",
       "0  42136.987241         1504.5355         22010.605  222.039645  23.661833   \n",
       "1  44055.094673          1,635.42         18,548.59  278.240000  27.742095   \n",
       "2  43390.354388          1,383.34         16,853.25  238.930000  19.138933   \n",
       "3  41029.996115  1439.81973474096  26337.7301089178  335.542442  28.949213   \n",
       "4  47175.575986  1467.01863862725  21585.5732755892  316.188490  29.377145   \n",
       "\n",
       "   New Column Name  \n",
       "0              NaN  \n",
       "1              NaN  \n",
       "2              NaN  \n",
       "3              NaN  \n",
       "4              NaN  "
      ]
     },
     "execution_count": 13,
     "metadata": {},
     "output_type": "execute_result"
    }
   ],
   "source": [
    "df_nutrients.head()"
   ]
  },
  {
   "cell_type": "markdown",
   "metadata": {
    "slideshow": {
     "slide_type": "subslide"
    }
   },
   "source": [
    "#### Describe"
   ]
  },
  {
   "cell_type": "markdown",
   "metadata": {
    "slideshow": {
     "slide_type": "fragment"
    }
   },
   "source": [
    "`.describe()` returns a table with descriptive statistics for all columns in the table, also useful to spot potential errors."
   ]
  },
  {
   "cell_type": "code",
   "execution_count": 14,
   "metadata": {
    "slideshow": {
     "slide_type": "fragment"
    }
   },
   "outputs": [
    {
     "data": {
      "text/html": [
       "<div>\n",
       "<style scoped>\n",
       "    .dataframe tbody tr th:only-of-type {\n",
       "        vertical-align: middle;\n",
       "    }\n",
       "\n",
       "    .dataframe tbody tr th {\n",
       "        vertical-align: top;\n",
       "    }\n",
       "\n",
       "    .dataframe thead th {\n",
       "        text-align: right;\n",
       "    }\n",
       "</style>\n",
       "<table border=\"1\" class=\"dataframe\">\n",
       "  <thead>\n",
       "    <tr style=\"text-align: right;\">\n",
       "      <th></th>\n",
       "      <th>Tank</th>\n",
       "      <th>NitrateN</th>\n",
       "      <th>AmmoniumN</th>\n",
       "      <th>TotalN</th>\n",
       "      <th>Phosphorus</th>\n",
       "      <th>Potassium</th>\n",
       "      <th>Iron</th>\n",
       "      <th>Boron</th>\n",
       "      <th>New Column Name</th>\n",
       "    </tr>\n",
       "  </thead>\n",
       "  <tbody>\n",
       "    <tr>\n",
       "      <th>count</th>\n",
       "      <td>9.000000</td>\n",
       "      <td>9.000000</td>\n",
       "      <td>9.000000</td>\n",
       "      <td>9.000000</td>\n",
       "      <td>9.000000</td>\n",
       "      <td>9.000000</td>\n",
       "      <td>9.000000</td>\n",
       "      <td>9.000000</td>\n",
       "      <td>0.0</td>\n",
       "    </tr>\n",
       "    <tr>\n",
       "      <th>mean</th>\n",
       "      <td>5.000000</td>\n",
       "      <td>20220.235622</td>\n",
       "      <td>12541.972269</td>\n",
       "      <td>32664.723186</td>\n",
       "      <td>10626.614301</td>\n",
       "      <td>43889.134718</td>\n",
       "      <td>277.788409</td>\n",
       "      <td>26.726355</td>\n",
       "      <td>NaN</td>\n",
       "    </tr>\n",
       "    <tr>\n",
       "      <th>std</th>\n",
       "      <td>2.738613</td>\n",
       "      <td>2018.980368</td>\n",
       "      <td>1553.319989</td>\n",
       "      <td>2956.945396</td>\n",
       "      <td>1768.905204</td>\n",
       "      <td>2481.705710</td>\n",
       "      <td>36.436523</td>\n",
       "      <td>3.731827</td>\n",
       "      <td>NaN</td>\n",
       "    </tr>\n",
       "    <tr>\n",
       "      <th>min</th>\n",
       "      <td>1.000000</td>\n",
       "      <td>16838.258788</td>\n",
       "      <td>10306.002208</td>\n",
       "      <td>27469.952475</td>\n",
       "      <td>6988.360757</td>\n",
       "      <td>40841.131830</td>\n",
       "      <td>222.039645</td>\n",
       "      <td>19.138933</td>\n",
       "      <td>NaN</td>\n",
       "    </tr>\n",
       "    <tr>\n",
       "      <th>25%</th>\n",
       "      <td>3.000000</td>\n",
       "      <td>18761.904841</td>\n",
       "      <td>11967.706838</td>\n",
       "      <td>31557.012725</td>\n",
       "      <td>10355.950873</td>\n",
       "      <td>42136.987241</td>\n",
       "      <td>257.110626</td>\n",
       "      <td>25.003664</td>\n",
       "      <td>NaN</td>\n",
       "    </tr>\n",
       "    <tr>\n",
       "      <th>50%</th>\n",
       "      <td>5.000000</td>\n",
       "      <td>20802.809014</td>\n",
       "      <td>12437.070289</td>\n",
       "      <td>33770.053475</td>\n",
       "      <td>10672.216286</td>\n",
       "      <td>43390.354388</td>\n",
       "      <td>278.240000</td>\n",
       "      <td>27.742095</td>\n",
       "      <td>NaN</td>\n",
       "    </tr>\n",
       "    <tr>\n",
       "      <th>75%</th>\n",
       "      <td>7.000000</td>\n",
       "      <td>21645.354288</td>\n",
       "      <td>13936.716929</td>\n",
       "      <td>34281.496650</td>\n",
       "      <td>11491.501873</td>\n",
       "      <td>46268.123502</td>\n",
       "      <td>301.044988</td>\n",
       "      <td>29.377145</td>\n",
       "      <td>NaN</td>\n",
       "    </tr>\n",
       "    <tr>\n",
       "      <th>max</th>\n",
       "      <td>9.000000</td>\n",
       "      <td>22563.040451</td>\n",
       "      <td>15013.877702</td>\n",
       "      <td>36648.984274</td>\n",
       "      <td>12684.874373</td>\n",
       "      <td>47207.997883</td>\n",
       "      <td>335.542442</td>\n",
       "      <td>31.025050</td>\n",
       "      <td>NaN</td>\n",
       "    </tr>\n",
       "  </tbody>\n",
       "</table>\n",
       "</div>"
      ],
      "text/plain": [
       "           Tank      NitrateN     AmmoniumN        TotalN    Phosphorus  \\\n",
       "count  9.000000      9.000000      9.000000      9.000000      9.000000   \n",
       "mean   5.000000  20220.235622  12541.972269  32664.723186  10626.614301   \n",
       "std    2.738613   2018.980368   1553.319989   2956.945396   1768.905204   \n",
       "min    1.000000  16838.258788  10306.002208  27469.952475   6988.360757   \n",
       "25%    3.000000  18761.904841  11967.706838  31557.012725  10355.950873   \n",
       "50%    5.000000  20802.809014  12437.070289  33770.053475  10672.216286   \n",
       "75%    7.000000  21645.354288  13936.716929  34281.496650  11491.501873   \n",
       "max    9.000000  22563.040451  15013.877702  36648.984274  12684.874373   \n",
       "\n",
       "          Potassium        Iron      Boron  New Column Name  \n",
       "count      9.000000    9.000000   9.000000              0.0  \n",
       "mean   43889.134718  277.788409  26.726355              NaN  \n",
       "std     2481.705710   36.436523   3.731827              NaN  \n",
       "min    40841.131830  222.039645  19.138933              NaN  \n",
       "25%    42136.987241  257.110626  25.003664              NaN  \n",
       "50%    43390.354388  278.240000  27.742095              NaN  \n",
       "75%    46268.123502  301.044988  29.377145              NaN  \n",
       "max    47207.997883  335.542442  31.025050              NaN  "
      ]
     },
     "execution_count": 14,
     "metadata": {},
     "output_type": "execute_result"
    }
   ],
   "source": [
    "df_nutrients.describe()"
   ]
  },
  {
   "cell_type": "markdown",
   "metadata": {
    "slideshow": {
     "slide_type": "subslide"
    }
   },
   "source": [
    "It is also possible to check those same descriptive statistics separately. "
   ]
  },
  {
   "cell_type": "markdown",
   "metadata": {
    "slideshow": {
     "slide_type": "fragment"
    }
   },
   "source": [
    "For example, we can get the mean only, without having the other values:"
   ]
  },
  {
   "cell_type": "code",
   "execution_count": 15,
   "metadata": {
    "slideshow": {
     "slide_type": "fragment"
    }
   },
   "outputs": [
    {
     "data": {
      "text/plain": [
       "Tank                   5.000000\n",
       "NitrateN           20220.235622\n",
       "AmmoniumN          12541.972269\n",
       "TotalN             32664.723186\n",
       "Phosphorus         10626.614301\n",
       "Potassium          43889.134718\n",
       "Iron                 277.788409\n",
       "Boron                 26.726355\n",
       "New Column Name             NaN\n",
       "dtype: float64"
      ]
     },
     "execution_count": 15,
     "metadata": {},
     "output_type": "execute_result"
    }
   ],
   "source": [
    "df_nutrients.mean()"
   ]
  },
  {
   "cell_type": "markdown",
   "metadata": {
    "slideshow": {
     "slide_type": "subslide"
    }
   },
   "source": [
    "Note that:\n",
    "* the tank is a categorical value (it is not a _number_ of tanks: could have been tank A, B, etc.), but ___pandas___ calculates the statistics all the same\n",
    "* the column `treatment` is not included, because it has text values (could have been the same with the `tank` column)\n",
    "* there is an empty column at the end of the table, which gets a count value of 0, as there are no cells with any value there"
   ]
  },
  {
   "cell_type": "markdown",
   "metadata": {
    "slideshow": {
     "slide_type": "subslide"
    }
   },
   "source": [
    "Here the complete table again, for reference only:"
   ]
  },
  {
   "cell_type": "code",
   "execution_count": 16,
   "metadata": {
    "slideshow": {
     "slide_type": "fragment"
    }
   },
   "outputs": [
    {
     "data": {
      "text/html": [
       "<div>\n",
       "<style scoped>\n",
       "    .dataframe tbody tr th:only-of-type {\n",
       "        vertical-align: middle;\n",
       "    }\n",
       "\n",
       "    .dataframe tbody tr th {\n",
       "        vertical-align: top;\n",
       "    }\n",
       "\n",
       "    .dataframe thead th {\n",
       "        text-align: right;\n",
       "    }\n",
       "</style>\n",
       "<table border=\"1\" class=\"dataframe\">\n",
       "  <thead>\n",
       "    <tr style=\"text-align: right;\">\n",
       "      <th></th>\n",
       "      <th>Tank</th>\n",
       "      <th>Treatment</th>\n",
       "      <th>NitrateN</th>\n",
       "      <th>AmmoniumN</th>\n",
       "      <th>TotalN</th>\n",
       "      <th>Phosphorus</th>\n",
       "      <th>Potassium</th>\n",
       "      <th>Magnesium</th>\n",
       "      <th>Calcium</th>\n",
       "      <th>Iron</th>\n",
       "      <th>Boron</th>\n",
       "      <th>New Column Name</th>\n",
       "    </tr>\n",
       "  </thead>\n",
       "  <tbody>\n",
       "    <tr>\n",
       "      <th>0</th>\n",
       "      <td>3</td>\n",
       "      <td>Control</td>\n",
       "      <td>18761.904841</td>\n",
       "      <td>10306.002208</td>\n",
       "      <td>29067.272500</td>\n",
       "      <td>12684.874373</td>\n",
       "      <td>42136.987241</td>\n",
       "      <td>1504.5355</td>\n",
       "      <td>22010.605</td>\n",
       "      <td>222.039645</td>\n",
       "      <td>23.661833</td>\n",
       "      <td>NaN</td>\n",
       "    </tr>\n",
       "    <tr>\n",
       "      <th>1</th>\n",
       "      <td>4</td>\n",
       "      <td>Control</td>\n",
       "      <td>21645.354288</td>\n",
       "      <td>12437.070289</td>\n",
       "      <td>34081.642850</td>\n",
       "      <td>11491.501873</td>\n",
       "      <td>44055.094673</td>\n",
       "      <td>1,635.42</td>\n",
       "      <td>18,548.59</td>\n",
       "      <td>278.240000</td>\n",
       "      <td>27.742095</td>\n",
       "      <td>NaN</td>\n",
       "    </tr>\n",
       "    <tr>\n",
       "      <th>2</th>\n",
       "      <td>8</td>\n",
       "      <td>Control</td>\n",
       "      <td>16838.258788</td>\n",
       "      <td>10632.168232</td>\n",
       "      <td>27469.952475</td>\n",
       "      <td>10355.950873</td>\n",
       "      <td>43390.354388</td>\n",
       "      <td>1,383.34</td>\n",
       "      <td>16,853.25</td>\n",
       "      <td>238.930000</td>\n",
       "      <td>19.138933</td>\n",
       "      <td>NaN</td>\n",
       "    </tr>\n",
       "    <tr>\n",
       "      <th>3</th>\n",
       "      <td>1</td>\n",
       "      <td>Au47</td>\n",
       "      <td>20802.809014</td>\n",
       "      <td>11967.706838</td>\n",
       "      <td>31895.044325</td>\n",
       "      <td>12630.322442</td>\n",
       "      <td>41029.996115</td>\n",
       "      <td>1439.81973474096</td>\n",
       "      <td>26337.7301089178</td>\n",
       "      <td>335.542442</td>\n",
       "      <td>28.949213</td>\n",
       "      <td>NaN</td>\n",
       "    </tr>\n",
       "    <tr>\n",
       "      <th>4</th>\n",
       "      <td>6</td>\n",
       "      <td>Au47</td>\n",
       "      <td>21772.696629</td>\n",
       "      <td>11997.356846</td>\n",
       "      <td>33770.053475</td>\n",
       "      <td>10672.216286</td>\n",
       "      <td>47175.575986</td>\n",
       "      <td>1467.01863862725</td>\n",
       "      <td>21585.5732755892</td>\n",
       "      <td>316.188490</td>\n",
       "      <td>29.377145</td>\n",
       "      <td>NaN</td>\n",
       "    </tr>\n",
       "    <tr>\n",
       "      <th>5</th>\n",
       "      <td>2</td>\n",
       "      <td>Au47</td>\n",
       "      <td>17620.295796</td>\n",
       "      <td>13936.716929</td>\n",
       "      <td>31557.012725</td>\n",
       "      <td>11265.672917</td>\n",
       "      <td>42896.950847</td>\n",
       "      <td>1502.48748702529</td>\n",
       "      <td>24398.428146034</td>\n",
       "      <td>257.110626</td>\n",
       "      <td>25.003664</td>\n",
       "      <td>NaN</td>\n",
       "    </tr>\n",
       "    <tr>\n",
       "      <th>6</th>\n",
       "      <td>7</td>\n",
       "      <td>Au53</td>\n",
       "      <td>20342.654221</td>\n",
       "      <td>13938.842429</td>\n",
       "      <td>34281.496650</td>\n",
       "      <td>9118.485757</td>\n",
       "      <td>47207.997883</td>\n",
       "      <td>1394.8993926275</td>\n",
       "      <td>19296.3288426945</td>\n",
       "      <td>285.840136</td>\n",
       "      <td>31.025050</td>\n",
       "      <td>NaN</td>\n",
       "    </tr>\n",
       "    <tr>\n",
       "      <th>7</th>\n",
       "      <td>5</td>\n",
       "      <td>Au53</td>\n",
       "      <td>21635.106571</td>\n",
       "      <td>15013.877702</td>\n",
       "      <td>36648.984274</td>\n",
       "      <td>6988.360757</td>\n",
       "      <td>46268.123502</td>\n",
       "      <td>1730.13032705656</td>\n",
       "      <td>15865.5454860459</td>\n",
       "      <td>265.159355</td>\n",
       "      <td>29.770982</td>\n",
       "      <td>NaN</td>\n",
       "    </tr>\n",
       "    <tr>\n",
       "      <th>8</th>\n",
       "      <td>9</td>\n",
       "      <td>Au53</td>\n",
       "      <td>22563.040451</td>\n",
       "      <td>12648.008949</td>\n",
       "      <td>35211.049400</td>\n",
       "      <td>10432.143429</td>\n",
       "      <td>40841.131830</td>\n",
       "      <td>1348.28810098257</td>\n",
       "      <td>22660.4840070055</td>\n",
       "      <td>301.044988</td>\n",
       "      <td>25.868277</td>\n",
       "      <td>NaN</td>\n",
       "    </tr>\n",
       "  </tbody>\n",
       "</table>\n",
       "</div>"
      ],
      "text/plain": [
       "   Tank Treatment      NitrateN     AmmoniumN        TotalN    Phosphorus  \\\n",
       "0     3   Control  18761.904841  10306.002208  29067.272500  12684.874373   \n",
       "1     4   Control  21645.354288  12437.070289  34081.642850  11491.501873   \n",
       "2     8   Control  16838.258788  10632.168232  27469.952475  10355.950873   \n",
       "3     1      Au47  20802.809014  11967.706838  31895.044325  12630.322442   \n",
       "4     6      Au47  21772.696629  11997.356846  33770.053475  10672.216286   \n",
       "5     2      Au47  17620.295796  13936.716929  31557.012725  11265.672917   \n",
       "6     7      Au53  20342.654221  13938.842429  34281.496650   9118.485757   \n",
       "7     5      Au53  21635.106571  15013.877702  36648.984274   6988.360757   \n",
       "8     9      Au53  22563.040451  12648.008949  35211.049400  10432.143429   \n",
       "\n",
       "      Potassium         Magnesium           Calcium        Iron      Boron  \\\n",
       "0  42136.987241         1504.5355         22010.605  222.039645  23.661833   \n",
       "1  44055.094673          1,635.42         18,548.59  278.240000  27.742095   \n",
       "2  43390.354388          1,383.34         16,853.25  238.930000  19.138933   \n",
       "3  41029.996115  1439.81973474096  26337.7301089178  335.542442  28.949213   \n",
       "4  47175.575986  1467.01863862725  21585.5732755892  316.188490  29.377145   \n",
       "5  42896.950847  1502.48748702529   24398.428146034  257.110626  25.003664   \n",
       "6  47207.997883   1394.8993926275  19296.3288426945  285.840136  31.025050   \n",
       "7  46268.123502  1730.13032705656  15865.5454860459  265.159355  29.770982   \n",
       "8  40841.131830  1348.28810098257  22660.4840070055  301.044988  25.868277   \n",
       "\n",
       "   New Column Name  \n",
       "0              NaN  \n",
       "1              NaN  \n",
       "2              NaN  \n",
       "3              NaN  \n",
       "4              NaN  \n",
       "5              NaN  \n",
       "6              NaN  \n",
       "7              NaN  \n",
       "8              NaN  "
      ]
     },
     "execution_count": 16,
     "metadata": {},
     "output_type": "execute_result"
    }
   ],
   "source": [
    "df_nutrients"
   ]
  },
  {
   "cell_type": "markdown",
   "metadata": {
    "slideshow": {
     "slide_type": "slide"
    }
   },
   "source": [
    "## 2. Indexing. Queries."
   ]
  },
  {
   "cell_type": "markdown",
   "metadata": {
    "slideshow": {
     "slide_type": "subslide"
    }
   },
   "source": [
    "Having some general data about the whole table is an important step of data exploration, because we can get a feeling of what is happening (what is big, what is missing), and also because it helps to spot possible errors in calculations.\n",
    "\n",
    "However, it is most common that we want to answer questions like:\n",
    "* What are the average nutrients _per treatment_?\n",
    "* Which tanks were used for the Control treatment?\n",
    "* What is the ratio of ammonium/nitrate for the control treatment?\n",
    "\n",
    "This kind of questions require that we _select_ some rows and columns before asking for means or sums. We call this selection ___indexing___, similar to the indexing of lists."
   ]
  },
  {
   "cell_type": "markdown",
   "metadata": {
    "slideshow": {
     "slide_type": "subslide"
    }
   },
   "source": [
    "### Indexing"
   ]
  },
  {
   "cell_type": "markdown",
   "metadata": {
    "slideshow": {
     "slide_type": "fragment"
    }
   },
   "source": [
    "To index lists, and then also data frames, we use square brackets. \n",
    "\n",
    "With lists, we use always numeric indexes. \n",
    "\n",
    "With data frames we can use colum names and numeric indexes."
   ]
  },
  {
   "cell_type": "markdown",
   "metadata": {
    "slideshow": {
     "slide_type": "subslide"
    }
   },
   "source": [
    "#### Short reminder of list indexing"
   ]
  },
  {
   "cell_type": "code",
   "execution_count": 17,
   "metadata": {
    "slideshow": {
     "slide_type": "fragment"
    }
   },
   "outputs": [
    {
     "data": {
      "text/plain": [
       "'black'"
      ]
     },
     "execution_count": 17,
     "metadata": {},
     "output_type": "execute_result"
    }
   ],
   "source": [
    "example_list1 = [ 'red', 'blue', 'black', 'yellow' ]\n",
    "\n",
    "example_list1[ 2 ]"
   ]
  },
  {
   "cell_type": "markdown",
   "metadata": {
    "slideshow": {
     "slide_type": "fragment"
    }
   },
   "source": [
    "We read that like \"example_list1 in the position 2 is 'black'\", \n",
    "\n",
    "or \"the value of example_list1 in the position 2 is 'black'\", \n",
    "\n",
    "or \"there is a 'black' in the position 2 of example_list1\""
   ]
  },
  {
   "cell_type": "code",
   "execution_count": 18,
   "metadata": {
    "slideshow": {
     "slide_type": "subslide"
    }
   },
   "outputs": [],
   "source": [
    "example_list2 = [ [ 'red', 'blue', 'black', 'yellow' ],\n",
    "                  [ 'north', 'south', 'up', 'down' ],\n",
    "                  [ 'apple', 'banana', 'peach', 'pear' ] ]"
   ]
  },
  {
   "cell_type": "code",
   "execution_count": 19,
   "metadata": {
    "slideshow": {
     "slide_type": "fragment"
    }
   },
   "outputs": [
    {
     "data": {
      "text/plain": [
       "['apple', 'banana', 'peach', 'pear']"
      ]
     },
     "execution_count": 19,
     "metadata": {},
     "output_type": "execute_result"
    }
   ],
   "source": [
    "example_list2[ 2 ]"
   ]
  },
  {
   "cell_type": "code",
   "execution_count": 20,
   "metadata": {
    "slideshow": {
     "slide_type": "fragment"
    }
   },
   "outputs": [
    {
     "data": {
      "text/plain": [
       "'banana'"
      ]
     },
     "execution_count": 20,
     "metadata": {},
     "output_type": "execute_result"
    }
   ],
   "source": [
    "example_list2[ 2 ][ 1 ]"
   ]
  },
  {
   "cell_type": "markdown",
   "metadata": {
    "slideshow": {
     "slide_type": "subslide"
    }
   },
   "source": [
    "We will use the same syntax with pandas DataFrames, but we will index rows with the index (mostly with numbers) and columns with their name."
   ]
  },
  {
   "cell_type": "markdown",
   "metadata": {
    "slideshow": {
     "slide_type": "subslide"
    }
   },
   "source": [
    "### Selecting columns from a data frame in pandas"
   ]
  },
  {
   "cell_type": "markdown",
   "metadata": {
    "slideshow": {
     "slide_type": "fragment"
    }
   },
   "source": [
    "Our DataFrame with nutrients looks like this:"
   ]
  },
  {
   "cell_type": "code",
   "execution_count": 21,
   "metadata": {
    "slideshow": {
     "slide_type": "fragment"
    }
   },
   "outputs": [
    {
     "data": {
      "text/html": [
       "<div>\n",
       "<style scoped>\n",
       "    .dataframe tbody tr th:only-of-type {\n",
       "        vertical-align: middle;\n",
       "    }\n",
       "\n",
       "    .dataframe tbody tr th {\n",
       "        vertical-align: top;\n",
       "    }\n",
       "\n",
       "    .dataframe thead th {\n",
       "        text-align: right;\n",
       "    }\n",
       "</style>\n",
       "<table border=\"1\" class=\"dataframe\">\n",
       "  <thead>\n",
       "    <tr style=\"text-align: right;\">\n",
       "      <th></th>\n",
       "      <th>Tank</th>\n",
       "      <th>Treatment</th>\n",
       "      <th>NitrateN</th>\n",
       "      <th>AmmoniumN</th>\n",
       "      <th>TotalN</th>\n",
       "      <th>Phosphorus</th>\n",
       "      <th>Potassium</th>\n",
       "      <th>Magnesium</th>\n",
       "      <th>Calcium</th>\n",
       "      <th>Iron</th>\n",
       "      <th>Boron</th>\n",
       "      <th>New Column Name</th>\n",
       "    </tr>\n",
       "  </thead>\n",
       "  <tbody>\n",
       "    <tr>\n",
       "      <th>0</th>\n",
       "      <td>3</td>\n",
       "      <td>Control</td>\n",
       "      <td>18761.904841</td>\n",
       "      <td>10306.002208</td>\n",
       "      <td>29067.272500</td>\n",
       "      <td>12684.874373</td>\n",
       "      <td>42136.987241</td>\n",
       "      <td>1504.5355</td>\n",
       "      <td>22010.605</td>\n",
       "      <td>222.039645</td>\n",
       "      <td>23.661833</td>\n",
       "      <td>NaN</td>\n",
       "    </tr>\n",
       "    <tr>\n",
       "      <th>1</th>\n",
       "      <td>4</td>\n",
       "      <td>Control</td>\n",
       "      <td>21645.354288</td>\n",
       "      <td>12437.070289</td>\n",
       "      <td>34081.642850</td>\n",
       "      <td>11491.501873</td>\n",
       "      <td>44055.094673</td>\n",
       "      <td>1,635.42</td>\n",
       "      <td>18,548.59</td>\n",
       "      <td>278.240000</td>\n",
       "      <td>27.742095</td>\n",
       "      <td>NaN</td>\n",
       "    </tr>\n",
       "    <tr>\n",
       "      <th>2</th>\n",
       "      <td>8</td>\n",
       "      <td>Control</td>\n",
       "      <td>16838.258788</td>\n",
       "      <td>10632.168232</td>\n",
       "      <td>27469.952475</td>\n",
       "      <td>10355.950873</td>\n",
       "      <td>43390.354388</td>\n",
       "      <td>1,383.34</td>\n",
       "      <td>16,853.25</td>\n",
       "      <td>238.930000</td>\n",
       "      <td>19.138933</td>\n",
       "      <td>NaN</td>\n",
       "    </tr>\n",
       "    <tr>\n",
       "      <th>3</th>\n",
       "      <td>1</td>\n",
       "      <td>Au47</td>\n",
       "      <td>20802.809014</td>\n",
       "      <td>11967.706838</td>\n",
       "      <td>31895.044325</td>\n",
       "      <td>12630.322442</td>\n",
       "      <td>41029.996115</td>\n",
       "      <td>1439.81973474096</td>\n",
       "      <td>26337.7301089178</td>\n",
       "      <td>335.542442</td>\n",
       "      <td>28.949213</td>\n",
       "      <td>NaN</td>\n",
       "    </tr>\n",
       "    <tr>\n",
       "      <th>4</th>\n",
       "      <td>6</td>\n",
       "      <td>Au47</td>\n",
       "      <td>21772.696629</td>\n",
       "      <td>11997.356846</td>\n",
       "      <td>33770.053475</td>\n",
       "      <td>10672.216286</td>\n",
       "      <td>47175.575986</td>\n",
       "      <td>1467.01863862725</td>\n",
       "      <td>21585.5732755892</td>\n",
       "      <td>316.188490</td>\n",
       "      <td>29.377145</td>\n",
       "      <td>NaN</td>\n",
       "    </tr>\n",
       "    <tr>\n",
       "      <th>5</th>\n",
       "      <td>2</td>\n",
       "      <td>Au47</td>\n",
       "      <td>17620.295796</td>\n",
       "      <td>13936.716929</td>\n",
       "      <td>31557.012725</td>\n",
       "      <td>11265.672917</td>\n",
       "      <td>42896.950847</td>\n",
       "      <td>1502.48748702529</td>\n",
       "      <td>24398.428146034</td>\n",
       "      <td>257.110626</td>\n",
       "      <td>25.003664</td>\n",
       "      <td>NaN</td>\n",
       "    </tr>\n",
       "    <tr>\n",
       "      <th>6</th>\n",
       "      <td>7</td>\n",
       "      <td>Au53</td>\n",
       "      <td>20342.654221</td>\n",
       "      <td>13938.842429</td>\n",
       "      <td>34281.496650</td>\n",
       "      <td>9118.485757</td>\n",
       "      <td>47207.997883</td>\n",
       "      <td>1394.8993926275</td>\n",
       "      <td>19296.3288426945</td>\n",
       "      <td>285.840136</td>\n",
       "      <td>31.025050</td>\n",
       "      <td>NaN</td>\n",
       "    </tr>\n",
       "    <tr>\n",
       "      <th>7</th>\n",
       "      <td>5</td>\n",
       "      <td>Au53</td>\n",
       "      <td>21635.106571</td>\n",
       "      <td>15013.877702</td>\n",
       "      <td>36648.984274</td>\n",
       "      <td>6988.360757</td>\n",
       "      <td>46268.123502</td>\n",
       "      <td>1730.13032705656</td>\n",
       "      <td>15865.5454860459</td>\n",
       "      <td>265.159355</td>\n",
       "      <td>29.770982</td>\n",
       "      <td>NaN</td>\n",
       "    </tr>\n",
       "    <tr>\n",
       "      <th>8</th>\n",
       "      <td>9</td>\n",
       "      <td>Au53</td>\n",
       "      <td>22563.040451</td>\n",
       "      <td>12648.008949</td>\n",
       "      <td>35211.049400</td>\n",
       "      <td>10432.143429</td>\n",
       "      <td>40841.131830</td>\n",
       "      <td>1348.28810098257</td>\n",
       "      <td>22660.4840070055</td>\n",
       "      <td>301.044988</td>\n",
       "      <td>25.868277</td>\n",
       "      <td>NaN</td>\n",
       "    </tr>\n",
       "  </tbody>\n",
       "</table>\n",
       "</div>"
      ],
      "text/plain": [
       "   Tank Treatment      NitrateN     AmmoniumN        TotalN    Phosphorus  \\\n",
       "0     3   Control  18761.904841  10306.002208  29067.272500  12684.874373   \n",
       "1     4   Control  21645.354288  12437.070289  34081.642850  11491.501873   \n",
       "2     8   Control  16838.258788  10632.168232  27469.952475  10355.950873   \n",
       "3     1      Au47  20802.809014  11967.706838  31895.044325  12630.322442   \n",
       "4     6      Au47  21772.696629  11997.356846  33770.053475  10672.216286   \n",
       "5     2      Au47  17620.295796  13936.716929  31557.012725  11265.672917   \n",
       "6     7      Au53  20342.654221  13938.842429  34281.496650   9118.485757   \n",
       "7     5      Au53  21635.106571  15013.877702  36648.984274   6988.360757   \n",
       "8     9      Au53  22563.040451  12648.008949  35211.049400  10432.143429   \n",
       "\n",
       "      Potassium         Magnesium           Calcium        Iron      Boron  \\\n",
       "0  42136.987241         1504.5355         22010.605  222.039645  23.661833   \n",
       "1  44055.094673          1,635.42         18,548.59  278.240000  27.742095   \n",
       "2  43390.354388          1,383.34         16,853.25  238.930000  19.138933   \n",
       "3  41029.996115  1439.81973474096  26337.7301089178  335.542442  28.949213   \n",
       "4  47175.575986  1467.01863862725  21585.5732755892  316.188490  29.377145   \n",
       "5  42896.950847  1502.48748702529   24398.428146034  257.110626  25.003664   \n",
       "6  47207.997883   1394.8993926275  19296.3288426945  285.840136  31.025050   \n",
       "7  46268.123502  1730.13032705656  15865.5454860459  265.159355  29.770982   \n",
       "8  40841.131830  1348.28810098257  22660.4840070055  301.044988  25.868277   \n",
       "\n",
       "   New Column Name  \n",
       "0              NaN  \n",
       "1              NaN  \n",
       "2              NaN  \n",
       "3              NaN  \n",
       "4              NaN  \n",
       "5              NaN  \n",
       "6              NaN  \n",
       "7              NaN  \n",
       "8              NaN  "
      ]
     },
     "execution_count": 21,
     "metadata": {},
     "output_type": "execute_result"
    }
   ],
   "source": [
    "df_nutrients"
   ]
  },
  {
   "cell_type": "markdown",
   "metadata": {
    "slideshow": {
     "slide_type": "subslide"
    }
   },
   "source": [
    "We can select only the nitrates' column with:"
   ]
  },
  {
   "cell_type": "code",
   "execution_count": 22,
   "metadata": {
    "slideshow": {
     "slide_type": "fragment"
    }
   },
   "outputs": [
    {
     "data": {
      "text/html": [
       "<div>\n",
       "<style scoped>\n",
       "    .dataframe tbody tr th:only-of-type {\n",
       "        vertical-align: middle;\n",
       "    }\n",
       "\n",
       "    .dataframe tbody tr th {\n",
       "        vertical-align: top;\n",
       "    }\n",
       "\n",
       "    .dataframe thead th {\n",
       "        text-align: right;\n",
       "    }\n",
       "</style>\n",
       "<table border=\"1\" class=\"dataframe\">\n",
       "  <thead>\n",
       "    <tr style=\"text-align: right;\">\n",
       "      <th></th>\n",
       "      <th>NitrateN</th>\n",
       "    </tr>\n",
       "  </thead>\n",
       "  <tbody>\n",
       "    <tr>\n",
       "      <th>0</th>\n",
       "      <td>18761.904841</td>\n",
       "    </tr>\n",
       "    <tr>\n",
       "      <th>1</th>\n",
       "      <td>21645.354288</td>\n",
       "    </tr>\n",
       "    <tr>\n",
       "      <th>2</th>\n",
       "      <td>16838.258788</td>\n",
       "    </tr>\n",
       "    <tr>\n",
       "      <th>3</th>\n",
       "      <td>20802.809014</td>\n",
       "    </tr>\n",
       "    <tr>\n",
       "      <th>4</th>\n",
       "      <td>21772.696629</td>\n",
       "    </tr>\n",
       "    <tr>\n",
       "      <th>5</th>\n",
       "      <td>17620.295796</td>\n",
       "    </tr>\n",
       "    <tr>\n",
       "      <th>6</th>\n",
       "      <td>20342.654221</td>\n",
       "    </tr>\n",
       "    <tr>\n",
       "      <th>7</th>\n",
       "      <td>21635.106571</td>\n",
       "    </tr>\n",
       "    <tr>\n",
       "      <th>8</th>\n",
       "      <td>22563.040451</td>\n",
       "    </tr>\n",
       "  </tbody>\n",
       "</table>\n",
       "</div>"
      ],
      "text/plain": [
       "       NitrateN\n",
       "0  18761.904841\n",
       "1  21645.354288\n",
       "2  16838.258788\n",
       "3  20802.809014\n",
       "4  21772.696629\n",
       "5  17620.295796\n",
       "6  20342.654221\n",
       "7  21635.106571\n",
       "8  22563.040451"
      ]
     },
     "execution_count": 22,
     "metadata": {},
     "output_type": "execute_result"
    }
   ],
   "source": [
    "df_nutrients[ ['NitrateN'] ]"
   ]
  },
  {
   "cell_type": "markdown",
   "metadata": {
    "slideshow": {
     "slide_type": "subslide"
    }
   },
   "source": [
    "Or more than one column at a time..."
   ]
  },
  {
   "cell_type": "markdown",
   "metadata": {
    "slideshow": {
     "slide_type": "fragment"
    }
   },
   "source": [
    "To select nitrates and ammonium, we use a list of columns:"
   ]
  },
  {
   "cell_type": "code",
   "execution_count": 23,
   "metadata": {
    "slideshow": {
     "slide_type": "fragment"
    }
   },
   "outputs": [
    {
     "data": {
      "text/html": [
       "<div>\n",
       "<style scoped>\n",
       "    .dataframe tbody tr th:only-of-type {\n",
       "        vertical-align: middle;\n",
       "    }\n",
       "\n",
       "    .dataframe tbody tr th {\n",
       "        vertical-align: top;\n",
       "    }\n",
       "\n",
       "    .dataframe thead th {\n",
       "        text-align: right;\n",
       "    }\n",
       "</style>\n",
       "<table border=\"1\" class=\"dataframe\">\n",
       "  <thead>\n",
       "    <tr style=\"text-align: right;\">\n",
       "      <th></th>\n",
       "      <th>NitrateN</th>\n",
       "      <th>AmmoniumN</th>\n",
       "    </tr>\n",
       "  </thead>\n",
       "  <tbody>\n",
       "    <tr>\n",
       "      <th>0</th>\n",
       "      <td>18761.904841</td>\n",
       "      <td>10306.002208</td>\n",
       "    </tr>\n",
       "    <tr>\n",
       "      <th>1</th>\n",
       "      <td>21645.354288</td>\n",
       "      <td>12437.070289</td>\n",
       "    </tr>\n",
       "    <tr>\n",
       "      <th>2</th>\n",
       "      <td>16838.258788</td>\n",
       "      <td>10632.168232</td>\n",
       "    </tr>\n",
       "    <tr>\n",
       "      <th>3</th>\n",
       "      <td>20802.809014</td>\n",
       "      <td>11967.706838</td>\n",
       "    </tr>\n",
       "    <tr>\n",
       "      <th>4</th>\n",
       "      <td>21772.696629</td>\n",
       "      <td>11997.356846</td>\n",
       "    </tr>\n",
       "    <tr>\n",
       "      <th>5</th>\n",
       "      <td>17620.295796</td>\n",
       "      <td>13936.716929</td>\n",
       "    </tr>\n",
       "    <tr>\n",
       "      <th>6</th>\n",
       "      <td>20342.654221</td>\n",
       "      <td>13938.842429</td>\n",
       "    </tr>\n",
       "    <tr>\n",
       "      <th>7</th>\n",
       "      <td>21635.106571</td>\n",
       "      <td>15013.877702</td>\n",
       "    </tr>\n",
       "    <tr>\n",
       "      <th>8</th>\n",
       "      <td>22563.040451</td>\n",
       "      <td>12648.008949</td>\n",
       "    </tr>\n",
       "  </tbody>\n",
       "</table>\n",
       "</div>"
      ],
      "text/plain": [
       "       NitrateN     AmmoniumN\n",
       "0  18761.904841  10306.002208\n",
       "1  21645.354288  12437.070289\n",
       "2  16838.258788  10632.168232\n",
       "3  20802.809014  11967.706838\n",
       "4  21772.696629  11997.356846\n",
       "5  17620.295796  13936.716929\n",
       "6  20342.654221  13938.842429\n",
       "7  21635.106571  15013.877702\n",
       "8  22563.040451  12648.008949"
      ]
     },
     "execution_count": 23,
     "metadata": {},
     "output_type": "execute_result"
    }
   ],
   "source": [
    "df_nutrients[ [ 'NitrateN', 'AmmoniumN' ] ]"
   ]
  },
  {
   "cell_type": "markdown",
   "metadata": {
    "slideshow": {
     "slide_type": "subslide"
    }
   },
   "source": [
    "The syntax select columns uses a list of the columns to be selected:\n",
    "\n",
    "dataframe_name[ [ column_name_1, column_name_2, ... , column_name_n ] ]\n"
   ]
  },
  {
   "cell_type": "markdown",
   "metadata": {
    "slideshow": {
     "slide_type": "subslide"
    }
   },
   "source": [
    "Again, we can use the functions `head`, `tail`, `describe`, `mean`, etc in the selected columns, whether they are one or more:"
   ]
  },
  {
   "cell_type": "code",
   "execution_count": 24,
   "metadata": {
    "slideshow": {
     "slide_type": "fragment"
    }
   },
   "outputs": [
    {
     "data": {
      "text/html": [
       "<div>\n",
       "<style scoped>\n",
       "    .dataframe tbody tr th:only-of-type {\n",
       "        vertical-align: middle;\n",
       "    }\n",
       "\n",
       "    .dataframe tbody tr th {\n",
       "        vertical-align: top;\n",
       "    }\n",
       "\n",
       "    .dataframe thead th {\n",
       "        text-align: right;\n",
       "    }\n",
       "</style>\n",
       "<table border=\"1\" class=\"dataframe\">\n",
       "  <thead>\n",
       "    <tr style=\"text-align: right;\">\n",
       "      <th></th>\n",
       "      <th>NitrateN</th>\n",
       "      <th>AmmoniumN</th>\n",
       "    </tr>\n",
       "  </thead>\n",
       "  <tbody>\n",
       "    <tr>\n",
       "      <th>0</th>\n",
       "      <td>18761.904841</td>\n",
       "      <td>10306.002208</td>\n",
       "    </tr>\n",
       "    <tr>\n",
       "      <th>1</th>\n",
       "      <td>21645.354288</td>\n",
       "      <td>12437.070289</td>\n",
       "    </tr>\n",
       "    <tr>\n",
       "      <th>2</th>\n",
       "      <td>16838.258788</td>\n",
       "      <td>10632.168232</td>\n",
       "    </tr>\n",
       "    <tr>\n",
       "      <th>3</th>\n",
       "      <td>20802.809014</td>\n",
       "      <td>11967.706838</td>\n",
       "    </tr>\n",
       "    <tr>\n",
       "      <th>4</th>\n",
       "      <td>21772.696629</td>\n",
       "      <td>11997.356846</td>\n",
       "    </tr>\n",
       "  </tbody>\n",
       "</table>\n",
       "</div>"
      ],
      "text/plain": [
       "       NitrateN     AmmoniumN\n",
       "0  18761.904841  10306.002208\n",
       "1  21645.354288  12437.070289\n",
       "2  16838.258788  10632.168232\n",
       "3  20802.809014  11967.706838\n",
       "4  21772.696629  11997.356846"
      ]
     },
     "execution_count": 24,
     "metadata": {},
     "output_type": "execute_result"
    }
   ],
   "source": [
    "df_nutrients[ [ 'NitrateN', 'AmmoniumN' ] ].head()"
   ]
  },
  {
   "cell_type": "code",
   "execution_count": 25,
   "metadata": {
    "slideshow": {
     "slide_type": "subslide"
    }
   },
   "outputs": [
    {
     "data": {
      "text/html": [
       "<div>\n",
       "<style scoped>\n",
       "    .dataframe tbody tr th:only-of-type {\n",
       "        vertical-align: middle;\n",
       "    }\n",
       "\n",
       "    .dataframe tbody tr th {\n",
       "        vertical-align: top;\n",
       "    }\n",
       "\n",
       "    .dataframe thead th {\n",
       "        text-align: right;\n",
       "    }\n",
       "</style>\n",
       "<table border=\"1\" class=\"dataframe\">\n",
       "  <thead>\n",
       "    <tr style=\"text-align: right;\">\n",
       "      <th></th>\n",
       "      <th>NitrateN</th>\n",
       "      <th>AmmoniumN</th>\n",
       "    </tr>\n",
       "  </thead>\n",
       "  <tbody>\n",
       "    <tr>\n",
       "      <th>count</th>\n",
       "      <td>9.000000</td>\n",
       "      <td>9.000000</td>\n",
       "    </tr>\n",
       "    <tr>\n",
       "      <th>mean</th>\n",
       "      <td>20220.235622</td>\n",
       "      <td>12541.972269</td>\n",
       "    </tr>\n",
       "    <tr>\n",
       "      <th>std</th>\n",
       "      <td>2018.980368</td>\n",
       "      <td>1553.319989</td>\n",
       "    </tr>\n",
       "    <tr>\n",
       "      <th>min</th>\n",
       "      <td>16838.258788</td>\n",
       "      <td>10306.002208</td>\n",
       "    </tr>\n",
       "    <tr>\n",
       "      <th>25%</th>\n",
       "      <td>18761.904841</td>\n",
       "      <td>11967.706838</td>\n",
       "    </tr>\n",
       "    <tr>\n",
       "      <th>50%</th>\n",
       "      <td>20802.809014</td>\n",
       "      <td>12437.070289</td>\n",
       "    </tr>\n",
       "    <tr>\n",
       "      <th>75%</th>\n",
       "      <td>21645.354288</td>\n",
       "      <td>13936.716929</td>\n",
       "    </tr>\n",
       "    <tr>\n",
       "      <th>max</th>\n",
       "      <td>22563.040451</td>\n",
       "      <td>15013.877702</td>\n",
       "    </tr>\n",
       "  </tbody>\n",
       "</table>\n",
       "</div>"
      ],
      "text/plain": [
       "           NitrateN     AmmoniumN\n",
       "count      9.000000      9.000000\n",
       "mean   20220.235622  12541.972269\n",
       "std     2018.980368   1553.319989\n",
       "min    16838.258788  10306.002208\n",
       "25%    18761.904841  11967.706838\n",
       "50%    20802.809014  12437.070289\n",
       "75%    21645.354288  13936.716929\n",
       "max    22563.040451  15013.877702"
      ]
     },
     "execution_count": 25,
     "metadata": {},
     "output_type": "execute_result"
    }
   ],
   "source": [
    "df_nutrients[ [ 'NitrateN', 'AmmoniumN' ] ].describe()"
   ]
  },
  {
   "cell_type": "code",
   "execution_count": 26,
   "metadata": {
    "slideshow": {
     "slide_type": "subslide"
    }
   },
   "outputs": [
    {
     "data": {
      "text/plain": [
       "NitrateN     20220.235622\n",
       "AmmoniumN    12541.972269\n",
       "dtype: float64"
      ]
     },
     "execution_count": 26,
     "metadata": {},
     "output_type": "execute_result"
    }
   ],
   "source": [
    "df_nutrients[ [ 'NitrateN', 'AmmoniumN' ] ].mean()"
   ]
  },
  {
   "cell_type": "markdown",
   "metadata": {
    "slideshow": {
     "slide_type": "subslide"
    }
   },
   "source": [
    "### Selecting rows from a data frame in pandas"
   ]
  },
  {
   "cell_type": "markdown",
   "metadata": {
    "slideshow": {
     "slide_type": "fragment"
    }
   },
   "source": [
    "To select rows from a data frame, we need to know ___the exact index___ of that row. In most cases, the index is a list of numbers, so we need the row number."
   ]
  },
  {
   "cell_type": "markdown",
   "metadata": {
    "slideshow": {
     "slide_type": "fragment"
    }
   },
   "source": [
    "The index is that column without name, on the far left of the table:"
   ]
  },
  {
   "cell_type": "code",
   "execution_count": 27,
   "metadata": {
    "slideshow": {
     "slide_type": "fragment"
    }
   },
   "outputs": [
    {
     "data": {
      "text/html": [
       "<div>\n",
       "<style scoped>\n",
       "    .dataframe tbody tr th:only-of-type {\n",
       "        vertical-align: middle;\n",
       "    }\n",
       "\n",
       "    .dataframe tbody tr th {\n",
       "        vertical-align: top;\n",
       "    }\n",
       "\n",
       "    .dataframe thead th {\n",
       "        text-align: right;\n",
       "    }\n",
       "</style>\n",
       "<table border=\"1\" class=\"dataframe\">\n",
       "  <thead>\n",
       "    <tr style=\"text-align: right;\">\n",
       "      <th></th>\n",
       "      <th>Tank</th>\n",
       "      <th>Treatment</th>\n",
       "      <th>NitrateN</th>\n",
       "      <th>AmmoniumN</th>\n",
       "      <th>TotalN</th>\n",
       "      <th>Phosphorus</th>\n",
       "      <th>Potassium</th>\n",
       "      <th>Magnesium</th>\n",
       "      <th>Calcium</th>\n",
       "      <th>Iron</th>\n",
       "      <th>Boron</th>\n",
       "      <th>New Column Name</th>\n",
       "    </tr>\n",
       "  </thead>\n",
       "  <tbody>\n",
       "    <tr>\n",
       "      <th>0</th>\n",
       "      <td>3</td>\n",
       "      <td>Control</td>\n",
       "      <td>18761.904841</td>\n",
       "      <td>10306.002208</td>\n",
       "      <td>29067.272500</td>\n",
       "      <td>12684.874373</td>\n",
       "      <td>42136.987241</td>\n",
       "      <td>1504.5355</td>\n",
       "      <td>22010.605</td>\n",
       "      <td>222.039645</td>\n",
       "      <td>23.661833</td>\n",
       "      <td>NaN</td>\n",
       "    </tr>\n",
       "    <tr>\n",
       "      <th>1</th>\n",
       "      <td>4</td>\n",
       "      <td>Control</td>\n",
       "      <td>21645.354288</td>\n",
       "      <td>12437.070289</td>\n",
       "      <td>34081.642850</td>\n",
       "      <td>11491.501873</td>\n",
       "      <td>44055.094673</td>\n",
       "      <td>1,635.42</td>\n",
       "      <td>18,548.59</td>\n",
       "      <td>278.240000</td>\n",
       "      <td>27.742095</td>\n",
       "      <td>NaN</td>\n",
       "    </tr>\n",
       "    <tr>\n",
       "      <th>2</th>\n",
       "      <td>8</td>\n",
       "      <td>Control</td>\n",
       "      <td>16838.258788</td>\n",
       "      <td>10632.168232</td>\n",
       "      <td>27469.952475</td>\n",
       "      <td>10355.950873</td>\n",
       "      <td>43390.354388</td>\n",
       "      <td>1,383.34</td>\n",
       "      <td>16,853.25</td>\n",
       "      <td>238.930000</td>\n",
       "      <td>19.138933</td>\n",
       "      <td>NaN</td>\n",
       "    </tr>\n",
       "    <tr>\n",
       "      <th>3</th>\n",
       "      <td>1</td>\n",
       "      <td>Au47</td>\n",
       "      <td>20802.809014</td>\n",
       "      <td>11967.706838</td>\n",
       "      <td>31895.044325</td>\n",
       "      <td>12630.322442</td>\n",
       "      <td>41029.996115</td>\n",
       "      <td>1439.81973474096</td>\n",
       "      <td>26337.7301089178</td>\n",
       "      <td>335.542442</td>\n",
       "      <td>28.949213</td>\n",
       "      <td>NaN</td>\n",
       "    </tr>\n",
       "    <tr>\n",
       "      <th>4</th>\n",
       "      <td>6</td>\n",
       "      <td>Au47</td>\n",
       "      <td>21772.696629</td>\n",
       "      <td>11997.356846</td>\n",
       "      <td>33770.053475</td>\n",
       "      <td>10672.216286</td>\n",
       "      <td>47175.575986</td>\n",
       "      <td>1467.01863862725</td>\n",
       "      <td>21585.5732755892</td>\n",
       "      <td>316.188490</td>\n",
       "      <td>29.377145</td>\n",
       "      <td>NaN</td>\n",
       "    </tr>\n",
       "    <tr>\n",
       "      <th>5</th>\n",
       "      <td>2</td>\n",
       "      <td>Au47</td>\n",
       "      <td>17620.295796</td>\n",
       "      <td>13936.716929</td>\n",
       "      <td>31557.012725</td>\n",
       "      <td>11265.672917</td>\n",
       "      <td>42896.950847</td>\n",
       "      <td>1502.48748702529</td>\n",
       "      <td>24398.428146034</td>\n",
       "      <td>257.110626</td>\n",
       "      <td>25.003664</td>\n",
       "      <td>NaN</td>\n",
       "    </tr>\n",
       "    <tr>\n",
       "      <th>6</th>\n",
       "      <td>7</td>\n",
       "      <td>Au53</td>\n",
       "      <td>20342.654221</td>\n",
       "      <td>13938.842429</td>\n",
       "      <td>34281.496650</td>\n",
       "      <td>9118.485757</td>\n",
       "      <td>47207.997883</td>\n",
       "      <td>1394.8993926275</td>\n",
       "      <td>19296.3288426945</td>\n",
       "      <td>285.840136</td>\n",
       "      <td>31.025050</td>\n",
       "      <td>NaN</td>\n",
       "    </tr>\n",
       "    <tr>\n",
       "      <th>7</th>\n",
       "      <td>5</td>\n",
       "      <td>Au53</td>\n",
       "      <td>21635.106571</td>\n",
       "      <td>15013.877702</td>\n",
       "      <td>36648.984274</td>\n",
       "      <td>6988.360757</td>\n",
       "      <td>46268.123502</td>\n",
       "      <td>1730.13032705656</td>\n",
       "      <td>15865.5454860459</td>\n",
       "      <td>265.159355</td>\n",
       "      <td>29.770982</td>\n",
       "      <td>NaN</td>\n",
       "    </tr>\n",
       "    <tr>\n",
       "      <th>8</th>\n",
       "      <td>9</td>\n",
       "      <td>Au53</td>\n",
       "      <td>22563.040451</td>\n",
       "      <td>12648.008949</td>\n",
       "      <td>35211.049400</td>\n",
       "      <td>10432.143429</td>\n",
       "      <td>40841.131830</td>\n",
       "      <td>1348.28810098257</td>\n",
       "      <td>22660.4840070055</td>\n",
       "      <td>301.044988</td>\n",
       "      <td>25.868277</td>\n",
       "      <td>NaN</td>\n",
       "    </tr>\n",
       "  </tbody>\n",
       "</table>\n",
       "</div>"
      ],
      "text/plain": [
       "   Tank Treatment      NitrateN     AmmoniumN        TotalN    Phosphorus  \\\n",
       "0     3   Control  18761.904841  10306.002208  29067.272500  12684.874373   \n",
       "1     4   Control  21645.354288  12437.070289  34081.642850  11491.501873   \n",
       "2     8   Control  16838.258788  10632.168232  27469.952475  10355.950873   \n",
       "3     1      Au47  20802.809014  11967.706838  31895.044325  12630.322442   \n",
       "4     6      Au47  21772.696629  11997.356846  33770.053475  10672.216286   \n",
       "5     2      Au47  17620.295796  13936.716929  31557.012725  11265.672917   \n",
       "6     7      Au53  20342.654221  13938.842429  34281.496650   9118.485757   \n",
       "7     5      Au53  21635.106571  15013.877702  36648.984274   6988.360757   \n",
       "8     9      Au53  22563.040451  12648.008949  35211.049400  10432.143429   \n",
       "\n",
       "      Potassium         Magnesium           Calcium        Iron      Boron  \\\n",
       "0  42136.987241         1504.5355         22010.605  222.039645  23.661833   \n",
       "1  44055.094673          1,635.42         18,548.59  278.240000  27.742095   \n",
       "2  43390.354388          1,383.34         16,853.25  238.930000  19.138933   \n",
       "3  41029.996115  1439.81973474096  26337.7301089178  335.542442  28.949213   \n",
       "4  47175.575986  1467.01863862725  21585.5732755892  316.188490  29.377145   \n",
       "5  42896.950847  1502.48748702529   24398.428146034  257.110626  25.003664   \n",
       "6  47207.997883   1394.8993926275  19296.3288426945  285.840136  31.025050   \n",
       "7  46268.123502  1730.13032705656  15865.5454860459  265.159355  29.770982   \n",
       "8  40841.131830  1348.28810098257  22660.4840070055  301.044988  25.868277   \n",
       "\n",
       "   New Column Name  \n",
       "0              NaN  \n",
       "1              NaN  \n",
       "2              NaN  \n",
       "3              NaN  \n",
       "4              NaN  \n",
       "5              NaN  \n",
       "6              NaN  \n",
       "7              NaN  \n",
       "8              NaN  "
      ]
     },
     "execution_count": 27,
     "metadata": {},
     "output_type": "execute_result"
    }
   ],
   "source": [
    "df_nutrients"
   ]
  },
  {
   "cell_type": "markdown",
   "metadata": {
    "slideshow": {
     "slide_type": "subslide"
    }
   },
   "source": [
    "In this case, the index is made up from numbers from 0 to 9, as we can check here:"
   ]
  },
  {
   "cell_type": "code",
   "execution_count": 28,
   "metadata": {
    "slideshow": {
     "slide_type": "fragment"
    }
   },
   "outputs": [
    {
     "data": {
      "text/plain": [
       "RangeIndex(start=0, stop=9, step=1)"
      ]
     },
     "execution_count": 28,
     "metadata": {},
     "output_type": "execute_result"
    }
   ],
   "source": [
    "df_nutrients.index"
   ]
  },
  {
   "cell_type": "markdown",
   "metadata": {
    "slideshow": {
     "slide_type": "subslide"
    }
   },
   "source": [
    "To select a particular row using the index number, we need the ___index locator___ in the form:\n",
    "    \n",
    "    dataframe_name.iloc[ row_number ]"
   ]
  },
  {
   "cell_type": "code",
   "execution_count": 29,
   "metadata": {
    "slideshow": {
     "slide_type": "fragment"
    }
   },
   "outputs": [
    {
     "data": {
      "text/plain": [
       "Tank                       8\n",
       "Treatment            Control\n",
       "NitrateN             16838.3\n",
       "AmmoniumN            10632.2\n",
       "TotalN                 27470\n",
       "Phosphorus             10356\n",
       "Potassium            43390.4\n",
       "Magnesium           1,383.34\n",
       "Calcium            16,853.25\n",
       "Iron                  238.93\n",
       "Boron                19.1389\n",
       "New Column Name          NaN\n",
       "Name: 2, dtype: object"
      ]
     },
     "execution_count": 29,
     "metadata": {},
     "output_type": "execute_result"
    }
   ],
   "source": [
    "df_nutrients.iloc[ 2 ]"
   ]
  },
  {
   "cell_type": "markdown",
   "metadata": {
    "slideshow": {
     "slide_type": "subslide"
    }
   },
   "source": [
    "However, that is not commonly needed.\n",
    "\n",
    "More often, we select a group of rows according with a condition in a column. For example, we could select all rows from a certain treatment.\n",
    "\n",
    "We can select groups of rows using queries, as described below."
   ]
  },
  {
   "cell_type": "markdown",
   "metadata": {
    "slideshow": {
     "slide_type": "subslide"
    }
   },
   "source": [
    "### Queries"
   ]
  },
  {
   "cell_type": "markdown",
   "metadata": {
    "slideshow": {
     "slide_type": "fragment"
    }
   },
   "source": [
    "This section shows how to select the rows of a dataframe that fulfil a logical condition.\n",
    "\n",
    "The general syntax is:\n",
    "    \n",
    "    dataframe_name[ (condition) ]\n",
    "    \n",
    "And the form of the _condition_ that we will show here is written as:\n",
    "    \n",
    "    dataframe_name[ column ] == value\n",
    "    \n",
    "Of course, we can use other logical operators, not only _is equal to_: `==`, `<`, `>`, `<=`, `>=`."
   ]
  },
  {
   "cell_type": "markdown",
   "metadata": {
    "slideshow": {
     "slide_type": "subslide"
    }
   },
   "source": [
    "For example, we can select only the _control_ treatment from the nutrient dataframe as follows:"
   ]
  },
  {
   "cell_type": "code",
   "execution_count": 30,
   "metadata": {
    "slideshow": {
     "slide_type": "fragment"
    }
   },
   "outputs": [
    {
     "data": {
      "text/html": [
       "<div>\n",
       "<style scoped>\n",
       "    .dataframe tbody tr th:only-of-type {\n",
       "        vertical-align: middle;\n",
       "    }\n",
       "\n",
       "    .dataframe tbody tr th {\n",
       "        vertical-align: top;\n",
       "    }\n",
       "\n",
       "    .dataframe thead th {\n",
       "        text-align: right;\n",
       "    }\n",
       "</style>\n",
       "<table border=\"1\" class=\"dataframe\">\n",
       "  <thead>\n",
       "    <tr style=\"text-align: right;\">\n",
       "      <th></th>\n",
       "      <th>Tank</th>\n",
       "      <th>Treatment</th>\n",
       "      <th>NitrateN</th>\n",
       "      <th>AmmoniumN</th>\n",
       "      <th>TotalN</th>\n",
       "      <th>Phosphorus</th>\n",
       "      <th>Potassium</th>\n",
       "      <th>Magnesium</th>\n",
       "      <th>Calcium</th>\n",
       "      <th>Iron</th>\n",
       "      <th>Boron</th>\n",
       "      <th>New Column Name</th>\n",
       "    </tr>\n",
       "  </thead>\n",
       "  <tbody>\n",
       "    <tr>\n",
       "      <th>0</th>\n",
       "      <td>3</td>\n",
       "      <td>Control</td>\n",
       "      <td>18761.904841</td>\n",
       "      <td>10306.002208</td>\n",
       "      <td>29067.272500</td>\n",
       "      <td>12684.874373</td>\n",
       "      <td>42136.987241</td>\n",
       "      <td>1504.5355</td>\n",
       "      <td>22010.605</td>\n",
       "      <td>222.039645</td>\n",
       "      <td>23.661833</td>\n",
       "      <td>NaN</td>\n",
       "    </tr>\n",
       "    <tr>\n",
       "      <th>1</th>\n",
       "      <td>4</td>\n",
       "      <td>Control</td>\n",
       "      <td>21645.354288</td>\n",
       "      <td>12437.070289</td>\n",
       "      <td>34081.642850</td>\n",
       "      <td>11491.501873</td>\n",
       "      <td>44055.094673</td>\n",
       "      <td>1,635.42</td>\n",
       "      <td>18,548.59</td>\n",
       "      <td>278.240000</td>\n",
       "      <td>27.742095</td>\n",
       "      <td>NaN</td>\n",
       "    </tr>\n",
       "    <tr>\n",
       "      <th>2</th>\n",
       "      <td>8</td>\n",
       "      <td>Control</td>\n",
       "      <td>16838.258788</td>\n",
       "      <td>10632.168232</td>\n",
       "      <td>27469.952475</td>\n",
       "      <td>10355.950873</td>\n",
       "      <td>43390.354388</td>\n",
       "      <td>1,383.34</td>\n",
       "      <td>16,853.25</td>\n",
       "      <td>238.930000</td>\n",
       "      <td>19.138933</td>\n",
       "      <td>NaN</td>\n",
       "    </tr>\n",
       "  </tbody>\n",
       "</table>\n",
       "</div>"
      ],
      "text/plain": [
       "   Tank Treatment      NitrateN     AmmoniumN        TotalN    Phosphorus  \\\n",
       "0     3   Control  18761.904841  10306.002208  29067.272500  12684.874373   \n",
       "1     4   Control  21645.354288  12437.070289  34081.642850  11491.501873   \n",
       "2     8   Control  16838.258788  10632.168232  27469.952475  10355.950873   \n",
       "\n",
       "      Potassium  Magnesium    Calcium        Iron      Boron  New Column Name  \n",
       "0  42136.987241  1504.5355  22010.605  222.039645  23.661833              NaN  \n",
       "1  44055.094673   1,635.42  18,548.59  278.240000  27.742095              NaN  \n",
       "2  43390.354388   1,383.34  16,853.25  238.930000  19.138933              NaN  "
      ]
     },
     "execution_count": 30,
     "metadata": {},
     "output_type": "execute_result"
    }
   ],
   "source": [
    "df_nutrients[ df_nutrients['Treatment']=='Control' ] # Get part of a table with a selection rule"
   ]
  },
  {
   "cell_type": "markdown",
   "metadata": {
    "slideshow": {
     "slide_type": "subslide"
    }
   },
   "source": [
    "Some people like to separate it in two lines, to have a better view of what is happening:"
   ]
  },
  {
   "cell_type": "code",
   "execution_count": 31,
   "metadata": {
    "scrolled": true,
    "slideshow": {
     "slide_type": "fragment"
    }
   },
   "outputs": [
    {
     "data": {
      "text/html": [
       "<div>\n",
       "<style scoped>\n",
       "    .dataframe tbody tr th:only-of-type {\n",
       "        vertical-align: middle;\n",
       "    }\n",
       "\n",
       "    .dataframe tbody tr th {\n",
       "        vertical-align: top;\n",
       "    }\n",
       "\n",
       "    .dataframe thead th {\n",
       "        text-align: right;\n",
       "    }\n",
       "</style>\n",
       "<table border=\"1\" class=\"dataframe\">\n",
       "  <thead>\n",
       "    <tr style=\"text-align: right;\">\n",
       "      <th></th>\n",
       "      <th>Tank</th>\n",
       "      <th>Treatment</th>\n",
       "      <th>NitrateN</th>\n",
       "      <th>AmmoniumN</th>\n",
       "      <th>TotalN</th>\n",
       "      <th>Phosphorus</th>\n",
       "      <th>Potassium</th>\n",
       "      <th>Magnesium</th>\n",
       "      <th>Calcium</th>\n",
       "      <th>Iron</th>\n",
       "      <th>Boron</th>\n",
       "      <th>New Column Name</th>\n",
       "    </tr>\n",
       "  </thead>\n",
       "  <tbody>\n",
       "    <tr>\n",
       "      <th>0</th>\n",
       "      <td>3</td>\n",
       "      <td>Control</td>\n",
       "      <td>18761.904841</td>\n",
       "      <td>10306.002208</td>\n",
       "      <td>29067.272500</td>\n",
       "      <td>12684.874373</td>\n",
       "      <td>42136.987241</td>\n",
       "      <td>1504.5355</td>\n",
       "      <td>22010.605</td>\n",
       "      <td>222.039645</td>\n",
       "      <td>23.661833</td>\n",
       "      <td>NaN</td>\n",
       "    </tr>\n",
       "    <tr>\n",
       "      <th>1</th>\n",
       "      <td>4</td>\n",
       "      <td>Control</td>\n",
       "      <td>21645.354288</td>\n",
       "      <td>12437.070289</td>\n",
       "      <td>34081.642850</td>\n",
       "      <td>11491.501873</td>\n",
       "      <td>44055.094673</td>\n",
       "      <td>1,635.42</td>\n",
       "      <td>18,548.59</td>\n",
       "      <td>278.240000</td>\n",
       "      <td>27.742095</td>\n",
       "      <td>NaN</td>\n",
       "    </tr>\n",
       "    <tr>\n",
       "      <th>2</th>\n",
       "      <td>8</td>\n",
       "      <td>Control</td>\n",
       "      <td>16838.258788</td>\n",
       "      <td>10632.168232</td>\n",
       "      <td>27469.952475</td>\n",
       "      <td>10355.950873</td>\n",
       "      <td>43390.354388</td>\n",
       "      <td>1,383.34</td>\n",
       "      <td>16,853.25</td>\n",
       "      <td>238.930000</td>\n",
       "      <td>19.138933</td>\n",
       "      <td>NaN</td>\n",
       "    </tr>\n",
       "  </tbody>\n",
       "</table>\n",
       "</div>"
      ],
      "text/plain": [
       "   Tank Treatment      NitrateN     AmmoniumN        TotalN    Phosphorus  \\\n",
       "0     3   Control  18761.904841  10306.002208  29067.272500  12684.874373   \n",
       "1     4   Control  21645.354288  12437.070289  34081.642850  11491.501873   \n",
       "2     8   Control  16838.258788  10632.168232  27469.952475  10355.950873   \n",
       "\n",
       "      Potassium  Magnesium    Calcium        Iron      Boron  New Column Name  \n",
       "0  42136.987241  1504.5355  22010.605  222.039645  23.661833              NaN  \n",
       "1  44055.094673   1,635.42  18,548.59  278.240000  27.742095              NaN  \n",
       "2  43390.354388   1,383.34  16,853.25  238.930000  19.138933              NaN  "
      ]
     },
     "execution_count": 31,
     "metadata": {},
     "output_type": "execute_result"
    }
   ],
   "source": [
    "condition = df_nutrients['Treatment']=='Control' # First define the selection rule\n",
    "df_nutrients[ condition ] # Then get the part of the table"
   ]
  },
  {
   "cell_type": "markdown",
   "metadata": {
    "slideshow": {
     "slide_type": "fragment"
    }
   },
   "source": [
    "The result is exactly the same, feel free to use the form that best fit your needs!"
   ]
  },
  {
   "cell_type": "markdown",
   "metadata": {
    "slideshow": {
     "slide_type": "subslide"
    }
   },
   "source": [
    "#### More than one logical condition"
   ]
  },
  {
   "cell_type": "markdown",
   "metadata": {
    "slideshow": {
     "slide_type": "fragment"
    }
   },
   "source": [
    "Sometimes, we need to look for parts of a data frame that fulfil more than one logical condition.\n",
    "\n",
    "Following with out example, the nutrients in the lettuce experiment, we could look for:\n",
    "* cases where an element in a treatment falls above or under a certain treshold, for example, cases with low nitrogen in the control treatment\n",
    "* cases where two elements are above or under a treshold value, like very low values of iron and boron\n",
    "* cases where a value is outside a range, "
   ]
  },
  {
   "cell_type": "markdown",
   "metadata": {
    "slideshow": {
     "slide_type": "subslide"
    }
   },
   "source": [
    "Note: In these cases we must use ___bitwise logical operators___, which are & |:\n",
    "* & → ___and___ → condition 1 & condition2\n",
    "* | → ___or___ → condition 1 | condition2"
   ]
  },
  {
   "cell_type": "code",
   "execution_count": 32,
   "metadata": {
    "slideshow": {
     "slide_type": "fragment"
    }
   },
   "outputs": [
    {
     "data": {
      "text/html": [
       "<div>\n",
       "<style scoped>\n",
       "    .dataframe tbody tr th:only-of-type {\n",
       "        vertical-align: middle;\n",
       "    }\n",
       "\n",
       "    .dataframe tbody tr th {\n",
       "        vertical-align: top;\n",
       "    }\n",
       "\n",
       "    .dataframe thead th {\n",
       "        text-align: right;\n",
       "    }\n",
       "</style>\n",
       "<table border=\"1\" class=\"dataframe\">\n",
       "  <thead>\n",
       "    <tr style=\"text-align: right;\">\n",
       "      <th></th>\n",
       "      <th>Tank</th>\n",
       "      <th>Treatment</th>\n",
       "      <th>NitrateN</th>\n",
       "      <th>AmmoniumN</th>\n",
       "      <th>TotalN</th>\n",
       "      <th>Phosphorus</th>\n",
       "      <th>Potassium</th>\n",
       "      <th>Magnesium</th>\n",
       "      <th>Calcium</th>\n",
       "      <th>Iron</th>\n",
       "      <th>Boron</th>\n",
       "      <th>New Column Name</th>\n",
       "    </tr>\n",
       "  </thead>\n",
       "  <tbody>\n",
       "    <tr>\n",
       "      <th>0</th>\n",
       "      <td>3</td>\n",
       "      <td>Control</td>\n",
       "      <td>18761.904841</td>\n",
       "      <td>10306.002208</td>\n",
       "      <td>29067.272500</td>\n",
       "      <td>12684.874373</td>\n",
       "      <td>42136.987241</td>\n",
       "      <td>1504.5355</td>\n",
       "      <td>22010.605</td>\n",
       "      <td>222.039645</td>\n",
       "      <td>23.661833</td>\n",
       "      <td>NaN</td>\n",
       "    </tr>\n",
       "    <tr>\n",
       "      <th>2</th>\n",
       "      <td>8</td>\n",
       "      <td>Control</td>\n",
       "      <td>16838.258788</td>\n",
       "      <td>10632.168232</td>\n",
       "      <td>27469.952475</td>\n",
       "      <td>10355.950873</td>\n",
       "      <td>43390.354388</td>\n",
       "      <td>1,383.34</td>\n",
       "      <td>16,853.25</td>\n",
       "      <td>238.930000</td>\n",
       "      <td>19.138933</td>\n",
       "      <td>NaN</td>\n",
       "    </tr>\n",
       "  </tbody>\n",
       "</table>\n",
       "</div>"
      ],
      "text/plain": [
       "   Tank Treatment      NitrateN     AmmoniumN        TotalN    Phosphorus  \\\n",
       "0     3   Control  18761.904841  10306.002208  29067.272500  12684.874373   \n",
       "2     8   Control  16838.258788  10632.168232  27469.952475  10355.950873   \n",
       "\n",
       "      Potassium  Magnesium    Calcium        Iron      Boron  New Column Name  \n",
       "0  42136.987241  1504.5355  22010.605  222.039645  23.661833              NaN  \n",
       "2  43390.354388   1,383.34  16,853.25  238.930000  19.138933              NaN  "
      ]
     },
     "execution_count": 32,
     "metadata": {},
     "output_type": "execute_result"
    }
   ],
   "source": [
    "df_nutrients[ (df_nutrients['Treatment']=='Control') & (df_nutrients['NitrateN']<20000) ]"
   ]
  },
  {
   "cell_type": "markdown",
   "metadata": {
    "slideshow": {
     "slide_type": "subslide"
    }
   },
   "source": [
    "Again, we can write the code in one or more lines with the same result."
   ]
  },
  {
   "cell_type": "code",
   "execution_count": 33,
   "metadata": {
    "slideshow": {
     "slide_type": "fragment"
    }
   },
   "outputs": [
    {
     "data": {
      "text/html": [
       "<div>\n",
       "<style scoped>\n",
       "    .dataframe tbody tr th:only-of-type {\n",
       "        vertical-align: middle;\n",
       "    }\n",
       "\n",
       "    .dataframe tbody tr th {\n",
       "        vertical-align: top;\n",
       "    }\n",
       "\n",
       "    .dataframe thead th {\n",
       "        text-align: right;\n",
       "    }\n",
       "</style>\n",
       "<table border=\"1\" class=\"dataframe\">\n",
       "  <thead>\n",
       "    <tr style=\"text-align: right;\">\n",
       "      <th></th>\n",
       "      <th>Tank</th>\n",
       "      <th>Treatment</th>\n",
       "      <th>NitrateN</th>\n",
       "      <th>AmmoniumN</th>\n",
       "      <th>TotalN</th>\n",
       "      <th>Phosphorus</th>\n",
       "      <th>Potassium</th>\n",
       "      <th>Magnesium</th>\n",
       "      <th>Calcium</th>\n",
       "      <th>Iron</th>\n",
       "      <th>Boron</th>\n",
       "      <th>New Column Name</th>\n",
       "    </tr>\n",
       "  </thead>\n",
       "  <tbody>\n",
       "    <tr>\n",
       "      <th>0</th>\n",
       "      <td>3</td>\n",
       "      <td>Control</td>\n",
       "      <td>18761.904841</td>\n",
       "      <td>10306.002208</td>\n",
       "      <td>29067.272500</td>\n",
       "      <td>12684.874373</td>\n",
       "      <td>42136.987241</td>\n",
       "      <td>1504.5355</td>\n",
       "      <td>22010.605</td>\n",
       "      <td>222.039645</td>\n",
       "      <td>23.661833</td>\n",
       "      <td>NaN</td>\n",
       "    </tr>\n",
       "    <tr>\n",
       "      <th>2</th>\n",
       "      <td>8</td>\n",
       "      <td>Control</td>\n",
       "      <td>16838.258788</td>\n",
       "      <td>10632.168232</td>\n",
       "      <td>27469.952475</td>\n",
       "      <td>10355.950873</td>\n",
       "      <td>43390.354388</td>\n",
       "      <td>1,383.34</td>\n",
       "      <td>16,853.25</td>\n",
       "      <td>238.930000</td>\n",
       "      <td>19.138933</td>\n",
       "      <td>NaN</td>\n",
       "    </tr>\n",
       "  </tbody>\n",
       "</table>\n",
       "</div>"
      ],
      "text/plain": [
       "   Tank Treatment      NitrateN     AmmoniumN        TotalN    Phosphorus  \\\n",
       "0     3   Control  18761.904841  10306.002208  29067.272500  12684.874373   \n",
       "2     8   Control  16838.258788  10632.168232  27469.952475  10355.950873   \n",
       "\n",
       "      Potassium  Magnesium    Calcium        Iron      Boron  New Column Name  \n",
       "0  42136.987241  1504.5355  22010.605  222.039645  23.661833              NaN  \n",
       "2  43390.354388   1,383.34  16,853.25  238.930000  19.138933              NaN  "
      ]
     },
     "execution_count": 33,
     "metadata": {},
     "output_type": "execute_result"
    }
   ],
   "source": [
    "control_treatment = df_nutrients['Treatment']=='Control' # First condition\n",
    "\n",
    "low_nitrate = df_nutrients['NitrateN']<20000 # Second condition\n",
    "\n",
    "df_nutrients[ control_treatment & low_nitrate ]"
   ]
  },
  {
   "cell_type": "markdown",
   "metadata": {
    "slideshow": {
     "slide_type": "subslide"
    }
   },
   "source": [
    "Another example: Select the rows with low Iron or low Boron"
   ]
  },
  {
   "cell_type": "code",
   "execution_count": 34,
   "metadata": {
    "slideshow": {
     "slide_type": "fragment"
    }
   },
   "outputs": [
    {
     "data": {
      "text/html": [
       "<div>\n",
       "<style scoped>\n",
       "    .dataframe tbody tr th:only-of-type {\n",
       "        vertical-align: middle;\n",
       "    }\n",
       "\n",
       "    .dataframe tbody tr th {\n",
       "        vertical-align: top;\n",
       "    }\n",
       "\n",
       "    .dataframe thead th {\n",
       "        text-align: right;\n",
       "    }\n",
       "</style>\n",
       "<table border=\"1\" class=\"dataframe\">\n",
       "  <thead>\n",
       "    <tr style=\"text-align: right;\">\n",
       "      <th></th>\n",
       "      <th>Tank</th>\n",
       "      <th>Treatment</th>\n",
       "      <th>NitrateN</th>\n",
       "      <th>AmmoniumN</th>\n",
       "      <th>TotalN</th>\n",
       "      <th>Phosphorus</th>\n",
       "      <th>Potassium</th>\n",
       "      <th>Magnesium</th>\n",
       "      <th>Calcium</th>\n",
       "      <th>Iron</th>\n",
       "      <th>Boron</th>\n",
       "      <th>New Column Name</th>\n",
       "    </tr>\n",
       "  </thead>\n",
       "  <tbody>\n",
       "    <tr>\n",
       "      <th>0</th>\n",
       "      <td>3</td>\n",
       "      <td>Control</td>\n",
       "      <td>18761.904841</td>\n",
       "      <td>10306.002208</td>\n",
       "      <td>29067.272500</td>\n",
       "      <td>12684.874373</td>\n",
       "      <td>42136.987241</td>\n",
       "      <td>1504.5355</td>\n",
       "      <td>22010.605</td>\n",
       "      <td>222.039645</td>\n",
       "      <td>23.661833</td>\n",
       "      <td>NaN</td>\n",
       "    </tr>\n",
       "    <tr>\n",
       "      <th>2</th>\n",
       "      <td>8</td>\n",
       "      <td>Control</td>\n",
       "      <td>16838.258788</td>\n",
       "      <td>10632.168232</td>\n",
       "      <td>27469.952475</td>\n",
       "      <td>10355.950873</td>\n",
       "      <td>43390.354388</td>\n",
       "      <td>1,383.34</td>\n",
       "      <td>16,853.25</td>\n",
       "      <td>238.930000</td>\n",
       "      <td>19.138933</td>\n",
       "      <td>NaN</td>\n",
       "    </tr>\n",
       "  </tbody>\n",
       "</table>\n",
       "</div>"
      ],
      "text/plain": [
       "   Tank Treatment      NitrateN     AmmoniumN        TotalN    Phosphorus  \\\n",
       "0     3   Control  18761.904841  10306.002208  29067.272500  12684.874373   \n",
       "2     8   Control  16838.258788  10632.168232  27469.952475  10355.950873   \n",
       "\n",
       "      Potassium  Magnesium    Calcium        Iron      Boron  New Column Name  \n",
       "0  42136.987241  1504.5355  22010.605  222.039645  23.661833              NaN  \n",
       "2  43390.354388   1,383.34  16,853.25  238.930000  19.138933              NaN  "
      ]
     },
     "execution_count": 34,
     "metadata": {},
     "output_type": "execute_result"
    }
   ],
   "source": [
    "low_iron = df_nutrients['Iron']<250 # First condition\n",
    "\n",
    "low_boron = df_nutrients['Boron']<20 # Second condition\n",
    "\n",
    "df_nutrients[ low_iron | low_boron ]"
   ]
  },
  {
   "cell_type": "markdown",
   "metadata": {
    "slideshow": {
     "slide_type": "subslide"
    }
   },
   "source": [
    "#### Calculate on part of a data frame"
   ]
  },
  {
   "cell_type": "markdown",
   "metadata": {
    "slideshow": {
     "slide_type": "fragment"
    }
   },
   "source": [
    "After selecting part of a data frame we can make calculations, like the average of a treatment."
   ]
  },
  {
   "cell_type": "code",
   "execution_count": 35,
   "metadata": {
    "slideshow": {
     "slide_type": "fragment"
    }
   },
   "outputs": [],
   "source": [
    "control_selection = df_nutrients[ 'Treatment' ] == 'Control' # Selection condition\n",
    "# print( control_selection ) # You can activate this line if you feel curious about what is inside that list"
   ]
  },
  {
   "cell_type": "code",
   "execution_count": 36,
   "metadata": {
    "slideshow": {
     "slide_type": "subslide"
    }
   },
   "outputs": [
    {
     "data": {
      "text/html": [
       "<div>\n",
       "<style scoped>\n",
       "    .dataframe tbody tr th:only-of-type {\n",
       "        vertical-align: middle;\n",
       "    }\n",
       "\n",
       "    .dataframe tbody tr th {\n",
       "        vertical-align: top;\n",
       "    }\n",
       "\n",
       "    .dataframe thead th {\n",
       "        text-align: right;\n",
       "    }\n",
       "</style>\n",
       "<table border=\"1\" class=\"dataframe\">\n",
       "  <thead>\n",
       "    <tr style=\"text-align: right;\">\n",
       "      <th></th>\n",
       "      <th>Tank</th>\n",
       "      <th>NitrateN</th>\n",
       "      <th>AmmoniumN</th>\n",
       "      <th>TotalN</th>\n",
       "      <th>Phosphorus</th>\n",
       "      <th>Potassium</th>\n",
       "      <th>Iron</th>\n",
       "      <th>Boron</th>\n",
       "      <th>New Column Name</th>\n",
       "    </tr>\n",
       "  </thead>\n",
       "  <tbody>\n",
       "    <tr>\n",
       "      <th>count</th>\n",
       "      <td>3.000000</td>\n",
       "      <td>3.000000</td>\n",
       "      <td>3.000000</td>\n",
       "      <td>3.000000</td>\n",
       "      <td>3.000000</td>\n",
       "      <td>3.000000</td>\n",
       "      <td>3.000000</td>\n",
       "      <td>3.000000</td>\n",
       "      <td>0.0</td>\n",
       "    </tr>\n",
       "    <tr>\n",
       "      <th>mean</th>\n",
       "      <td>5.000000</td>\n",
       "      <td>19081.839305</td>\n",
       "      <td>11125.080243</td>\n",
       "      <td>30206.289275</td>\n",
       "      <td>11510.775707</td>\n",
       "      <td>43194.145434</td>\n",
       "      <td>246.403215</td>\n",
       "      <td>23.514287</td>\n",
       "      <td>NaN</td>\n",
       "    </tr>\n",
       "    <tr>\n",
       "      <th>std</th>\n",
       "      <td>2.645751</td>\n",
       "      <td>2419.464886</td>\n",
       "      <td>1147.860827</td>\n",
       "      <td>3449.874174</td>\n",
       "      <td>1164.581374</td>\n",
       "      <td>973.990501</td>\n",
       "      <td>28.835858</td>\n",
       "      <td>4.303478</td>\n",
       "      <td>NaN</td>\n",
       "    </tr>\n",
       "    <tr>\n",
       "      <th>min</th>\n",
       "      <td>3.000000</td>\n",
       "      <td>16838.258788</td>\n",
       "      <td>10306.002208</td>\n",
       "      <td>27469.952475</td>\n",
       "      <td>10355.950873</td>\n",
       "      <td>42136.987241</td>\n",
       "      <td>222.039645</td>\n",
       "      <td>19.138933</td>\n",
       "      <td>NaN</td>\n",
       "    </tr>\n",
       "    <tr>\n",
       "      <th>25%</th>\n",
       "      <td>3.500000</td>\n",
       "      <td>17800.081814</td>\n",
       "      <td>10469.085220</td>\n",
       "      <td>28268.612487</td>\n",
       "      <td>10923.726373</td>\n",
       "      <td>42763.670815</td>\n",
       "      <td>230.484823</td>\n",
       "      <td>21.400383</td>\n",
       "      <td>NaN</td>\n",
       "    </tr>\n",
       "    <tr>\n",
       "      <th>50%</th>\n",
       "      <td>4.000000</td>\n",
       "      <td>18761.904841</td>\n",
       "      <td>10632.168232</td>\n",
       "      <td>29067.272500</td>\n",
       "      <td>11491.501873</td>\n",
       "      <td>43390.354388</td>\n",
       "      <td>238.930000</td>\n",
       "      <td>23.661833</td>\n",
       "      <td>NaN</td>\n",
       "    </tr>\n",
       "    <tr>\n",
       "      <th>75%</th>\n",
       "      <td>6.000000</td>\n",
       "      <td>20203.629564</td>\n",
       "      <td>11534.619261</td>\n",
       "      <td>31574.457675</td>\n",
       "      <td>12088.188123</td>\n",
       "      <td>43722.724531</td>\n",
       "      <td>258.585000</td>\n",
       "      <td>25.701964</td>\n",
       "      <td>NaN</td>\n",
       "    </tr>\n",
       "    <tr>\n",
       "      <th>max</th>\n",
       "      <td>8.000000</td>\n",
       "      <td>21645.354288</td>\n",
       "      <td>12437.070289</td>\n",
       "      <td>34081.642850</td>\n",
       "      <td>12684.874373</td>\n",
       "      <td>44055.094673</td>\n",
       "      <td>278.240000</td>\n",
       "      <td>27.742095</td>\n",
       "      <td>NaN</td>\n",
       "    </tr>\n",
       "  </tbody>\n",
       "</table>\n",
       "</div>"
      ],
      "text/plain": [
       "           Tank      NitrateN     AmmoniumN        TotalN    Phosphorus  \\\n",
       "count  3.000000      3.000000      3.000000      3.000000      3.000000   \n",
       "mean   5.000000  19081.839305  11125.080243  30206.289275  11510.775707   \n",
       "std    2.645751   2419.464886   1147.860827   3449.874174   1164.581374   \n",
       "min    3.000000  16838.258788  10306.002208  27469.952475  10355.950873   \n",
       "25%    3.500000  17800.081814  10469.085220  28268.612487  10923.726373   \n",
       "50%    4.000000  18761.904841  10632.168232  29067.272500  11491.501873   \n",
       "75%    6.000000  20203.629564  11534.619261  31574.457675  12088.188123   \n",
       "max    8.000000  21645.354288  12437.070289  34081.642850  12684.874373   \n",
       "\n",
       "          Potassium        Iron      Boron  New Column Name  \n",
       "count      3.000000    3.000000   3.000000              0.0  \n",
       "mean   43194.145434  246.403215  23.514287              NaN  \n",
       "std      973.990501   28.835858   4.303478              NaN  \n",
       "min    42136.987241  222.039645  19.138933              NaN  \n",
       "25%    42763.670815  230.484823  21.400383              NaN  \n",
       "50%    43390.354388  238.930000  23.661833              NaN  \n",
       "75%    43722.724531  258.585000  25.701964              NaN  \n",
       "max    44055.094673  278.240000  27.742095              NaN  "
      ]
     },
     "execution_count": 36,
     "metadata": {},
     "output_type": "execute_result"
    }
   ],
   "source": [
    "df_nutrients[ control_selection ].describe()"
   ]
  },
  {
   "cell_type": "markdown",
   "metadata": {
    "slideshow": {
     "slide_type": "subslide"
    }
   },
   "source": [
    "And we can also select several columns, either in a single line:"
   ]
  },
  {
   "cell_type": "code",
   "execution_count": 37,
   "metadata": {
    "scrolled": true,
    "slideshow": {
     "slide_type": "fragment"
    }
   },
   "outputs": [
    {
     "data": {
      "text/plain": [
       "NitrateN    19081.839305\n",
       "Iron          246.403215\n",
       "dtype: float64"
      ]
     },
     "execution_count": 37,
     "metadata": {},
     "output_type": "execute_result"
    }
   ],
   "source": [
    "df_nutrients[ control_selection ][ [ 'NitrateN', 'Iron' ] ].mean()"
   ]
  },
  {
   "cell_type": "markdown",
   "metadata": {
    "slideshow": {
     "slide_type": "fragment"
    }
   },
   "source": [
    "or splitting in two lines of code:"
   ]
  },
  {
   "cell_type": "code",
   "execution_count": 38,
   "metadata": {
    "slideshow": {
     "slide_type": "fragment"
    }
   },
   "outputs": [
    {
     "data": {
      "text/plain": [
       "NitrateN    19081.839305\n",
       "Iron          246.403215\n",
       "dtype: float64"
      ]
     },
     "execution_count": 38,
     "metadata": {},
     "output_type": "execute_result"
    }
   ],
   "source": [
    "interesting_elements = [ 'NitrateN', 'Iron' ]\n",
    "df_nutrients[ control_selection ][ interesting_elements ].mean()"
   ]
  },
  {
   "cell_type": "markdown",
   "metadata": {
    "slideshow": {
     "slide_type": "subslide"
    }
   },
   "source": [
    "Lastly, you can use the function `.groupby()` to get the descriptive statistics of the whole table, but by groups. For example, for each tratment:"
   ]
  },
  {
   "cell_type": "code",
   "execution_count": 39,
   "metadata": {
    "slideshow": {
     "slide_type": "fragment"
    }
   },
   "outputs": [
    {
     "data": {
      "text/html": [
       "<div>\n",
       "<style scoped>\n",
       "    .dataframe tbody tr th:only-of-type {\n",
       "        vertical-align: middle;\n",
       "    }\n",
       "\n",
       "    .dataframe tbody tr th {\n",
       "        vertical-align: top;\n",
       "    }\n",
       "\n",
       "    .dataframe thead th {\n",
       "        text-align: right;\n",
       "    }\n",
       "</style>\n",
       "<table border=\"1\" class=\"dataframe\">\n",
       "  <thead>\n",
       "    <tr style=\"text-align: right;\">\n",
       "      <th></th>\n",
       "      <th>Tank</th>\n",
       "      <th>NitrateN</th>\n",
       "      <th>AmmoniumN</th>\n",
       "      <th>TotalN</th>\n",
       "      <th>Phosphorus</th>\n",
       "      <th>Potassium</th>\n",
       "      <th>Iron</th>\n",
       "      <th>Boron</th>\n",
       "      <th>New Column Name</th>\n",
       "    </tr>\n",
       "    <tr>\n",
       "      <th>Treatment</th>\n",
       "      <th></th>\n",
       "      <th></th>\n",
       "      <th></th>\n",
       "      <th></th>\n",
       "      <th></th>\n",
       "      <th></th>\n",
       "      <th></th>\n",
       "      <th></th>\n",
       "      <th></th>\n",
       "    </tr>\n",
       "  </thead>\n",
       "  <tbody>\n",
       "    <tr>\n",
       "      <th>Au47</th>\n",
       "      <td>3</td>\n",
       "      <td>20065.267146</td>\n",
       "      <td>12633.926871</td>\n",
       "      <td>32407.370175</td>\n",
       "      <td>11522.737215</td>\n",
       "      <td>43700.840983</td>\n",
       "      <td>302.947186</td>\n",
       "      <td>27.776674</td>\n",
       "      <td>NaN</td>\n",
       "    </tr>\n",
       "    <tr>\n",
       "      <th>Au53</th>\n",
       "      <td>7</td>\n",
       "      <td>21513.600415</td>\n",
       "      <td>13866.909693</td>\n",
       "      <td>35380.510108</td>\n",
       "      <td>8846.329981</td>\n",
       "      <td>44772.417738</td>\n",
       "      <td>284.014827</td>\n",
       "      <td>28.888103</td>\n",
       "      <td>NaN</td>\n",
       "    </tr>\n",
       "    <tr>\n",
       "      <th>Control</th>\n",
       "      <td>5</td>\n",
       "      <td>19081.839305</td>\n",
       "      <td>11125.080243</td>\n",
       "      <td>30206.289275</td>\n",
       "      <td>11510.775707</td>\n",
       "      <td>43194.145434</td>\n",
       "      <td>246.403215</td>\n",
       "      <td>23.514287</td>\n",
       "      <td>NaN</td>\n",
       "    </tr>\n",
       "  </tbody>\n",
       "</table>\n",
       "</div>"
      ],
      "text/plain": [
       "           Tank      NitrateN     AmmoniumN        TotalN    Phosphorus  \\\n",
       "Treatment                                                                 \n",
       "Au47          3  20065.267146  12633.926871  32407.370175  11522.737215   \n",
       "Au53          7  21513.600415  13866.909693  35380.510108   8846.329981   \n",
       "Control       5  19081.839305  11125.080243  30206.289275  11510.775707   \n",
       "\n",
       "              Potassium        Iron      Boron  New Column Name  \n",
       "Treatment                                                        \n",
       "Au47       43700.840983  302.947186  27.776674              NaN  \n",
       "Au53       44772.417738  284.014827  28.888103              NaN  \n",
       "Control    43194.145434  246.403215  23.514287              NaN  "
      ]
     },
     "execution_count": 39,
     "metadata": {},
     "output_type": "execute_result"
    }
   ],
   "source": [
    "df_nutrients.groupby( 'Treatment' ).mean()"
   ]
  },
  {
   "cell_type": "code",
   "execution_count": 40,
   "metadata": {
    "slideshow": {
     "slide_type": "subslide"
    }
   },
   "outputs": [
    {
     "data": {
      "text/html": [
       "<div>\n",
       "<style scoped>\n",
       "    .dataframe tbody tr th:only-of-type {\n",
       "        vertical-align: middle;\n",
       "    }\n",
       "\n",
       "    .dataframe tbody tr th {\n",
       "        vertical-align: top;\n",
       "    }\n",
       "\n",
       "    .dataframe thead th {\n",
       "        text-align: right;\n",
       "    }\n",
       "</style>\n",
       "<table border=\"1\" class=\"dataframe\">\n",
       "  <thead>\n",
       "    <tr style=\"text-align: right;\">\n",
       "      <th></th>\n",
       "      <th>Tank</th>\n",
       "      <th>NitrateN</th>\n",
       "      <th>AmmoniumN</th>\n",
       "      <th>TotalN</th>\n",
       "      <th>Phosphorus</th>\n",
       "      <th>Potassium</th>\n",
       "      <th>Magnesium</th>\n",
       "      <th>Calcium</th>\n",
       "      <th>Iron</th>\n",
       "      <th>Boron</th>\n",
       "      <th>New Column Name</th>\n",
       "    </tr>\n",
       "    <tr>\n",
       "      <th>Treatment</th>\n",
       "      <th></th>\n",
       "      <th></th>\n",
       "      <th></th>\n",
       "      <th></th>\n",
       "      <th></th>\n",
       "      <th></th>\n",
       "      <th></th>\n",
       "      <th></th>\n",
       "      <th></th>\n",
       "      <th></th>\n",
       "      <th></th>\n",
       "    </tr>\n",
       "  </thead>\n",
       "  <tbody>\n",
       "    <tr>\n",
       "      <th>Au47</th>\n",
       "      <td>1</td>\n",
       "      <td>17620.295796</td>\n",
       "      <td>11967.706838</td>\n",
       "      <td>31557.012725</td>\n",
       "      <td>10672.216286</td>\n",
       "      <td>41029.996115</td>\n",
       "      <td>1439.81973474096</td>\n",
       "      <td>21585.5732755892</td>\n",
       "      <td>257.110626</td>\n",
       "      <td>25.003664</td>\n",
       "      <td>NaN</td>\n",
       "    </tr>\n",
       "    <tr>\n",
       "      <th>Au53</th>\n",
       "      <td>5</td>\n",
       "      <td>20342.654221</td>\n",
       "      <td>12648.008949</td>\n",
       "      <td>34281.496650</td>\n",
       "      <td>6988.360757</td>\n",
       "      <td>40841.131830</td>\n",
       "      <td>1348.28810098257</td>\n",
       "      <td>15865.5454860459</td>\n",
       "      <td>265.159355</td>\n",
       "      <td>25.868277</td>\n",
       "      <td>NaN</td>\n",
       "    </tr>\n",
       "    <tr>\n",
       "      <th>Control</th>\n",
       "      <td>3</td>\n",
       "      <td>16838.258788</td>\n",
       "      <td>10306.002208</td>\n",
       "      <td>27469.952475</td>\n",
       "      <td>10355.950873</td>\n",
       "      <td>42136.987241</td>\n",
       "      <td>1,383.34</td>\n",
       "      <td>16,853.25</td>\n",
       "      <td>222.039645</td>\n",
       "      <td>19.138933</td>\n",
       "      <td>NaN</td>\n",
       "    </tr>\n",
       "  </tbody>\n",
       "</table>\n",
       "</div>"
      ],
      "text/plain": [
       "           Tank      NitrateN     AmmoniumN        TotalN    Phosphorus  \\\n",
       "Treatment                                                                 \n",
       "Au47          1  17620.295796  11967.706838  31557.012725  10672.216286   \n",
       "Au53          5  20342.654221  12648.008949  34281.496650   6988.360757   \n",
       "Control       3  16838.258788  10306.002208  27469.952475  10355.950873   \n",
       "\n",
       "              Potassium         Magnesium           Calcium        Iron  \\\n",
       "Treatment                                                                 \n",
       "Au47       41029.996115  1439.81973474096  21585.5732755892  257.110626   \n",
       "Au53       40841.131830  1348.28810098257  15865.5454860459  265.159355   \n",
       "Control    42136.987241          1,383.34         16,853.25  222.039645   \n",
       "\n",
       "               Boron  New Column Name  \n",
       "Treatment                              \n",
       "Au47       25.003664              NaN  \n",
       "Au53       25.868277              NaN  \n",
       "Control    19.138933              NaN  "
      ]
     },
     "execution_count": 40,
     "metadata": {},
     "output_type": "execute_result"
    }
   ],
   "source": [
    "df_nutrients.groupby( 'Treatment' ).min()"
   ]
  },
  {
   "cell_type": "markdown",
   "metadata": {
    "slideshow": {
     "slide_type": "subslide"
    }
   },
   "source": [
    "There are much more applications and uses of these (and other) pandas functions, but they may be stuff for a more advanced course. This introduction aims at giving you only an idea of what can be done and the first steps to get you started!"
   ]
  },
  {
   "cell_type": "markdown",
   "metadata": {
    "slideshow": {
     "slide_type": "slide"
    }
   },
   "source": [
    "## 3. Time Series. Resample."
   ]
  },
  {
   "cell_type": "markdown",
   "metadata": {
    "slideshow": {
     "slide_type": "subslide"
    }
   },
   "source": [
    "`pandas` has a very useful set of functions to deal with time series data, that is, data that are ordered in time."
   ]
  },
  {
   "cell_type": "markdown",
   "metadata": {
    "slideshow": {
     "slide_type": "fragment"
    }
   },
   "source": [
    "For this introductory tutorial, we will limit ourselves to the following:\n",
    "* making a time index for a data frame\n",
    "* selecting rows between times, using `pd.Timestamp`\n",
    "* using `pd.resample` to calculate averages"
   ]
  },
  {
   "cell_type": "markdown",
   "metadata": {
    "slideshow": {
     "slide_type": "subslide"
    }
   },
   "source": [
    "We will use data from climate sensors that were measuring automatically inside the lettuce greenhouse.\n",
    "\n",
    "The data is in another excel file, which we import as follows:"
   ]
  },
  {
   "cell_type": "code",
   "execution_count": 41,
   "metadata": {
    "slideshow": {
     "slide_type": "fragment"
    }
   },
   "outputs": [],
   "source": [
    "df_climate = pd.read_excel( 'data/climate.xlsx', sheet_name='greenhouse' )"
   ]
  },
  {
   "cell_type": "code",
   "execution_count": 42,
   "metadata": {
    "slideshow": {
     "slide_type": "subslide"
    }
   },
   "outputs": [
    {
     "data": {
      "text/html": [
       "<div>\n",
       "<style scoped>\n",
       "    .dataframe tbody tr th:only-of-type {\n",
       "        vertical-align: middle;\n",
       "    }\n",
       "\n",
       "    .dataframe tbody tr th {\n",
       "        vertical-align: top;\n",
       "    }\n",
       "\n",
       "    .dataframe thead th {\n",
       "        text-align: right;\n",
       "    }\n",
       "</style>\n",
       "<table border=\"1\" class=\"dataframe\">\n",
       "  <thead>\n",
       "    <tr style=\"text-align: right;\">\n",
       "      <th></th>\n",
       "      <th>Num.</th>\n",
       "      <th>Date and Time</th>\n",
       "      <th>Temp. (°C)</th>\n",
       "      <th>Rel. Humidity (%)</th>\n",
       "    </tr>\n",
       "  </thead>\n",
       "  <tbody>\n",
       "    <tr>\n",
       "      <th>0</th>\n",
       "      <td>4321</td>\n",
       "      <td>2018-04-18 00:00:21</td>\n",
       "      <td>18.53</td>\n",
       "      <td>52.37</td>\n",
       "    </tr>\n",
       "    <tr>\n",
       "      <th>1</th>\n",
       "      <td>4322</td>\n",
       "      <td>2018-04-18 00:05:19</td>\n",
       "      <td>18.49</td>\n",
       "      <td>52.44</td>\n",
       "    </tr>\n",
       "    <tr>\n",
       "      <th>2</th>\n",
       "      <td>4323</td>\n",
       "      <td>2018-04-18 00:10:19</td>\n",
       "      <td>17.97</td>\n",
       "      <td>55.13</td>\n",
       "    </tr>\n",
       "    <tr>\n",
       "      <th>3</th>\n",
       "      <td>4324</td>\n",
       "      <td>2018-04-18 00:15:19</td>\n",
       "      <td>17.58</td>\n",
       "      <td>56.38</td>\n",
       "    </tr>\n",
       "    <tr>\n",
       "      <th>4</th>\n",
       "      <td>4325</td>\n",
       "      <td>2018-04-18 00:20:18</td>\n",
       "      <td>17.48</td>\n",
       "      <td>53.81</td>\n",
       "    </tr>\n",
       "  </tbody>\n",
       "</table>\n",
       "</div>"
      ],
      "text/plain": [
       "   Num.       Date and Time  Temp. (°C)  Rel. Humidity (%)\n",
       "0  4321 2018-04-18 00:00:21       18.53              52.37\n",
       "1  4322 2018-04-18 00:05:19       18.49              52.44\n",
       "2  4323 2018-04-18 00:10:19       17.97              55.13\n",
       "3  4324 2018-04-18 00:15:19       17.58              56.38\n",
       "4  4325 2018-04-18 00:20:18       17.48              53.81"
      ]
     },
     "execution_count": 42,
     "metadata": {},
     "output_type": "execute_result"
    }
   ],
   "source": [
    "df_climate.head()"
   ]
  },
  {
   "cell_type": "code",
   "execution_count": 43,
   "metadata": {
    "slideshow": {
     "slide_type": "subslide"
    }
   },
   "outputs": [
    {
     "data": {
      "text/html": [
       "<div>\n",
       "<style scoped>\n",
       "    .dataframe tbody tr th:only-of-type {\n",
       "        vertical-align: middle;\n",
       "    }\n",
       "\n",
       "    .dataframe tbody tr th {\n",
       "        vertical-align: top;\n",
       "    }\n",
       "\n",
       "    .dataframe thead th {\n",
       "        text-align: right;\n",
       "    }\n",
       "</style>\n",
       "<table border=\"1\" class=\"dataframe\">\n",
       "  <thead>\n",
       "    <tr style=\"text-align: right;\">\n",
       "      <th></th>\n",
       "      <th>Num.</th>\n",
       "      <th>Date and Time</th>\n",
       "      <th>Temp. (°C)</th>\n",
       "      <th>Rel. Humidity (%)</th>\n",
       "    </tr>\n",
       "  </thead>\n",
       "  <tbody>\n",
       "    <tr>\n",
       "      <th>10164</th>\n",
       "      <td>14684</td>\n",
       "      <td>2018-05-23 23:35:32</td>\n",
       "      <td>19.27</td>\n",
       "      <td>54.42</td>\n",
       "    </tr>\n",
       "    <tr>\n",
       "      <th>10165</th>\n",
       "      <td>14685</td>\n",
       "      <td>2018-05-23 23:40:30</td>\n",
       "      <td>19.24</td>\n",
       "      <td>54.79</td>\n",
       "    </tr>\n",
       "    <tr>\n",
       "      <th>10166</th>\n",
       "      <td>14686</td>\n",
       "      <td>2018-05-23 23:45:27</td>\n",
       "      <td>19.22</td>\n",
       "      <td>55.16</td>\n",
       "    </tr>\n",
       "    <tr>\n",
       "      <th>10167</th>\n",
       "      <td>14687</td>\n",
       "      <td>2018-05-23 23:50:25</td>\n",
       "      <td>19.19</td>\n",
       "      <td>55.52</td>\n",
       "    </tr>\n",
       "    <tr>\n",
       "      <th>10168</th>\n",
       "      <td>14688</td>\n",
       "      <td>2018-05-23 23:55:22</td>\n",
       "      <td>19.19</td>\n",
       "      <td>55.52</td>\n",
       "    </tr>\n",
       "  </tbody>\n",
       "</table>\n",
       "</div>"
      ],
      "text/plain": [
       "        Num.       Date and Time  Temp. (°C)  Rel. Humidity (%)\n",
       "10164  14684 2018-05-23 23:35:32       19.27              54.42\n",
       "10165  14685 2018-05-23 23:40:30       19.24              54.79\n",
       "10166  14686 2018-05-23 23:45:27       19.22              55.16\n",
       "10167  14687 2018-05-23 23:50:25       19.19              55.52\n",
       "10168  14688 2018-05-23 23:55:22       19.19              55.52"
      ]
     },
     "execution_count": 43,
     "metadata": {},
     "output_type": "execute_result"
    }
   ],
   "source": [
    "df_climate.tail()"
   ]
  },
  {
   "cell_type": "markdown",
   "metadata": {
    "slideshow": {
     "slide_type": "subslide"
    }
   },
   "source": [
    "We have data measurements in (about) 5-minutes intervales, measuring temperature and relative humidity inside a greenhouse.\n",
    "\n",
    "The data span from 18th of April until the 24th of May of 2018. We have a little more than one month of data."
   ]
  },
  {
   "cell_type": "markdown",
   "metadata": {
    "slideshow": {
     "slide_type": "subslide"
    }
   },
   "source": [
    "Note that the index is numeric. We want to make it time-aware using the data in the ___Date and Time___ column to be able to select rows in time ranges.\n",
    "\n",
    "For that, we use the function `pd.DatetimeIndex`, and send as argument the column from te table that has the date and time."
   ]
  },
  {
   "cell_type": "code",
   "execution_count": 44,
   "metadata": {
    "slideshow": {
     "slide_type": "fragment"
    }
   },
   "outputs": [
    {
     "data": {
      "text/html": [
       "<div>\n",
       "<style scoped>\n",
       "    .dataframe tbody tr th:only-of-type {\n",
       "        vertical-align: middle;\n",
       "    }\n",
       "\n",
       "    .dataframe tbody tr th {\n",
       "        vertical-align: top;\n",
       "    }\n",
       "\n",
       "    .dataframe thead th {\n",
       "        text-align: right;\n",
       "    }\n",
       "</style>\n",
       "<table border=\"1\" class=\"dataframe\">\n",
       "  <thead>\n",
       "    <tr style=\"text-align: right;\">\n",
       "      <th></th>\n",
       "      <th>Num.</th>\n",
       "      <th>Date and Time</th>\n",
       "      <th>Temp. (°C)</th>\n",
       "      <th>Rel. Humidity (%)</th>\n",
       "    </tr>\n",
       "  </thead>\n",
       "  <tbody>\n",
       "    <tr>\n",
       "      <th>0</th>\n",
       "      <td>4321</td>\n",
       "      <td>2018-04-18 00:00:21</td>\n",
       "      <td>18.53</td>\n",
       "      <td>52.37</td>\n",
       "    </tr>\n",
       "    <tr>\n",
       "      <th>1</th>\n",
       "      <td>4322</td>\n",
       "      <td>2018-04-18 00:05:19</td>\n",
       "      <td>18.49</td>\n",
       "      <td>52.44</td>\n",
       "    </tr>\n",
       "    <tr>\n",
       "      <th>2</th>\n",
       "      <td>4323</td>\n",
       "      <td>2018-04-18 00:10:19</td>\n",
       "      <td>17.97</td>\n",
       "      <td>55.13</td>\n",
       "    </tr>\n",
       "    <tr>\n",
       "      <th>3</th>\n",
       "      <td>4324</td>\n",
       "      <td>2018-04-18 00:15:19</td>\n",
       "      <td>17.58</td>\n",
       "      <td>56.38</td>\n",
       "    </tr>\n",
       "    <tr>\n",
       "      <th>4</th>\n",
       "      <td>4325</td>\n",
       "      <td>2018-04-18 00:20:18</td>\n",
       "      <td>17.48</td>\n",
       "      <td>53.81</td>\n",
       "    </tr>\n",
       "  </tbody>\n",
       "</table>\n",
       "</div>"
      ],
      "text/plain": [
       "   Num.       Date and Time  Temp. (°C)  Rel. Humidity (%)\n",
       "0  4321 2018-04-18 00:00:21       18.53              52.37\n",
       "1  4322 2018-04-18 00:05:19       18.49              52.44\n",
       "2  4323 2018-04-18 00:10:19       17.97              55.13\n",
       "3  4324 2018-04-18 00:15:19       17.58              56.38\n",
       "4  4325 2018-04-18 00:20:18       17.48              53.81"
      ]
     },
     "execution_count": 44,
     "metadata": {},
     "output_type": "execute_result"
    }
   ],
   "source": [
    "df_climate.head()"
   ]
  },
  {
   "cell_type": "markdown",
   "metadata": {
    "slideshow": {
     "slide_type": "subslide"
    }
   },
   "source": [
    "Old index:"
   ]
  },
  {
   "cell_type": "code",
   "execution_count": 45,
   "metadata": {
    "slideshow": {
     "slide_type": "fragment"
    }
   },
   "outputs": [
    {
     "data": {
      "text/plain": [
       "RangeIndex(start=0, stop=10169, step=1)"
      ]
     },
     "execution_count": 45,
     "metadata": {},
     "output_type": "execute_result"
    }
   ],
   "source": [
    "df_climate.index"
   ]
  },
  {
   "cell_type": "markdown",
   "metadata": {
    "slideshow": {
     "slide_type": "subslide"
    }
   },
   "source": [
    "New index:"
   ]
  },
  {
   "cell_type": "code",
   "execution_count": 46,
   "metadata": {
    "slideshow": {
     "slide_type": "fragment"
    }
   },
   "outputs": [],
   "source": [
    "df_climate.index = pd.DatetimeIndex( df_climate[ 'Date and Time' ] )"
   ]
  },
  {
   "cell_type": "markdown",
   "metadata": {
    "slideshow": {
     "slide_type": "subslide"
    }
   },
   "source": [
    "Note: A common source of error in this step is a confusion between days and monts (because of the order). It can also happen with the year, if only the last 2 numbers are written: Which are the day, month and year if the date is __10-11-12__?\n",
    "\n",
    "For the first case, you can specify if days or months go first:\n",
    "`df_climate.index = pd.DatetimeIndex( df_climate[ 'Date and Time' ], dayfirst=True, yearfirst=True )`"
   ]
  },
  {
   "cell_type": "markdown",
   "metadata": {
    "slideshow": {
     "slide_type": "subslide"
    }
   },
   "source": [
    "Now we have the index as a time object and can select rows according with it:"
   ]
  },
  {
   "cell_type": "code",
   "execution_count": 47,
   "metadata": {
    "slideshow": {
     "slide_type": "fragment"
    }
   },
   "outputs": [
    {
     "data": {
      "text/html": [
       "<div>\n",
       "<style scoped>\n",
       "    .dataframe tbody tr th:only-of-type {\n",
       "        vertical-align: middle;\n",
       "    }\n",
       "\n",
       "    .dataframe tbody tr th {\n",
       "        vertical-align: top;\n",
       "    }\n",
       "\n",
       "    .dataframe thead th {\n",
       "        text-align: right;\n",
       "    }\n",
       "</style>\n",
       "<table border=\"1\" class=\"dataframe\">\n",
       "  <thead>\n",
       "    <tr style=\"text-align: right;\">\n",
       "      <th></th>\n",
       "      <th>Num.</th>\n",
       "      <th>Date and Time</th>\n",
       "      <th>Temp. (°C)</th>\n",
       "      <th>Rel. Humidity (%)</th>\n",
       "    </tr>\n",
       "    <tr>\n",
       "      <th>Date and Time</th>\n",
       "      <th></th>\n",
       "      <th></th>\n",
       "      <th></th>\n",
       "      <th></th>\n",
       "    </tr>\n",
       "  </thead>\n",
       "  <tbody>\n",
       "    <tr>\n",
       "      <th>2018-04-18 00:00:21</th>\n",
       "      <td>4321</td>\n",
       "      <td>2018-04-18 00:00:21</td>\n",
       "      <td>18.53</td>\n",
       "      <td>52.37</td>\n",
       "    </tr>\n",
       "    <tr>\n",
       "      <th>2018-04-18 00:05:19</th>\n",
       "      <td>4322</td>\n",
       "      <td>2018-04-18 00:05:19</td>\n",
       "      <td>18.49</td>\n",
       "      <td>52.44</td>\n",
       "    </tr>\n",
       "    <tr>\n",
       "      <th>2018-04-18 00:10:19</th>\n",
       "      <td>4323</td>\n",
       "      <td>2018-04-18 00:10:19</td>\n",
       "      <td>17.97</td>\n",
       "      <td>55.13</td>\n",
       "    </tr>\n",
       "    <tr>\n",
       "      <th>2018-04-18 00:15:19</th>\n",
       "      <td>4324</td>\n",
       "      <td>2018-04-18 00:15:19</td>\n",
       "      <td>17.58</td>\n",
       "      <td>56.38</td>\n",
       "    </tr>\n",
       "    <tr>\n",
       "      <th>2018-04-18 00:20:18</th>\n",
       "      <td>4325</td>\n",
       "      <td>2018-04-18 00:20:18</td>\n",
       "      <td>17.48</td>\n",
       "      <td>53.81</td>\n",
       "    </tr>\n",
       "  </tbody>\n",
       "</table>\n",
       "</div>"
      ],
      "text/plain": [
       "                     Num.       Date and Time  Temp. (°C)  Rel. Humidity (%)\n",
       "Date and Time                                                               \n",
       "2018-04-18 00:00:21  4321 2018-04-18 00:00:21       18.53              52.37\n",
       "2018-04-18 00:05:19  4322 2018-04-18 00:05:19       18.49              52.44\n",
       "2018-04-18 00:10:19  4323 2018-04-18 00:10:19       17.97              55.13\n",
       "2018-04-18 00:15:19  4324 2018-04-18 00:15:19       17.58              56.38\n",
       "2018-04-18 00:20:18  4325 2018-04-18 00:20:18       17.48              53.81"
      ]
     },
     "execution_count": 47,
     "metadata": {},
     "output_type": "execute_result"
    }
   ],
   "source": [
    "df_climate.head()"
   ]
  },
  {
   "cell_type": "markdown",
   "metadata": {
    "slideshow": {
     "slide_type": "subslide"
    }
   },
   "source": [
    "To select a particular day, we can use `pd.Timestamp`.\n",
    "\n",
    "Let's say we want to check the data of the 23rd of May:"
   ]
  },
  {
   "cell_type": "code",
   "execution_count": 48,
   "metadata": {
    "slideshow": {
     "slide_type": "fragment"
    }
   },
   "outputs": [],
   "source": [
    "start = pd.Timestamp( '2018-05-23, 00:00:00' )\n",
    "end = pd.Timestamp( '2018-05-24, 00:00:00' )"
   ]
  },
  {
   "cell_type": "code",
   "execution_count": 49,
   "metadata": {
    "scrolled": false,
    "slideshow": {
     "slide_type": "subslide"
    }
   },
   "outputs": [
    {
     "data": {
      "text/html": [
       "<div>\n",
       "<style scoped>\n",
       "    .dataframe tbody tr th:only-of-type {\n",
       "        vertical-align: middle;\n",
       "    }\n",
       "\n",
       "    .dataframe tbody tr th {\n",
       "        vertical-align: top;\n",
       "    }\n",
       "\n",
       "    .dataframe thead th {\n",
       "        text-align: right;\n",
       "    }\n",
       "</style>\n",
       "<table border=\"1\" class=\"dataframe\">\n",
       "  <thead>\n",
       "    <tr style=\"text-align: right;\">\n",
       "      <th></th>\n",
       "      <th>Num.</th>\n",
       "      <th>Date and Time</th>\n",
       "      <th>Temp. (°C)</th>\n",
       "      <th>Rel. Humidity (%)</th>\n",
       "    </tr>\n",
       "    <tr>\n",
       "      <th>Date and Time</th>\n",
       "      <th></th>\n",
       "      <th></th>\n",
       "      <th></th>\n",
       "      <th></th>\n",
       "    </tr>\n",
       "  </thead>\n",
       "  <tbody>\n",
       "    <tr>\n",
       "      <th>2018-05-23 00:00:21</th>\n",
       "      <td>14401</td>\n",
       "      <td>2018-05-23 00:00:21</td>\n",
       "      <td>18.38</td>\n",
       "      <td>58.77</td>\n",
       "    </tr>\n",
       "    <tr>\n",
       "      <th>2018-05-23 00:05:19</th>\n",
       "      <td>14402</td>\n",
       "      <td>2018-05-23 00:05:19</td>\n",
       "      <td>18.34</td>\n",
       "      <td>59.22</td>\n",
       "    </tr>\n",
       "    <tr>\n",
       "      <th>2018-05-23 00:10:19</th>\n",
       "      <td>14403</td>\n",
       "      <td>2018-05-23 00:10:19</td>\n",
       "      <td>18.30</td>\n",
       "      <td>59.71</td>\n",
       "    </tr>\n",
       "    <tr>\n",
       "      <th>2018-05-23 00:15:19</th>\n",
       "      <td>14404</td>\n",
       "      <td>2018-05-23 00:15:19</td>\n",
       "      <td>18.25</td>\n",
       "      <td>60.21</td>\n",
       "    </tr>\n",
       "    <tr>\n",
       "      <th>2018-05-23 00:20:18</th>\n",
       "      <td>14405</td>\n",
       "      <td>2018-05-23 00:20:18</td>\n",
       "      <td>18.20</td>\n",
       "      <td>60.66</td>\n",
       "    </tr>\n",
       "    <tr>\n",
       "      <th>2018-05-23 00:25:17</th>\n",
       "      <td>14406</td>\n",
       "      <td>2018-05-23 00:25:17</td>\n",
       "      <td>18.15</td>\n",
       "      <td>61.19</td>\n",
       "    </tr>\n",
       "    <tr>\n",
       "      <th>2018-05-23 00:30:17</th>\n",
       "      <td>14407</td>\n",
       "      <td>2018-05-23 00:30:17</td>\n",
       "      <td>18.10</td>\n",
       "      <td>61.72</td>\n",
       "    </tr>\n",
       "    <tr>\n",
       "      <th>2018-05-23 00:35:16</th>\n",
       "      <td>14408</td>\n",
       "      <td>2018-05-23 00:35:16</td>\n",
       "      <td>18.05</td>\n",
       "      <td>62.18</td>\n",
       "    </tr>\n",
       "    <tr>\n",
       "      <th>2018-05-23 00:40:16</th>\n",
       "      <td>14409</td>\n",
       "      <td>2018-05-23 00:40:16</td>\n",
       "      <td>17.99</td>\n",
       "      <td>62.74</td>\n",
       "    </tr>\n",
       "    <tr>\n",
       "      <th>2018-05-23 00:45:19</th>\n",
       "      <td>14410</td>\n",
       "      <td>2018-05-23 00:45:19</td>\n",
       "      <td>17.94</td>\n",
       "      <td>63.31</td>\n",
       "    </tr>\n",
       "    <tr>\n",
       "      <th>2018-05-23 00:50:21</th>\n",
       "      <td>14411</td>\n",
       "      <td>2018-05-23 00:50:21</td>\n",
       "      <td>17.88</td>\n",
       "      <td>63.82</td>\n",
       "    </tr>\n",
       "    <tr>\n",
       "      <th>2018-05-23 00:55:20</th>\n",
       "      <td>14412</td>\n",
       "      <td>2018-05-23 00:55:20</td>\n",
       "      <td>17.84</td>\n",
       "      <td>64.33</td>\n",
       "    </tr>\n",
       "    <tr>\n",
       "      <th>2018-05-23 01:00:20</th>\n",
       "      <td>14413</td>\n",
       "      <td>2018-05-23 01:00:20</td>\n",
       "      <td>17.79</td>\n",
       "      <td>64.89</td>\n",
       "    </tr>\n",
       "    <tr>\n",
       "      <th>2018-05-23 01:05:20</th>\n",
       "      <td>14414</td>\n",
       "      <td>2018-05-23 01:05:20</td>\n",
       "      <td>17.74</td>\n",
       "      <td>65.45</td>\n",
       "    </tr>\n",
       "    <tr>\n",
       "      <th>2018-05-23 01:10:20</th>\n",
       "      <td>14415</td>\n",
       "      <td>2018-05-23 01:10:20</td>\n",
       "      <td>17.69</td>\n",
       "      <td>65.98</td>\n",
       "    </tr>\n",
       "    <tr>\n",
       "      <th>2018-05-23 01:15:19</th>\n",
       "      <td>14416</td>\n",
       "      <td>2018-05-23 01:15:19</td>\n",
       "      <td>17.65</td>\n",
       "      <td>66.47</td>\n",
       "    </tr>\n",
       "    <tr>\n",
       "      <th>2018-05-23 01:20:18</th>\n",
       "      <td>14417</td>\n",
       "      <td>2018-05-23 01:20:18</td>\n",
       "      <td>17.60</td>\n",
       "      <td>66.95</td>\n",
       "    </tr>\n",
       "    <tr>\n",
       "      <th>2018-05-23 01:25:18</th>\n",
       "      <td>14418</td>\n",
       "      <td>2018-05-23 01:25:18</td>\n",
       "      <td>17.55</td>\n",
       "      <td>67.54</td>\n",
       "    </tr>\n",
       "    <tr>\n",
       "      <th>2018-05-23 01:30:17</th>\n",
       "      <td>14419</td>\n",
       "      <td>2018-05-23 01:30:17</td>\n",
       "      <td>17.52</td>\n",
       "      <td>68.06</td>\n",
       "    </tr>\n",
       "    <tr>\n",
       "      <th>2018-05-23 01:35:17</th>\n",
       "      <td>14420</td>\n",
       "      <td>2018-05-23 01:35:17</td>\n",
       "      <td>17.48</td>\n",
       "      <td>68.58</td>\n",
       "    </tr>\n",
       "    <tr>\n",
       "      <th>2018-05-23 01:40:16</th>\n",
       "      <td>14421</td>\n",
       "      <td>2018-05-23 01:40:16</td>\n",
       "      <td>17.44</td>\n",
       "      <td>69.05</td>\n",
       "    </tr>\n",
       "    <tr>\n",
       "      <th>2018-05-23 01:45:16</th>\n",
       "      <td>14422</td>\n",
       "      <td>2018-05-23 01:45:16</td>\n",
       "      <td>17.40</td>\n",
       "      <td>69.59</td>\n",
       "    </tr>\n",
       "    <tr>\n",
       "      <th>2018-05-23 01:50:15</th>\n",
       "      <td>14423</td>\n",
       "      <td>2018-05-23 01:50:15</td>\n",
       "      <td>17.37</td>\n",
       "      <td>70.02</td>\n",
       "    </tr>\n",
       "    <tr>\n",
       "      <th>2018-05-23 01:55:15</th>\n",
       "      <td>14424</td>\n",
       "      <td>2018-05-23 01:55:15</td>\n",
       "      <td>17.34</td>\n",
       "      <td>70.51</td>\n",
       "    </tr>\n",
       "    <tr>\n",
       "      <th>2018-05-23 02:00:15</th>\n",
       "      <td>14425</td>\n",
       "      <td>2018-05-23 02:00:15</td>\n",
       "      <td>17.31</td>\n",
       "      <td>70.88</td>\n",
       "    </tr>\n",
       "    <tr>\n",
       "      <th>2018-05-23 02:05:14</th>\n",
       "      <td>14426</td>\n",
       "      <td>2018-05-23 02:05:14</td>\n",
       "      <td>17.29</td>\n",
       "      <td>71.28</td>\n",
       "    </tr>\n",
       "    <tr>\n",
       "      <th>2018-05-23 02:10:14</th>\n",
       "      <td>14427</td>\n",
       "      <td>2018-05-23 02:10:14</td>\n",
       "      <td>17.26</td>\n",
       "      <td>71.78</td>\n",
       "    </tr>\n",
       "    <tr>\n",
       "      <th>2018-05-23 02:15:14</th>\n",
       "      <td>14428</td>\n",
       "      <td>2018-05-23 02:15:14</td>\n",
       "      <td>17.23</td>\n",
       "      <td>72.17</td>\n",
       "    </tr>\n",
       "    <tr>\n",
       "      <th>2018-05-23 02:20:13</th>\n",
       "      <td>14429</td>\n",
       "      <td>2018-05-23 02:20:13</td>\n",
       "      <td>17.19</td>\n",
       "      <td>72.49</td>\n",
       "    </tr>\n",
       "    <tr>\n",
       "      <th>2018-05-23 02:25:13</th>\n",
       "      <td>14430</td>\n",
       "      <td>2018-05-23 02:25:13</td>\n",
       "      <td>17.15</td>\n",
       "      <td>72.82</td>\n",
       "    </tr>\n",
       "    <tr>\n",
       "      <th>...</th>\n",
       "      <td>...</td>\n",
       "      <td>...</td>\n",
       "      <td>...</td>\n",
       "      <td>...</td>\n",
       "    </tr>\n",
       "    <tr>\n",
       "      <th>2018-05-23 21:30:31</th>\n",
       "      <td>14659</td>\n",
       "      <td>2018-05-23 21:30:31</td>\n",
       "      <td>19.26</td>\n",
       "      <td>45.67</td>\n",
       "    </tr>\n",
       "    <tr>\n",
       "      <th>2018-05-23 21:35:29</th>\n",
       "      <td>14660</td>\n",
       "      <td>2018-05-23 21:35:29</td>\n",
       "      <td>19.28</td>\n",
       "      <td>46.18</td>\n",
       "    </tr>\n",
       "    <tr>\n",
       "      <th>2018-05-23 21:40:27</th>\n",
       "      <td>14661</td>\n",
       "      <td>2018-05-23 21:40:27</td>\n",
       "      <td>19.31</td>\n",
       "      <td>46.54</td>\n",
       "    </tr>\n",
       "    <tr>\n",
       "      <th>2018-05-23 21:45:26</th>\n",
       "      <td>14662</td>\n",
       "      <td>2018-05-23 21:45:26</td>\n",
       "      <td>19.34</td>\n",
       "      <td>46.81</td>\n",
       "    </tr>\n",
       "    <tr>\n",
       "      <th>2018-05-23 21:50:24</th>\n",
       "      <td>14663</td>\n",
       "      <td>2018-05-23 21:50:24</td>\n",
       "      <td>19.38</td>\n",
       "      <td>47.11</td>\n",
       "    </tr>\n",
       "    <tr>\n",
       "      <th>2018-05-23 21:55:01</th>\n",
       "      <td>14664</td>\n",
       "      <td>2018-05-23 21:55:01</td>\n",
       "      <td>19.41</td>\n",
       "      <td>47.44</td>\n",
       "    </tr>\n",
       "    <tr>\n",
       "      <th>2018-05-23 22:00:03</th>\n",
       "      <td>14665</td>\n",
       "      <td>2018-05-23 22:00:03</td>\n",
       "      <td>19.44</td>\n",
       "      <td>47.74</td>\n",
       "    </tr>\n",
       "    <tr>\n",
       "      <th>2018-05-23 22:05:01</th>\n",
       "      <td>14666</td>\n",
       "      <td>2018-05-23 22:05:01</td>\n",
       "      <td>19.46</td>\n",
       "      <td>48.06</td>\n",
       "    </tr>\n",
       "    <tr>\n",
       "      <th>2018-05-23 22:10:32</th>\n",
       "      <td>14667</td>\n",
       "      <td>2018-05-23 22:10:32</td>\n",
       "      <td>19.47</td>\n",
       "      <td>48.41</td>\n",
       "    </tr>\n",
       "    <tr>\n",
       "      <th>2018-05-23 22:15:30</th>\n",
       "      <td>14668</td>\n",
       "      <td>2018-05-23 22:15:30</td>\n",
       "      <td>19.47</td>\n",
       "      <td>48.75</td>\n",
       "    </tr>\n",
       "    <tr>\n",
       "      <th>2018-05-23 22:20:28</th>\n",
       "      <td>14669</td>\n",
       "      <td>2018-05-23 22:20:28</td>\n",
       "      <td>19.47</td>\n",
       "      <td>49.15</td>\n",
       "    </tr>\n",
       "    <tr>\n",
       "      <th>2018-05-23 22:25:26</th>\n",
       "      <td>14670</td>\n",
       "      <td>2018-05-23 22:25:26</td>\n",
       "      <td>19.47</td>\n",
       "      <td>49.47</td>\n",
       "    </tr>\n",
       "    <tr>\n",
       "      <th>2018-05-23 22:30:24</th>\n",
       "      <td>14671</td>\n",
       "      <td>2018-05-23 22:30:24</td>\n",
       "      <td>19.46</td>\n",
       "      <td>49.83</td>\n",
       "    </tr>\n",
       "    <tr>\n",
       "      <th>2018-05-23 22:35:22</th>\n",
       "      <td>14672</td>\n",
       "      <td>2018-05-23 22:35:22</td>\n",
       "      <td>19.46</td>\n",
       "      <td>50.19</td>\n",
       "    </tr>\n",
       "    <tr>\n",
       "      <th>2018-05-23 22:40:20</th>\n",
       "      <td>14673</td>\n",
       "      <td>2018-05-23 22:40:20</td>\n",
       "      <td>19.46</td>\n",
       "      <td>50.53</td>\n",
       "    </tr>\n",
       "    <tr>\n",
       "      <th>2018-05-23 22:45:18</th>\n",
       "      <td>14674</td>\n",
       "      <td>2018-05-23 22:45:18</td>\n",
       "      <td>19.46</td>\n",
       "      <td>50.84</td>\n",
       "    </tr>\n",
       "    <tr>\n",
       "      <th>2018-05-23 22:50:17</th>\n",
       "      <td>14675</td>\n",
       "      <td>2018-05-23 22:50:17</td>\n",
       "      <td>19.46</td>\n",
       "      <td>51.12</td>\n",
       "    </tr>\n",
       "    <tr>\n",
       "      <th>2018-05-23 22:55:15</th>\n",
       "      <td>14676</td>\n",
       "      <td>2018-05-23 22:55:15</td>\n",
       "      <td>19.46</td>\n",
       "      <td>51.43</td>\n",
       "    </tr>\n",
       "    <tr>\n",
       "      <th>2018-05-23 23:00:13</th>\n",
       "      <td>14677</td>\n",
       "      <td>2018-05-23 23:00:13</td>\n",
       "      <td>19.46</td>\n",
       "      <td>51.78</td>\n",
       "    </tr>\n",
       "    <tr>\n",
       "      <th>2018-05-23 23:05:11</th>\n",
       "      <td>14678</td>\n",
       "      <td>2018-05-23 23:05:11</td>\n",
       "      <td>19.44</td>\n",
       "      <td>52.17</td>\n",
       "    </tr>\n",
       "    <tr>\n",
       "      <th>2018-05-23 23:10:09</th>\n",
       "      <td>14679</td>\n",
       "      <td>2018-05-23 23:10:09</td>\n",
       "      <td>19.41</td>\n",
       "      <td>52.58</td>\n",
       "    </tr>\n",
       "    <tr>\n",
       "      <th>2018-05-23 23:15:07</th>\n",
       "      <td>14680</td>\n",
       "      <td>2018-05-23 23:15:07</td>\n",
       "      <td>19.38</td>\n",
       "      <td>52.90</td>\n",
       "    </tr>\n",
       "    <tr>\n",
       "      <th>2018-05-23 23:20:05</th>\n",
       "      <td>14681</td>\n",
       "      <td>2018-05-23 23:20:05</td>\n",
       "      <td>19.36</td>\n",
       "      <td>53.26</td>\n",
       "    </tr>\n",
       "    <tr>\n",
       "      <th>2018-05-23 23:25:03</th>\n",
       "      <td>14682</td>\n",
       "      <td>2018-05-23 23:25:03</td>\n",
       "      <td>19.32</td>\n",
       "      <td>53.68</td>\n",
       "    </tr>\n",
       "    <tr>\n",
       "      <th>2018-05-23 23:30:01</th>\n",
       "      <td>14683</td>\n",
       "      <td>2018-05-23 23:30:01</td>\n",
       "      <td>19.30</td>\n",
       "      <td>54.06</td>\n",
       "    </tr>\n",
       "    <tr>\n",
       "      <th>2018-05-23 23:35:32</th>\n",
       "      <td>14684</td>\n",
       "      <td>2018-05-23 23:35:32</td>\n",
       "      <td>19.27</td>\n",
       "      <td>54.42</td>\n",
       "    </tr>\n",
       "    <tr>\n",
       "      <th>2018-05-23 23:40:30</th>\n",
       "      <td>14685</td>\n",
       "      <td>2018-05-23 23:40:30</td>\n",
       "      <td>19.24</td>\n",
       "      <td>54.79</td>\n",
       "    </tr>\n",
       "    <tr>\n",
       "      <th>2018-05-23 23:45:27</th>\n",
       "      <td>14686</td>\n",
       "      <td>2018-05-23 23:45:27</td>\n",
       "      <td>19.22</td>\n",
       "      <td>55.16</td>\n",
       "    </tr>\n",
       "    <tr>\n",
       "      <th>2018-05-23 23:50:25</th>\n",
       "      <td>14687</td>\n",
       "      <td>2018-05-23 23:50:25</td>\n",
       "      <td>19.19</td>\n",
       "      <td>55.52</td>\n",
       "    </tr>\n",
       "    <tr>\n",
       "      <th>2018-05-23 23:55:22</th>\n",
       "      <td>14688</td>\n",
       "      <td>2018-05-23 23:55:22</td>\n",
       "      <td>19.19</td>\n",
       "      <td>55.52</td>\n",
       "    </tr>\n",
       "  </tbody>\n",
       "</table>\n",
       "<p>288 rows × 4 columns</p>\n",
       "</div>"
      ],
      "text/plain": [
       "                      Num.       Date and Time  Temp. (°C)  Rel. Humidity (%)\n",
       "Date and Time                                                                \n",
       "2018-05-23 00:00:21  14401 2018-05-23 00:00:21       18.38              58.77\n",
       "2018-05-23 00:05:19  14402 2018-05-23 00:05:19       18.34              59.22\n",
       "2018-05-23 00:10:19  14403 2018-05-23 00:10:19       18.30              59.71\n",
       "2018-05-23 00:15:19  14404 2018-05-23 00:15:19       18.25              60.21\n",
       "2018-05-23 00:20:18  14405 2018-05-23 00:20:18       18.20              60.66\n",
       "2018-05-23 00:25:17  14406 2018-05-23 00:25:17       18.15              61.19\n",
       "2018-05-23 00:30:17  14407 2018-05-23 00:30:17       18.10              61.72\n",
       "2018-05-23 00:35:16  14408 2018-05-23 00:35:16       18.05              62.18\n",
       "2018-05-23 00:40:16  14409 2018-05-23 00:40:16       17.99              62.74\n",
       "2018-05-23 00:45:19  14410 2018-05-23 00:45:19       17.94              63.31\n",
       "2018-05-23 00:50:21  14411 2018-05-23 00:50:21       17.88              63.82\n",
       "2018-05-23 00:55:20  14412 2018-05-23 00:55:20       17.84              64.33\n",
       "2018-05-23 01:00:20  14413 2018-05-23 01:00:20       17.79              64.89\n",
       "2018-05-23 01:05:20  14414 2018-05-23 01:05:20       17.74              65.45\n",
       "2018-05-23 01:10:20  14415 2018-05-23 01:10:20       17.69              65.98\n",
       "2018-05-23 01:15:19  14416 2018-05-23 01:15:19       17.65              66.47\n",
       "2018-05-23 01:20:18  14417 2018-05-23 01:20:18       17.60              66.95\n",
       "2018-05-23 01:25:18  14418 2018-05-23 01:25:18       17.55              67.54\n",
       "2018-05-23 01:30:17  14419 2018-05-23 01:30:17       17.52              68.06\n",
       "2018-05-23 01:35:17  14420 2018-05-23 01:35:17       17.48              68.58\n",
       "2018-05-23 01:40:16  14421 2018-05-23 01:40:16       17.44              69.05\n",
       "2018-05-23 01:45:16  14422 2018-05-23 01:45:16       17.40              69.59\n",
       "2018-05-23 01:50:15  14423 2018-05-23 01:50:15       17.37              70.02\n",
       "2018-05-23 01:55:15  14424 2018-05-23 01:55:15       17.34              70.51\n",
       "2018-05-23 02:00:15  14425 2018-05-23 02:00:15       17.31              70.88\n",
       "2018-05-23 02:05:14  14426 2018-05-23 02:05:14       17.29              71.28\n",
       "2018-05-23 02:10:14  14427 2018-05-23 02:10:14       17.26              71.78\n",
       "2018-05-23 02:15:14  14428 2018-05-23 02:15:14       17.23              72.17\n",
       "2018-05-23 02:20:13  14429 2018-05-23 02:20:13       17.19              72.49\n",
       "2018-05-23 02:25:13  14430 2018-05-23 02:25:13       17.15              72.82\n",
       "...                    ...                 ...         ...                ...\n",
       "2018-05-23 21:30:31  14659 2018-05-23 21:30:31       19.26              45.67\n",
       "2018-05-23 21:35:29  14660 2018-05-23 21:35:29       19.28              46.18\n",
       "2018-05-23 21:40:27  14661 2018-05-23 21:40:27       19.31              46.54\n",
       "2018-05-23 21:45:26  14662 2018-05-23 21:45:26       19.34              46.81\n",
       "2018-05-23 21:50:24  14663 2018-05-23 21:50:24       19.38              47.11\n",
       "2018-05-23 21:55:01  14664 2018-05-23 21:55:01       19.41              47.44\n",
       "2018-05-23 22:00:03  14665 2018-05-23 22:00:03       19.44              47.74\n",
       "2018-05-23 22:05:01  14666 2018-05-23 22:05:01       19.46              48.06\n",
       "2018-05-23 22:10:32  14667 2018-05-23 22:10:32       19.47              48.41\n",
       "2018-05-23 22:15:30  14668 2018-05-23 22:15:30       19.47              48.75\n",
       "2018-05-23 22:20:28  14669 2018-05-23 22:20:28       19.47              49.15\n",
       "2018-05-23 22:25:26  14670 2018-05-23 22:25:26       19.47              49.47\n",
       "2018-05-23 22:30:24  14671 2018-05-23 22:30:24       19.46              49.83\n",
       "2018-05-23 22:35:22  14672 2018-05-23 22:35:22       19.46              50.19\n",
       "2018-05-23 22:40:20  14673 2018-05-23 22:40:20       19.46              50.53\n",
       "2018-05-23 22:45:18  14674 2018-05-23 22:45:18       19.46              50.84\n",
       "2018-05-23 22:50:17  14675 2018-05-23 22:50:17       19.46              51.12\n",
       "2018-05-23 22:55:15  14676 2018-05-23 22:55:15       19.46              51.43\n",
       "2018-05-23 23:00:13  14677 2018-05-23 23:00:13       19.46              51.78\n",
       "2018-05-23 23:05:11  14678 2018-05-23 23:05:11       19.44              52.17\n",
       "2018-05-23 23:10:09  14679 2018-05-23 23:10:09       19.41              52.58\n",
       "2018-05-23 23:15:07  14680 2018-05-23 23:15:07       19.38              52.90\n",
       "2018-05-23 23:20:05  14681 2018-05-23 23:20:05       19.36              53.26\n",
       "2018-05-23 23:25:03  14682 2018-05-23 23:25:03       19.32              53.68\n",
       "2018-05-23 23:30:01  14683 2018-05-23 23:30:01       19.30              54.06\n",
       "2018-05-23 23:35:32  14684 2018-05-23 23:35:32       19.27              54.42\n",
       "2018-05-23 23:40:30  14685 2018-05-23 23:40:30       19.24              54.79\n",
       "2018-05-23 23:45:27  14686 2018-05-23 23:45:27       19.22              55.16\n",
       "2018-05-23 23:50:25  14687 2018-05-23 23:50:25       19.19              55.52\n",
       "2018-05-23 23:55:22  14688 2018-05-23 23:55:22       19.19              55.52\n",
       "\n",
       "[288 rows x 4 columns]"
      ]
     },
     "execution_count": 49,
     "metadata": {},
     "output_type": "execute_result"
    }
   ],
   "source": [
    "condition_start = df_climate.index > start\n",
    "condition_end = df_climate.index < end\n",
    "\n",
    "df_climate[ condition_start & condition_end ]"
   ]
  },
  {
   "cell_type": "markdown",
   "metadata": {
    "slideshow": {
     "slide_type": "subslide"
    }
   },
   "source": [
    "And we can use this new table to calculate the average (or max, min, etc) of the columns on that interval:"
   ]
  },
  {
   "cell_type": "code",
   "execution_count": 50,
   "metadata": {
    "slideshow": {
     "slide_type": "fragment"
    }
   },
   "outputs": [
    {
     "data": {
      "text/plain": [
       "Num.                 14544.500000\n",
       "Temp. (°C)              23.980278\n",
       "Rel. Humidity (%)       42.395347\n",
       "dtype: float64"
      ]
     },
     "execution_count": 50,
     "metadata": {},
     "output_type": "execute_result"
    }
   ],
   "source": [
    "df_climate[ condition_start & condition_end ].mean()"
   ]
  },
  {
   "cell_type": "markdown",
   "metadata": {
    "slideshow": {
     "slide_type": "subslide"
    }
   },
   "source": [
    "Of course, we can also look for other periods with this technique, we just follow the steps:\n",
    "* Define a start time with `pd.Timestamp`\n",
    "* Define a finishing time with `pd.Timestamp`\n",
    "* Check condition: > start\n",
    "* Check condition: < end\n",
    "* Select from the table (query)"
   ]
  },
  {
   "cell_type": "code",
   "execution_count": 51,
   "metadata": {
    "slideshow": {
     "slide_type": "subslide"
    }
   },
   "outputs": [
    {
     "data": {
      "text/html": [
       "<div>\n",
       "<style scoped>\n",
       "    .dataframe tbody tr th:only-of-type {\n",
       "        vertical-align: middle;\n",
       "    }\n",
       "\n",
       "    .dataframe tbody tr th {\n",
       "        vertical-align: top;\n",
       "    }\n",
       "\n",
       "    .dataframe thead th {\n",
       "        text-align: right;\n",
       "    }\n",
       "</style>\n",
       "<table border=\"1\" class=\"dataframe\">\n",
       "  <thead>\n",
       "    <tr style=\"text-align: right;\">\n",
       "      <th></th>\n",
       "      <th>Num.</th>\n",
       "      <th>Date and Time</th>\n",
       "      <th>Temp. (°C)</th>\n",
       "      <th>Rel. Humidity (%)</th>\n",
       "    </tr>\n",
       "    <tr>\n",
       "      <th>Date and Time</th>\n",
       "      <th></th>\n",
       "      <th></th>\n",
       "      <th></th>\n",
       "      <th></th>\n",
       "    </tr>\n",
       "  </thead>\n",
       "  <tbody>\n",
       "    <tr>\n",
       "      <th>2018-05-23 08:00:04</th>\n",
       "      <td>14497</td>\n",
       "      <td>2018-05-23 08:00:04</td>\n",
       "      <td>23.93</td>\n",
       "      <td>39.23</td>\n",
       "    </tr>\n",
       "    <tr>\n",
       "      <th>2018-05-23 08:05:03</th>\n",
       "      <td>14498</td>\n",
       "      <td>2018-05-23 08:05:03</td>\n",
       "      <td>24.22</td>\n",
       "      <td>38.60</td>\n",
       "    </tr>\n",
       "    <tr>\n",
       "      <th>2018-05-23 08:10:03</th>\n",
       "      <td>14499</td>\n",
       "      <td>2018-05-23 08:10:03</td>\n",
       "      <td>24.50</td>\n",
       "      <td>38.01</td>\n",
       "    </tr>\n",
       "    <tr>\n",
       "      <th>2018-05-23 08:15:03</th>\n",
       "      <td>14500</td>\n",
       "      <td>2018-05-23 08:15:03</td>\n",
       "      <td>24.87</td>\n",
       "      <td>37.22</td>\n",
       "    </tr>\n",
       "    <tr>\n",
       "      <th>2018-05-23 08:20:03</th>\n",
       "      <td>14501</td>\n",
       "      <td>2018-05-23 08:20:03</td>\n",
       "      <td>25.16</td>\n",
       "      <td>36.96</td>\n",
       "    </tr>\n",
       "    <tr>\n",
       "      <th>2018-05-23 08:25:03</th>\n",
       "      <td>14502</td>\n",
       "      <td>2018-05-23 08:25:03</td>\n",
       "      <td>25.38</td>\n",
       "      <td>36.74</td>\n",
       "    </tr>\n",
       "    <tr>\n",
       "      <th>2018-05-23 08:30:03</th>\n",
       "      <td>14503</td>\n",
       "      <td>2018-05-23 08:30:03</td>\n",
       "      <td>25.53</td>\n",
       "      <td>36.23</td>\n",
       "    </tr>\n",
       "    <tr>\n",
       "      <th>2018-05-23 08:35:03</th>\n",
       "      <td>14504</td>\n",
       "      <td>2018-05-23 08:35:03</td>\n",
       "      <td>25.71</td>\n",
       "      <td>35.84</td>\n",
       "    </tr>\n",
       "    <tr>\n",
       "      <th>2018-05-23 08:40:03</th>\n",
       "      <td>14505</td>\n",
       "      <td>2018-05-23 08:40:03</td>\n",
       "      <td>25.88</td>\n",
       "      <td>35.48</td>\n",
       "    </tr>\n",
       "    <tr>\n",
       "      <th>2018-05-23 08:45:03</th>\n",
       "      <td>14506</td>\n",
       "      <td>2018-05-23 08:45:03</td>\n",
       "      <td>26.09</td>\n",
       "      <td>35.10</td>\n",
       "    </tr>\n",
       "    <tr>\n",
       "      <th>2018-05-23 08:50:03</th>\n",
       "      <td>14507</td>\n",
       "      <td>2018-05-23 08:50:03</td>\n",
       "      <td>26.21</td>\n",
       "      <td>34.29</td>\n",
       "    </tr>\n",
       "    <tr>\n",
       "      <th>2018-05-23 08:55:02</th>\n",
       "      <td>14508</td>\n",
       "      <td>2018-05-23 08:55:02</td>\n",
       "      <td>26.29</td>\n",
       "      <td>33.99</td>\n",
       "    </tr>\n",
       "  </tbody>\n",
       "</table>\n",
       "</div>"
      ],
      "text/plain": [
       "                      Num.       Date and Time  Temp. (°C)  Rel. Humidity (%)\n",
       "Date and Time                                                                \n",
       "2018-05-23 08:00:04  14497 2018-05-23 08:00:04       23.93              39.23\n",
       "2018-05-23 08:05:03  14498 2018-05-23 08:05:03       24.22              38.60\n",
       "2018-05-23 08:10:03  14499 2018-05-23 08:10:03       24.50              38.01\n",
       "2018-05-23 08:15:03  14500 2018-05-23 08:15:03       24.87              37.22\n",
       "2018-05-23 08:20:03  14501 2018-05-23 08:20:03       25.16              36.96\n",
       "2018-05-23 08:25:03  14502 2018-05-23 08:25:03       25.38              36.74\n",
       "2018-05-23 08:30:03  14503 2018-05-23 08:30:03       25.53              36.23\n",
       "2018-05-23 08:35:03  14504 2018-05-23 08:35:03       25.71              35.84\n",
       "2018-05-23 08:40:03  14505 2018-05-23 08:40:03       25.88              35.48\n",
       "2018-05-23 08:45:03  14506 2018-05-23 08:45:03       26.09              35.10\n",
       "2018-05-23 08:50:03  14507 2018-05-23 08:50:03       26.21              34.29\n",
       "2018-05-23 08:55:02  14508 2018-05-23 08:55:02       26.29              33.99"
      ]
     },
     "execution_count": 51,
     "metadata": {},
     "output_type": "execute_result"
    }
   ],
   "source": [
    "start = pd.Timestamp( '2018-05-23, 08:00:00' )\n",
    "end = pd.Timestamp( '2018-05-23, 09:00:00' )\n",
    "\n",
    "condition_start = df_climate.index > start\n",
    "condition_end = df_climate.index < end\n",
    "\n",
    "df_climate[ condition_start & condition_end ]"
   ]
  },
  {
   "cell_type": "markdown",
   "metadata": {
    "slideshow": {
     "slide_type": "subslide"
    }
   },
   "source": [
    "This techinque does not look for exact matches, as the measuring times in the table include seconds that are irregular. It is very useful because it also works in cases when there are empty or not equally distributed timestamps."
   ]
  },
  {
   "cell_type": "markdown",
   "metadata": {
    "slideshow": {
     "slide_type": "subslide"
    }
   },
   "source": [
    "It is now very easy to know the average temperature in the period between 8 and 9 that we selected previously:"
   ]
  },
  {
   "cell_type": "code",
   "execution_count": 52,
   "metadata": {
    "slideshow": {
     "slide_type": "fragment"
    }
   },
   "outputs": [],
   "source": [
    "start = pd.Timestamp( '2018-05-23, 08:00:00' )\n",
    "end = pd.Timestamp( '2018-05-23, 09:00:00' )\n",
    "\n",
    "condition_start = df_climate.index > start\n",
    "condition_end = df_climate.index < end\n",
    "\n",
    "df_sums = df_climate[ condition_start & condition_end ].sum()\n"
   ]
  },
  {
   "cell_type": "markdown",
   "metadata": {
    "slideshow": {
     "slide_type": "subslide"
    }
   },
   "source": [
    "#### Resample"
   ]
  },
  {
   "cell_type": "markdown",
   "metadata": {
    "slideshow": {
     "slide_type": "fragment"
    }
   },
   "source": [
    "Lastly, we will have a quick introduction to `.resample`, a function that allows us to change the interval in which some data are given, either ___upsample___ (get more points, at smaller intervals) or ___downsample___ (agreggating values in bigger intervals)."
   ]
  },
  {
   "cell_type": "markdown",
   "metadata": {
    "slideshow": {
     "slide_type": "subslide"
    }
   },
   "source": [
    "The data in the climate data frame is stored in intervals of about 5 minutes. \n",
    "\n",
    "We will first ___downsample___ it to hourly and daily values."
   ]
  },
  {
   "cell_type": "markdown",
   "metadata": {
    "slideshow": {
     "slide_type": "fragment"
    }
   },
   "source": [
    "There are two things that we have to have clear to correctly resample data:\n",
    "\n",
    "* What the new frequency will be. 1 hour? 15 minutes? 1 day?\n",
    "* How we will create the new values. Sum? Average?"
   ]
  },
  {
   "cell_type": "markdown",
   "metadata": {
    "slideshow": {
     "slide_type": "subslide"
    }
   },
   "source": [
    "About the first question, we will use the following letters to specifiy the new frequency:\n",
    "    \n",
    "* M → monthly frequency\n",
    "* W → weekly frequency\n",
    "* D → daily frequency\n",
    "* H → hourly frequency\n",
    "* T → minutely frequency\n",
    "* S → secondly frequency\n",
    "* L → milliseonds\n",
    "* U → microseconds\n",
    "* N → nanoseconds"
   ]
  },
  {
   "cell_type": "markdown",
   "metadata": {
    "slideshow": {
     "slide_type": "subslide"
    }
   },
   "source": [
    "About the second question, think that water (liter [L]) from irrigation in the morning and in the afternoon should ___add___ up for a daily value.\n",
    "\n",
    "On the other hand, the temperature in the morning, and the temperature in the afternoon should be ___averaged___ to give a daily value.\n",
    "\n",
    "Also, in cases we need the last value, or the first, or the most common in the interval. At the end of this notebook is a link to a very nice post where these options can be consulted."
   ]
  },
  {
   "cell_type": "markdown",
   "metadata": {
    "slideshow": {
     "slide_type": "subslide"
    }
   },
   "source": [
    "First we will resample the whole data frame to 1 hour, taking the average of the values in each hourly interval. \n",
    "\n",
    "It is like this now:"
   ]
  },
  {
   "cell_type": "code",
   "execution_count": 53,
   "metadata": {
    "slideshow": {
     "slide_type": "fragment"
    }
   },
   "outputs": [
    {
     "data": {
      "text/html": [
       "<div>\n",
       "<style scoped>\n",
       "    .dataframe tbody tr th:only-of-type {\n",
       "        vertical-align: middle;\n",
       "    }\n",
       "\n",
       "    .dataframe tbody tr th {\n",
       "        vertical-align: top;\n",
       "    }\n",
       "\n",
       "    .dataframe thead th {\n",
       "        text-align: right;\n",
       "    }\n",
       "</style>\n",
       "<table border=\"1\" class=\"dataframe\">\n",
       "  <thead>\n",
       "    <tr style=\"text-align: right;\">\n",
       "      <th></th>\n",
       "      <th>Num.</th>\n",
       "      <th>Date and Time</th>\n",
       "      <th>Temp. (°C)</th>\n",
       "      <th>Rel. Humidity (%)</th>\n",
       "    </tr>\n",
       "    <tr>\n",
       "      <th>Date and Time</th>\n",
       "      <th></th>\n",
       "      <th></th>\n",
       "      <th></th>\n",
       "      <th></th>\n",
       "    </tr>\n",
       "  </thead>\n",
       "  <tbody>\n",
       "    <tr>\n",
       "      <th>2018-04-18 00:00:21</th>\n",
       "      <td>4321</td>\n",
       "      <td>2018-04-18 00:00:21</td>\n",
       "      <td>18.53</td>\n",
       "      <td>52.37</td>\n",
       "    </tr>\n",
       "    <tr>\n",
       "      <th>2018-04-18 00:05:19</th>\n",
       "      <td>4322</td>\n",
       "      <td>2018-04-18 00:05:19</td>\n",
       "      <td>18.49</td>\n",
       "      <td>52.44</td>\n",
       "    </tr>\n",
       "    <tr>\n",
       "      <th>2018-04-18 00:10:19</th>\n",
       "      <td>4323</td>\n",
       "      <td>2018-04-18 00:10:19</td>\n",
       "      <td>17.97</td>\n",
       "      <td>55.13</td>\n",
       "    </tr>\n",
       "    <tr>\n",
       "      <th>2018-04-18 00:15:19</th>\n",
       "      <td>4324</td>\n",
       "      <td>2018-04-18 00:15:19</td>\n",
       "      <td>17.58</td>\n",
       "      <td>56.38</td>\n",
       "    </tr>\n",
       "    <tr>\n",
       "      <th>2018-04-18 00:20:18</th>\n",
       "      <td>4325</td>\n",
       "      <td>2018-04-18 00:20:18</td>\n",
       "      <td>17.48</td>\n",
       "      <td>53.81</td>\n",
       "    </tr>\n",
       "  </tbody>\n",
       "</table>\n",
       "</div>"
      ],
      "text/plain": [
       "                     Num.       Date and Time  Temp. (°C)  Rel. Humidity (%)\n",
       "Date and Time                                                               \n",
       "2018-04-18 00:00:21  4321 2018-04-18 00:00:21       18.53              52.37\n",
       "2018-04-18 00:05:19  4322 2018-04-18 00:05:19       18.49              52.44\n",
       "2018-04-18 00:10:19  4323 2018-04-18 00:10:19       17.97              55.13\n",
       "2018-04-18 00:15:19  4324 2018-04-18 00:15:19       17.58              56.38\n",
       "2018-04-18 00:20:18  4325 2018-04-18 00:20:18       17.48              53.81"
      ]
     },
     "execution_count": 53,
     "metadata": {},
     "output_type": "execute_result"
    }
   ],
   "source": [
    "df_climate.head()"
   ]
  },
  {
   "cell_type": "code",
   "execution_count": 54,
   "metadata": {
    "slideshow": {
     "slide_type": "subslide"
    }
   },
   "outputs": [],
   "source": [
    "df_climate_1h = df_climate.resample( '1H' ).mean()"
   ]
  },
  {
   "cell_type": "code",
   "execution_count": 55,
   "metadata": {
    "slideshow": {
     "slide_type": "fragment"
    }
   },
   "outputs": [
    {
     "data": {
      "text/html": [
       "<div>\n",
       "<style scoped>\n",
       "    .dataframe tbody tr th:only-of-type {\n",
       "        vertical-align: middle;\n",
       "    }\n",
       "\n",
       "    .dataframe tbody tr th {\n",
       "        vertical-align: top;\n",
       "    }\n",
       "\n",
       "    .dataframe thead th {\n",
       "        text-align: right;\n",
       "    }\n",
       "</style>\n",
       "<table border=\"1\" class=\"dataframe\">\n",
       "  <thead>\n",
       "    <tr style=\"text-align: right;\">\n",
       "      <th></th>\n",
       "      <th>Num.</th>\n",
       "      <th>Temp. (°C)</th>\n",
       "      <th>Rel. Humidity (%)</th>\n",
       "    </tr>\n",
       "    <tr>\n",
       "      <th>Date and Time</th>\n",
       "      <th></th>\n",
       "      <th></th>\n",
       "      <th></th>\n",
       "    </tr>\n",
       "  </thead>\n",
       "  <tbody>\n",
       "    <tr>\n",
       "      <th>2018-04-18 00:00:00</th>\n",
       "      <td>4326.5</td>\n",
       "      <td>18.013333</td>\n",
       "      <td>53.595000</td>\n",
       "    </tr>\n",
       "    <tr>\n",
       "      <th>2018-04-18 01:00:00</th>\n",
       "      <td>4338.5</td>\n",
       "      <td>18.055833</td>\n",
       "      <td>52.836667</td>\n",
       "    </tr>\n",
       "    <tr>\n",
       "      <th>2018-04-18 02:00:00</th>\n",
       "      <td>4350.5</td>\n",
       "      <td>17.971667</td>\n",
       "      <td>51.935833</td>\n",
       "    </tr>\n",
       "    <tr>\n",
       "      <th>2018-04-18 03:00:00</th>\n",
       "      <td>4362.5</td>\n",
       "      <td>17.933333</td>\n",
       "      <td>51.635000</td>\n",
       "    </tr>\n",
       "    <tr>\n",
       "      <th>2018-04-18 04:00:00</th>\n",
       "      <td>4374.5</td>\n",
       "      <td>18.014167</td>\n",
       "      <td>50.772500</td>\n",
       "    </tr>\n",
       "  </tbody>\n",
       "</table>\n",
       "</div>"
      ],
      "text/plain": [
       "                       Num.  Temp. (°C)  Rel. Humidity (%)\n",
       "Date and Time                                             \n",
       "2018-04-18 00:00:00  4326.5   18.013333          53.595000\n",
       "2018-04-18 01:00:00  4338.5   18.055833          52.836667\n",
       "2018-04-18 02:00:00  4350.5   17.971667          51.935833\n",
       "2018-04-18 03:00:00  4362.5   17.933333          51.635000\n",
       "2018-04-18 04:00:00  4374.5   18.014167          50.772500"
      ]
     },
     "execution_count": 55,
     "metadata": {},
     "output_type": "execute_result"
    }
   ],
   "source": [
    "df_climate_1h.head()"
   ]
  },
  {
   "cell_type": "code",
   "execution_count": 56,
   "metadata": {
    "slideshow": {
     "slide_type": "subslide"
    }
   },
   "outputs": [
    {
     "data": {
      "text/html": [
       "<div>\n",
       "<style scoped>\n",
       "    .dataframe tbody tr th:only-of-type {\n",
       "        vertical-align: middle;\n",
       "    }\n",
       "\n",
       "    .dataframe tbody tr th {\n",
       "        vertical-align: top;\n",
       "    }\n",
       "\n",
       "    .dataframe thead th {\n",
       "        text-align: right;\n",
       "    }\n",
       "</style>\n",
       "<table border=\"1\" class=\"dataframe\">\n",
       "  <thead>\n",
       "    <tr style=\"text-align: right;\">\n",
       "      <th></th>\n",
       "      <th>Num.</th>\n",
       "      <th>Temp. (°C)</th>\n",
       "      <th>Rel. Humidity (%)</th>\n",
       "    </tr>\n",
       "    <tr>\n",
       "      <th>Date and Time</th>\n",
       "      <th></th>\n",
       "      <th></th>\n",
       "      <th></th>\n",
       "    </tr>\n",
       "  </thead>\n",
       "  <tbody>\n",
       "    <tr>\n",
       "      <th>2018-05-23 19:00:00</th>\n",
       "      <td>14634.5</td>\n",
       "      <td>22.855000</td>\n",
       "      <td>28.825000</td>\n",
       "    </tr>\n",
       "    <tr>\n",
       "      <th>2018-05-23 20:00:00</th>\n",
       "      <td>14646.5</td>\n",
       "      <td>20.790833</td>\n",
       "      <td>36.506667</td>\n",
       "    </tr>\n",
       "    <tr>\n",
       "      <th>2018-05-23 21:00:00</th>\n",
       "      <td>14658.5</td>\n",
       "      <td>19.447500</td>\n",
       "      <td>44.990833</td>\n",
       "    </tr>\n",
       "    <tr>\n",
       "      <th>2018-05-23 22:00:00</th>\n",
       "      <td>14670.5</td>\n",
       "      <td>19.461667</td>\n",
       "      <td>49.626667</td>\n",
       "    </tr>\n",
       "    <tr>\n",
       "      <th>2018-05-23 23:00:00</th>\n",
       "      <td>14682.5</td>\n",
       "      <td>19.315000</td>\n",
       "      <td>53.820000</td>\n",
       "    </tr>\n",
       "  </tbody>\n",
       "</table>\n",
       "</div>"
      ],
      "text/plain": [
       "                        Num.  Temp. (°C)  Rel. Humidity (%)\n",
       "Date and Time                                              \n",
       "2018-05-23 19:00:00  14634.5   22.855000          28.825000\n",
       "2018-05-23 20:00:00  14646.5   20.790833          36.506667\n",
       "2018-05-23 21:00:00  14658.5   19.447500          44.990833\n",
       "2018-05-23 22:00:00  14670.5   19.461667          49.626667\n",
       "2018-05-23 23:00:00  14682.5   19.315000          53.820000"
      ]
     },
     "execution_count": 56,
     "metadata": {},
     "output_type": "execute_result"
    }
   ],
   "source": [
    "df_climate_1h.tail()"
   ]
  },
  {
   "cell_type": "markdown",
   "metadata": {
    "slideshow": {
     "slide_type": "subslide"
    }
   },
   "source": [
    "And now the same for daily values:"
   ]
  },
  {
   "cell_type": "code",
   "execution_count": 57,
   "metadata": {
    "slideshow": {
     "slide_type": "fragment"
    }
   },
   "outputs": [],
   "source": [
    "df_climate_1d = df_climate.resample( '1D' ).mean()"
   ]
  },
  {
   "cell_type": "code",
   "execution_count": 58,
   "metadata": {
    "slideshow": {
     "slide_type": "fragment"
    }
   },
   "outputs": [
    {
     "data": {
      "text/html": [
       "<div>\n",
       "<style scoped>\n",
       "    .dataframe tbody tr th:only-of-type {\n",
       "        vertical-align: middle;\n",
       "    }\n",
       "\n",
       "    .dataframe tbody tr th {\n",
       "        vertical-align: top;\n",
       "    }\n",
       "\n",
       "    .dataframe thead th {\n",
       "        text-align: right;\n",
       "    }\n",
       "</style>\n",
       "<table border=\"1\" class=\"dataframe\">\n",
       "  <thead>\n",
       "    <tr style=\"text-align: right;\">\n",
       "      <th></th>\n",
       "      <th>Num.</th>\n",
       "      <th>Temp. (°C)</th>\n",
       "      <th>Rel. Humidity (%)</th>\n",
       "    </tr>\n",
       "    <tr>\n",
       "      <th>Date and Time</th>\n",
       "      <th></th>\n",
       "      <th></th>\n",
       "      <th></th>\n",
       "    </tr>\n",
       "  </thead>\n",
       "  <tbody>\n",
       "    <tr>\n",
       "      <th>2018-04-18</th>\n",
       "      <td>4464.500000</td>\n",
       "      <td>21.353715</td>\n",
       "      <td>47.279514</td>\n",
       "    </tr>\n",
       "    <tr>\n",
       "      <th>2018-04-19</th>\n",
       "      <td>4752.447183</td>\n",
       "      <td>21.316585</td>\n",
       "      <td>58.615634</td>\n",
       "    </tr>\n",
       "    <tr>\n",
       "      <th>2018-04-20</th>\n",
       "      <td>5042.031802</td>\n",
       "      <td>22.221908</td>\n",
       "      <td>57.677244</td>\n",
       "    </tr>\n",
       "    <tr>\n",
       "      <th>2018-04-21</th>\n",
       "      <td>5328.500000</td>\n",
       "      <td>19.976771</td>\n",
       "      <td>54.997917</td>\n",
       "    </tr>\n",
       "    <tr>\n",
       "      <th>2018-04-22</th>\n",
       "      <td>5616.500000</td>\n",
       "      <td>20.016562</td>\n",
       "      <td>51.049583</td>\n",
       "    </tr>\n",
       "  </tbody>\n",
       "</table>\n",
       "</div>"
      ],
      "text/plain": [
       "                      Num.  Temp. (°C)  Rel. Humidity (%)\n",
       "Date and Time                                            \n",
       "2018-04-18     4464.500000   21.353715          47.279514\n",
       "2018-04-19     4752.447183   21.316585          58.615634\n",
       "2018-04-20     5042.031802   22.221908          57.677244\n",
       "2018-04-21     5328.500000   19.976771          54.997917\n",
       "2018-04-22     5616.500000   20.016562          51.049583"
      ]
     },
     "execution_count": 58,
     "metadata": {},
     "output_type": "execute_result"
    }
   ],
   "source": [
    "df_climate_1d.head()"
   ]
  },
  {
   "cell_type": "code",
   "execution_count": 59,
   "metadata": {
    "slideshow": {
     "slide_type": "subslide"
    }
   },
   "outputs": [
    {
     "data": {
      "text/html": [
       "<div>\n",
       "<style scoped>\n",
       "    .dataframe tbody tr th:only-of-type {\n",
       "        vertical-align: middle;\n",
       "    }\n",
       "\n",
       "    .dataframe tbody tr th {\n",
       "        vertical-align: top;\n",
       "    }\n",
       "\n",
       "    .dataframe thead th {\n",
       "        text-align: right;\n",
       "    }\n",
       "</style>\n",
       "<table border=\"1\" class=\"dataframe\">\n",
       "  <thead>\n",
       "    <tr style=\"text-align: right;\">\n",
       "      <th></th>\n",
       "      <th>Num.</th>\n",
       "      <th>Temp. (°C)</th>\n",
       "      <th>Rel. Humidity (%)</th>\n",
       "    </tr>\n",
       "    <tr>\n",
       "      <th>Date and Time</th>\n",
       "      <th></th>\n",
       "      <th></th>\n",
       "      <th></th>\n",
       "    </tr>\n",
       "  </thead>\n",
       "  <tbody>\n",
       "    <tr>\n",
       "      <th>2018-05-19</th>\n",
       "      <td>13392.5</td>\n",
       "      <td>22.091285</td>\n",
       "      <td>48.573750</td>\n",
       "    </tr>\n",
       "    <tr>\n",
       "      <th>2018-05-20</th>\n",
       "      <td>13680.5</td>\n",
       "      <td>22.293472</td>\n",
       "      <td>38.786319</td>\n",
       "    </tr>\n",
       "    <tr>\n",
       "      <th>2018-05-21</th>\n",
       "      <td>13968.5</td>\n",
       "      <td>21.855174</td>\n",
       "      <td>42.795382</td>\n",
       "    </tr>\n",
       "    <tr>\n",
       "      <th>2018-05-22</th>\n",
       "      <td>14256.5</td>\n",
       "      <td>22.901215</td>\n",
       "      <td>42.902083</td>\n",
       "    </tr>\n",
       "    <tr>\n",
       "      <th>2018-05-23</th>\n",
       "      <td>14544.5</td>\n",
       "      <td>23.980278</td>\n",
       "      <td>42.395347</td>\n",
       "    </tr>\n",
       "  </tbody>\n",
       "</table>\n",
       "</div>"
      ],
      "text/plain": [
       "                  Num.  Temp. (°C)  Rel. Humidity (%)\n",
       "Date and Time                                        \n",
       "2018-05-19     13392.5   22.091285          48.573750\n",
       "2018-05-20     13680.5   22.293472          38.786319\n",
       "2018-05-21     13968.5   21.855174          42.795382\n",
       "2018-05-22     14256.5   22.901215          42.902083\n",
       "2018-05-23     14544.5   23.980278          42.395347"
      ]
     },
     "execution_count": 59,
     "metadata": {},
     "output_type": "execute_result"
    }
   ],
   "source": [
    "df_climate_1d.tail()"
   ]
  },
  {
   "cell_type": "markdown",
   "metadata": {
    "slideshow": {
     "slide_type": "subslide"
    }
   },
   "source": [
    "And that easily we get the daily average temperature and humidity from measurements in 5 minutes interval!"
   ]
  },
  {
   "cell_type": "markdown",
   "metadata": {
    "slideshow": {
     "slide_type": "subslide"
    }
   },
   "source": [
    "If we wanted to resample with different functions, sometimes the maximum value, for some other columns the sum or the mean, we need to use the following syntax.\n",
    "\n",
    "In this case, it resamples to the same 1-day frequency, but it returns the minimum temperature and averages the relative humidity.\n",
    "\n",
    "Remember to import numpy to use the functions `np.max` and `np.mean`!"
   ]
  },
  {
   "cell_type": "code",
   "execution_count": 60,
   "metadata": {
    "slideshow": {
     "slide_type": "subslide"
    }
   },
   "outputs": [],
   "source": [
    "import numpy as np"
   ]
  },
  {
   "cell_type": "code",
   "execution_count": 61,
   "metadata": {
    "slideshow": {
     "slide_type": "fragment"
    }
   },
   "outputs": [
    {
     "data": {
      "text/html": [
       "<div>\n",
       "<style scoped>\n",
       "    .dataframe tbody tr th:only-of-type {\n",
       "        vertical-align: middle;\n",
       "    }\n",
       "\n",
       "    .dataframe tbody tr th {\n",
       "        vertical-align: top;\n",
       "    }\n",
       "\n",
       "    .dataframe thead th {\n",
       "        text-align: right;\n",
       "    }\n",
       "</style>\n",
       "<table border=\"1\" class=\"dataframe\">\n",
       "  <thead>\n",
       "    <tr style=\"text-align: right;\">\n",
       "      <th></th>\n",
       "      <th>Rel. Humidity (%)</th>\n",
       "      <th>Temp. (°C)</th>\n",
       "    </tr>\n",
       "    <tr>\n",
       "      <th>Date and Time</th>\n",
       "      <th></th>\n",
       "      <th></th>\n",
       "    </tr>\n",
       "  </thead>\n",
       "  <tbody>\n",
       "    <tr>\n",
       "      <th>2018-04-18</th>\n",
       "      <td>47.279514</td>\n",
       "      <td>6149.87</td>\n",
       "    </tr>\n",
       "    <tr>\n",
       "      <th>2018-04-19</th>\n",
       "      <td>58.615634</td>\n",
       "      <td>6053.91</td>\n",
       "    </tr>\n",
       "    <tr>\n",
       "      <th>2018-04-20</th>\n",
       "      <td>57.677244</td>\n",
       "      <td>6288.80</td>\n",
       "    </tr>\n",
       "    <tr>\n",
       "      <th>2018-04-21</th>\n",
       "      <td>54.997917</td>\n",
       "      <td>5753.31</td>\n",
       "    </tr>\n",
       "    <tr>\n",
       "      <th>2018-04-22</th>\n",
       "      <td>51.049583</td>\n",
       "      <td>5764.77</td>\n",
       "    </tr>\n",
       "    <tr>\n",
       "      <th>2018-04-23</th>\n",
       "      <td>58.576408</td>\n",
       "      <td>5617.61</td>\n",
       "    </tr>\n",
       "    <tr>\n",
       "      <th>2018-04-24</th>\n",
       "      <td>62.034316</td>\n",
       "      <td>4815.39</td>\n",
       "    </tr>\n",
       "    <tr>\n",
       "      <th>2018-04-25</th>\n",
       "      <td>64.354774</td>\n",
       "      <td>4809.80</td>\n",
       "    </tr>\n",
       "    <tr>\n",
       "      <th>2018-04-26</th>\n",
       "      <td>64.391706</td>\n",
       "      <td>2567.26</td>\n",
       "    </tr>\n",
       "    <tr>\n",
       "      <th>2018-04-27</th>\n",
       "      <td>38.669330</td>\n",
       "      <td>4447.07</td>\n",
       "    </tr>\n",
       "    <tr>\n",
       "      <th>2018-04-28</th>\n",
       "      <td>43.108507</td>\n",
       "      <td>5851.46</td>\n",
       "    </tr>\n",
       "    <tr>\n",
       "      <th>2018-04-29</th>\n",
       "      <td>45.982465</td>\n",
       "      <td>6592.33</td>\n",
       "    </tr>\n",
       "    <tr>\n",
       "      <th>2018-04-30</th>\n",
       "      <td>52.344757</td>\n",
       "      <td>6025.32</td>\n",
       "    </tr>\n",
       "    <tr>\n",
       "      <th>2018-05-01</th>\n",
       "      <td>45.780382</td>\n",
       "      <td>5324.67</td>\n",
       "    </tr>\n",
       "    <tr>\n",
       "      <th>2018-05-02</th>\n",
       "      <td>45.758299</td>\n",
       "      <td>5138.78</td>\n",
       "    </tr>\n",
       "    <tr>\n",
       "      <th>2018-05-03</th>\n",
       "      <td>46.190938</td>\n",
       "      <td>5646.26</td>\n",
       "    </tr>\n",
       "    <tr>\n",
       "      <th>2018-05-04</th>\n",
       "      <td>37.508125</td>\n",
       "      <td>5582.16</td>\n",
       "    </tr>\n",
       "    <tr>\n",
       "      <th>2018-05-05</th>\n",
       "      <td>39.987500</td>\n",
       "      <td>5748.91</td>\n",
       "    </tr>\n",
       "    <tr>\n",
       "      <th>2018-05-06</th>\n",
       "      <td>45.982222</td>\n",
       "      <td>6192.57</td>\n",
       "    </tr>\n",
       "    <tr>\n",
       "      <th>2018-05-07</th>\n",
       "      <td>49.766285</td>\n",
       "      <td>6093.85</td>\n",
       "    </tr>\n",
       "    <tr>\n",
       "      <th>2018-05-08</th>\n",
       "      <td>49.043924</td>\n",
       "      <td>6298.74</td>\n",
       "    </tr>\n",
       "    <tr>\n",
       "      <th>2018-05-09</th>\n",
       "      <td>54.250764</td>\n",
       "      <td>6551.59</td>\n",
       "    </tr>\n",
       "    <tr>\n",
       "      <th>2018-05-10</th>\n",
       "      <td>65.714549</td>\n",
       "      <td>6479.49</td>\n",
       "    </tr>\n",
       "    <tr>\n",
       "      <th>2018-05-11</th>\n",
       "      <td>76.756111</td>\n",
       "      <td>5332.67</td>\n",
       "    </tr>\n",
       "    <tr>\n",
       "      <th>2018-05-12</th>\n",
       "      <td>65.297639</td>\n",
       "      <td>5747.49</td>\n",
       "    </tr>\n",
       "    <tr>\n",
       "      <th>2018-05-13</th>\n",
       "      <td>51.287465</td>\n",
       "      <td>6698.29</td>\n",
       "    </tr>\n",
       "    <tr>\n",
       "      <th>2018-05-14</th>\n",
       "      <td>42.728750</td>\n",
       "      <td>6662.93</td>\n",
       "    </tr>\n",
       "    <tr>\n",
       "      <th>2018-05-15</th>\n",
       "      <td>57.936458</td>\n",
       "      <td>5915.59</td>\n",
       "    </tr>\n",
       "    <tr>\n",
       "      <th>2018-05-16</th>\n",
       "      <td>58.533611</td>\n",
       "      <td>6215.47</td>\n",
       "    </tr>\n",
       "    <tr>\n",
       "      <th>2018-05-17</th>\n",
       "      <td>58.776111</td>\n",
       "      <td>5983.94</td>\n",
       "    </tr>\n",
       "    <tr>\n",
       "      <th>2018-05-18</th>\n",
       "      <td>63.067743</td>\n",
       "      <td>5432.05</td>\n",
       "    </tr>\n",
       "    <tr>\n",
       "      <th>2018-05-19</th>\n",
       "      <td>48.573750</td>\n",
       "      <td>6362.29</td>\n",
       "    </tr>\n",
       "    <tr>\n",
       "      <th>2018-05-20</th>\n",
       "      <td>38.786319</td>\n",
       "      <td>6420.52</td>\n",
       "    </tr>\n",
       "    <tr>\n",
       "      <th>2018-05-21</th>\n",
       "      <td>42.795382</td>\n",
       "      <td>6294.29</td>\n",
       "    </tr>\n",
       "    <tr>\n",
       "      <th>2018-05-22</th>\n",
       "      <td>42.902083</td>\n",
       "      <td>6595.55</td>\n",
       "    </tr>\n",
       "    <tr>\n",
       "      <th>2018-05-23</th>\n",
       "      <td>42.395347</td>\n",
       "      <td>6906.32</td>\n",
       "    </tr>\n",
       "  </tbody>\n",
       "</table>\n",
       "</div>"
      ],
      "text/plain": [
       "               Rel. Humidity (%)  Temp. (°C)\n",
       "Date and Time                               \n",
       "2018-04-18             47.279514     6149.87\n",
       "2018-04-19             58.615634     6053.91\n",
       "2018-04-20             57.677244     6288.80\n",
       "2018-04-21             54.997917     5753.31\n",
       "2018-04-22             51.049583     5764.77\n",
       "2018-04-23             58.576408     5617.61\n",
       "2018-04-24             62.034316     4815.39\n",
       "2018-04-25             64.354774     4809.80\n",
       "2018-04-26             64.391706     2567.26\n",
       "2018-04-27             38.669330     4447.07\n",
       "2018-04-28             43.108507     5851.46\n",
       "2018-04-29             45.982465     6592.33\n",
       "2018-04-30             52.344757     6025.32\n",
       "2018-05-01             45.780382     5324.67\n",
       "2018-05-02             45.758299     5138.78\n",
       "2018-05-03             46.190938     5646.26\n",
       "2018-05-04             37.508125     5582.16\n",
       "2018-05-05             39.987500     5748.91\n",
       "2018-05-06             45.982222     6192.57\n",
       "2018-05-07             49.766285     6093.85\n",
       "2018-05-08             49.043924     6298.74\n",
       "2018-05-09             54.250764     6551.59\n",
       "2018-05-10             65.714549     6479.49\n",
       "2018-05-11             76.756111     5332.67\n",
       "2018-05-12             65.297639     5747.49\n",
       "2018-05-13             51.287465     6698.29\n",
       "2018-05-14             42.728750     6662.93\n",
       "2018-05-15             57.936458     5915.59\n",
       "2018-05-16             58.533611     6215.47\n",
       "2018-05-17             58.776111     5983.94\n",
       "2018-05-18             63.067743     5432.05\n",
       "2018-05-19             48.573750     6362.29\n",
       "2018-05-20             38.786319     6420.52\n",
       "2018-05-21             42.795382     6294.29\n",
       "2018-05-22             42.902083     6595.55\n",
       "2018-05-23             42.395347     6906.32"
      ]
     },
     "execution_count": 61,
     "metadata": {},
     "output_type": "execute_result"
    }
   ],
   "source": [
    "df_climate.resample( '1D' ).apply( {'Temp. (°C)':np.sum,'Rel. Humidity (%)':np.mean} ) "
   ]
  },
  {
   "cell_type": "markdown",
   "metadata": {
    "slideshow": {
     "slide_type": "subslide"
    }
   },
   "source": [
    "Lastly, we will show what happens if the new frequency is bigger, i.e. the time intervals are smaller.\n",
    "\n",
    "In these cases, we get empty spaces, that need to be filled with _something_. Common options are the next or last values, or empty cells."
   ]
  },
  {
   "cell_type": "markdown",
   "metadata": {
    "slideshow": {
     "slide_type": "fragment"
    }
   },
   "source": [
    "For an example, we will change the frequency from 5 minutes to 1 minute."
   ]
  },
  {
   "cell_type": "markdown",
   "metadata": {
    "slideshow": {
     "slide_type": "subslide"
    }
   },
   "source": [
    "Mean, average and other functions that ___aggregate___ values do not have meaning in this case, because we are \"creating\" new values, cells that were not there before:"
   ]
  },
  {
   "cell_type": "code",
   "execution_count": 62,
   "metadata": {
    "slideshow": {
     "slide_type": "fragment"
    }
   },
   "outputs": [
    {
     "data": {
      "text/plain": [
       "Date and Time\n",
       "2018-04-18 00:00:00      NaN\n",
       "2018-04-18 00:01:00    18.53\n",
       "2018-04-18 00:02:00    18.53\n",
       "2018-04-18 00:03:00    18.53\n",
       "2018-04-18 00:04:00    18.53\n",
       "2018-04-18 00:05:00    18.53\n",
       "2018-04-18 00:06:00    18.49\n",
       "2018-04-18 00:07:00    18.49\n",
       "2018-04-18 00:08:00    18.49\n",
       "2018-04-18 00:09:00    18.49\n",
       "2018-04-18 00:10:00    18.49\n",
       "2018-04-18 00:11:00    17.97\n",
       "2018-04-18 00:12:00    17.97\n",
       "2018-04-18 00:13:00    17.97\n",
       "2018-04-18 00:14:00    17.97\n",
       "2018-04-18 00:15:00    17.97\n",
       "2018-04-18 00:16:00    17.58\n",
       "2018-04-18 00:17:00    17.58\n",
       "2018-04-18 00:18:00    17.58\n",
       "2018-04-18 00:19:00    17.58\n",
       "2018-04-18 00:20:00    17.58\n",
       "2018-04-18 00:21:00    17.48\n",
       "2018-04-18 00:22:00    17.48\n",
       "2018-04-18 00:23:00    17.48\n",
       "2018-04-18 00:24:00    17.48\n",
       "2018-04-18 00:25:00    17.48\n",
       "2018-04-18 00:26:00    17.99\n",
       "2018-04-18 00:27:00    17.99\n",
       "2018-04-18 00:28:00    17.99\n",
       "2018-04-18 00:29:00    17.99\n",
       "                       ...  \n",
       "2018-05-23 23:26:00    19.32\n",
       "2018-05-23 23:27:00    19.32\n",
       "2018-05-23 23:28:00    19.32\n",
       "2018-05-23 23:29:00    19.32\n",
       "2018-05-23 23:30:00    19.32\n",
       "2018-05-23 23:31:00    19.30\n",
       "2018-05-23 23:32:00    19.30\n",
       "2018-05-23 23:33:00    19.30\n",
       "2018-05-23 23:34:00    19.30\n",
       "2018-05-23 23:35:00    19.30\n",
       "2018-05-23 23:36:00    19.27\n",
       "2018-05-23 23:37:00    19.27\n",
       "2018-05-23 23:38:00    19.27\n",
       "2018-05-23 23:39:00    19.27\n",
       "2018-05-23 23:40:00    19.27\n",
       "2018-05-23 23:41:00    19.24\n",
       "2018-05-23 23:42:00    19.24\n",
       "2018-05-23 23:43:00    19.24\n",
       "2018-05-23 23:44:00    19.24\n",
       "2018-05-23 23:45:00    19.24\n",
       "2018-05-23 23:46:00    19.22\n",
       "2018-05-23 23:47:00    19.22\n",
       "2018-05-23 23:48:00    19.22\n",
       "2018-05-23 23:49:00    19.22\n",
       "2018-05-23 23:50:00    19.22\n",
       "2018-05-23 23:51:00    19.19\n",
       "2018-05-23 23:52:00    19.19\n",
       "2018-05-23 23:53:00    19.19\n",
       "2018-05-23 23:54:00    19.19\n",
       "2018-05-23 23:55:00    19.19\n",
       "Freq: T, Name: Temp. (°C), Length: 51836, dtype: float64"
      ]
     },
     "execution_count": 62,
     "metadata": {},
     "output_type": "execute_result"
    }
   ],
   "source": [
    "df_climate['Temp. (°C)'].resample( '1min' ).ffill()"
   ]
  },
  {
   "cell_type": "markdown",
   "metadata": {
    "slideshow": {
     "slide_type": "slide"
    }
   },
   "source": [
    "## 4. Exercises"
   ]
  },
  {
   "cell_type": "markdown",
   "metadata": {
    "slideshow": {
     "slide_type": "subslide"
    }
   },
   "source": [
    "### 4.1"
   ]
  },
  {
   "cell_type": "markdown",
   "metadata": {
    "slideshow": {
     "slide_type": "fragment"
    }
   },
   "source": [
    "Consider the fresh weight measurements of the lettuce experiment, included in the excel file ___lettuce.xlsx___, on the sheet ___Freshweight___.\n",
    "\n",
    "Import the data and select each one of the treatments.\n",
    "\n",
    "For each treatment, create a data frame. You can call them `df_Au47`, `df_Au53` and `df_Control`."
   ]
  },
  {
   "cell_type": "markdown",
   "metadata": {
    "slideshow": {
     "slide_type": "subslide"
    }
   },
   "source": [
    "Once you have three data frames, save each one of them to a ___csv___ file, using the `.to_csv()` function.\n",
    "\n",
    "You might want to use the optional parameters:\n",
    "* sep=';' if you plan to read it easily using microsoft excel\n",
    "* index=False if you don't want an extra column with the index at the beginning of the file\n",
    "\n",
    "The general syntax is:\n",
    "\n",
    "`dataframe_name.to_csv( \"filename.csv\" )`"
   ]
  },
  {
   "cell_type": "markdown",
   "metadata": {
    "slideshow": {
     "slide_type": "subslide"
    }
   },
   "source": [
    "### 4.2"
   ]
  },
  {
   "cell_type": "markdown",
   "metadata": {
    "slideshow": {
     "slide_type": "fragment"
    }
   },
   "source": [
    "Open the sheet ___Elements___ in the same excel file to a new data frame. You can call it `df_elements`. \n",
    "\n",
    "It contains the use of fertilizers in the lettuce experiment. \n",
    "\n",
    "There are several rows for each tank of nutrient solution, and we want to know the descriptive statistics of each tank."
   ]
  },
  {
   "cell_type": "markdown",
   "metadata": {
    "slideshow": {
     "slide_type": "subslide"
    }
   },
   "source": [
    "Select the first tank and show its descriptive statistics using either of these forms:"
   ]
  },
  {
   "cell_type": "markdown",
   "metadata": {
    "slideshow": {
     "slide_type": "fragment"
    }
   },
   "source": [
    "`df_elements[ df_elements['Tank']==1 ].describe()`"
   ]
  },
  {
   "cell_type": "markdown",
   "metadata": {
    "slideshow": {
     "slide_type": "fragment"
    }
   },
   "source": [
    "`tank_condition = df_elements['Tank']==1`\n",
    "\n",
    "`df_elements[ tank_condition ].describe()`"
   ]
  },
  {
   "cell_type": "markdown",
   "metadata": {
    "slideshow": {
     "slide_type": "subslide"
    }
   },
   "source": [
    "Create a for loop that counts from 1 to 9, which are the tank numbers. In the loop, include the code you just used to print the statistics and:\n",
    "* wrap it in a `print()` function to see the statistics for all tanks\n",
    "* append the following code to the same line to obtain 9 files with the statistics: `.to_csv(str(i)+'.csv')`\n",
    "* correct the code from last line to make the files names agree with the tank number"
   ]
  },
  {
   "cell_type": "markdown",
   "metadata": {
    "slideshow": {
     "slide_type": "subslide"
    }
   },
   "source": [
    "## Links"
   ]
  },
  {
   "cell_type": "markdown",
   "metadata": {
    "slideshow": {
     "slide_type": "fragment"
    }
   },
   "source": [
    "[Pandas official documentation](https://pandas.pydata.org/pandas-docs/stable/)\n",
    "\n",
    "[A tutorial on pandas](https://towardsdatascience.com/a-quick-introduction-to-the-pandas-python-library-f1b678f34673)\n",
    "\n",
    "[Example about row selection on conditions](https://chrisalbon.com/python/data_wrangling/pandas_selecting_rows_on_conditions/)\n",
    "\n",
    "[Resampling options, frequency and aggregation functions](http://benalexkeen.com/resampling-time-series-data-with-pandas/)"
   ]
  },
  {
   "cell_type": "markdown",
   "metadata": {
    "slideshow": {
     "slide_type": "fragment"
    }
   },
   "source": [
    "---"
   ]
  }
 ],
 "metadata": {
  "celltoolbar": "Slideshow",
  "kernelspec": {
   "display_name": "Python 3",
   "language": "python",
   "name": "python3"
  },
  "language_info": {
   "codemirror_mode": {
    "name": "ipython",
    "version": 3
   },
   "file_extension": ".py",
   "mimetype": "text/x-python",
   "name": "python",
   "nbconvert_exporter": "python",
   "pygments_lexer": "ipython3",
   "version": "3.5.3"
  }
 },
 "nbformat": 4,
 "nbformat_minor": 2
}
