{
 "cells": [
  {
   "cell_type": "markdown",
   "metadata": {
    "slideshow": {
     "slide_type": "slide"
    }
   },
   "source": [
    "# Introduction to python"
   ]
  },
  {
   "cell_type": "markdown",
   "metadata": {
    "slideshow": {
     "slide_type": "fragment"
    }
   },
   "source": [
    "<img src='img/python-logo.png' width='200'>"
   ]
  },
  {
   "cell_type": "markdown",
   "metadata": {
    "slideshow": {
     "slide_type": "slide"
    }
   },
   "source": [
    "## Session 0"
   ]
  },
  {
   "cell_type": "markdown",
   "metadata": {
    "slideshow": {
     "slide_type": "slide"
    }
   },
   "source": [
    "### What this course is about"
   ]
  },
  {
   "cell_type": "markdown",
   "metadata": {
    "slideshow": {
     "slide_type": "subslide"
    }
   },
   "source": [
    "* A brief, but intensive introduction to python\n",
    "  * Starts from simple control structures\n",
    "  * Addresses interactive mode and also scripts"
   ]
  },
  {
   "cell_type": "markdown",
   "metadata": {
    "slideshow": {
     "slide_type": "subslide"
    }
   },
   "source": [
    "* The focus is on python for data analysis\n",
    "  * The objectives are to be able to input and manipulate data, make simple calculations and graphs\n",
    "  * The general direction is statistics, math, data visualization"
   ]
  },
  {
   "cell_type": "markdown",
   "metadata": {
    "slideshow": {
     "slide_type": "slide"
    }
   },
   "source": [
    "### Motivation"
   ]
  },
  {
   "cell_type": "markdown",
   "metadata": {
    "slideshow": {
     "slide_type": "subslide"
    }
   },
   "source": [
    "* Python is more than data manipulation and analysis, that is only the subject of this particular tutorial\n",
    "* It can be used for web programming, for apps and process automation\n",
    "* Light programs that can be run in different platforms and operative systems"
   ]
  },
  {
   "cell_type": "markdown",
   "metadata": {
    "slideshow": {
     "slide_type": "subslide"
    }
   },
   "source": [
    "* Python has (by design) a very neat style, easy to read and debug\n",
    "* There is a very active and supportive community, and lots of online resources"
   ]
  },
  {
   "cell_type": "markdown",
   "metadata": {
    "slideshow": {
     "slide_type": "subslide"
    }
   },
   "source": [
    "* A very efficient language: few lines do much\n",
    "* There is a big number of libraries for very specific purposes, particularly in science and technology\n",
    "  * Example: _pysolar_"
   ]
  },
  {
   "cell_type": "code",
   "execution_count": 2,
   "metadata": {
    "slideshow": {
     "slide_type": "subslide"
    }
   },
   "outputs": [],
   "source": [
    "import pysolar\n",
    "import datetime"
   ]
  },
  {
   "cell_type": "code",
   "execution_count": 3,
   "metadata": {
    "slideshow": {
     "slide_type": "fragment"
    }
   },
   "outputs": [],
   "source": [
    "Berlin_coordinates = [ 52.516667, 13.388889 ]"
   ]
  },
  {
   "cell_type": "code",
   "execution_count": 12,
   "metadata": {
    "slideshow": {
     "slide_type": "fragment"
    }
   },
   "outputs": [
    {
     "name": "stdout",
     "output_type": "stream",
     "text": [
      "-45.967556453971866\n"
     ]
    }
   ],
   "source": [
    "# We print the solar altitude today\n",
    "date = datetime.datetime.now( datetime.timezone.utc ) \n",
    "print( pysolar.solar.get_altitude( Berlin_coordinates[0], Berlin_coordinates[1], date) )"
   ]
  },
  {
   "cell_type": "code",
   "execution_count": 7,
   "metadata": {
    "slideshow": {
     "slide_type": "fragment"
    }
   },
   "outputs": [
    {
     "name": "stdout",
     "output_type": "stream",
     "text": [
      "59.291601950179945\n"
     ]
    }
   ],
   "source": [
    "# We print the solar altitude on the next summer solstice\n",
    "date = datetime.datetime( 2019, 6, 21, 12, 0, 0, tzinfo=datetime.timezone.utc )\n",
    "print( pysolar.solar.get_altitude( Berlin_coordinates[0], Berlin_coordinates[1], date) )"
   ]
  },
  {
   "cell_type": "code",
   "execution_count": 11,
   "metadata": {
    "slideshow": {
     "slide_type": "fragment"
    }
   },
   "outputs": [
    {
     "name": "stdout",
     "output_type": "stream",
     "text": [
      "13.153073799730691\n"
     ]
    }
   ],
   "source": [
    "# We print the solar altitude on the past winter solstice\n",
    "date = datetime.datetime( 2018, 12, 21, 12, 0, 0, tzinfo=datetime.timezone.utc )\n",
    "print( pysolar.solar.get_altitude( Berlin_coordinates[0], Berlin_coordinates[1], date) )"
   ]
  },
  {
   "cell_type": "markdown",
   "metadata": {
    "slideshow": {
     "slide_type": "slide"
    }
   },
   "source": [
    "### How this course is organized"
   ]
  },
  {
   "cell_type": "markdown",
   "metadata": {
    "slideshow": {
     "slide_type": "subslide"
    }
   },
   "source": [
    "* 5 (+1) Intensive sessions, of about 3 ~ 4 hours each\n",
    "* Presentations & demonstrations, with exercises in between"
   ]
  },
  {
   "cell_type": "markdown",
   "metadata": {
    "slideshow": {
     "slide_type": "subslide"
    }
   },
   "source": [
    "* Session 0. This introduction\n",
    "* Session 1: Scripts and interactive mode; language syntax\n",
    "* Session 2: Files, functions, libraries\n",
    "* Session 3: jupyter notebooks\n",
    "* Session 4: Working with data: pandas library\n",
    "* Session 5: Graphs: matplotlib library\n",
    "* Session 6: Open, review"
   ]
  },
  {
   "cell_type": "markdown",
   "metadata": {
    "slideshow": {
     "slide_type": "slide"
    }
   },
   "source": [
    "### Tools, requirements, libraries"
   ]
  },
  {
   "cell_type": "markdown",
   "metadata": {
    "slideshow": {
     "slide_type": "slide"
    }
   },
   "source": [
    "* python 3.x\n",
    "* ipython\n",
    "* jupyter\n",
    "\n",
    "---\n",
    "\n",
    "* Libraries:\n",
    "  * numpy\n",
    "  * pandas\n",
    "  * matplotlib"
   ]
  },
  {
   "cell_type": "markdown",
   "metadata": {
    "slideshow": {
     "slide_type": "subslide"
    }
   },
   "source": [
    "All the previous are included in the ___anaconda___ bundle!!"
   ]
  },
  {
   "cell_type": "markdown",
   "metadata": {
    "slideshow": {
     "slide_type": "subslide"
    }
   },
   "source": [
    "![title](img/anaconda_navigator.png)"
   ]
  },
  {
   "cell_type": "markdown",
   "metadata": {
    "slideshow": {
     "slide_type": "slide"
    }
   },
   "source": [
    "### Further reading and resources"
   ]
  },
  {
   "cell_type": "markdown",
   "metadata": {
    "slideshow": {
     "slide_type": "fragment"
    }
   },
   "source": [
    "https://wiki.python.org/moin/BeginnersGuide/NonProgrammers\n",
    "\n",
    "https://automatetheboringstuff.com/\n",
    "\n",
    "https://en.wikipedia.org/wiki/Anaconda_(Python_distribution)\n",
    "\n",
    "https://www.anaconda.com/\n",
    "\n",
    "http://docs.pysolar.org/en/latest/"
   ]
  },
  {
   "cell_type": "markdown",
   "metadata": {
    "slideshow": {
     "slide_type": "fragment"
    }
   },
   "source": [
    "# <center>*</center>"
   ]
  }
 ],
 "metadata": {
  "celltoolbar": "Slideshow",
  "kernelspec": {
   "display_name": "Python 3",
   "language": "python",
   "name": "python3"
  },
  "language_info": {
   "codemirror_mode": {
    "name": "ipython",
    "version": 3
   },
   "file_extension": ".py",
   "mimetype": "text/x-python",
   "name": "python",
   "nbconvert_exporter": "python",
   "pygments_lexer": "ipython3",
   "version": "3.6.6"
  }
 },
 "nbformat": 4,
 "nbformat_minor": 2
}
